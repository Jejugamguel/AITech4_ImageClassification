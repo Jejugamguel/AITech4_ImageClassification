{
 "cells": [
  {
   "cell_type": "code",
   "execution_count": 1,
   "id": "cf046c11-3a01-4c6c-99dd-c062e21c7bb7",
   "metadata": {},
   "outputs": [],
   "source": [
    "import torch, gc\n",
    "gc.collect()\n",
    "torch.cuda.empty_cache()"
   ]
  },
  {
   "cell_type": "code",
   "execution_count": 2,
   "id": "4bad9118-3244-4b50-bce3-d9f0ca8dc7c8",
   "metadata": {},
   "outputs": [
    {
     "name": "stdout",
     "output_type": "stream",
     "text": [
      "| ID | GPU | MEM |\n",
      "------------------\n",
      "|  0 |  0% |  0% |\n"
     ]
    }
   ],
   "source": [
    "import GPUtil\n",
    "GPUtil.showUtilization()"
   ]
  },
  {
   "cell_type": "code",
   "execution_count": 3,
   "id": "0b1d65a3-78de-4b01-a862-e6bd4c7ef135",
   "metadata": {},
   "outputs": [],
   "source": [
    "import torch\n",
    "import torch.nn as nn\n",
    "import torchvision\n",
    "from torchvision import transforms\n",
    "from torch.utils.data import Dataset, DataLoader\n",
    "from sklearn.model_selection import train_test_split\n",
    "\n",
    "from align_faces import warp_and_crop_face, get_reference_facial_points\n",
    "\n",
    "import numpy as np\n",
    "import pandas as pd\n",
    "import cv2\n",
    "import matplotlib.pyplot as plt\n",
    "#from tqdm.notebook import tqdm\n",
    "from tqdm import tqdm\n",
    "import random\n",
    "import os\n",
    "from torchmetrics import F1Score\n",
    "\n",
    "import time"
   ]
  },
  {
   "cell_type": "code",
   "execution_count": 4,
   "id": "fa8d19de-5a8e-454f-a22b-129e94792395",
   "metadata": {},
   "outputs": [],
   "source": [
    "random_seed = 12\n",
    "torch.manual_seed(random_seed)\n",
    "torch.cuda.manual_seed(random_seed)\n",
    "torch.cuda.manual_seed_all(random_seed) # if use multi-GPU\n",
    "torch.backends.cudnn.deterministic = True\n",
    "torch.backends.cudnn.benchmark = False\n",
    "np.random.seed(random_seed)\n",
    "random.seed(random_seed)"
   ]
  },
  {
   "cell_type": "code",
   "execution_count": 5,
   "id": "6f69f93c-5675-433f-8a88-7bf8e411d51c",
   "metadata": {},
   "outputs": [
    {
     "data": {
      "text/html": [
       "<div>\n",
       "<style scoped>\n",
       "    .dataframe tbody tr th:only-of-type {\n",
       "        vertical-align: middle;\n",
       "    }\n",
       "\n",
       "    .dataframe tbody tr th {\n",
       "        vertical-align: top;\n",
       "    }\n",
       "\n",
       "    .dataframe thead th {\n",
       "        text-align: right;\n",
       "    }\n",
       "</style>\n",
       "<table border=\"1\" class=\"dataframe\">\n",
       "  <thead>\n",
       "    <tr style=\"text-align: right;\">\n",
       "      <th></th>\n",
       "      <th>id</th>\n",
       "      <th>gender</th>\n",
       "      <th>race</th>\n",
       "      <th>age</th>\n",
       "      <th>path</th>\n",
       "      <th>age_range</th>\n",
       "    </tr>\n",
       "  </thead>\n",
       "  <tbody>\n",
       "    <tr>\n",
       "      <th>0</th>\n",
       "      <td>000001</td>\n",
       "      <td>female</td>\n",
       "      <td>Asian</td>\n",
       "      <td>45</td>\n",
       "      <td>000001_female_Asian_45</td>\n",
       "      <td>1</td>\n",
       "    </tr>\n",
       "    <tr>\n",
       "      <th>1</th>\n",
       "      <td>000002</td>\n",
       "      <td>female</td>\n",
       "      <td>Asian</td>\n",
       "      <td>52</td>\n",
       "      <td>000002_female_Asian_52</td>\n",
       "      <td>1</td>\n",
       "    </tr>\n",
       "    <tr>\n",
       "      <th>2</th>\n",
       "      <td>000004</td>\n",
       "      <td>male</td>\n",
       "      <td>Asian</td>\n",
       "      <td>54</td>\n",
       "      <td>000004_male_Asian_54</td>\n",
       "      <td>1</td>\n",
       "    </tr>\n",
       "    <tr>\n",
       "      <th>3</th>\n",
       "      <td>000005</td>\n",
       "      <td>female</td>\n",
       "      <td>Asian</td>\n",
       "      <td>58</td>\n",
       "      <td>000005_female_Asian_58</td>\n",
       "      <td>1</td>\n",
       "    </tr>\n",
       "    <tr>\n",
       "      <th>4</th>\n",
       "      <td>000006</td>\n",
       "      <td>female</td>\n",
       "      <td>Asian</td>\n",
       "      <td>59</td>\n",
       "      <td>000006_female_Asian_59</td>\n",
       "      <td>1</td>\n",
       "    </tr>\n",
       "    <tr>\n",
       "      <th>...</th>\n",
       "      <td>...</td>\n",
       "      <td>...</td>\n",
       "      <td>...</td>\n",
       "      <td>...</td>\n",
       "      <td>...</td>\n",
       "      <td>...</td>\n",
       "    </tr>\n",
       "    <tr>\n",
       "      <th>2695</th>\n",
       "      <td>006954</td>\n",
       "      <td>male</td>\n",
       "      <td>Asian</td>\n",
       "      <td>19</td>\n",
       "      <td>006954_male_Asian_19</td>\n",
       "      <td>0</td>\n",
       "    </tr>\n",
       "    <tr>\n",
       "      <th>2696</th>\n",
       "      <td>006955</td>\n",
       "      <td>male</td>\n",
       "      <td>Asian</td>\n",
       "      <td>19</td>\n",
       "      <td>006955_male_Asian_19</td>\n",
       "      <td>0</td>\n",
       "    </tr>\n",
       "    <tr>\n",
       "      <th>2697</th>\n",
       "      <td>006956</td>\n",
       "      <td>male</td>\n",
       "      <td>Asian</td>\n",
       "      <td>19</td>\n",
       "      <td>006956_male_Asian_19</td>\n",
       "      <td>0</td>\n",
       "    </tr>\n",
       "    <tr>\n",
       "      <th>2698</th>\n",
       "      <td>006957</td>\n",
       "      <td>male</td>\n",
       "      <td>Asian</td>\n",
       "      <td>20</td>\n",
       "      <td>006957_male_Asian_20</td>\n",
       "      <td>0</td>\n",
       "    </tr>\n",
       "    <tr>\n",
       "      <th>2699</th>\n",
       "      <td>006959</td>\n",
       "      <td>male</td>\n",
       "      <td>Asian</td>\n",
       "      <td>19</td>\n",
       "      <td>006959_male_Asian_19</td>\n",
       "      <td>0</td>\n",
       "    </tr>\n",
       "  </tbody>\n",
       "</table>\n",
       "<p>2700 rows × 6 columns</p>\n",
       "</div>"
      ],
      "text/plain": [
       "          id  gender   race  age                    path  age_range\n",
       "0     000001  female  Asian   45  000001_female_Asian_45          1\n",
       "1     000002  female  Asian   52  000002_female_Asian_52          1\n",
       "2     000004    male  Asian   54    000004_male_Asian_54          1\n",
       "3     000005  female  Asian   58  000005_female_Asian_58          1\n",
       "4     000006  female  Asian   59  000006_female_Asian_59          1\n",
       "...      ...     ...    ...  ...                     ...        ...\n",
       "2695  006954    male  Asian   19    006954_male_Asian_19          0\n",
       "2696  006955    male  Asian   19    006955_male_Asian_19          0\n",
       "2697  006956    male  Asian   19    006956_male_Asian_19          0\n",
       "2698  006957    male  Asian   20    006957_male_Asian_20          0\n",
       "2699  006959    male  Asian   19    006959_male_Asian_19          0\n",
       "\n",
       "[2700 rows x 6 columns]"
      ]
     },
     "execution_count": 5,
     "metadata": {},
     "output_type": "execute_result"
    }
   ],
   "source": [
    "train_dir_path = '../input/data/train/'\n",
    "train_image_path = '../input/data/train/images/'\n",
    "\n",
    "dt_train = pd.read_csv(train_dir_path+'train.csv')\n",
    "exp_train = pd.read_csv(train_dir_path+'expanded_train.csv')\n",
    "\n",
    "def get_age_range(age):\n",
    "    if age < 30:\n",
    "        return 0\n",
    "    elif 30 <= age < 60:\n",
    "        return 1\n",
    "    else:\n",
    "        return 2\n",
    "dt_train['age_range'] = dt_train['age'].apply(lambda x : get_age_range(x))\n",
    "dt_train"
   ]
  },
  {
   "cell_type": "code",
   "execution_count": 6,
   "id": "c92579a9-3de4-463c-9041-53d5b1e403b6",
   "metadata": {},
   "outputs": [
    {
     "data": {
      "text/html": [
       "<div>\n",
       "<style scoped>\n",
       "    .dataframe tbody tr th:only-of-type {\n",
       "        vertical-align: middle;\n",
       "    }\n",
       "\n",
       "    .dataframe tbody tr th {\n",
       "        vertical-align: top;\n",
       "    }\n",
       "\n",
       "    .dataframe thead th {\n",
       "        text-align: right;\n",
       "    }\n",
       "</style>\n",
       "<table border=\"1\" class=\"dataframe\">\n",
       "  <thead>\n",
       "    <tr style=\"text-align: right;\">\n",
       "      <th></th>\n",
       "      <th>id</th>\n",
       "      <th>gender</th>\n",
       "      <th>race</th>\n",
       "      <th>age</th>\n",
       "      <th>path</th>\n",
       "      <th>age_range</th>\n",
       "    </tr>\n",
       "  </thead>\n",
       "  <tbody>\n",
       "    <tr>\n",
       "      <th>49</th>\n",
       "      <td>000077</td>\n",
       "      <td>male</td>\n",
       "      <td>Asian</td>\n",
       "      <td>59</td>\n",
       "      <td>000077_male_Asian_59</td>\n",
       "      <td>1</td>\n",
       "    </tr>\n",
       "    <tr>\n",
       "      <th>2141</th>\n",
       "      <td>005420</td>\n",
       "      <td>female</td>\n",
       "      <td>Asian</td>\n",
       "      <td>48</td>\n",
       "      <td>005420_female_Asian_48</td>\n",
       "      <td>1</td>\n",
       "    </tr>\n",
       "    <tr>\n",
       "      <th>2029</th>\n",
       "      <td>005106</td>\n",
       "      <td>female</td>\n",
       "      <td>Asian</td>\n",
       "      <td>54</td>\n",
       "      <td>005106_female_Asian_54</td>\n",
       "      <td>1</td>\n",
       "    </tr>\n",
       "    <tr>\n",
       "      <th>574</th>\n",
       "      <td>001217</td>\n",
       "      <td>female</td>\n",
       "      <td>Asian</td>\n",
       "      <td>25</td>\n",
       "      <td>001217_female_Asian_25</td>\n",
       "      <td>0</td>\n",
       "    </tr>\n",
       "    <tr>\n",
       "      <th>2188</th>\n",
       "      <td>005478</td>\n",
       "      <td>female</td>\n",
       "      <td>Asian</td>\n",
       "      <td>43</td>\n",
       "      <td>005478_female_Asian_43</td>\n",
       "      <td>1</td>\n",
       "    </tr>\n",
       "    <tr>\n",
       "      <th>...</th>\n",
       "      <td>...</td>\n",
       "      <td>...</td>\n",
       "      <td>...</td>\n",
       "      <td>...</td>\n",
       "      <td>...</td>\n",
       "      <td>...</td>\n",
       "    </tr>\n",
       "    <tr>\n",
       "      <th>936</th>\n",
       "      <td>001723</td>\n",
       "      <td>female</td>\n",
       "      <td>Asian</td>\n",
       "      <td>35</td>\n",
       "      <td>001723_female_Asian_35</td>\n",
       "      <td>1</td>\n",
       "    </tr>\n",
       "    <tr>\n",
       "      <th>1570</th>\n",
       "      <td>003724</td>\n",
       "      <td>female</td>\n",
       "      <td>Asian</td>\n",
       "      <td>58</td>\n",
       "      <td>003724_female_Asian_58</td>\n",
       "      <td>1</td>\n",
       "    </tr>\n",
       "    <tr>\n",
       "      <th>1624</th>\n",
       "      <td>003791</td>\n",
       "      <td>female</td>\n",
       "      <td>Asian</td>\n",
       "      <td>50</td>\n",
       "      <td>003791_female_Asian_50</td>\n",
       "      <td>1</td>\n",
       "    </tr>\n",
       "    <tr>\n",
       "      <th>1643</th>\n",
       "      <td>003813</td>\n",
       "      <td>male</td>\n",
       "      <td>Asian</td>\n",
       "      <td>51</td>\n",
       "      <td>003813_male_Asian_51</td>\n",
       "      <td>1</td>\n",
       "    </tr>\n",
       "    <tr>\n",
       "      <th>237</th>\n",
       "      <td>000639</td>\n",
       "      <td>female</td>\n",
       "      <td>Asian</td>\n",
       "      <td>54</td>\n",
       "      <td>000639_female_Asian_54</td>\n",
       "      <td>1</td>\n",
       "    </tr>\n",
       "  </tbody>\n",
       "</table>\n",
       "<p>70 rows × 6 columns</p>\n",
       "</div>"
      ],
      "text/plain": [
       "          id  gender   race  age                    path  age_range\n",
       "49    000077    male  Asian   59    000077_male_Asian_59          1\n",
       "2141  005420  female  Asian   48  005420_female_Asian_48          1\n",
       "2029  005106  female  Asian   54  005106_female_Asian_54          1\n",
       "574   001217  female  Asian   25  001217_female_Asian_25          0\n",
       "2188  005478  female  Asian   43  005478_female_Asian_43          1\n",
       "...      ...     ...    ...  ...                     ...        ...\n",
       "936   001723  female  Asian   35  001723_female_Asian_35          1\n",
       "1570  003724  female  Asian   58  003724_female_Asian_58          1\n",
       "1624  003791  female  Asian   50  003791_female_Asian_50          1\n",
       "1643  003813    male  Asian   51    003813_male_Asian_51          1\n",
       "237   000639  female  Asian   54  000639_female_Asian_54          1\n",
       "\n",
       "[70 rows x 6 columns]"
      ]
     },
     "execution_count": 6,
     "metadata": {},
     "output_type": "execute_result"
    }
   ],
   "source": [
    "train_idx, valid_idx = train_test_split(np.arange(len(dt_train)),\n",
    "                                       test_size=0.2,\n",
    "                                       shuffle=True,\n",
    "                                       stratify=dt_train['age_range'])\n",
    "dt_train.iloc[train_idx].head(70)"
   ]
  },
  {
   "cell_type": "code",
   "execution_count": 7,
   "id": "2b562daf-69db-4b9a-b774-e1439a768da2",
   "metadata": {},
   "outputs": [],
   "source": [
    "# train_image = []\n",
    "# train_label = []\n",
    "\n",
    "# for idx in train_idx:\n",
    "#     path = dt_train.iloc[idx]['path']\n",
    "#     for file_name in [i for i in os.listdir(train_image_path+path) if i[0] != '.']:\n",
    "#         _, file_extension = os.path.splitext(file_name)\n",
    "#         if file_extension not in ['.jpg', '.jpeg', '.png']:\n",
    "#             continue\n",
    "#         train_image.append(train_image_path+path+'/'+file_name)\n",
    "#         train_label.append((path.split('_')[1], path.split('_')[3], file_name.split('.')[0]))                                 "
   ]
  },
  {
   "cell_type": "code",
   "execution_count": 8,
   "id": "85de8265-513f-4d52-bb26-f402925ea87d",
   "metadata": {},
   "outputs": [],
   "source": [
    "# valid_image = []\n",
    "# valid_label = []\n",
    "\n",
    "# for idx in valid_idx:\n",
    "#     path = dt_train.iloc[idx]['path']\n",
    "#     for file_name in [i for i in os.listdir(train_image_path+path) if i[0] != '.']:\n",
    "#         _, file_extension = os.path.splitext(file_name)\n",
    "#         if file_extension not in ['.jpg', '.jpeg', '.png']:\n",
    "#             continue\n",
    "#         valid_image.append(train_image_path+path+'/'+file_name)\n",
    "#         valid_label.append((path.split('_')[1], path.split('_')[3], file_name.split('.')[0])) "
   ]
  },
  {
   "cell_type": "code",
   "execution_count": 9,
   "id": "d7cdaaac-b38a-471a-90b9-012521adb5c6",
   "metadata": {},
   "outputs": [
    {
     "name": "stdout",
     "output_type": "stream",
     "text": [
      "index size: 2160 == file estimate: 15120 == split size: 15127\n"
     ]
    },
    {
     "data": {
      "text/html": [
       "<div>\n",
       "<style scoped>\n",
       "    .dataframe tbody tr th:only-of-type {\n",
       "        vertical-align: middle;\n",
       "    }\n",
       "\n",
       "    .dataframe tbody tr th {\n",
       "        vertical-align: top;\n",
       "    }\n",
       "\n",
       "    .dataframe thead th {\n",
       "        text-align: right;\n",
       "    }\n",
       "</style>\n",
       "<table border=\"1\" class=\"dataframe\">\n",
       "  <thead>\n",
       "    <tr style=\"text-align: right;\">\n",
       "      <th></th>\n",
       "      <th>Unnamed: 0</th>\n",
       "      <th>PersonID</th>\n",
       "      <th>Filename</th>\n",
       "      <th>Class</th>\n",
       "      <th>Mask</th>\n",
       "      <th>Gender</th>\n",
       "      <th>Age</th>\n",
       "      <th>Age_Class</th>\n",
       "      <th>Has_Face</th>\n",
       "      <th>BBoxX1</th>\n",
       "      <th>...</th>\n",
       "      <th>LE_X</th>\n",
       "      <th>LE_Y</th>\n",
       "      <th>RE_X</th>\n",
       "      <th>RE_Y</th>\n",
       "      <th>N_X</th>\n",
       "      <th>N_Y</th>\n",
       "      <th>LM_X</th>\n",
       "      <th>LM_Y</th>\n",
       "      <th>RM_X</th>\n",
       "      <th>RM_Y</th>\n",
       "    </tr>\n",
       "  </thead>\n",
       "  <tbody>\n",
       "    <tr>\n",
       "      <th>0</th>\n",
       "      <td>0</td>\n",
       "      <td>000001</td>\n",
       "      <td>../input/data/train/images/000001_female_Asian...</td>\n",
       "      <td>10</td>\n",
       "      <td>1</td>\n",
       "      <td>1</td>\n",
       "      <td>45</td>\n",
       "      <td>1</td>\n",
       "      <td>True</td>\n",
       "      <td>122</td>\n",
       "      <td>...</td>\n",
       "      <td>152</td>\n",
       "      <td>205</td>\n",
       "      <td>211</td>\n",
       "      <td>202</td>\n",
       "      <td>182</td>\n",
       "      <td>245</td>\n",
       "      <td>164</td>\n",
       "      <td>275</td>\n",
       "      <td>205</td>\n",
       "      <td>273</td>\n",
       "    </tr>\n",
       "    <tr>\n",
       "      <th>1</th>\n",
       "      <td>1</td>\n",
       "      <td>000001</td>\n",
       "      <td>../input/data/train/images/000001_female_Asian...</td>\n",
       "      <td>4</td>\n",
       "      <td>0</td>\n",
       "      <td>1</td>\n",
       "      <td>45</td>\n",
       "      <td>1</td>\n",
       "      <td>True</td>\n",
       "      <td>110</td>\n",
       "      <td>...</td>\n",
       "      <td>139</td>\n",
       "      <td>232</td>\n",
       "      <td>209</td>\n",
       "      <td>234</td>\n",
       "      <td>171</td>\n",
       "      <td>275</td>\n",
       "      <td>151</td>\n",
       "      <td>307</td>\n",
       "      <td>194</td>\n",
       "      <td>309</td>\n",
       "    </tr>\n",
       "    <tr>\n",
       "      <th>2</th>\n",
       "      <td>2</td>\n",
       "      <td>000001</td>\n",
       "      <td>../input/data/train/images/000001_female_Asian...</td>\n",
       "      <td>4</td>\n",
       "      <td>0</td>\n",
       "      <td>1</td>\n",
       "      <td>45</td>\n",
       "      <td>1</td>\n",
       "      <td>True</td>\n",
       "      <td>112</td>\n",
       "      <td>...</td>\n",
       "      <td>145</td>\n",
       "      <td>230</td>\n",
       "      <td>206</td>\n",
       "      <td>230</td>\n",
       "      <td>176</td>\n",
       "      <td>268</td>\n",
       "      <td>158</td>\n",
       "      <td>296</td>\n",
       "      <td>198</td>\n",
       "      <td>297</td>\n",
       "    </tr>\n",
       "    <tr>\n",
       "      <th>3</th>\n",
       "      <td>3</td>\n",
       "      <td>000001</td>\n",
       "      <td>../input/data/train/images/000001_female_Asian...</td>\n",
       "      <td>16</td>\n",
       "      <td>2</td>\n",
       "      <td>1</td>\n",
       "      <td>45</td>\n",
       "      <td>1</td>\n",
       "      <td>True</td>\n",
       "      <td>126</td>\n",
       "      <td>...</td>\n",
       "      <td>154</td>\n",
       "      <td>223</td>\n",
       "      <td>213</td>\n",
       "      <td>219</td>\n",
       "      <td>184</td>\n",
       "      <td>260</td>\n",
       "      <td>164</td>\n",
       "      <td>288</td>\n",
       "      <td>213</td>\n",
       "      <td>284</td>\n",
       "    </tr>\n",
       "    <tr>\n",
       "      <th>4</th>\n",
       "      <td>4</td>\n",
       "      <td>000001</td>\n",
       "      <td>../input/data/train/images/000001_female_Asian...</td>\n",
       "      <td>4</td>\n",
       "      <td>0</td>\n",
       "      <td>1</td>\n",
       "      <td>45</td>\n",
       "      <td>1</td>\n",
       "      <td>True</td>\n",
       "      <td>120</td>\n",
       "      <td>...</td>\n",
       "      <td>150</td>\n",
       "      <td>223</td>\n",
       "      <td>210</td>\n",
       "      <td>219</td>\n",
       "      <td>182</td>\n",
       "      <td>257</td>\n",
       "      <td>165</td>\n",
       "      <td>289</td>\n",
       "      <td>204</td>\n",
       "      <td>287</td>\n",
       "    </tr>\n",
       "    <tr>\n",
       "      <th>...</th>\n",
       "      <td>...</td>\n",
       "      <td>...</td>\n",
       "      <td>...</td>\n",
       "      <td>...</td>\n",
       "      <td>...</td>\n",
       "      <td>...</td>\n",
       "      <td>...</td>\n",
       "      <td>...</td>\n",
       "      <td>...</td>\n",
       "      <td>...</td>\n",
       "      <td>...</td>\n",
       "      <td>...</td>\n",
       "      <td>...</td>\n",
       "      <td>...</td>\n",
       "      <td>...</td>\n",
       "      <td>...</td>\n",
       "      <td>...</td>\n",
       "      <td>...</td>\n",
       "      <td>...</td>\n",
       "      <td>...</td>\n",
       "      <td>...</td>\n",
       "    </tr>\n",
       "    <tr>\n",
       "      <th>18888</th>\n",
       "      <td>18888</td>\n",
       "      <td>006957</td>\n",
       "      <td>../input/data/train/images/006957_male_Asian_2...</td>\n",
       "      <td>0</td>\n",
       "      <td>0</td>\n",
       "      <td>0</td>\n",
       "      <td>20</td>\n",
       "      <td>0</td>\n",
       "      <td>True</td>\n",
       "      <td>110</td>\n",
       "      <td>...</td>\n",
       "      <td>150</td>\n",
       "      <td>226</td>\n",
       "      <td>223</td>\n",
       "      <td>222</td>\n",
       "      <td>190</td>\n",
       "      <td>270</td>\n",
       "      <td>164</td>\n",
       "      <td>306</td>\n",
       "      <td>217</td>\n",
       "      <td>302</td>\n",
       "    </tr>\n",
       "    <tr>\n",
       "      <th>18889</th>\n",
       "      <td>18889</td>\n",
       "      <td>006957</td>\n",
       "      <td>../input/data/train/images/006957_male_Asian_2...</td>\n",
       "      <td>12</td>\n",
       "      <td>2</td>\n",
       "      <td>0</td>\n",
       "      <td>20</td>\n",
       "      <td>0</td>\n",
       "      <td>True</td>\n",
       "      <td>103</td>\n",
       "      <td>...</td>\n",
       "      <td>142</td>\n",
       "      <td>227</td>\n",
       "      <td>212</td>\n",
       "      <td>223</td>\n",
       "      <td>178</td>\n",
       "      <td>267</td>\n",
       "      <td>154</td>\n",
       "      <td>310</td>\n",
       "      <td>210</td>\n",
       "      <td>307</td>\n",
       "    </tr>\n",
       "    <tr>\n",
       "      <th>18890</th>\n",
       "      <td>18890</td>\n",
       "      <td>006957</td>\n",
       "      <td>../input/data/train/images/006957_male_Asian_2...</td>\n",
       "      <td>0</td>\n",
       "      <td>0</td>\n",
       "      <td>0</td>\n",
       "      <td>20</td>\n",
       "      <td>0</td>\n",
       "      <td>True</td>\n",
       "      <td>94</td>\n",
       "      <td>...</td>\n",
       "      <td>137</td>\n",
       "      <td>225</td>\n",
       "      <td>209</td>\n",
       "      <td>225</td>\n",
       "      <td>178</td>\n",
       "      <td>267</td>\n",
       "      <td>151</td>\n",
       "      <td>303</td>\n",
       "      <td>202</td>\n",
       "      <td>303</td>\n",
       "    </tr>\n",
       "    <tr>\n",
       "      <th>18891</th>\n",
       "      <td>18891</td>\n",
       "      <td>006957</td>\n",
       "      <td>../input/data/train/images/006957_male_Asian_2...</td>\n",
       "      <td>0</td>\n",
       "      <td>0</td>\n",
       "      <td>0</td>\n",
       "      <td>20</td>\n",
       "      <td>0</td>\n",
       "      <td>True</td>\n",
       "      <td>103</td>\n",
       "      <td>...</td>\n",
       "      <td>144</td>\n",
       "      <td>220</td>\n",
       "      <td>219</td>\n",
       "      <td>217</td>\n",
       "      <td>185</td>\n",
       "      <td>269</td>\n",
       "      <td>159</td>\n",
       "      <td>304</td>\n",
       "      <td>212</td>\n",
       "      <td>302</td>\n",
       "    </tr>\n",
       "    <tr>\n",
       "      <th>18892</th>\n",
       "      <td>18892</td>\n",
       "      <td>006957</td>\n",
       "      <td>../input/data/train/images/006957_male_Asian_2...</td>\n",
       "      <td>0</td>\n",
       "      <td>0</td>\n",
       "      <td>0</td>\n",
       "      <td>20</td>\n",
       "      <td>0</td>\n",
       "      <td>True</td>\n",
       "      <td>111</td>\n",
       "      <td>...</td>\n",
       "      <td>152</td>\n",
       "      <td>235</td>\n",
       "      <td>237</td>\n",
       "      <td>233</td>\n",
       "      <td>195</td>\n",
       "      <td>296</td>\n",
       "      <td>168</td>\n",
       "      <td>332</td>\n",
       "      <td>230</td>\n",
       "      <td>330</td>\n",
       "    </tr>\n",
       "  </tbody>\n",
       "</table>\n",
       "<p>15127 rows × 24 columns</p>\n",
       "</div>"
      ],
      "text/plain": [
       "       Unnamed: 0 PersonID                                           Filename  \\\n",
       "0               0   000001  ../input/data/train/images/000001_female_Asian...   \n",
       "1               1   000001  ../input/data/train/images/000001_female_Asian...   \n",
       "2               2   000001  ../input/data/train/images/000001_female_Asian...   \n",
       "3               3   000001  ../input/data/train/images/000001_female_Asian...   \n",
       "4               4   000001  ../input/data/train/images/000001_female_Asian...   \n",
       "...           ...      ...                                                ...   \n",
       "18888       18888   006957  ../input/data/train/images/006957_male_Asian_2...   \n",
       "18889       18889   006957  ../input/data/train/images/006957_male_Asian_2...   \n",
       "18890       18890   006957  ../input/data/train/images/006957_male_Asian_2...   \n",
       "18891       18891   006957  ../input/data/train/images/006957_male_Asian_2...   \n",
       "18892       18892   006957  ../input/data/train/images/006957_male_Asian_2...   \n",
       "\n",
       "       Class  Mask  Gender  Age  Age_Class  Has_Face  BBoxX1  ...  LE_X  LE_Y  \\\n",
       "0         10     1       1   45          1      True     122  ...   152   205   \n",
       "1          4     0       1   45          1      True     110  ...   139   232   \n",
       "2          4     0       1   45          1      True     112  ...   145   230   \n",
       "3         16     2       1   45          1      True     126  ...   154   223   \n",
       "4          4     0       1   45          1      True     120  ...   150   223   \n",
       "...      ...   ...     ...  ...        ...       ...     ...  ...   ...   ...   \n",
       "18888      0     0       0   20          0      True     110  ...   150   226   \n",
       "18889     12     2       0   20          0      True     103  ...   142   227   \n",
       "18890      0     0       0   20          0      True      94  ...   137   225   \n",
       "18891      0     0       0   20          0      True     103  ...   144   220   \n",
       "18892      0     0       0   20          0      True     111  ...   152   235   \n",
       "\n",
       "       RE_X  RE_Y  N_X  N_Y  LM_X  LM_Y  RM_X  RM_Y  \n",
       "0       211   202  182  245   164   275   205   273  \n",
       "1       209   234  171  275   151   307   194   309  \n",
       "2       206   230  176  268   158   296   198   297  \n",
       "3       213   219  184  260   164   288   213   284  \n",
       "4       210   219  182  257   165   289   204   287  \n",
       "...     ...   ...  ...  ...   ...   ...   ...   ...  \n",
       "18888   223   222  190  270   164   306   217   302  \n",
       "18889   212   223  178  267   154   310   210   307  \n",
       "18890   209   225  178  267   151   303   202   303  \n",
       "18891   219   217  185  269   159   304   212   302  \n",
       "18892   237   233  195  296   168   332   230   330  \n",
       "\n",
       "[15127 rows x 24 columns]"
      ]
     },
     "execution_count": 9,
     "metadata": {},
     "output_type": "execute_result"
    }
   ],
   "source": [
    "split_exp_train = exp_train[exp_train['PersonID'].isin(list(dt_train.iloc[train_idx][\"id\"]))]\n",
    "split_exp_valid = exp_train[exp_train['PersonID'].isin(list(dt_train.iloc[valid_idx][\"id\"]))]\n",
    "print(f\"index size: {len(train_idx)} == file estimate: {len(train_idx) * 7} == split size: {len(split_exp_train)}\")\n",
    "split_exp_train"
   ]
  },
  {
   "cell_type": "code",
   "execution_count": 10,
   "id": "304c6a61-ff17-4777-8132-18def61c8102",
   "metadata": {},
   "outputs": [],
   "source": [
    "train_image = split_exp_train.loc[:,\"Filename\"]\n",
    "train_label = split_exp_train.loc[:,\"Class\"]\n",
    "\n",
    "valid_image = split_exp_valid.loc[:,\"Filename\"]\n",
    "valid_label = split_exp_valid.loc[:,\"Class\"]"
   ]
  },
  {
   "cell_type": "code",
   "execution_count": 11,
   "id": "074fd85a-3c78-43ef-9ed6-f68848f905b6",
   "metadata": {},
   "outputs": [
    {
     "data": {
      "text/plain": [
       "'../input/data/train/images/000001_female_Asian_45/incorrect_mask.npy'"
      ]
     },
     "execution_count": 11,
     "metadata": {},
     "output_type": "execute_result"
    }
   ],
   "source": [
    "train_image[0]"
   ]
  },
  {
   "cell_type": "code",
   "execution_count": 12,
   "id": "c4395b9b-6b40-4f0c-b10a-f28ab528c16a",
   "metadata": {},
   "outputs": [],
   "source": [
    "# train_image = train_image.apply(lambda x : x[:-4])\n",
    "# valid_image = valid_image.apply(lambda x : x[:-4])"
   ]
  },
  {
   "cell_type": "code",
   "execution_count": 13,
   "id": "84ec33c6-5a23-41ec-8980-2c7f0ecd1631",
   "metadata": {},
   "outputs": [
    {
     "name": "stdout",
     "output_type": "stream",
     "text": [
      "15127\n",
      "3787\n"
     ]
    }
   ],
   "source": [
    "print(len(train_image))\n",
    "print(len(valid_image))"
   ]
  },
  {
   "cell_type": "code",
   "execution_count": 14,
   "id": "694474c7-7175-40e6-b071-e50218629f1a",
   "metadata": {},
   "outputs": [],
   "source": [
    "train_data = pd.Series(train_image)\n",
    "train_label = pd.Series(train_label)\n",
    "\n",
    "valid_data = pd.Series(valid_image)\n",
    "valid_label = pd.Series(valid_label)"
   ]
  },
  {
   "cell_type": "code",
   "execution_count": 15,
   "id": "e2cd7b29-5f03-444e-b781-902ca74f2085",
   "metadata": {},
   "outputs": [],
   "source": [
    "from torchvision.transforms import Resize, ToTensor, Normalize, Compose, CenterCrop, ColorJitter\n",
    "from PIL import Image\n",
    "\n",
    "default_square = True\n",
    "inner_padding_factor = 0.25 #0.2~0.3\n",
    "outer_padding = (0, 0)\n",
    "#output_size = (224, 224)\n",
    "output_size = (384, 384)\n",
    "\n",
    "class Dataset_Mask(Dataset):\n",
    "    def __init__(self, data, label, encoding=True, midcrop=True, transform=None, is_train=True):\n",
    "        self.encoding = encoding\n",
    "        self.midcrop = midcrop\n",
    "        self.data = data.reset_index(drop=True)\n",
    "        self.is_train = is_train\n",
    "        self.label = label.reset_index(drop=True)\n",
    "        self.transform = transform\n",
    "\n",
    "        \"\"\"\n",
    "        self.images = list()\n",
    "        for idx in range(len(self.data)):\n",
    "            img_raw = np.load(self.data[idx])\n",
    "        \n",
    "            # X = X[64:448]\n",
    "            source_df = split_exp_train if self.is_train else split_exp_valid\n",
    "            facial5points = [[source_df.iloc[idx]['LE_X'], source_df.iloc[idx]['LE_Y']],\n",
    "                             [source_df.iloc[idx]['RE_X'], source_df.iloc[idx]['RE_Y']],\n",
    "                             [source_df.iloc[idx][ 'N_X'], source_df.iloc[idx][ 'N_Y']],\n",
    "                             [source_df.iloc[idx]['LM_X'], source_df.iloc[idx]['LM_Y']],\n",
    "                             [source_df.iloc[idx]['RM_X'], source_df.iloc[idx]['RM_Y']]]\n",
    "            reference_5pts = get_reference_facial_points(output_size, inner_padding_factor, outer_padding, default_square)\n",
    "            align_crop_img = warp_and_crop_face(img_raw, facial5points, reference_pts=reference_5pts, crop_size=output_size)\n",
    "\n",
    "            self.images.append(align_crop_img)\n",
    "        \"\"\"\n",
    "    def __len__(self):\n",
    "        return len(self.data)\n",
    "    \n",
    "    def __getitem__(self, idx):\n",
    "        #img_raw = np.load(self.data[idx])\n",
    "        filepath = self.data[idx]\n",
    "        if os.path.exists(filepath) == False:\n",
    "            filename, _ = os.path.splitext(filepath)\n",
    "            for extension in ['.jpg', '.jpeg', '.png']:\n",
    "                if os.path.exists(filename + extension) == True:\n",
    "                    filepath = filename + extension\n",
    "        #print(filepath)\n",
    "        img_raw = cv2.cvtColor(cv2.imread(filepath, cv2.IMREAD_COLOR), cv2.COLOR_BGR2RGB)\n",
    "        \n",
    "        # X = X[64:448]\n",
    "        source_df = split_exp_train if self.is_train else split_exp_valid\n",
    "        facial5points = [[source_df.iloc[idx]['LE_X'], source_df.iloc[idx]['LE_Y']],\n",
    "                         [source_df.iloc[idx]['RE_X'], source_df.iloc[idx]['RE_Y']],\n",
    "                         [source_df.iloc[idx][ 'N_X'], source_df.iloc[idx][ 'N_Y']],\n",
    "                         [source_df.iloc[idx]['LM_X'], source_df.iloc[idx]['LM_Y']],\n",
    "                         [source_df.iloc[idx]['RM_X'], source_df.iloc[idx]['RM_Y']]]\n",
    "        reference_5pts = get_reference_facial_points(output_size, inner_padding_factor, outer_padding, default_square)\n",
    "        X = warp_and_crop_face(img_raw, facial5points, reference_pts=reference_5pts, crop_size=output_size)\n",
    "        y = self.label[idx]\n",
    "        \n",
    "        if self.transform:\n",
    "            return self.transform(X), y\n",
    "\n",
    "        return X, y"
   ]
  },
  {
   "cell_type": "code",
   "execution_count": 16,
   "id": "e2a22aff-e634-4f15-877c-752d450d01da",
   "metadata": {},
   "outputs": [],
   "source": [
    "mask_train_set = Dataset_Mask(data=train_data, label=train_label, is_train=True, transform=transforms.Compose([\n",
    "                                    ToTensor(),\n",
    "                                    #Normalize(mean=(0.485, 0.456, 0.406), std=(0.229, 0.224, 0.225)),\n",
    "                            ]))"
   ]
  },
  {
   "cell_type": "code",
   "execution_count": 17,
   "id": "caf9fd0a-27a3-4ba1-ab39-fea87ac96227",
   "metadata": {},
   "outputs": [],
   "source": [
    "mask_val_set = Dataset_Mask(data=valid_data, label=valid_label, is_train=False, transform = transforms.Compose([\n",
    "                                    ToTensor(),\n",
    "                                    #Normalize(mean=(0.485, 0.456, 0.406), std=(0.229, 0.224, 0.225)),\n",
    "                            ]))"
   ]
  },
  {
   "cell_type": "code",
   "execution_count": 18,
   "id": "5788c44b-07ac-4820-a22d-b6ffa3fc81f1",
   "metadata": {},
   "outputs": [],
   "source": [
    "#t_image = [mask_train_set[i][1] for i in tqdm(range(len(mask_train_set)))]\n",
    "#v_image = [mask_val_set[i][1] for i in tqdm(range(len(mask_val_set)))]"
   ]
  },
  {
   "cell_type": "code",
   "execution_count": 19,
   "id": "d7141916-f044-49fc-a1aa-2e977c0919b3",
   "metadata": {},
   "outputs": [],
   "source": [
    "#t_df = pd.DataFrame(t_image, columns=['counts'])\n",
    "#v_df = pd.DataFrame(v_image, columns=['counts'])"
   ]
  },
  {
   "cell_type": "code",
   "execution_count": 20,
   "id": "007c8fde-fa5d-4712-961c-c5c97a04bff8",
   "metadata": {},
   "outputs": [],
   "source": [
    "#import seaborn as sns\n",
    "\n",
    "#fig, axes = plt.subplots(1, 2, figsize=(15, 5))\n",
    "\n",
    "#sns.countplot(x='counts', data=t_df, ax=axes[0])\n",
    "#axes[0].set_xlabel(\"train set labels\")\n",
    "#sns.countplot(x='counts', data=v_df, ax=axes[1])\n",
    "#axes[1].set_xlabel(\"valid set labels\")"
   ]
  },
  {
   "cell_type": "code",
   "execution_count": 21,
   "id": "0e285cb6-ee37-4a0c-a804-7506dcfebc36",
   "metadata": {},
   "outputs": [],
   "source": [
    "#print(f'training data size : {len(mask_train_set)}')\n",
    "#print(f'validation data size : {len(mask_val_set)}')"
   ]
  },
  {
   "cell_type": "code",
   "execution_count": 22,
   "id": "37b1ced0-1e34-4d50-b2b2-dcdff8fd33f4",
   "metadata": {},
   "outputs": [],
   "source": [
    "batch_size = 64\n",
    "\n",
    "train_dataloader_mask = DataLoader(dataset = mask_train_set, batch_size=batch_size, num_workers=2)\n",
    "val_dataloader_mask = DataLoader(dataset = mask_val_set, batch_size=batch_size, num_workers=2)"
   ]
  },
  {
   "cell_type": "code",
   "execution_count": 23,
   "id": "af71a4ef-a137-47b0-af94-eebedaa36014",
   "metadata": {},
   "outputs": [
    {
     "name": "stderr",
     "output_type": "stream",
     "text": [
      "/opt/conda/lib/python3.8/site-packages/torchvision/models/_utils.py:208: UserWarning: The parameter 'pretrained' is deprecated since 0.13 and may be removed in the future, please use 'weights' instead.\n",
      "  warnings.warn(\n",
      "/opt/conda/lib/python3.8/site-packages/torchvision/models/_utils.py:223: UserWarning: Arguments other than a weight enum or `None` for 'weights' are deprecated since 0.13 and may be removed in the future. The current behavior is equivalent to passing `weights=ResNet50_Weights.IMAGENET1K_V1`. You can also use `weights=ResNet50_Weights.DEFAULT` to get the most up-to-date weights.\n",
      "  warnings.warn(msg)\n"
     ]
    },
    {
     "name": "stdout",
     "output_type": "stream",
     "text": [
      "필요 입력 채널 개수 3\n",
      "네트워크 출력 채널 개수 1000\n",
      "ResNet(\n",
      "  (conv1): Conv2d(3, 64, kernel_size=(7, 7), stride=(2, 2), padding=(3, 3), bias=False)\n",
      "  (bn1): BatchNorm2d(64, eps=1e-05, momentum=0.1, affine=True, track_running_stats=True)\n",
      "  (relu): ReLU(inplace=True)\n",
      "  (maxpool): MaxPool2d(kernel_size=3, stride=2, padding=1, dilation=1, ceil_mode=False)\n",
      "  (layer1): Sequential(\n",
      "    (0): Bottleneck(\n",
      "      (conv1): Conv2d(64, 64, kernel_size=(1, 1), stride=(1, 1), bias=False)\n",
      "      (bn1): BatchNorm2d(64, eps=1e-05, momentum=0.1, affine=True, track_running_stats=True)\n",
      "      (conv2): Conv2d(64, 64, kernel_size=(3, 3), stride=(1, 1), padding=(1, 1), bias=False)\n",
      "      (bn2): BatchNorm2d(64, eps=1e-05, momentum=0.1, affine=True, track_running_stats=True)\n",
      "      (conv3): Conv2d(64, 256, kernel_size=(1, 1), stride=(1, 1), bias=False)\n",
      "      (bn3): BatchNorm2d(256, eps=1e-05, momentum=0.1, affine=True, track_running_stats=True)\n",
      "      (relu): ReLU(inplace=True)\n",
      "      (downsample): Sequential(\n",
      "        (0): Conv2d(64, 256, kernel_size=(1, 1), stride=(1, 1), bias=False)\n",
      "        (1): BatchNorm2d(256, eps=1e-05, momentum=0.1, affine=True, track_running_stats=True)\n",
      "      )\n",
      "    )\n",
      "    (1): Bottleneck(\n",
      "      (conv1): Conv2d(256, 64, kernel_size=(1, 1), stride=(1, 1), bias=False)\n",
      "      (bn1): BatchNorm2d(64, eps=1e-05, momentum=0.1, affine=True, track_running_stats=True)\n",
      "      (conv2): Conv2d(64, 64, kernel_size=(3, 3), stride=(1, 1), padding=(1, 1), bias=False)\n",
      "      (bn2): BatchNorm2d(64, eps=1e-05, momentum=0.1, affine=True, track_running_stats=True)\n",
      "      (conv3): Conv2d(64, 256, kernel_size=(1, 1), stride=(1, 1), bias=False)\n",
      "      (bn3): BatchNorm2d(256, eps=1e-05, momentum=0.1, affine=True, track_running_stats=True)\n",
      "      (relu): ReLU(inplace=True)\n",
      "    )\n",
      "    (2): Bottleneck(\n",
      "      (conv1): Conv2d(256, 64, kernel_size=(1, 1), stride=(1, 1), bias=False)\n",
      "      (bn1): BatchNorm2d(64, eps=1e-05, momentum=0.1, affine=True, track_running_stats=True)\n",
      "      (conv2): Conv2d(64, 64, kernel_size=(3, 3), stride=(1, 1), padding=(1, 1), bias=False)\n",
      "      (bn2): BatchNorm2d(64, eps=1e-05, momentum=0.1, affine=True, track_running_stats=True)\n",
      "      (conv3): Conv2d(64, 256, kernel_size=(1, 1), stride=(1, 1), bias=False)\n",
      "      (bn3): BatchNorm2d(256, eps=1e-05, momentum=0.1, affine=True, track_running_stats=True)\n",
      "      (relu): ReLU(inplace=True)\n",
      "    )\n",
      "  )\n",
      "  (layer2): Sequential(\n",
      "    (0): Bottleneck(\n",
      "      (conv1): Conv2d(256, 128, kernel_size=(1, 1), stride=(1, 1), bias=False)\n",
      "      (bn1): BatchNorm2d(128, eps=1e-05, momentum=0.1, affine=True, track_running_stats=True)\n",
      "      (conv2): Conv2d(128, 128, kernel_size=(3, 3), stride=(2, 2), padding=(1, 1), bias=False)\n",
      "      (bn2): BatchNorm2d(128, eps=1e-05, momentum=0.1, affine=True, track_running_stats=True)\n",
      "      (conv3): Conv2d(128, 512, kernel_size=(1, 1), stride=(1, 1), bias=False)\n",
      "      (bn3): BatchNorm2d(512, eps=1e-05, momentum=0.1, affine=True, track_running_stats=True)\n",
      "      (relu): ReLU(inplace=True)\n",
      "      (downsample): Sequential(\n",
      "        (0): Conv2d(256, 512, kernel_size=(1, 1), stride=(2, 2), bias=False)\n",
      "        (1): BatchNorm2d(512, eps=1e-05, momentum=0.1, affine=True, track_running_stats=True)\n",
      "      )\n",
      "    )\n",
      "    (1): Bottleneck(\n",
      "      (conv1): Conv2d(512, 128, kernel_size=(1, 1), stride=(1, 1), bias=False)\n",
      "      (bn1): BatchNorm2d(128, eps=1e-05, momentum=0.1, affine=True, track_running_stats=True)\n",
      "      (conv2): Conv2d(128, 128, kernel_size=(3, 3), stride=(1, 1), padding=(1, 1), bias=False)\n",
      "      (bn2): BatchNorm2d(128, eps=1e-05, momentum=0.1, affine=True, track_running_stats=True)\n",
      "      (conv3): Conv2d(128, 512, kernel_size=(1, 1), stride=(1, 1), bias=False)\n",
      "      (bn3): BatchNorm2d(512, eps=1e-05, momentum=0.1, affine=True, track_running_stats=True)\n",
      "      (relu): ReLU(inplace=True)\n",
      "    )\n",
      "    (2): Bottleneck(\n",
      "      (conv1): Conv2d(512, 128, kernel_size=(1, 1), stride=(1, 1), bias=False)\n",
      "      (bn1): BatchNorm2d(128, eps=1e-05, momentum=0.1, affine=True, track_running_stats=True)\n",
      "      (conv2): Conv2d(128, 128, kernel_size=(3, 3), stride=(1, 1), padding=(1, 1), bias=False)\n",
      "      (bn2): BatchNorm2d(128, eps=1e-05, momentum=0.1, affine=True, track_running_stats=True)\n",
      "      (conv3): Conv2d(128, 512, kernel_size=(1, 1), stride=(1, 1), bias=False)\n",
      "      (bn3): BatchNorm2d(512, eps=1e-05, momentum=0.1, affine=True, track_running_stats=True)\n",
      "      (relu): ReLU(inplace=True)\n",
      "    )\n",
      "    (3): Bottleneck(\n",
      "      (conv1): Conv2d(512, 128, kernel_size=(1, 1), stride=(1, 1), bias=False)\n",
      "      (bn1): BatchNorm2d(128, eps=1e-05, momentum=0.1, affine=True, track_running_stats=True)\n",
      "      (conv2): Conv2d(128, 128, kernel_size=(3, 3), stride=(1, 1), padding=(1, 1), bias=False)\n",
      "      (bn2): BatchNorm2d(128, eps=1e-05, momentum=0.1, affine=True, track_running_stats=True)\n",
      "      (conv3): Conv2d(128, 512, kernel_size=(1, 1), stride=(1, 1), bias=False)\n",
      "      (bn3): BatchNorm2d(512, eps=1e-05, momentum=0.1, affine=True, track_running_stats=True)\n",
      "      (relu): ReLU(inplace=True)\n",
      "    )\n",
      "  )\n",
      "  (layer3): Sequential(\n",
      "    (0): Bottleneck(\n",
      "      (conv1): Conv2d(512, 256, kernel_size=(1, 1), stride=(1, 1), bias=False)\n",
      "      (bn1): BatchNorm2d(256, eps=1e-05, momentum=0.1, affine=True, track_running_stats=True)\n",
      "      (conv2): Conv2d(256, 256, kernel_size=(3, 3), stride=(2, 2), padding=(1, 1), bias=False)\n",
      "      (bn2): BatchNorm2d(256, eps=1e-05, momentum=0.1, affine=True, track_running_stats=True)\n",
      "      (conv3): Conv2d(256, 1024, kernel_size=(1, 1), stride=(1, 1), bias=False)\n",
      "      (bn3): BatchNorm2d(1024, eps=1e-05, momentum=0.1, affine=True, track_running_stats=True)\n",
      "      (relu): ReLU(inplace=True)\n",
      "      (downsample): Sequential(\n",
      "        (0): Conv2d(512, 1024, kernel_size=(1, 1), stride=(2, 2), bias=False)\n",
      "        (1): BatchNorm2d(1024, eps=1e-05, momentum=0.1, affine=True, track_running_stats=True)\n",
      "      )\n",
      "    )\n",
      "    (1): Bottleneck(\n",
      "      (conv1): Conv2d(1024, 256, kernel_size=(1, 1), stride=(1, 1), bias=False)\n",
      "      (bn1): BatchNorm2d(256, eps=1e-05, momentum=0.1, affine=True, track_running_stats=True)\n",
      "      (conv2): Conv2d(256, 256, kernel_size=(3, 3), stride=(1, 1), padding=(1, 1), bias=False)\n",
      "      (bn2): BatchNorm2d(256, eps=1e-05, momentum=0.1, affine=True, track_running_stats=True)\n",
      "      (conv3): Conv2d(256, 1024, kernel_size=(1, 1), stride=(1, 1), bias=False)\n",
      "      (bn3): BatchNorm2d(1024, eps=1e-05, momentum=0.1, affine=True, track_running_stats=True)\n",
      "      (relu): ReLU(inplace=True)\n",
      "    )\n",
      "    (2): Bottleneck(\n",
      "      (conv1): Conv2d(1024, 256, kernel_size=(1, 1), stride=(1, 1), bias=False)\n",
      "      (bn1): BatchNorm2d(256, eps=1e-05, momentum=0.1, affine=True, track_running_stats=True)\n",
      "      (conv2): Conv2d(256, 256, kernel_size=(3, 3), stride=(1, 1), padding=(1, 1), bias=False)\n",
      "      (bn2): BatchNorm2d(256, eps=1e-05, momentum=0.1, affine=True, track_running_stats=True)\n",
      "      (conv3): Conv2d(256, 1024, kernel_size=(1, 1), stride=(1, 1), bias=False)\n",
      "      (bn3): BatchNorm2d(1024, eps=1e-05, momentum=0.1, affine=True, track_running_stats=True)\n",
      "      (relu): ReLU(inplace=True)\n",
      "    )\n",
      "    (3): Bottleneck(\n",
      "      (conv1): Conv2d(1024, 256, kernel_size=(1, 1), stride=(1, 1), bias=False)\n",
      "      (bn1): BatchNorm2d(256, eps=1e-05, momentum=0.1, affine=True, track_running_stats=True)\n",
      "      (conv2): Conv2d(256, 256, kernel_size=(3, 3), stride=(1, 1), padding=(1, 1), bias=False)\n",
      "      (bn2): BatchNorm2d(256, eps=1e-05, momentum=0.1, affine=True, track_running_stats=True)\n",
      "      (conv3): Conv2d(256, 1024, kernel_size=(1, 1), stride=(1, 1), bias=False)\n",
      "      (bn3): BatchNorm2d(1024, eps=1e-05, momentum=0.1, affine=True, track_running_stats=True)\n",
      "      (relu): ReLU(inplace=True)\n",
      "    )\n",
      "    (4): Bottleneck(\n",
      "      (conv1): Conv2d(1024, 256, kernel_size=(1, 1), stride=(1, 1), bias=False)\n",
      "      (bn1): BatchNorm2d(256, eps=1e-05, momentum=0.1, affine=True, track_running_stats=True)\n",
      "      (conv2): Conv2d(256, 256, kernel_size=(3, 3), stride=(1, 1), padding=(1, 1), bias=False)\n",
      "      (bn2): BatchNorm2d(256, eps=1e-05, momentum=0.1, affine=True, track_running_stats=True)\n",
      "      (conv3): Conv2d(256, 1024, kernel_size=(1, 1), stride=(1, 1), bias=False)\n",
      "      (bn3): BatchNorm2d(1024, eps=1e-05, momentum=0.1, affine=True, track_running_stats=True)\n",
      "      (relu): ReLU(inplace=True)\n",
      "    )\n",
      "    (5): Bottleneck(\n",
      "      (conv1): Conv2d(1024, 256, kernel_size=(1, 1), stride=(1, 1), bias=False)\n",
      "      (bn1): BatchNorm2d(256, eps=1e-05, momentum=0.1, affine=True, track_running_stats=True)\n",
      "      (conv2): Conv2d(256, 256, kernel_size=(3, 3), stride=(1, 1), padding=(1, 1), bias=False)\n",
      "      (bn2): BatchNorm2d(256, eps=1e-05, momentum=0.1, affine=True, track_running_stats=True)\n",
      "      (conv3): Conv2d(256, 1024, kernel_size=(1, 1), stride=(1, 1), bias=False)\n",
      "      (bn3): BatchNorm2d(1024, eps=1e-05, momentum=0.1, affine=True, track_running_stats=True)\n",
      "      (relu): ReLU(inplace=True)\n",
      "    )\n",
      "  )\n",
      "  (layer4): Sequential(\n",
      "    (0): Bottleneck(\n",
      "      (conv1): Conv2d(1024, 512, kernel_size=(1, 1), stride=(1, 1), bias=False)\n",
      "      (bn1): BatchNorm2d(512, eps=1e-05, momentum=0.1, affine=True, track_running_stats=True)\n",
      "      (conv2): Conv2d(512, 512, kernel_size=(3, 3), stride=(2, 2), padding=(1, 1), bias=False)\n",
      "      (bn2): BatchNorm2d(512, eps=1e-05, momentum=0.1, affine=True, track_running_stats=True)\n",
      "      (conv3): Conv2d(512, 2048, kernel_size=(1, 1), stride=(1, 1), bias=False)\n",
      "      (bn3): BatchNorm2d(2048, eps=1e-05, momentum=0.1, affine=True, track_running_stats=True)\n",
      "      (relu): ReLU(inplace=True)\n",
      "      (downsample): Sequential(\n",
      "        (0): Conv2d(1024, 2048, kernel_size=(1, 1), stride=(2, 2), bias=False)\n",
      "        (1): BatchNorm2d(2048, eps=1e-05, momentum=0.1, affine=True, track_running_stats=True)\n",
      "      )\n",
      "    )\n",
      "    (1): Bottleneck(\n",
      "      (conv1): Conv2d(2048, 512, kernel_size=(1, 1), stride=(1, 1), bias=False)\n",
      "      (bn1): BatchNorm2d(512, eps=1e-05, momentum=0.1, affine=True, track_running_stats=True)\n",
      "      (conv2): Conv2d(512, 512, kernel_size=(3, 3), stride=(1, 1), padding=(1, 1), bias=False)\n",
      "      (bn2): BatchNorm2d(512, eps=1e-05, momentum=0.1, affine=True, track_running_stats=True)\n",
      "      (conv3): Conv2d(512, 2048, kernel_size=(1, 1), stride=(1, 1), bias=False)\n",
      "      (bn3): BatchNorm2d(2048, eps=1e-05, momentum=0.1, affine=True, track_running_stats=True)\n",
      "      (relu): ReLU(inplace=True)\n",
      "    )\n",
      "    (2): Bottleneck(\n",
      "      (conv1): Conv2d(2048, 512, kernel_size=(1, 1), stride=(1, 1), bias=False)\n",
      "      (bn1): BatchNorm2d(512, eps=1e-05, momentum=0.1, affine=True, track_running_stats=True)\n",
      "      (conv2): Conv2d(512, 512, kernel_size=(3, 3), stride=(1, 1), padding=(1, 1), bias=False)\n",
      "      (bn2): BatchNorm2d(512, eps=1e-05, momentum=0.1, affine=True, track_running_stats=True)\n",
      "      (conv3): Conv2d(512, 2048, kernel_size=(1, 1), stride=(1, 1), bias=False)\n",
      "      (bn3): BatchNorm2d(2048, eps=1e-05, momentum=0.1, affine=True, track_running_stats=True)\n",
      "      (relu): ReLU(inplace=True)\n",
      "    )\n",
      "  )\n",
      "  (avgpool): AdaptiveAvgPool2d(output_size=(1, 1))\n",
      "  (fc): Linear(in_features=2048, out_features=1000, bias=True)\n",
      ")\n"
     ]
    }
   ],
   "source": [
    "model = torchvision.models.resnet50(pretrained=True)\n",
    "print('필요 입력 채널 개수', model.conv1.weight.shape[1])\n",
    "print('네트워크 출력 채널 개수', model.fc.weight.shape[0])\n",
    "print(model)"
   ]
  },
  {
   "cell_type": "code",
   "execution_count": 24,
   "id": "11357fc4-548b-452e-bbd8-e60ef6261308",
   "metadata": {},
   "outputs": [
    {
     "name": "stdout",
     "output_type": "stream",
     "text": [
      "필요 입력 채널 개수 3\n",
      "네트워크 출력 채널 개수 18\n"
     ]
    }
   ],
   "source": [
    "import math\n",
    "class_num = 18\n",
    "model.fc = nn.Linear(in_features=2048, out_features=class_num, bias=True)\n",
    "nn.init.xavier_uniform_(model.fc.weight)\n",
    "stdv = 1. / math.sqrt(model.fc.weight.size(1))\n",
    "model.fc.bias.data.uniform_(-stdv, stdv)\n",
    "\n",
    "print('필요 입력 채널 개수', model.conv1.weight.shape[1])\n",
    "print('네트워크 출력 채널 개수', model.fc.weight.shape[0])"
   ]
  },
  {
   "cell_type": "code",
   "execution_count": 25,
   "id": "9a1a2262-f820-4294-8086-3a48a5e5d686",
   "metadata": {},
   "outputs": [
    {
     "name": "stdout",
     "output_type": "stream",
     "text": [
      "using cuda:0\n"
     ]
    }
   ],
   "source": [
    "device = torch.device(\"cuda:0\" if torch.cuda.is_available() else \"cpu\")\n",
    "print(f\"using {device}\")\n",
    "\n",
    "model = torch.nn.DataParallel(model)\n",
    "model.to(device)\n",
    "\n",
    "LEARNING_RATE = 0.0001\n",
    "NUM_EPOCH = 50\n",
    "\n",
    "criterion = nn.CrossEntropyLoss()\n",
    "optimizer = torch.optim.Adam(model.parameters(), lr=LEARNING_RATE)\n",
    "\n",
    "#lr = 1e-3\n",
    "#betas = (0.9, 0.999)\n",
    "#weight_decay = 0.5e-4\n",
    "#eps = 1e-8\n",
    "#optimizer = torch.optim.AdamW(model.parameters(), lr=lr, betas=betas, weight_decay=weight_decay, eps=eps)"
   ]
  },
  {
   "cell_type": "code",
   "execution_count": 26,
   "id": "64a36f92-aad5-4bbb-a920-29d50f0f058b",
   "metadata": {},
   "outputs": [
    {
     "name": "stdout",
     "output_type": "stream",
     "text": [
      "[0] name:[module.conv1.weight] shape:[(64, 3, 7, 7)].\n",
      "    val:[ 0.013  0.015 -0.015 -0.023 -0.041]\n",
      "    --[True].\n",
      "[1] name:[module.bn1.weight] shape:[(64,)].\n",
      "    val:[0.239 0.291 0.316 0.271 0.217]\n",
      "    --[True].\n",
      "[2] name:[module.bn1.bias] shape:[(64,)].\n",
      "    val:[0.225 0.606 0.012 0.133 0.18 ]\n",
      "    --[True].\n",
      "[3] name:[module.layer1.0.conv1.weight] shape:[(64, 64, 1, 1)].\n",
      "    val:[ 0.004  0.04  -0.025 -0.028  0.089]\n",
      "    --[True].\n",
      "[4] name:[module.layer1.0.bn1.weight] shape:[(64,)].\n",
      "    val:[0.213 0.188 0.141 0.153 0.132]\n",
      "    --[True].\n",
      "[5] name:[module.layer1.0.bn1.bias] shape:[(64,)].\n",
      "    val:[ 0.433  0.047 -0.08   0.073  0.28 ]\n",
      "    --[True].\n",
      "[6] name:[module.layer1.0.conv2.weight] shape:[(64, 64, 3, 3)].\n",
      "    val:[ 2.092e-09 -1.415e-09  6.585e-09  4.792e-09  3.282e-09]\n",
      "    --[True].\n",
      "[7] name:[module.layer1.0.bn2.weight] shape:[(64,)].\n",
      "    val:[2.322e-08 1.381e-01 2.416e-01 1.363e-01 1.158e-01]\n",
      "    --[True].\n",
      "[8] name:[module.layer1.0.bn2.bias] shape:[(64,)].\n",
      "    val:[-1.165e-07  3.803e-02  3.519e-01  1.243e-01  2.717e-01]\n",
      "    --[True].\n",
      "[9] name:[module.layer1.0.conv3.weight] shape:[(256, 64, 1, 1)].\n",
      "    val:[-4.012e-09  1.773e-02  4.959e-02 -9.115e-03 -5.598e-02]\n",
      "    --[True].\n",
      "[10] name:[module.layer1.0.bn3.weight] shape:[(256,)].\n",
      "    val:[0.061 0.    0.037 0.313 0.058]\n",
      "    --[True].\n",
      "[11] name:[module.layer1.0.bn3.bias] shape:[(256,)].\n",
      "    val:[-0.005  0.073  0.03   0.054 -0.042]\n",
      "    --[True].\n",
      "[12] name:[module.layer1.0.downsample.0.weight] shape:[(256, 64, 1, 1)].\n",
      "    val:[ 0.008 -0.166  0.009  0.009  0.006]\n",
      "    --[True].\n",
      "[13] name:[module.layer1.0.downsample.1.weight] shape:[(256,)].\n",
      "    val:[0.245 0.23  0.146 0.343 0.026]\n",
      "    --[True].\n",
      "[14] name:[module.layer1.0.downsample.1.bias] shape:[(256,)].\n",
      "    val:[-0.005  0.073  0.03   0.054 -0.042]\n",
      "    --[True].\n",
      "[15] name:[module.layer1.1.conv1.weight] shape:[(64, 256, 1, 1)].\n",
      "    val:[0.025 0.003 0.011 0.005 0.009]\n",
      "    --[True].\n",
      "[16] name:[module.layer1.1.bn1.weight] shape:[(64,)].\n",
      "    val:[0.154 0.324 0.248 0.211 0.178]\n",
      "    --[True].\n",
      "[17] name:[module.layer1.1.bn1.bias] shape:[(64,)].\n",
      "    val:[ 0.058 -0.208 -0.11  -0.011 -0.052]\n",
      "    --[True].\n",
      "[18] name:[module.layer1.1.conv2.weight] shape:[(64, 64, 3, 3)].\n",
      "    val:[ 0.015 -0.002  0.013  0.01  -0.013]\n",
      "    --[True].\n",
      "[19] name:[module.layer1.1.bn2.weight] shape:[(64,)].\n",
      "    val:[0.3   0.188 0.168 0.17  0.251]\n",
      "    --[True].\n",
      "[20] name:[module.layer1.1.bn2.bias] shape:[(64,)].\n",
      "    val:[-0.335 -0.101 -0.01   0.048 -0.096]\n",
      "    --[True].\n",
      "[21] name:[module.layer1.1.conv3.weight] shape:[(256, 64, 1, 1)].\n",
      "    val:[ 0.062 -0.004 -0.001  0.001 -0.004]\n",
      "    --[True].\n",
      "[22] name:[module.layer1.1.bn3.weight] shape:[(256,)].\n",
      "    val:[ 0.002 -0.007  0.095 -0.011  0.149]\n",
      "    --[True].\n",
      "[23] name:[module.layer1.1.bn3.bias] shape:[(256,)].\n",
      "    val:[ 0.004  0.005 -0.066  0.002 -0.049]\n",
      "    --[True].\n",
      "[24] name:[module.layer1.2.conv1.weight] shape:[(64, 256, 1, 1)].\n",
      "    val:[ 0.006  0.001 -0.004  0.007 -0.029]\n",
      "    --[True].\n",
      "[25] name:[module.layer1.2.bn1.weight] shape:[(64,)].\n",
      "    val:[0.191 0.169 0.1   0.156 0.221]\n",
      "    --[True].\n",
      "[26] name:[module.layer1.2.bn1.bias] shape:[(64,)].\n",
      "    val:[-0.021 -0.041 -0.011 -0.132 -0.103]\n",
      "    --[True].\n",
      "[27] name:[module.layer1.2.conv2.weight] shape:[(64, 64, 3, 3)].\n",
      "    val:[ 0.033 -0.002 -0.026 -0.002 -0.014]\n",
      "    --[True].\n",
      "[28] name:[module.layer1.2.bn2.weight] shape:[(64,)].\n",
      "    val:[0.216 0.251 0.223 0.229 0.221]\n",
      "    --[True].\n",
      "[29] name:[module.layer1.2.bn2.bias] shape:[(64,)].\n",
      "    val:[-0.031 -0.092 -0.041 -0.065 -0.103]\n",
      "    --[True].\n",
      "[30] name:[module.layer1.2.conv3.weight] shape:[(256, 64, 1, 1)].\n",
      "    val:[ 0.004 -0.003 -0.002  0.    -0.008]\n",
      "    --[True].\n",
      "[31] name:[module.layer1.2.bn3.weight] shape:[(256,)].\n",
      "    val:[-0.002  0.004  0.242  0.013  0.2  ]\n",
      "    --[True].\n",
      "[32] name:[module.layer1.2.bn3.bias] shape:[(256,)].\n",
      "    val:[ 0.002  0.005 -0.005  0.012 -0.088]\n",
      "    --[True].\n",
      "[33] name:[module.layer2.0.conv1.weight] shape:[(128, 256, 1, 1)].\n",
      "    val:[ 0.01   0.015  0.026 -0.013 -0.012]\n",
      "    --[True].\n",
      "[34] name:[module.layer2.0.bn1.weight] shape:[(128,)].\n",
      "    val:[0.264 0.187 0.203 0.202 0.203]\n",
      "    --[True].\n",
      "[35] name:[module.layer2.0.bn1.bias] shape:[(128,)].\n",
      "    val:[-0.16  -0.092 -0.187 -0.097 -0.029]\n",
      "    --[True].\n",
      "[36] name:[module.layer2.0.conv2.weight] shape:[(128, 128, 3, 3)].\n",
      "    val:[ 0.006  0.005  0.007 -0.001  0.009]\n",
      "    --[True].\n",
      "[37] name:[module.layer2.0.bn2.weight] shape:[(128,)].\n",
      "    val:[0.225 0.193 0.146 0.247 0.225]\n",
      "    --[True].\n",
      "[38] name:[module.layer2.0.bn2.bias] shape:[(128,)].\n",
      "    val:[-0.06   0.15   0.155 -0.06  -0.069]\n",
      "    --[True].\n",
      "[39] name:[module.layer2.0.conv3.weight] shape:[(512, 128, 1, 1)].\n",
      "    val:[ 0.008 -0.006  0.013 -0.006  0.017]\n",
      "    --[True].\n",
      "[40] name:[module.layer2.0.bn3.weight] shape:[(512,)].\n",
      "    val:[ 0.004  0.202 -0.001  0.139  0.006]\n",
      "    --[True].\n",
      "[41] name:[module.layer2.0.bn3.bias] shape:[(512,)].\n",
      "    val:[ 0.05  -0.054 -0.005  0.021  0.047]\n",
      "    --[True].\n",
      "[42] name:[module.layer2.0.downsample.0.weight] shape:[(512, 256, 1, 1)].\n",
      "    val:[ 0.07   0.004  0.013  0.013 -0.013]\n",
      "    --[True].\n",
      "[43] name:[module.layer2.0.downsample.1.weight] shape:[(512,)].\n",
      "    val:[0.259 0.11  0.002 0.099 0.148]\n",
      "    --[True].\n",
      "[44] name:[module.layer2.0.downsample.1.bias] shape:[(512,)].\n",
      "    val:[ 0.05  -0.054 -0.005  0.021  0.047]\n",
      "    --[True].\n",
      "[45] name:[module.layer2.1.conv1.weight] shape:[(128, 512, 1, 1)].\n",
      "    val:[ 0.03   0.006 -0.001  0.007  0.034]\n",
      "    --[True].\n",
      "[46] name:[module.layer2.1.bn1.weight] shape:[(128,)].\n",
      "    val:[0.114 0.076 0.091 0.112 0.116]\n",
      "    --[True].\n",
      "[47] name:[module.layer2.1.bn1.bias] shape:[(128,)].\n",
      "    val:[ 0.069  0.147  0.083  0.041 -0.044]\n",
      "    --[True].\n",
      "[48] name:[module.layer2.1.conv2.weight] shape:[(128, 128, 3, 3)].\n",
      "    val:[-0.027 -0.04  -0.017 -0.032 -0.005]\n",
      "    --[True].\n",
      "[49] name:[module.layer2.1.bn2.weight] shape:[(128,)].\n",
      "    val:[0.178 0.125 0.182 0.2   0.189]\n",
      "    --[True].\n",
      "[50] name:[module.layer2.1.bn2.bias] shape:[(128,)].\n",
      "    val:[-0.018  0.047  0.068  0.102 -0.008]\n",
      "    --[True].\n",
      "[51] name:[module.layer2.1.conv3.weight] shape:[(512, 128, 1, 1)].\n",
      "    val:[-0.044  0.021 -0.004  0.019 -0.043]\n",
      "    --[True].\n",
      "[52] name:[module.layer2.1.bn3.weight] shape:[(512,)].\n",
      "    val:[ 0.132 -0.004  0.24   0.02   0.141]\n",
      "    --[True].\n",
      "[53] name:[module.layer2.1.bn3.bias] shape:[(512,)].\n",
      "    val:[-0.143 -0.041  0.096 -0.002 -0.064]\n",
      "    --[True].\n",
      "[54] name:[module.layer2.2.conv1.weight] shape:[(128, 512, 1, 1)].\n",
      "    val:[ 0.007  0.006 -0.02  -0.023  0.008]\n",
      "    --[True].\n",
      "[55] name:[module.layer2.2.bn1.weight] shape:[(128,)].\n",
      "    val:[0.107 0.133 0.197 0.204 0.123]\n",
      "    --[True].\n",
      "[56] name:[module.layer2.2.bn1.bias] shape:[(128,)].\n",
      "    val:[ 0.137  0.023 -0.077  0.019  0.097]\n",
      "    --[True].\n",
      "[57] name:[module.layer2.2.conv2.weight] shape:[(128, 128, 3, 3)].\n",
      "    val:[-0.003 -0.003  0.     0.011 -0.003]\n",
      "    --[True].\n",
      "[58] name:[module.layer2.2.bn2.weight] shape:[(128,)].\n",
      "    val:[0.221 0.172 0.218 0.196 0.174]\n",
      "    --[True].\n",
      "[59] name:[module.layer2.2.bn2.bias] shape:[(128,)].\n",
      "    val:[-0.069 -0.031 -0.073 -0.035 -0.019]\n",
      "    --[True].\n",
      "[60] name:[module.layer2.2.conv3.weight] shape:[(512, 128, 1, 1)].\n",
      "    val:[-0.017  0.027 -0.006 -0.001 -0.018]\n",
      "    --[True].\n",
      "[61] name:[module.layer2.2.bn3.weight] shape:[(512,)].\n",
      "    val:[0.057 0.051 0.07  0.201 0.213]\n",
      "    --[True].\n",
      "[62] name:[module.layer2.2.bn3.bias] shape:[(512,)].\n",
      "    val:[-0.066  0.062 -0.109 -0.054 -0.129]\n",
      "    --[True].\n",
      "[63] name:[module.layer2.3.conv1.weight] shape:[(128, 512, 1, 1)].\n",
      "    val:[ 0.004 -0.019  0.016  0.007 -0.017]\n",
      "    --[True].\n",
      "[64] name:[module.layer2.3.bn1.weight] shape:[(128,)].\n",
      "    val:[0.193 0.174 0.202 0.143 0.198]\n",
      "    --[True].\n",
      "[65] name:[module.layer2.3.bn1.bias] shape:[(128,)].\n",
      "    val:[-0.121 -0.008 -0.105  0.044 -0.088]\n",
      "    --[True].\n",
      "[66] name:[module.layer2.3.conv2.weight] shape:[(128, 128, 3, 3)].\n",
      "    val:[ 0.006  0.008 -0.006 -0.003  0.005]\n",
      "    --[True].\n",
      "[67] name:[module.layer2.3.bn2.weight] shape:[(128,)].\n",
      "    val:[0.207 0.247 0.168 0.243 0.216]\n",
      "    --[True].\n",
      "[68] name:[module.layer2.3.bn2.bias] shape:[(128,)].\n",
      "    val:[-0.062 -0.164 -0.035 -0.12  -0.068]\n",
      "    --[True].\n",
      "[69] name:[module.layer2.3.conv3.weight] shape:[(512, 128, 1, 1)].\n",
      "    val:[-0.002 -0.008 -0.022  0.    -0.011]\n",
      "    --[True].\n",
      "[70] name:[module.layer2.3.bn3.weight] shape:[(512,)].\n",
      "    val:[0.012 0.117 0.014 0.098 0.062]\n",
      "    --[True].\n",
      "[71] name:[module.layer2.3.bn3.bias] shape:[(512,)].\n",
      "    val:[-0.011  0.123  0.018 -0.147 -0.102]\n",
      "    --[True].\n",
      "[72] name:[module.layer3.0.conv1.weight] shape:[(256, 512, 1, 1)].\n",
      "    val:[ 0.014  0.009  0.019  0.022 -0.027]\n",
      "    --[True].\n",
      "[73] name:[module.layer3.0.bn1.weight] shape:[(256,)].\n",
      "    val:[0.195 0.26  0.203 0.175 0.222]\n",
      "    --[True].\n",
      "[74] name:[module.layer3.0.bn1.bias] shape:[(256,)].\n",
      "    val:[-0.072 -0.212 -0.078  0.02  -0.161]\n",
      "    --[True].\n",
      "[75] name:[module.layer3.0.conv2.weight] shape:[(256, 256, 3, 3)].\n",
      "    val:[-0.036 -0.044 -0.032 -0.03  -0.01 ]\n",
      "    --[True].\n",
      "[76] name:[module.layer3.0.bn2.weight] shape:[(256,)].\n",
      "    val:[0.18  0.231 0.181 0.153 0.162]\n",
      "    --[True].\n",
      "[77] name:[module.layer3.0.bn2.bias] shape:[(256,)].\n",
      "    val:[ 0.077 -0.044 -0.001  0.155 -0.034]\n",
      "    --[True].\n",
      "[78] name:[module.layer3.0.conv3.weight] shape:[(1024, 256, 1, 1)].\n",
      "    val:[-0.01   0.02   0.037 -0.08   0.026]\n",
      "    --[True].\n",
      "[79] name:[module.layer3.0.bn3.weight] shape:[(1024,)].\n",
      "    val:[0.161 0.116 0.089 0.118 0.087]\n",
      "    --[True].\n",
      "[80] name:[module.layer3.0.bn3.bias] shape:[(1024,)].\n",
      "    val:[-0.014 -0.025 -0.027  0.003 -0.029]\n",
      "    --[True].\n",
      "[81] name:[module.layer3.0.downsample.0.weight] shape:[(1024, 512, 1, 1)].\n",
      "    val:[ 0.029  0.021  0.008 -0.008 -0.002]\n",
      "    --[True].\n",
      "[82] name:[module.layer3.0.downsample.1.weight] shape:[(1024,)].\n",
      "    val:[0.105 0.095 0.067 0.136 0.07 ]\n",
      "    --[True].\n",
      "[83] name:[module.layer3.0.downsample.1.bias] shape:[(1024,)].\n",
      "    val:[-0.014 -0.025 -0.027  0.003 -0.029]\n",
      "    --[True].\n",
      "[84] name:[module.layer3.1.conv1.weight] shape:[(256, 1024, 1, 1)].\n",
      "    val:[ 0.004 -0.013  0.002  0.002 -0.005]\n",
      "    --[True].\n",
      "[85] name:[module.layer3.1.bn1.weight] shape:[(256,)].\n",
      "    val:[0.127 0.108 0.112 0.113 0.14 ]\n",
      "    --[True].\n",
      "[86] name:[module.layer3.1.bn1.bias] shape:[(256,)].\n",
      "    val:[ 0.122  0.085  0.044  0.046 -0.021]\n",
      "    --[True].\n",
      "[87] name:[module.layer3.1.conv2.weight] shape:[(256, 256, 3, 3)].\n",
      "    val:[-0.002  0.002 -0.009  0.003 -0.002]\n",
      "    --[True].\n",
      "[88] name:[module.layer3.1.bn2.weight] shape:[(256,)].\n",
      "    val:[0.173 0.207 0.187 0.167 0.174]\n",
      "    --[True].\n",
      "[89] name:[module.layer3.1.bn2.bias] shape:[(256,)].\n",
      "    val:[-0.068 -0.085 -0.039 -0.035 -0.09 ]\n",
      "    --[True].\n",
      "[90] name:[module.layer3.1.conv3.weight] shape:[(1024, 256, 1, 1)].\n",
      "    val:[-0.006  0.024  0.002  0.014  0.003]\n",
      "    --[True].\n",
      "[91] name:[module.layer3.1.bn3.weight] shape:[(1024,)].\n",
      "    val:[0.048 0.082 0.112 0.089 0.113]\n",
      "    --[True].\n",
      "[92] name:[module.layer3.1.bn3.bias] shape:[(1024,)].\n",
      "    val:[-0.065 -0.026 -0.006 -0.038 -0.011]\n",
      "    --[True].\n",
      "[93] name:[module.layer3.2.conv1.weight] shape:[(256, 1024, 1, 1)].\n",
      "    val:[ 0.003 -0.028 -0.003 -0.006 -0.021]\n",
      "    --[True].\n",
      "[94] name:[module.layer3.2.bn1.weight] shape:[(256,)].\n",
      "    val:[0.223 0.187 0.117 0.134 0.177]\n",
      "    --[True].\n",
      "[95] name:[module.layer3.2.bn1.bias] shape:[(256,)].\n",
      "    val:[-0.115 -0.199  0.063  0.042 -0.096]\n",
      "    --[True].\n",
      "[96] name:[module.layer3.2.conv2.weight] shape:[(256, 256, 3, 3)].\n",
      "    val:[-0.004 -0.011  0.001  0.012  0.02 ]\n",
      "    --[True].\n",
      "[97] name:[module.layer3.2.bn2.weight] shape:[(256,)].\n",
      "    val:[0.097 0.181 0.194 0.164 0.211]\n",
      "    --[True].\n",
      "[98] name:[module.layer3.2.bn2.bias] shape:[(256,)].\n",
      "    val:[ 0.126 -0.059 -0.153 -0.047 -0.118]\n",
      "    --[True].\n",
      "[99] name:[module.layer3.2.conv3.weight] shape:[(1024, 256, 1, 1)].\n",
      "    val:[-0.024  0.009  0.018 -0.008 -0.012]\n",
      "    --[True].\n",
      "[100] name:[module.layer3.2.bn3.weight] shape:[(1024,)].\n",
      "    val:[0.087 0.082 0.131 0.068 0.106]\n",
      "    --[True].\n",
      "[101] name:[module.layer3.2.bn3.bias] shape:[(1024,)].\n",
      "    val:[ 0.069 -0.059 -0.013 -0.048 -0.013]\n",
      "    --[True].\n",
      "[102] name:[module.layer3.3.conv1.weight] shape:[(256, 1024, 1, 1)].\n",
      "    val:[-0.015 -0.01  -0.     0.002 -0.018]\n",
      "    --[True].\n",
      "[103] name:[module.layer3.3.bn1.weight] shape:[(256,)].\n",
      "    val:[0.223 0.174 0.181 0.174 0.211]\n",
      "    --[True].\n",
      "[104] name:[module.layer3.3.bn1.bias] shape:[(256,)].\n",
      "    val:[-0.149 -0.11  -0.135 -0.125 -0.153]\n",
      "    --[True].\n",
      "[105] name:[module.layer3.3.conv2.weight] shape:[(256, 256, 3, 3)].\n",
      "    val:[-0.02  -0.019 -0.018  0.003  0.025]\n",
      "    --[True].\n",
      "[106] name:[module.layer3.3.bn2.weight] shape:[(256,)].\n",
      "    val:[0.117 0.149 0.112 0.196 0.132]\n",
      "    --[True].\n",
      "[107] name:[module.layer3.3.bn2.bias] shape:[(256,)].\n",
      "    val:[ 0.046  0.011  0.054 -0.103 -0.004]\n",
      "    --[True].\n",
      "[108] name:[module.layer3.3.conv3.weight] shape:[(1024, 256, 1, 1)].\n",
      "    val:[ 0.003  0.015 -0.04  -0.016  0.025]\n",
      "    --[True].\n",
      "[109] name:[module.layer3.3.bn3.weight] shape:[(1024,)].\n",
      "    val:[0.036 0.134 0.107 0.034 0.106]\n",
      "    --[True].\n",
      "[110] name:[module.layer3.3.bn3.bias] shape:[(1024,)].\n",
      "    val:[ 0.004 -0.052 -0.089 -0.036 -0.052]\n",
      "    --[True].\n",
      "[111] name:[module.layer3.4.conv1.weight] shape:[(256, 1024, 1, 1)].\n",
      "    val:[-0.034  0.032 -0.02  -0.018 -0.024]\n",
      "    --[True].\n",
      "[112] name:[module.layer3.4.bn1.weight] shape:[(256,)].\n",
      "    val:[0.129 0.181 0.143 0.15  0.164]\n",
      "    --[True].\n",
      "[113] name:[module.layer3.4.bn1.bias] shape:[(256,)].\n",
      "    val:[ 0.001 -0.072 -0.015 -0.066 -0.061]\n",
      "    --[True].\n",
      "[114] name:[module.layer3.4.conv2.weight] shape:[(256, 256, 3, 3)].\n",
      "    val:[-0.009  0.008  0.01  -0.029 -0.009]\n",
      "    --[True].\n",
      "[115] name:[module.layer3.4.bn2.weight] shape:[(256,)].\n",
      "    val:[0.201 0.152 0.126 0.187 0.192]\n",
      "    --[True].\n",
      "[116] name:[module.layer3.4.bn2.bias] shape:[(256,)].\n",
      "    val:[-0.153  0.019  0.006 -0.108 -0.188]\n",
      "    --[True].\n",
      "[117] name:[module.layer3.4.conv3.weight] shape:[(1024, 256, 1, 1)].\n",
      "    val:[-0.001  0.002  0.002  0.002  0.002]\n",
      "    --[True].\n",
      "[118] name:[module.layer3.4.bn3.weight] shape:[(1024,)].\n",
      "    val:[0.001 0.183 0.151 0.037 0.11 ]\n",
      "    --[True].\n",
      "[119] name:[module.layer3.4.bn3.bias] shape:[(1024,)].\n",
      "    val:[-0.017 -0.213 -0.143 -0.043 -0.102]\n",
      "    --[True].\n",
      "[120] name:[module.layer3.5.conv1.weight] shape:[(256, 1024, 1, 1)].\n",
      "    val:[-0.001  0.018  0.047 -0.032  0.008]\n",
      "    --[True].\n",
      "[121] name:[module.layer3.5.bn1.weight] shape:[(256,)].\n",
      "    val:[0.195 0.21  0.121 0.215 0.201]\n",
      "    --[True].\n",
      "[122] name:[module.layer3.5.bn1.bias] shape:[(256,)].\n",
      "    val:[-0.179 -0.21   0.08  -0.166 -0.197]\n",
      "    --[True].\n",
      "[123] name:[module.layer3.5.conv2.weight] shape:[(256, 256, 3, 3)].\n",
      "    val:[-0.018 -0.037 -0.024  0.003  0.026]\n",
      "    --[True].\n",
      "[124] name:[module.layer3.5.bn2.weight] shape:[(256,)].\n",
      "    val:[0.18  0.16  0.178 0.206 0.17 ]\n",
      "    --[True].\n",
      "[125] name:[module.layer3.5.bn2.bias] shape:[(256,)].\n",
      "    val:[-0.095 -0.043 -0.065 -0.111 -0.137]\n",
      "    --[True].\n",
      "[126] name:[module.layer3.5.conv3.weight] shape:[(1024, 256, 1, 1)].\n",
      "    val:[-0.001  0.002  0.001 -0.003  0.003]\n",
      "    --[True].\n",
      "[127] name:[module.layer3.5.bn3.weight] shape:[(1024,)].\n",
      "    val:[0.01  0.241 0.129 0.07  0.121]\n",
      "    --[True].\n",
      "[128] name:[module.layer3.5.bn3.bias] shape:[(1024,)].\n",
      "    val:[-0.01  -0.278 -0.168 -0.087 -0.159]\n",
      "    --[True].\n",
      "[129] name:[module.layer4.0.conv1.weight] shape:[(512, 1024, 1, 1)].\n",
      "    val:[-0.011  0.006  0.009 -0.024 -0.005]\n",
      "    --[True].\n",
      "[130] name:[module.layer4.0.bn1.weight] shape:[(512,)].\n",
      "    val:[0.246 0.203 0.214 0.194 0.251]\n",
      "    --[True].\n",
      "[131] name:[module.layer4.0.bn1.bias] shape:[(512,)].\n",
      "    val:[-0.231 -0.176 -0.094 -0.153 -0.271]\n",
      "    --[True].\n",
      "[132] name:[module.layer4.0.conv2.weight] shape:[(512, 512, 3, 3)].\n",
      "    val:[-1.893e-05 -7.486e-03  9.649e-03 -2.248e-03 -2.001e-04]\n",
      "    --[True].\n",
      "[133] name:[module.layer4.0.bn2.weight] shape:[(512,)].\n",
      "    val:[0.23  0.215 0.211 0.25  0.199]\n",
      "    --[True].\n",
      "[134] name:[module.layer4.0.bn2.bias] shape:[(512,)].\n",
      "    val:[-0.092 -0.141 -0.052 -0.1   -0.065]\n",
      "    --[True].\n",
      "[135] name:[module.layer4.0.conv3.weight] shape:[(2048, 512, 1, 1)].\n",
      "    val:[-0.001  0.003 -0.011 -0.012 -0.012]\n",
      "    --[True].\n",
      "[136] name:[module.layer4.0.bn3.weight] shape:[(2048,)].\n",
      "    val:[0.314 0.425 0.397 0.362 0.493]\n",
      "    --[True].\n",
      "[137] name:[module.layer4.0.bn3.bias] shape:[(2048,)].\n",
      "    val:[-0.059 -0.092 -0.07  -0.053 -0.066]\n",
      "    --[True].\n",
      "[138] name:[module.layer4.0.downsample.0.weight] shape:[(2048, 1024, 1, 1)].\n",
      "    val:[-0.001 -0.005  0.002 -0.013 -0.005]\n",
      "    --[True].\n",
      "[139] name:[module.layer4.0.downsample.1.weight] shape:[(2048,)].\n",
      "    val:[0.239 0.275 0.259 0.218 0.394]\n",
      "    --[True].\n",
      "[140] name:[module.layer4.0.downsample.1.bias] shape:[(2048,)].\n",
      "    val:[-0.059 -0.092 -0.07  -0.053 -0.066]\n",
      "    --[True].\n",
      "[141] name:[module.layer4.1.conv1.weight] shape:[(512, 2048, 1, 1)].\n",
      "    val:[-0.023 -0.001 -0.015  0.012 -0.038]\n",
      "    --[True].\n",
      "[142] name:[module.layer4.1.bn1.weight] shape:[(512,)].\n",
      "    val:[0.188 0.193 0.172 0.2   0.205]\n",
      "    --[True].\n",
      "[143] name:[module.layer4.1.bn1.bias] shape:[(512,)].\n",
      "    val:[-0.127 -0.109 -0.072 -0.147 -0.161]\n",
      "    --[True].\n",
      "[144] name:[module.layer4.1.conv2.weight] shape:[(512, 512, 3, 3)].\n",
      "    val:[-0.007 -0.007 -0.003 -0.014 -0.016]\n",
      "    --[True].\n",
      "[145] name:[module.layer4.1.bn2.weight] shape:[(512,)].\n",
      "    val:[0.188 0.226 0.186 0.223 0.229]\n",
      "    --[True].\n",
      "[146] name:[module.layer4.1.bn2.bias] shape:[(512,)].\n",
      "    val:[-0.138 -0.144 -0.085 -0.15  -0.188]\n",
      "    --[True].\n",
      "[147] name:[module.layer4.1.conv3.weight] shape:[(2048, 512, 1, 1)].\n",
      "    val:[ 0.001 -0.003  0.005 -0.013 -0.011]\n",
      "    --[True].\n",
      "[148] name:[module.layer4.1.bn3.weight] shape:[(2048,)].\n",
      "    val:[0.287 0.502 0.329 0.263 0.383]\n",
      "    --[True].\n",
      "[149] name:[module.layer4.1.bn3.bias] shape:[(2048,)].\n",
      "    val:[-0.092 -0.079 -0.074 -0.054 -0.05 ]\n",
      "    --[True].\n",
      "[150] name:[module.layer4.2.conv1.weight] shape:[(512, 2048, 1, 1)].\n",
      "    val:[0.014 0.013 0.003 0.001 0.031]\n",
      "    --[True].\n",
      "[151] name:[module.layer4.2.bn1.weight] shape:[(512,)].\n",
      "    val:[0.214 0.204 0.213 0.221 0.211]\n",
      "    --[True].\n",
      "[152] name:[module.layer4.2.bn1.bias] shape:[(512,)].\n",
      "    val:[-0.156 -0.156 -0.187 -0.21  -0.167]\n",
      "    --[True].\n",
      "[153] name:[module.layer4.2.conv2.weight] shape:[(512, 512, 3, 3)].\n",
      "    val:[0.004 0.006 0.008 0.006 0.009]\n",
      "    --[True].\n",
      "[154] name:[module.layer4.2.bn2.weight] shape:[(512,)].\n",
      "    val:[0.226 0.181 0.184 0.235 0.244]\n",
      "    --[True].\n",
      "[155] name:[module.layer4.2.bn2.bias] shape:[(512,)].\n",
      "    val:[-0.1   -0.009 -0.059 -0.143 -0.169]\n",
      "    --[True].\n",
      "[156] name:[module.layer4.2.conv3.weight] shape:[(2048, 512, 1, 1)].\n",
      "    val:[ 0.005  0.008 -0.024 -0.003 -0.004]\n",
      "    --[True].\n",
      "[157] name:[module.layer4.2.bn3.weight] shape:[(2048,)].\n",
      "    val:[0.643 0.832 0.786 0.675 0.673]\n",
      "    --[True].\n",
      "[158] name:[module.layer4.2.bn3.bias] shape:[(2048,)].\n",
      "    val:[0.008 0.055 0.035 0.019 0.042]\n",
      "    --[True].\n",
      "[159] name:[module.fc.weight] shape:[(18, 2048)].\n",
      "    val:[ 0.011 -0.042  0.017 -0.     0.016]\n",
      "    --[True].\n",
      "[160] name:[module.fc.bias] shape:[(18,)].\n",
      "    val:[ 0.009  0.004 -0.    -0.01   0.021]\n",
      "    --[True].\n",
      "Total number of parameters:[23,544,914].\n"
     ]
    }
   ],
   "source": [
    "np.set_printoptions(precision=3)\n",
    "n_param = 0\n",
    "for p_idx, (param_name, param) in enumerate(model.named_parameters()):\n",
    "    if param.requires_grad:\n",
    "        \n",
    "        #if param_name.startswith('module.fc') or param_name.startswith('module.layer4') or param_name.startswith('module.layer3'):\n",
    "        #    param.requires_grad = True  # Train\n",
    "        #else:\n",
    "        #    param.requires_grad = False # Freeze\n",
    "            \n",
    "        param_numpy = param.detach().cpu().numpy()\n",
    "        n_param += len(param_numpy.reshape(-1))\n",
    "        print (\"[%d] name:[%s] shape:[%s].\"%(p_idx,param_name,param_numpy.shape))\n",
    "        print (\"    val:%s\"%(param_numpy.reshape(-1)[:5]))\n",
    "        print(f\"    --[{param.requires_grad}].\")\n",
    "print (\"Total number of parameters:[%s].\"%(format(n_param,',d')))"
   ]
  },
  {
   "cell_type": "code",
   "execution_count": 27,
   "id": "8c067d0e-38c9-4ab8-baba-88cf8dcb8c6c",
   "metadata": {
    "tags": []
   },
   "outputs": [
    {
     "name": "stdout",
     "output_type": "stream",
     "text": [
      "epoch[0/50] training loss 0.001, training accuracy 0.359\n"
     ]
    },
    {
     "name": "stderr",
     "output_type": "stream",
     "text": [
      "100%|██████████| 60/60 [00:19<00:00,  3.03it/s]\n"
     ]
    },
    {
     "name": "stdout",
     "output_type": "stream",
     "text": [
      "Update checkpoint!!!\n",
      "[val] acc : 0.289, loss : 2.558, f1 score: 0.647 -- size(60)\n",
      "best acc : 0.289, best loss : 2.558, best f1 : 0.647\n",
      "epoch[1/50] training loss 0.002, training accuracy 0.359\n"
     ]
    },
    {
     "name": "stderr",
     "output_type": "stream",
     "text": [
      "100%|██████████| 60/60 [00:16<00:00,  3.68it/s]\n"
     ]
    },
    {
     "name": "stdout",
     "output_type": "stream",
     "text": [
      "Update checkpoint!!!\n",
      "[val] acc : 0.417, loss : 1.821, f1 score: 1.000 -- size(60)\n",
      "best acc : 0.417, best loss : 1.821, best f1 : 1.000\n",
      "epoch[2/50] training loss 0.001, training accuracy 0.359\n"
     ]
    },
    {
     "name": "stderr",
     "output_type": "stream",
     "text": [
      "100%|██████████| 60/60 [00:16<00:00,  3.74it/s]"
     ]
    },
    {
     "name": "stdout",
     "output_type": "stream",
     "text": [
      "[val] acc : 0.511, loss : 1.481, f1 score: 1.000 -- size(60)\n",
      "best acc : 0.511, best loss : 1.481, best f1 : 1.000\n"
     ]
    },
    {
     "name": "stderr",
     "output_type": "stream",
     "text": [
      "\n"
     ]
    },
    {
     "name": "stdout",
     "output_type": "stream",
     "text": [
      "epoch[3/50] training loss 0.000, training accuracy 0.359\n"
     ]
    },
    {
     "name": "stderr",
     "output_type": "stream",
     "text": [
      "100%|██████████| 60/60 [00:16<00:00,  3.56it/s]"
     ]
    },
    {
     "name": "stdout",
     "output_type": "stream",
     "text": [
      "[val] acc : 0.686, loss : 0.945, f1 score: 1.000 -- size(60)\n",
      "best acc : 0.686, best loss : 0.945, best f1 : 1.000\n"
     ]
    },
    {
     "name": "stderr",
     "output_type": "stream",
     "text": [
      "\n"
     ]
    },
    {
     "name": "stdout",
     "output_type": "stream",
     "text": [
      "epoch[4/50] training loss 0.000, training accuracy 0.359\n"
     ]
    },
    {
     "name": "stderr",
     "output_type": "stream",
     "text": [
      "100%|██████████| 60/60 [00:16<00:00,  3.63it/s]"
     ]
    },
    {
     "name": "stdout",
     "output_type": "stream",
     "text": [
      "[val] acc : 0.668, loss : 1.100, f1 score: 1.000 -- size(60)\n",
      "best acc : 0.686, best loss : 0.945, best f1 : 1.000\n"
     ]
    },
    {
     "name": "stderr",
     "output_type": "stream",
     "text": [
      "\n"
     ]
    },
    {
     "name": "stdout",
     "output_type": "stream",
     "text": [
      "epoch[5/50] training loss 0.000, training accuracy 0.359\n"
     ]
    },
    {
     "name": "stderr",
     "output_type": "stream",
     "text": [
      "100%|██████████| 60/60 [00:17<00:00,  3.34it/s]"
     ]
    },
    {
     "name": "stdout",
     "output_type": "stream",
     "text": [
      "[val] acc : 0.602, loss : 1.379, f1 score: 1.000 -- size(60)\n",
      "best acc : 0.686, best loss : 0.945, best f1 : 1.000\n"
     ]
    },
    {
     "name": "stderr",
     "output_type": "stream",
     "text": [
      "\n"
     ]
    },
    {
     "name": "stdout",
     "output_type": "stream",
     "text": [
      "epoch[6/50] training loss 0.000, training accuracy 0.359\n"
     ]
    },
    {
     "name": "stderr",
     "output_type": "stream",
     "text": [
      "100%|██████████| 60/60 [00:16<00:00,  3.61it/s]"
     ]
    },
    {
     "name": "stdout",
     "output_type": "stream",
     "text": [
      "[val] acc : 0.687, loss : 1.165, f1 score: 1.000 -- size(60)\n",
      "best acc : 0.687, best loss : 0.945, best f1 : 1.000\n"
     ]
    },
    {
     "name": "stderr",
     "output_type": "stream",
     "text": [
      "\n"
     ]
    },
    {
     "name": "stdout",
     "output_type": "stream",
     "text": [
      "epoch[7/50] training loss 0.000, training accuracy 0.359\n"
     ]
    },
    {
     "name": "stderr",
     "output_type": "stream",
     "text": [
      "100%|██████████| 60/60 [00:17<00:00,  3.45it/s]"
     ]
    },
    {
     "name": "stdout",
     "output_type": "stream",
     "text": [
      "[val] acc : 0.784, loss : 0.990, f1 score: 1.000 -- size(60)\n",
      "best acc : 0.784, best loss : 0.945, best f1 : 1.000\n"
     ]
    },
    {
     "name": "stderr",
     "output_type": "stream",
     "text": [
      "\n"
     ]
    },
    {
     "name": "stdout",
     "output_type": "stream",
     "text": [
      "epoch[8/50] training loss 0.000, training accuracy 0.359\n"
     ]
    },
    {
     "name": "stderr",
     "output_type": "stream",
     "text": [
      "100%|██████████| 60/60 [00:17<00:00,  3.51it/s]"
     ]
    },
    {
     "name": "stdout",
     "output_type": "stream",
     "text": [
      "[val] acc : 0.838, loss : 0.676, f1 score: 1.000 -- size(60)\n",
      "best acc : 0.838, best loss : 0.676, best f1 : 1.000\n"
     ]
    },
    {
     "name": "stderr",
     "output_type": "stream",
     "text": [
      "\n"
     ]
    },
    {
     "name": "stdout",
     "output_type": "stream",
     "text": [
      "epoch[9/50] training loss 0.000, training accuracy 0.359\n"
     ]
    },
    {
     "name": "stderr",
     "output_type": "stream",
     "text": [
      "100%|██████████| 60/60 [00:16<00:00,  3.57it/s]"
     ]
    },
    {
     "name": "stdout",
     "output_type": "stream",
     "text": [
      "[val] acc : 0.833, loss : 0.666, f1 score: 1.000 -- size(60)\n",
      "best acc : 0.838, best loss : 0.666, best f1 : 1.000\n"
     ]
    },
    {
     "name": "stderr",
     "output_type": "stream",
     "text": [
      "\n"
     ]
    },
    {
     "name": "stdout",
     "output_type": "stream",
     "text": [
      "epoch[10/50] training loss 0.000, training accuracy 0.359\n"
     ]
    },
    {
     "name": "stderr",
     "output_type": "stream",
     "text": [
      "100%|██████████| 60/60 [00:17<00:00,  3.46it/s]"
     ]
    },
    {
     "name": "stdout",
     "output_type": "stream",
     "text": [
      "[val] acc : 0.850, loss : 0.645, f1 score: 1.000 -- size(60)\n",
      "best acc : 0.850, best loss : 0.645, best f1 : 1.000\n"
     ]
    },
    {
     "name": "stderr",
     "output_type": "stream",
     "text": [
      "\n"
     ]
    },
    {
     "name": "stdout",
     "output_type": "stream",
     "text": [
      "epoch[11/50] training loss 0.000, training accuracy 0.359\n"
     ]
    },
    {
     "name": "stderr",
     "output_type": "stream",
     "text": [
      "100%|██████████| 60/60 [00:18<00:00,  3.26it/s]"
     ]
    },
    {
     "name": "stdout",
     "output_type": "stream",
     "text": [
      "[val] acc : 0.866, loss : 0.697, f1 score: 1.000 -- size(60)\n",
      "best acc : 0.866, best loss : 0.645, best f1 : 1.000\n"
     ]
    },
    {
     "name": "stderr",
     "output_type": "stream",
     "text": [
      "\n"
     ]
    },
    {
     "name": "stdout",
     "output_type": "stream",
     "text": [
      "epoch[12/50] training loss 0.000, training accuracy 0.359\n"
     ]
    },
    {
     "name": "stderr",
     "output_type": "stream",
     "text": [
      "100%|██████████| 60/60 [00:16<00:00,  3.57it/s]"
     ]
    },
    {
     "name": "stdout",
     "output_type": "stream",
     "text": [
      "[val] acc : 0.796, loss : 1.156, f1 score: 1.000 -- size(60)\n",
      "best acc : 0.866, best loss : 0.645, best f1 : 1.000\n"
     ]
    },
    {
     "name": "stderr",
     "output_type": "stream",
     "text": [
      "\n"
     ]
    },
    {
     "name": "stdout",
     "output_type": "stream",
     "text": [
      "epoch[13/50] training loss 0.000, training accuracy 0.359\n"
     ]
    },
    {
     "name": "stderr",
     "output_type": "stream",
     "text": [
      "100%|██████████| 60/60 [00:18<00:00,  3.30it/s]"
     ]
    },
    {
     "name": "stdout",
     "output_type": "stream",
     "text": [
      "[val] acc : 0.843, loss : 0.671, f1 score: 1.000 -- size(60)\n",
      "best acc : 0.866, best loss : 0.645, best f1 : 1.000\n"
     ]
    },
    {
     "name": "stderr",
     "output_type": "stream",
     "text": [
      "\n"
     ]
    },
    {
     "name": "stdout",
     "output_type": "stream",
     "text": [
      "epoch[14/50] training loss 0.000, training accuracy 0.359\n"
     ]
    },
    {
     "name": "stderr",
     "output_type": "stream",
     "text": [
      "100%|██████████| 60/60 [00:16<00:00,  3.62it/s]"
     ]
    },
    {
     "name": "stdout",
     "output_type": "stream",
     "text": [
      "[val] acc : 0.834, loss : 1.933, f1 score: 1.000 -- size(60)\n",
      "best acc : 0.866, best loss : 0.645, best f1 : 1.000\n"
     ]
    },
    {
     "name": "stderr",
     "output_type": "stream",
     "text": [
      "\n"
     ]
    },
    {
     "name": "stdout",
     "output_type": "stream",
     "text": [
      "epoch[15/50] training loss 0.000, training accuracy 0.359\n"
     ]
    },
    {
     "name": "stderr",
     "output_type": "stream",
     "text": [
      "100%|██████████| 60/60 [00:16<00:00,  3.70it/s]"
     ]
    },
    {
     "name": "stdout",
     "output_type": "stream",
     "text": [
      "[val] acc : 0.835, loss : 0.944, f1 score: 1.000 -- size(60)\n",
      "best acc : 0.866, best loss : 0.645, best f1 : 1.000\n"
     ]
    },
    {
     "name": "stderr",
     "output_type": "stream",
     "text": [
      "\n"
     ]
    },
    {
     "name": "stdout",
     "output_type": "stream",
     "text": [
      "epoch[16/50] training loss 0.000, training accuracy 0.359\n"
     ]
    },
    {
     "name": "stderr",
     "output_type": "stream",
     "text": [
      "100%|██████████| 60/60 [00:16<00:00,  3.66it/s]"
     ]
    },
    {
     "name": "stdout",
     "output_type": "stream",
     "text": [
      "[val] acc : 0.857, loss : 1.014, f1 score: 1.000 -- size(60)\n",
      "best acc : 0.866, best loss : 0.645, best f1 : 1.000\n"
     ]
    },
    {
     "name": "stderr",
     "output_type": "stream",
     "text": [
      "\n"
     ]
    },
    {
     "name": "stdout",
     "output_type": "stream",
     "text": [
      "epoch[17/50] training loss 0.000, training accuracy 0.359\n"
     ]
    },
    {
     "name": "stderr",
     "output_type": "stream",
     "text": [
      "100%|██████████| 60/60 [00:16<00:00,  3.66it/s]"
     ]
    },
    {
     "name": "stdout",
     "output_type": "stream",
     "text": [
      "[val] acc : 0.841, loss : 1.057, f1 score: 1.000 -- size(60)\n",
      "best acc : 0.866, best loss : 0.645, best f1 : 1.000\n"
     ]
    },
    {
     "name": "stderr",
     "output_type": "stream",
     "text": [
      "\n"
     ]
    },
    {
     "name": "stdout",
     "output_type": "stream",
     "text": [
      "epoch[18/50] training loss 0.000, training accuracy 0.359\n"
     ]
    },
    {
     "name": "stderr",
     "output_type": "stream",
     "text": [
      "100%|██████████| 60/60 [00:17<00:00,  3.49it/s]"
     ]
    },
    {
     "name": "stdout",
     "output_type": "stream",
     "text": [
      "[val] acc : 0.848, loss : 0.825, f1 score: 1.000 -- size(60)\n",
      "best acc : 0.866, best loss : 0.645, best f1 : 1.000\n"
     ]
    },
    {
     "name": "stderr",
     "output_type": "stream",
     "text": [
      "\n"
     ]
    },
    {
     "name": "stdout",
     "output_type": "stream",
     "text": [
      "epoch[19/50] training loss 0.000, training accuracy 0.359\n"
     ]
    },
    {
     "name": "stderr",
     "output_type": "stream",
     "text": [
      "100%|██████████| 60/60 [00:18<00:00,  3.19it/s]"
     ]
    },
    {
     "name": "stdout",
     "output_type": "stream",
     "text": [
      "[val] acc : 0.846, loss : 0.800, f1 score: 1.000 -- size(60)\n",
      "best acc : 0.866, best loss : 0.645, best f1 : 1.000\n"
     ]
    },
    {
     "name": "stderr",
     "output_type": "stream",
     "text": [
      "\n"
     ]
    },
    {
     "name": "stdout",
     "output_type": "stream",
     "text": [
      "epoch[20/50] training loss 0.000, training accuracy 0.359\n"
     ]
    },
    {
     "name": "stderr",
     "output_type": "stream",
     "text": [
      "100%|██████████| 60/60 [00:16<00:00,  3.54it/s]"
     ]
    },
    {
     "name": "stdout",
     "output_type": "stream",
     "text": [
      "[val] acc : 0.863, loss : 0.734, f1 score: 1.000 -- size(60)\n",
      "best acc : 0.866, best loss : 0.645, best f1 : 1.000\n"
     ]
    },
    {
     "name": "stderr",
     "output_type": "stream",
     "text": [
      "\n"
     ]
    },
    {
     "name": "stdout",
     "output_type": "stream",
     "text": [
      "epoch[21/50] training loss 0.000, training accuracy 0.359\n"
     ]
    },
    {
     "name": "stderr",
     "output_type": "stream",
     "text": [
      "100%|██████████| 60/60 [00:17<00:00,  3.38it/s]"
     ]
    },
    {
     "name": "stdout",
     "output_type": "stream",
     "text": [
      "[val] acc : 0.882, loss : 0.640, f1 score: 1.000 -- size(60)\n",
      "best acc : 0.882, best loss : 0.640, best f1 : 1.000\n"
     ]
    },
    {
     "name": "stderr",
     "output_type": "stream",
     "text": [
      "\n"
     ]
    },
    {
     "name": "stdout",
     "output_type": "stream",
     "text": [
      "epoch[22/50] training loss 0.000, training accuracy 0.359\n"
     ]
    },
    {
     "name": "stderr",
     "output_type": "stream",
     "text": [
      "100%|██████████| 60/60 [00:16<00:00,  3.55it/s]"
     ]
    },
    {
     "name": "stdout",
     "output_type": "stream",
     "text": [
      "[val] acc : 0.881, loss : 0.649, f1 score: 1.000 -- size(60)\n",
      "best acc : 0.882, best loss : 0.640, best f1 : 1.000\n"
     ]
    },
    {
     "name": "stderr",
     "output_type": "stream",
     "text": [
      "\n"
     ]
    },
    {
     "name": "stdout",
     "output_type": "stream",
     "text": [
      "epoch[23/50] training loss 0.000, training accuracy 0.359\n"
     ]
    },
    {
     "name": "stderr",
     "output_type": "stream",
     "text": [
      "100%|██████████| 60/60 [00:17<00:00,  3.39it/s]"
     ]
    },
    {
     "name": "stdout",
     "output_type": "stream",
     "text": [
      "[val] acc : 0.881, loss : 0.655, f1 score: 1.000 -- size(60)\n",
      "best acc : 0.882, best loss : 0.640, best f1 : 1.000\n"
     ]
    },
    {
     "name": "stderr",
     "output_type": "stream",
     "text": [
      "\n"
     ]
    },
    {
     "name": "stdout",
     "output_type": "stream",
     "text": [
      "epoch[24/50] training loss 0.000, training accuracy 0.359\n"
     ]
    },
    {
     "name": "stderr",
     "output_type": "stream",
     "text": [
      "100%|██████████| 60/60 [00:17<00:00,  3.49it/s]"
     ]
    },
    {
     "name": "stdout",
     "output_type": "stream",
     "text": [
      "[val] acc : 0.890, loss : 0.594, f1 score: 1.000 -- size(60)\n",
      "best acc : 0.890, best loss : 0.594, best f1 : 1.000\n"
     ]
    },
    {
     "name": "stderr",
     "output_type": "stream",
     "text": [
      "\n"
     ]
    },
    {
     "name": "stdout",
     "output_type": "stream",
     "text": [
      "epoch[25/50] training loss 0.000, training accuracy 0.359\n"
     ]
    },
    {
     "name": "stderr",
     "output_type": "stream",
     "text": [
      "100%|██████████| 60/60 [00:17<00:00,  3.42it/s]"
     ]
    },
    {
     "name": "stdout",
     "output_type": "stream",
     "text": [
      "[val] acc : 0.890, loss : 0.594, f1 score: 1.000 -- size(60)\n",
      "best acc : 0.890, best loss : 0.594, best f1 : 1.000\n"
     ]
    },
    {
     "name": "stderr",
     "output_type": "stream",
     "text": [
      "\n"
     ]
    },
    {
     "name": "stdout",
     "output_type": "stream",
     "text": [
      "epoch[26/50] training loss 0.000, training accuracy 0.359\n"
     ]
    },
    {
     "name": "stderr",
     "output_type": "stream",
     "text": [
      "100%|██████████| 60/60 [00:15<00:00,  3.75it/s]"
     ]
    },
    {
     "name": "stdout",
     "output_type": "stream",
     "text": [
      "[val] acc : 0.891, loss : 0.595, f1 score: 1.000 -- size(60)\n",
      "best acc : 0.891, best loss : 0.594, best f1 : 1.000\n"
     ]
    },
    {
     "name": "stderr",
     "output_type": "stream",
     "text": [
      "\n"
     ]
    },
    {
     "name": "stdout",
     "output_type": "stream",
     "text": [
      "epoch[27/50] training loss 0.000, training accuracy 0.359\n"
     ]
    },
    {
     "name": "stderr",
     "output_type": "stream",
     "text": [
      "100%|██████████| 60/60 [00:17<00:00,  3.45it/s]"
     ]
    },
    {
     "name": "stdout",
     "output_type": "stream",
     "text": [
      "[val] acc : 0.891, loss : 0.598, f1 score: 1.000 -- size(60)\n",
      "best acc : 0.891, best loss : 0.594, best f1 : 1.000\n"
     ]
    },
    {
     "name": "stderr",
     "output_type": "stream",
     "text": [
      "\n"
     ]
    },
    {
     "name": "stdout",
     "output_type": "stream",
     "text": [
      "epoch[28/50] training loss 0.000, training accuracy 0.359\n"
     ]
    },
    {
     "name": "stderr",
     "output_type": "stream",
     "text": [
      "100%|██████████| 60/60 [00:16<00:00,  3.53it/s]"
     ]
    },
    {
     "name": "stdout",
     "output_type": "stream",
     "text": [
      "[val] acc : 0.891, loss : 0.600, f1 score: 1.000 -- size(60)\n",
      "best acc : 0.891, best loss : 0.594, best f1 : 1.000\n"
     ]
    },
    {
     "name": "stderr",
     "output_type": "stream",
     "text": [
      "\n"
     ]
    },
    {
     "name": "stdout",
     "output_type": "stream",
     "text": [
      "epoch[29/50] training loss 0.000, training accuracy 0.359\n"
     ]
    },
    {
     "name": "stderr",
     "output_type": "stream",
     "text": [
      "100%|██████████| 60/60 [00:18<00:00,  3.33it/s]"
     ]
    },
    {
     "name": "stdout",
     "output_type": "stream",
     "text": [
      "[val] acc : 0.890, loss : 0.602, f1 score: 1.000 -- size(60)\n",
      "best acc : 0.891, best loss : 0.594, best f1 : 1.000\n"
     ]
    },
    {
     "name": "stderr",
     "output_type": "stream",
     "text": [
      "\n"
     ]
    },
    {
     "name": "stdout",
     "output_type": "stream",
     "text": [
      "epoch[30/50] training loss 0.000, training accuracy 0.359\n"
     ]
    },
    {
     "name": "stderr",
     "output_type": "stream",
     "text": [
      "100%|██████████| 60/60 [00:17<00:00,  3.40it/s]"
     ]
    },
    {
     "name": "stdout",
     "output_type": "stream",
     "text": [
      "[val] acc : 0.890, loss : 0.605, f1 score: 1.000 -- size(60)\n",
      "best acc : 0.891, best loss : 0.594, best f1 : 1.000\n"
     ]
    },
    {
     "name": "stderr",
     "output_type": "stream",
     "text": [
      "\n"
     ]
    },
    {
     "name": "stdout",
     "output_type": "stream",
     "text": [
      "epoch[31/50] training loss 0.000, training accuracy 0.359\n"
     ]
    },
    {
     "name": "stderr",
     "output_type": "stream",
     "text": [
      "100%|██████████| 60/60 [00:18<00:00,  3.30it/s]"
     ]
    },
    {
     "name": "stdout",
     "output_type": "stream",
     "text": [
      "[val] acc : 0.890, loss : 0.607, f1 score: 1.000 -- size(60)\n",
      "best acc : 0.891, best loss : 0.594, best f1 : 1.000\n"
     ]
    },
    {
     "name": "stderr",
     "output_type": "stream",
     "text": [
      "\n"
     ]
    },
    {
     "name": "stdout",
     "output_type": "stream",
     "text": [
      "epoch[32/50] training loss 0.000, training accuracy 0.359\n"
     ]
    },
    {
     "name": "stderr",
     "output_type": "stream",
     "text": [
      "100%|██████████| 60/60 [00:16<00:00,  3.64it/s]"
     ]
    },
    {
     "name": "stdout",
     "output_type": "stream",
     "text": [
      "[val] acc : 0.890, loss : 0.609, f1 score: 1.000 -- size(60)\n",
      "best acc : 0.891, best loss : 0.594, best f1 : 1.000\n"
     ]
    },
    {
     "name": "stderr",
     "output_type": "stream",
     "text": [
      "\n"
     ]
    },
    {
     "name": "stdout",
     "output_type": "stream",
     "text": [
      "epoch[33/50] training loss 0.000, training accuracy 0.359\n"
     ]
    },
    {
     "name": "stderr",
     "output_type": "stream",
     "text": [
      "100%|██████████| 60/60 [00:17<00:00,  3.38it/s]"
     ]
    },
    {
     "name": "stdout",
     "output_type": "stream",
     "text": [
      "[val] acc : 0.890, loss : 0.612, f1 score: 1.000 -- size(60)\n",
      "best acc : 0.891, best loss : 0.594, best f1 : 1.000\n"
     ]
    },
    {
     "name": "stderr",
     "output_type": "stream",
     "text": [
      "\n"
     ]
    },
    {
     "name": "stdout",
     "output_type": "stream",
     "text": [
      "epoch[34/50] training loss 0.000, training accuracy 0.359\n"
     ]
    },
    {
     "name": "stderr",
     "output_type": "stream",
     "text": [
      "100%|██████████| 60/60 [00:17<00:00,  3.44it/s]"
     ]
    },
    {
     "name": "stdout",
     "output_type": "stream",
     "text": [
      "[val] acc : 0.891, loss : 0.614, f1 score: 1.000 -- size(60)\n",
      "best acc : 0.891, best loss : 0.594, best f1 : 1.000\n"
     ]
    },
    {
     "name": "stderr",
     "output_type": "stream",
     "text": [
      "\n"
     ]
    },
    {
     "name": "stdout",
     "output_type": "stream",
     "text": [
      "epoch[35/50] training loss 0.000, training accuracy 0.359\n"
     ]
    },
    {
     "name": "stderr",
     "output_type": "stream",
     "text": [
      "100%|██████████| 60/60 [00:17<00:00,  3.37it/s]"
     ]
    },
    {
     "name": "stdout",
     "output_type": "stream",
     "text": [
      "[val] acc : 0.890, loss : 0.617, f1 score: 1.000 -- size(60)\n",
      "best acc : 0.891, best loss : 0.594, best f1 : 1.000\n"
     ]
    },
    {
     "name": "stderr",
     "output_type": "stream",
     "text": [
      "\n"
     ]
    },
    {
     "name": "stdout",
     "output_type": "stream",
     "text": [
      "epoch[36/50] training loss 0.000, training accuracy 0.359\n"
     ]
    },
    {
     "name": "stderr",
     "output_type": "stream",
     "text": [
      "100%|██████████| 60/60 [00:18<00:00,  3.18it/s]"
     ]
    },
    {
     "name": "stdout",
     "output_type": "stream",
     "text": [
      "[val] acc : 0.891, loss : 0.619, f1 score: 1.000 -- size(60)\n",
      "best acc : 0.891, best loss : 0.594, best f1 : 1.000\n"
     ]
    },
    {
     "name": "stderr",
     "output_type": "stream",
     "text": [
      "\n"
     ]
    },
    {
     "name": "stdout",
     "output_type": "stream",
     "text": [
      "epoch[37/50] training loss 0.000, training accuracy 0.359\n"
     ]
    },
    {
     "name": "stderr",
     "output_type": "stream",
     "text": [
      "100%|██████████| 60/60 [00:17<00:00,  3.40it/s]"
     ]
    },
    {
     "name": "stdout",
     "output_type": "stream",
     "text": [
      "[val] acc : 0.892, loss : 0.622, f1 score: 1.000 -- size(60)\n",
      "best acc : 0.892, best loss : 0.594, best f1 : 1.000\n"
     ]
    },
    {
     "name": "stderr",
     "output_type": "stream",
     "text": [
      "\n"
     ]
    },
    {
     "name": "stdout",
     "output_type": "stream",
     "text": [
      "epoch[38/50] training loss 0.000, training accuracy 0.359\n"
     ]
    },
    {
     "name": "stderr",
     "output_type": "stream",
     "text": [
      "100%|██████████| 60/60 [00:17<00:00,  3.42it/s]"
     ]
    },
    {
     "name": "stdout",
     "output_type": "stream",
     "text": [
      "[val] acc : 0.892, loss : 0.624, f1 score: 1.000 -- size(60)\n",
      "best acc : 0.892, best loss : 0.594, best f1 : 1.000\n"
     ]
    },
    {
     "name": "stderr",
     "output_type": "stream",
     "text": [
      "\n"
     ]
    },
    {
     "name": "stdout",
     "output_type": "stream",
     "text": [
      "epoch[39/50] training loss 0.000, training accuracy 0.359\n"
     ]
    },
    {
     "name": "stderr",
     "output_type": "stream",
     "text": [
      "100%|██████████| 60/60 [00:16<00:00,  3.65it/s]"
     ]
    },
    {
     "name": "stdout",
     "output_type": "stream",
     "text": [
      "[val] acc : 0.892, loss : 0.626, f1 score: 1.000 -- size(60)\n",
      "best acc : 0.892, best loss : 0.594, best f1 : 1.000\n"
     ]
    },
    {
     "name": "stderr",
     "output_type": "stream",
     "text": [
      "\n"
     ]
    },
    {
     "name": "stdout",
     "output_type": "stream",
     "text": [
      "epoch[40/50] training loss 0.000, training accuracy 0.359\n"
     ]
    },
    {
     "name": "stderr",
     "output_type": "stream",
     "text": [
      "100%|██████████| 60/60 [00:17<00:00,  3.49it/s]"
     ]
    },
    {
     "name": "stdout",
     "output_type": "stream",
     "text": [
      "[val] acc : 0.892, loss : 0.629, f1 score: 1.000 -- size(60)\n",
      "best acc : 0.892, best loss : 0.594, best f1 : 1.000\n"
     ]
    },
    {
     "name": "stderr",
     "output_type": "stream",
     "text": [
      "\n"
     ]
    },
    {
     "name": "stdout",
     "output_type": "stream",
     "text": [
      "epoch[41/50] training loss 0.000, training accuracy 0.359\n"
     ]
    },
    {
     "name": "stderr",
     "output_type": "stream",
     "text": [
      "100%|██████████| 60/60 [00:17<00:00,  3.53it/s]"
     ]
    },
    {
     "name": "stdout",
     "output_type": "stream",
     "text": [
      "[val] acc : 0.892, loss : 0.631, f1 score: 1.000 -- size(60)\n",
      "best acc : 0.892, best loss : 0.594, best f1 : 1.000\n"
     ]
    },
    {
     "name": "stderr",
     "output_type": "stream",
     "text": [
      "\n"
     ]
    },
    {
     "name": "stdout",
     "output_type": "stream",
     "text": [
      "epoch[42/50] training loss 0.000, training accuracy 0.359\n"
     ]
    },
    {
     "name": "stderr",
     "output_type": "stream",
     "text": [
      "100%|██████████| 60/60 [00:19<00:00,  3.02it/s]"
     ]
    },
    {
     "name": "stdout",
     "output_type": "stream",
     "text": [
      "[val] acc : 0.893, loss : 0.634, f1 score: 1.000 -- size(60)\n",
      "best acc : 0.893, best loss : 0.594, best f1 : 1.000\n"
     ]
    },
    {
     "name": "stderr",
     "output_type": "stream",
     "text": [
      "\n"
     ]
    },
    {
     "name": "stdout",
     "output_type": "stream",
     "text": [
      "epoch[43/50] training loss 0.000, training accuracy 0.359\n"
     ]
    },
    {
     "name": "stderr",
     "output_type": "stream",
     "text": [
      "100%|██████████| 60/60 [00:18<00:00,  3.32it/s]"
     ]
    },
    {
     "name": "stdout",
     "output_type": "stream",
     "text": [
      "[val] acc : 0.892, loss : 0.636, f1 score: 1.000 -- size(60)\n",
      "best acc : 0.893, best loss : 0.594, best f1 : 1.000\n"
     ]
    },
    {
     "name": "stderr",
     "output_type": "stream",
     "text": [
      "\n"
     ]
    },
    {
     "name": "stdout",
     "output_type": "stream",
     "text": [
      "epoch[44/50] training loss 0.000, training accuracy 0.359\n"
     ]
    },
    {
     "name": "stderr",
     "output_type": "stream",
     "text": [
      "100%|██████████| 60/60 [00:19<00:00,  3.05it/s]"
     ]
    },
    {
     "name": "stdout",
     "output_type": "stream",
     "text": [
      "[val] acc : 0.892, loss : 0.639, f1 score: 1.000 -- size(60)\n",
      "best acc : 0.893, best loss : 0.594, best f1 : 1.000\n"
     ]
    },
    {
     "name": "stderr",
     "output_type": "stream",
     "text": [
      "\n"
     ]
    },
    {
     "name": "stdout",
     "output_type": "stream",
     "text": [
      "epoch[45/50] training loss 0.000, training accuracy 0.359\n"
     ]
    },
    {
     "name": "stderr",
     "output_type": "stream",
     "text": [
      "100%|██████████| 60/60 [00:19<00:00,  3.11it/s]"
     ]
    },
    {
     "name": "stdout",
     "output_type": "stream",
     "text": [
      "[val] acc : 0.892, loss : 0.641, f1 score: 1.000 -- size(60)\n",
      "best acc : 0.893, best loss : 0.594, best f1 : 1.000\n"
     ]
    },
    {
     "name": "stderr",
     "output_type": "stream",
     "text": [
      "\n"
     ]
    },
    {
     "name": "stdout",
     "output_type": "stream",
     "text": [
      "epoch[46/50] training loss 0.000, training accuracy 0.359\n"
     ]
    },
    {
     "name": "stderr",
     "output_type": "stream",
     "text": [
      "100%|██████████| 60/60 [00:16<00:00,  3.66it/s]"
     ]
    },
    {
     "name": "stdout",
     "output_type": "stream",
     "text": [
      "[val] acc : 0.893, loss : 0.644, f1 score: 1.000 -- size(60)\n",
      "best acc : 0.893, best loss : 0.594, best f1 : 1.000\n"
     ]
    },
    {
     "name": "stderr",
     "output_type": "stream",
     "text": [
      "\n"
     ]
    },
    {
     "name": "stdout",
     "output_type": "stream",
     "text": [
      "epoch[47/50] training loss 0.000, training accuracy 0.359\n"
     ]
    },
    {
     "name": "stderr",
     "output_type": "stream",
     "text": [
      "100%|██████████| 60/60 [00:16<00:00,  3.54it/s]"
     ]
    },
    {
     "name": "stdout",
     "output_type": "stream",
     "text": [
      "[val] acc : 0.892, loss : 0.647, f1 score: 1.000 -- size(60)\n",
      "best acc : 0.893, best loss : 0.594, best f1 : 1.000\n"
     ]
    },
    {
     "name": "stderr",
     "output_type": "stream",
     "text": [
      "\n"
     ]
    },
    {
     "name": "stdout",
     "output_type": "stream",
     "text": [
      "epoch[48/50] training loss 0.000, training accuracy 0.359\n"
     ]
    },
    {
     "name": "stderr",
     "output_type": "stream",
     "text": [
      "100%|██████████| 60/60 [00:17<00:00,  3.34it/s]"
     ]
    },
    {
     "name": "stdout",
     "output_type": "stream",
     "text": [
      "[val] acc : 0.892, loss : 0.649, f1 score: 1.000 -- size(60)\n",
      "best acc : 0.893, best loss : 0.594, best f1 : 1.000\n"
     ]
    },
    {
     "name": "stderr",
     "output_type": "stream",
     "text": [
      "\n"
     ]
    },
    {
     "name": "stdout",
     "output_type": "stream",
     "text": [
      "epoch[49/50] training loss 0.000, training accuracy 0.359\n"
     ]
    },
    {
     "name": "stderr",
     "output_type": "stream",
     "text": [
      "100%|██████████| 60/60 [00:18<00:00,  3.31it/s]"
     ]
    },
    {
     "name": "stdout",
     "output_type": "stream",
     "text": [
      "[val] acc : 0.892, loss : 0.652, f1 score: 1.000 -- size(60)\n",
      "best acc : 0.893, best loss : 0.594, best f1 : 1.000\n"
     ]
    },
    {
     "name": "stderr",
     "output_type": "stream",
     "text": [
      "\n"
     ]
    }
   ],
   "source": [
    "best_val_acc = 0\n",
    "best_val_loss = np.inf\n",
    "patience = 10\n",
    "cur_count = 0\n",
    "\n",
    "f1 = F1Score(num_classes=class_num, average='macro').to(device)\n",
    "best_f1_score = 0\n",
    "\n",
    "import matplotlib.pyplot as plt\n",
    "\n",
    "for epoch in range(NUM_EPOCH):\n",
    "    model.train()\n",
    "    loss_value = 0\n",
    "    matches = 0\n",
    "    for train_batch in train_dataloader_mask:\n",
    "        \n",
    "        inputs, labels = train_batch\n",
    "        \n",
    "        \n",
    "#         plt.imshow(transforms.ToPILImage()(inputs[0]))\n",
    "#         plt.show()\n",
    "#         continue\n",
    "        \n",
    "        inputs = inputs.to(device)\n",
    "        labels = labels.to(device)\n",
    "        \n",
    "        outs = model(inputs)\n",
    "        preds = torch.argmax(outs, dim=-1)\n",
    "        loss = criterion(outs, labels)\n",
    "        \n",
    "        optimizer.zero_grad()\n",
    "        loss.backward()\n",
    "        optimizer.step()\n",
    "        \n",
    "        if epoch % 5 == 0:\n",
    "            torch.save(model, '../checkpoint/resnet50_detection/checkpoint_ep_%d.pth'% epoch)\n",
    "        \n",
    "        loss_value += loss.item()\n",
    "        matches += (preds == labels).sum().item()\n",
    "        \n",
    "        train_loss = loss_value / batch_size\n",
    "        train_acc = matches / batch_size\n",
    "        \n",
    "        loss_value = 0\n",
    "        matches = 0\n",
    "    print(f\"epoch[{epoch}/{NUM_EPOCH}] training loss {train_loss:.3f}, training accuracy {train_acc:.3f}\")\n",
    "    time.sleep(0.5)\n",
    "    \n",
    "    with torch.no_grad():\n",
    "        model.eval()\n",
    "        val_loss_items = []\n",
    "        val_acc_items = []\n",
    "        for val_batch in tqdm(val_dataloader_mask):\n",
    "            inputs, labels = val_batch\n",
    "            inputs = inputs.to(device)\n",
    "            labels = labels.to(device)\n",
    "            \n",
    "            outs = model(inputs)\n",
    "            preds = torch.argmax(outs, dim=-1)\n",
    "            \n",
    "            loss_item = criterion(outs, labels).item()\n",
    "            acc_item = (labels==preds).sum().item()\n",
    "            val_loss_items.append(loss_item)\n",
    "            val_acc_items.append(acc_item)\n",
    "            \n",
    "        val_loss = np.sum(val_loss_items) / len(val_dataloader_mask)\n",
    "        val_acc = np.sum(val_acc_items) / len(mask_val_set)\n",
    "\n",
    "        f1_score = f1(outs, labels)\n",
    "        \n",
    "        if val_loss < best_val_loss:\n",
    "            best_val_loss = val_loss\n",
    "            \n",
    "        if val_acc > best_val_acc:\n",
    "            best_val_acc = val_acc\n",
    "            \n",
    "        if f1_score > best_f1_score:\n",
    "            best_f1_score = f1_score\n",
    "            cur_count = 0\n",
    "            torch.save(model, '../checkpoint/resnet50_detection/checkpoint_best.pth')\n",
    "            print(\"Update checkpoint!!!\")\n",
    "        \n",
    "        else:\n",
    "            cur_count += 1\n",
    "            if cur_count >= patience:\n",
    "                print(\"Early Stopping!\")\n",
    "                break\n",
    "            \n",
    "            \n",
    "        print(f\"[val] acc : {val_acc:.3f}, loss : {val_loss:.3f}, f1 score: {f1_score:.3f} -- size({len(val_dataloader_mask)})\")\n",
    "        print(f\"best acc : {best_val_acc:.3f}, best loss : {best_val_loss:.3f}, best f1 : {best_f1_score:.3f}\")"
   ]
  },
  {
   "cell_type": "code",
   "execution_count": 34,
   "id": "a676651f-ad8d-478e-99af-b5c310bba953",
   "metadata": {},
   "outputs": [
    {
     "data": {
      "image/png": "[encoded data removed]",
      "text/plain": [
       "<Figure size 432x288 with 1 Axes>"
      ]
     },
     "metadata": {
      "needs_background": "light"
     },
     "output_type": "display_data"
    }
   ],
   "source": [
    "for train_batch in train_dataloader_mask:\n",
    "    inputs, labels = train_batch\n",
    "    plt.imshow(transforms.ToPILImage()(inputs[0]))\n",
    "    plt.show()\n",
    "    break"
   ]
  },
  {
   "cell_type": "code",
   "execution_count": 35,
   "id": "b944a537-942e-4095-b800-57d829b2cb16",
   "metadata": {},
   "outputs": [
    {
     "data": {
      "image/png": "[encoded data removed]",
      "text/plain": [
       "<Figure size 432x288 with 1 Axes>"
      ]
     },
     "metadata": {
      "needs_background": "light"
     },
     "output_type": "display_data"
    }
   ],
   "source": [
    "for val_batch in val_dataloader_mask:\n",
    "    inputs, labels = val_batch\n",
    "    plt.imshow(transforms.ToPILImage()(inputs[0]))\n",
    "    plt.show()\n",
    "    break"
   ]
  },
  {
   "cell_type": "code",
   "execution_count": null,
   "id": "5ed254fc-d6d9-487a-907d-ad25c16cef09",
   "metadata": {},
   "outputs": [],
   "source": []
  }
 ],
 "metadata": {
  "kernelspec": {
   "display_name": "Python 3 (ipykernel)",
   "language": "python",
   "name": "python3"
  },
  "language_info": {
   "codemirror_mode": {
    "name": "ipython",
    "version": 3
   },
   "file_extension": ".py",
   "mimetype": "text/x-python",
   "name": "python",
   "nbconvert_exporter": "python",
   "pygments_lexer": "ipython3",
   "version": "3.8.5"
  },
  "vscode": {
   "interpreter": {
    "hash": "31f2aee4e71d21fbe5cf8b01ff0e069b9275f58929596ceb00d14d90e3e16cd6"
   }
  }
 },
 "nbformat": 4,
 "nbformat_minor": 5
}
