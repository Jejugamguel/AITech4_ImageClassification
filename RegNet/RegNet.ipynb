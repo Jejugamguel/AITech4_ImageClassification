{
 "cells": [
  {
   "cell_type": "code",
   "execution_count": 1,
   "id": "1531288b-3caa-4cb1-b15c-7334747a5a9f",
   "metadata": {},
   "outputs": [],
   "source": [
    "import torch, gc\n",
    "gc.collect()\n",
    "torch.cuda.empty_cache()"
   ]
  },
  {
   "cell_type": "code",
   "execution_count": 2,
   "id": "69bc6ad5-8c6e-47b0-b625-46f66dc71d30",
   "metadata": {},
   "outputs": [
    {
     "name": "stdout",
     "output_type": "stream",
     "text": [
      "| ID | GPU | MEM |\n",
      "------------------\n",
      "|  0 |  0% |  0% |\n"
     ]
    }
   ],
   "source": [
    "import GPUtil\n",
    "GPUtil.showUtilization()"
   ]
  },
  {
   "cell_type": "code",
   "execution_count": 3,
   "id": "0b1d65a3-78de-4b01-a862-e6bd4c7ef135",
   "metadata": {},
   "outputs": [],
   "source": [
    "import torch\n",
    "import torch.nn as nn\n",
    "import torchvision\n",
    "from torchvision import transforms\n",
    "from torch.utils.data import Dataset, DataLoader\n",
    "from sklearn.model_selection import train_test_split\n",
    "\n",
    "import numpy as np\n",
    "import pandas as pd\n",
    "import cv2\n",
    "from PIL import Image\n",
    "import matplotlib.pyplot as plt\n",
    "from tqdm.notebook import tqdm\n",
    "import random\n",
    "import os\n",
    "from torchmetrics import F1Score"
   ]
  },
  {
   "cell_type": "code",
   "execution_count": 4,
   "id": "8e35b9f5-0e2b-49cb-a97c-d9873b5b7fc9",
   "metadata": {},
   "outputs": [
    {
     "data": {
      "text/plain": [
       "'1.13.0+cu117'"
      ]
     },
     "execution_count": 4,
     "metadata": {},
     "output_type": "execute_result"
    }
   ],
   "source": [
    "torch.__version__"
   ]
  },
  {
   "cell_type": "code",
   "execution_count": 5,
   "id": "d15beaba-39cc-48da-8165-9f2abc16322a",
   "metadata": {},
   "outputs": [
    {
     "data": {
      "text/plain": [
       "'/opt/ml/input/data'"
      ]
     },
     "execution_count": 5,
     "metadata": {},
     "output_type": "execute_result"
    }
   ],
   "source": [
    "os.chdir('input/data')\n",
    "os.getcwd()"
   ]
  },
  {
   "cell_type": "code",
   "execution_count": 6,
   "id": "2b3beb99-f9c7-4026-989a-cbaa8de1f632",
   "metadata": {},
   "outputs": [],
   "source": [
    "!find . -regex \".*\\.\\_[a-zA-Z0-9._]+\" -delete"
   ]
  },
  {
   "cell_type": "code",
   "execution_count": 4,
   "id": "fa8d19de-5a8e-454f-a22b-129e94792395",
   "metadata": {},
   "outputs": [],
   "source": [
    "random_seed = 12\n",
    "torch.manual_seed(random_seed)\n",
    "torch.cuda.manual_seed(random_seed)\n",
    "torch.cuda.manual_seed_all(random_seed) # if use multi-GPU\n",
    "torch.backends.cudnn.deterministic = True\n",
    "torch.backends.cudnn.benchmark = False\n",
    "np.random.seed(random_seed)\n",
    "random.seed(random_seed)"
   ]
  },
  {
   "cell_type": "code",
   "execution_count": 5,
   "id": "6f69f93c-5675-433f-8a88-7bf8e411d51c",
   "metadata": {},
   "outputs": [
    {
     "data": {
      "text/html": [
       "<div>\n",
       "<style scoped>\n",
       "    .dataframe tbody tr th:only-of-type {\n",
       "        vertical-align: middle;\n",
       "    }\n",
       "\n",
       "    .dataframe tbody tr th {\n",
       "        vertical-align: top;\n",
       "    }\n",
       "\n",
       "    .dataframe thead th {\n",
       "        text-align: right;\n",
       "    }\n",
       "</style>\n",
       "<table border=\"1\" class=\"dataframe\">\n",
       "  <thead>\n",
       "    <tr style=\"text-align: right;\">\n",
       "      <th></th>\n",
       "      <th>id</th>\n",
       "      <th>gender</th>\n",
       "      <th>race</th>\n",
       "      <th>age</th>\n",
       "      <th>path</th>\n",
       "    </tr>\n",
       "  </thead>\n",
       "  <tbody>\n",
       "    <tr>\n",
       "      <th>0</th>\n",
       "      <td>000001</td>\n",
       "      <td>female</td>\n",
       "      <td>Asian</td>\n",
       "      <td>45</td>\n",
       "      <td>000001_female_Asian_45</td>\n",
       "    </tr>\n",
       "    <tr>\n",
       "      <th>1</th>\n",
       "      <td>000002</td>\n",
       "      <td>female</td>\n",
       "      <td>Asian</td>\n",
       "      <td>52</td>\n",
       "      <td>000002_female_Asian_52</td>\n",
       "    </tr>\n",
       "    <tr>\n",
       "      <th>2</th>\n",
       "      <td>000004</td>\n",
       "      <td>male</td>\n",
       "      <td>Asian</td>\n",
       "      <td>54</td>\n",
       "      <td>000004_male_Asian_54</td>\n",
       "    </tr>\n",
       "    <tr>\n",
       "      <th>3</th>\n",
       "      <td>000005</td>\n",
       "      <td>female</td>\n",
       "      <td>Asian</td>\n",
       "      <td>58</td>\n",
       "      <td>000005_female_Asian_58</td>\n",
       "    </tr>\n",
       "    <tr>\n",
       "      <th>4</th>\n",
       "      <td>000006</td>\n",
       "      <td>female</td>\n",
       "      <td>Asian</td>\n",
       "      <td>59</td>\n",
       "      <td>000006_female_Asian_59</td>\n",
       "    </tr>\n",
       "    <tr>\n",
       "      <th>...</th>\n",
       "      <td>...</td>\n",
       "      <td>...</td>\n",
       "      <td>...</td>\n",
       "      <td>...</td>\n",
       "      <td>...</td>\n",
       "    </tr>\n",
       "    <tr>\n",
       "      <th>2695</th>\n",
       "      <td>006954</td>\n",
       "      <td>male</td>\n",
       "      <td>Asian</td>\n",
       "      <td>19</td>\n",
       "      <td>006954_male_Asian_19</td>\n",
       "    </tr>\n",
       "    <tr>\n",
       "      <th>2696</th>\n",
       "      <td>006955</td>\n",
       "      <td>male</td>\n",
       "      <td>Asian</td>\n",
       "      <td>19</td>\n",
       "      <td>006955_male_Asian_19</td>\n",
       "    </tr>\n",
       "    <tr>\n",
       "      <th>2697</th>\n",
       "      <td>006956</td>\n",
       "      <td>male</td>\n",
       "      <td>Asian</td>\n",
       "      <td>19</td>\n",
       "      <td>006956_male_Asian_19</td>\n",
       "    </tr>\n",
       "    <tr>\n",
       "      <th>2698</th>\n",
       "      <td>006957</td>\n",
       "      <td>male</td>\n",
       "      <td>Asian</td>\n",
       "      <td>20</td>\n",
       "      <td>006957_male_Asian_20</td>\n",
       "    </tr>\n",
       "    <tr>\n",
       "      <th>2699</th>\n",
       "      <td>006959</td>\n",
       "      <td>male</td>\n",
       "      <td>Asian</td>\n",
       "      <td>19</td>\n",
       "      <td>006959_male_Asian_19</td>\n",
       "    </tr>\n",
       "  </tbody>\n",
       "</table>\n",
       "<p>2700 rows × 5 columns</p>\n",
       "</div>"
      ],
      "text/plain": [
       "          id  gender   race  age                    path\n",
       "0     000001  female  Asian   45  000001_female_Asian_45\n",
       "1     000002  female  Asian   52  000002_female_Asian_52\n",
       "2     000004    male  Asian   54    000004_male_Asian_54\n",
       "3     000005  female  Asian   58  000005_female_Asian_58\n",
       "4     000006  female  Asian   59  000006_female_Asian_59\n",
       "...      ...     ...    ...  ...                     ...\n",
       "2695  006954    male  Asian   19    006954_male_Asian_19\n",
       "2696  006955    male  Asian   19    006955_male_Asian_19\n",
       "2697  006956    male  Asian   19    006956_male_Asian_19\n",
       "2698  006957    male  Asian   20    006957_male_Asian_20\n",
       "2699  006959    male  Asian   19    006959_male_Asian_19\n",
       "\n",
       "[2700 rows x 5 columns]"
      ]
     },
     "execution_count": 5,
     "metadata": {},
     "output_type": "execute_result"
    }
   ],
   "source": [
    "train_dir_path = '/opt/ml/input/data/train/'\n",
    "train_image_path = '/opt/ml/input/data/train/images/'\n",
    "\n",
    "dt_train = pd.read_csv(train_dir_path+'train.csv')\n",
    "dt_train"
   ]
  },
  {
   "cell_type": "code",
   "execution_count": 6,
   "id": "e02f6e90-56db-4610-84c0-bd91ce51b7ab",
   "metadata": {},
   "outputs": [],
   "source": [
    "def get_age_range(age):\n",
    "    if age < 30:\n",
    "        return 0\n",
    "    elif 30 <= age < 60:\n",
    "        return 1\n",
    "    else:\n",
    "        return 2"
   ]
  },
  {
   "cell_type": "code",
   "execution_count": 7,
   "id": "a727ed75-06f7-4828-be29-55e7cbdddfcc",
   "metadata": {},
   "outputs": [],
   "source": [
    "dt_train['age_range'] = dt_train['age'].apply(lambda x : get_age_range(x))"
   ]
  },
  {
   "cell_type": "code",
   "execution_count": 8,
   "id": "053dd987-184c-4528-97c0-954a568e626c",
   "metadata": {},
   "outputs": [
    {
     "data": {
      "text/html": [
       "<div>\n",
       "<style scoped>\n",
       "    .dataframe tbody tr th:only-of-type {\n",
       "        vertical-align: middle;\n",
       "    }\n",
       "\n",
       "    .dataframe tbody tr th {\n",
       "        vertical-align: top;\n",
       "    }\n",
       "\n",
       "    .dataframe thead th {\n",
       "        text-align: right;\n",
       "    }\n",
       "</style>\n",
       "<table border=\"1\" class=\"dataframe\">\n",
       "  <thead>\n",
       "    <tr style=\"text-align: right;\">\n",
       "      <th></th>\n",
       "      <th>id</th>\n",
       "      <th>gender</th>\n",
       "      <th>race</th>\n",
       "      <th>age</th>\n",
       "      <th>path</th>\n",
       "      <th>age_range</th>\n",
       "    </tr>\n",
       "  </thead>\n",
       "  <tbody>\n",
       "    <tr>\n",
       "      <th>0</th>\n",
       "      <td>000001</td>\n",
       "      <td>female</td>\n",
       "      <td>Asian</td>\n",
       "      <td>45</td>\n",
       "      <td>000001_female_Asian_45</td>\n",
       "      <td>1</td>\n",
       "    </tr>\n",
       "    <tr>\n",
       "      <th>1</th>\n",
       "      <td>000002</td>\n",
       "      <td>female</td>\n",
       "      <td>Asian</td>\n",
       "      <td>52</td>\n",
       "      <td>000002_female_Asian_52</td>\n",
       "      <td>1</td>\n",
       "    </tr>\n",
       "    <tr>\n",
       "      <th>2</th>\n",
       "      <td>000004</td>\n",
       "      <td>male</td>\n",
       "      <td>Asian</td>\n",
       "      <td>54</td>\n",
       "      <td>000004_male_Asian_54</td>\n",
       "      <td>1</td>\n",
       "    </tr>\n",
       "    <tr>\n",
       "      <th>3</th>\n",
       "      <td>000005</td>\n",
       "      <td>female</td>\n",
       "      <td>Asian</td>\n",
       "      <td>58</td>\n",
       "      <td>000005_female_Asian_58</td>\n",
       "      <td>1</td>\n",
       "    </tr>\n",
       "    <tr>\n",
       "      <th>4</th>\n",
       "      <td>000006</td>\n",
       "      <td>female</td>\n",
       "      <td>Asian</td>\n",
       "      <td>59</td>\n",
       "      <td>000006_female_Asian_59</td>\n",
       "      <td>1</td>\n",
       "    </tr>\n",
       "    <tr>\n",
       "      <th>...</th>\n",
       "      <td>...</td>\n",
       "      <td>...</td>\n",
       "      <td>...</td>\n",
       "      <td>...</td>\n",
       "      <td>...</td>\n",
       "      <td>...</td>\n",
       "    </tr>\n",
       "    <tr>\n",
       "      <th>2695</th>\n",
       "      <td>006954</td>\n",
       "      <td>male</td>\n",
       "      <td>Asian</td>\n",
       "      <td>19</td>\n",
       "      <td>006954_male_Asian_19</td>\n",
       "      <td>0</td>\n",
       "    </tr>\n",
       "    <tr>\n",
       "      <th>2696</th>\n",
       "      <td>006955</td>\n",
       "      <td>male</td>\n",
       "      <td>Asian</td>\n",
       "      <td>19</td>\n",
       "      <td>006955_male_Asian_19</td>\n",
       "      <td>0</td>\n",
       "    </tr>\n",
       "    <tr>\n",
       "      <th>2697</th>\n",
       "      <td>006956</td>\n",
       "      <td>male</td>\n",
       "      <td>Asian</td>\n",
       "      <td>19</td>\n",
       "      <td>006956_male_Asian_19</td>\n",
       "      <td>0</td>\n",
       "    </tr>\n",
       "    <tr>\n",
       "      <th>2698</th>\n",
       "      <td>006957</td>\n",
       "      <td>male</td>\n",
       "      <td>Asian</td>\n",
       "      <td>20</td>\n",
       "      <td>006957_male_Asian_20</td>\n",
       "      <td>0</td>\n",
       "    </tr>\n",
       "    <tr>\n",
       "      <th>2699</th>\n",
       "      <td>006959</td>\n",
       "      <td>male</td>\n",
       "      <td>Asian</td>\n",
       "      <td>19</td>\n",
       "      <td>006959_male_Asian_19</td>\n",
       "      <td>0</td>\n",
       "    </tr>\n",
       "  </tbody>\n",
       "</table>\n",
       "<p>2700 rows × 6 columns</p>\n",
       "</div>"
      ],
      "text/plain": [
       "          id  gender   race  age                    path  age_range\n",
       "0     000001  female  Asian   45  000001_female_Asian_45          1\n",
       "1     000002  female  Asian   52  000002_female_Asian_52          1\n",
       "2     000004    male  Asian   54    000004_male_Asian_54          1\n",
       "3     000005  female  Asian   58  000005_female_Asian_58          1\n",
       "4     000006  female  Asian   59  000006_female_Asian_59          1\n",
       "...      ...     ...    ...  ...                     ...        ...\n",
       "2695  006954    male  Asian   19    006954_male_Asian_19          0\n",
       "2696  006955    male  Asian   19    006955_male_Asian_19          0\n",
       "2697  006956    male  Asian   19    006956_male_Asian_19          0\n",
       "2698  006957    male  Asian   20    006957_male_Asian_20          0\n",
       "2699  006959    male  Asian   19    006959_male_Asian_19          0\n",
       "\n",
       "[2700 rows x 6 columns]"
      ]
     },
     "execution_count": 8,
     "metadata": {},
     "output_type": "execute_result"
    }
   ],
   "source": [
    "dt_train"
   ]
  },
  {
   "cell_type": "code",
   "execution_count": 9,
   "id": "2e1db9ec-22a0-4b6a-a099-346389defb1c",
   "metadata": {},
   "outputs": [],
   "source": [
    "train_idx, valid_idx = train_test_split(np.arange(len(dt_train)),\n",
    "                                       test_size=0.2,\n",
    "                                       shuffle=True,\n",
    "                                       stratify=dt_train['age_range'])"
   ]
  },
  {
   "cell_type": "code",
   "execution_count": 10,
   "id": "5b99a768-861d-43ad-ab2d-d62ac76311d6",
   "metadata": {},
   "outputs": [],
   "source": [
    "train_image = []\n",
    "train_label = []\n",
    "\n",
    "for idx in train_idx:\n",
    "    path = dt_train.iloc[idx]['path']\n",
    "    for file_name in [i for i in os.listdir(train_image_path+path) if i[0] != '.']:\n",
    "        train_image.append(train_image_path+path+'/'+file_name)\n",
    "        train_label.append((path.split('_')[1], path.split('_')[3], file_name.split('.')[0]))                            "
   ]
  },
  {
   "cell_type": "code",
   "execution_count": 11,
   "id": "ef44b512-3028-4fca-b4d9-edceabd7d2d9",
   "metadata": {},
   "outputs": [],
   "source": [
    "valid_image = []\n",
    "valid_label = []\n",
    "\n",
    "for idx in valid_idx:\n",
    "    path = dt_train.iloc[idx]['path']\n",
    "    for file_name in [i for i in os.listdir(train_image_path+path) if i[0] != '.']:\n",
    "        valid_image.append(train_image_path+path+'/'+file_name)\n",
    "        valid_label.append((path.split('_')[1], path.split('_')[3], file_name.split('.')[0]))              "
   ]
  },
  {
   "cell_type": "code",
   "execution_count": 12,
   "id": "98de1eb4-55d4-41ba-8541-70fff9bb011e",
   "metadata": {},
   "outputs": [],
   "source": [
    "def onehot_enc(x):\n",
    "    def gender(i):\n",
    "        if i == 'male':\n",
    "            return 0\n",
    "        elif i == 'female':\n",
    "            return 3\n",
    "    def age(j):\n",
    "        j = int(j)\n",
    "        if j < 30:\n",
    "            return 0\n",
    "        elif j >= 30 and j < 60:\n",
    "            return 1\n",
    "        elif j >= 60:\n",
    "            return 2\n",
    "    def mask(k):\n",
    "        if k == 'normal':\n",
    "            return 12\n",
    "        elif 'incorrect' in k:\n",
    "            return 6\n",
    "        else:\n",
    "            return 0\n",
    "    return gender(x[0]) + age(x[1]) + mask(x[2])"
   ]
  },
  {
   "cell_type": "code",
   "execution_count": 13,
   "id": "694474c7-7175-40e6-b071-e50218629f1a",
   "metadata": {},
   "outputs": [],
   "source": [
    "train_data = pd.Series(train_image)\n",
    "train_label = pd.Series(train_label)\n",
    "\n",
    "valid_data = pd.Series(valid_image)\n",
    "valid_label = pd.Series(valid_label)"
   ]
  },
  {
   "cell_type": "code",
   "execution_count": 14,
   "id": "e2cd7b29-5f03-444e-b781-902ca74f2085",
   "metadata": {},
   "outputs": [],
   "source": [
    "class Dataset_Mask(Dataset):\n",
    "    def __init__(self, data, label, encoding=True, midcrop=True, transform1=None, transform2=None):\n",
    "        self.encoding = encoding\n",
    "        self.midcrop = midcrop\n",
    "        self.data = data\n",
    "        self.label = label\n",
    "        self.transform1 = transform1\n",
    "        self.transform2 = transform2\n",
    "        \n",
    "        if encoding:\n",
    "            self.label = self.label.apply(onehot_enc)\n",
    "        \n",
    "    def __len__(self):\n",
    "        return len(self.data)\n",
    "    \n",
    "    def __getitem__(self, idx):\n",
    "        X = cv2.cvtColor(cv2.imread(self.data[idx]), cv2.COLOR_BGR2RGB)\n",
    "        y = self.label[idx]\n",
    "        \n",
    "        if self.midcrop:\n",
    "            X = X[70:420, 17:367]\n",
    "        \n",
    "        if y % 3 == 2:\n",
    "            return self.transform2(X), y\n",
    "        else:\n",
    "            return self.transform1(X), y"
   ]
  },
  {
   "cell_type": "code",
   "execution_count": 15,
   "id": "c3726edd-b228-4850-9ecf-99f9efbb2558",
   "metadata": {},
   "outputs": [],
   "source": [
    "transform1 = transforms.Compose([\n",
    "    transforms.ToPILImage(),\n",
    "    transforms.ToTensor(),\n",
    "    transforms.Normalize(mean=(0.485, 0.456, 0.406), std=(0.229, 0.224, 0.225)),\n",
    "])\n",
    "transform2 = transforms.Compose([\n",
    "    transforms.ToPILImage(),\n",
    "    transforms.RandomHorizontalFlip(), \n",
    "    transforms.ToTensor(),\n",
    "    transforms.Normalize(mean=(0.485, 0.456, 0.406), std=(0.229, 0.224, 0.225)),\n",
    "])"
   ]
  },
  {
   "cell_type": "code",
   "execution_count": 16,
   "id": "e2a22aff-e634-4f15-877c-752d450d01da",
   "metadata": {},
   "outputs": [],
   "source": [
    "mask_train_set = Dataset_Mask(data=train_data, label=train_label, transform1=transform1, transform2=transform2)\n",
    "mask_val_set = Dataset_Mask(data=valid_data, label=valid_label, transform1=transform1, transform2=transform1)"
   ]
  },
  {
   "cell_type": "code",
   "execution_count": 17,
   "id": "37b1ced0-1e34-4d50-b2b2-dcdff8fd33f4",
   "metadata": {},
   "outputs": [],
   "source": [
    "batch_size = 32\n",
    "train_dataloader_mask = DataLoader(dataset = mask_train_set, batch_size=batch_size, shuffle=True, num_workers=2)\n",
    "val_dataloader_mask = DataLoader(dataset = mask_val_set, batch_size=batch_size, shuffle=True, num_workers=2)"
   ]
  },
  {
   "cell_type": "code",
   "execution_count": 21,
   "id": "af71a4ef-a137-47b0-af94-eebedaa36014",
   "metadata": {},
   "outputs": [
    {
     "data": {
      "text/plain": [
       "RegNet(\n",
       "  (stem): SimpleStemIN(\n",
       "    (0): Conv2d(3, 32, kernel_size=(3, 3), stride=(2, 2), padding=(1, 1), bias=False)\n",
       "    (1): BatchNorm2d(32, eps=1e-05, momentum=0.1, affine=True, track_running_stats=True)\n",
       "    (2): ReLU(inplace=True)\n",
       "  )\n",
       "  (trunk_output): Sequential(\n",
       "    (block1): AnyStage(\n",
       "      (block1-0): ResBottleneckBlock(\n",
       "        (proj): Conv2dNormActivation(\n",
       "          (0): Conv2d(32, 224, kernel_size=(1, 1), stride=(2, 2), bias=False)\n",
       "          (1): BatchNorm2d(224, eps=1e-05, momentum=0.1, affine=True, track_running_stats=True)\n",
       "        )\n",
       "        (f): BottleneckTransform(\n",
       "          (a): Conv2dNormActivation(\n",
       "            (0): Conv2d(32, 224, kernel_size=(1, 1), stride=(1, 1), bias=False)\n",
       "            (1): BatchNorm2d(224, eps=1e-05, momentum=0.1, affine=True, track_running_stats=True)\n",
       "            (2): ReLU(inplace=True)\n",
       "          )\n",
       "          (b): Conv2dNormActivation(\n",
       "            (0): Conv2d(224, 224, kernel_size=(3, 3), stride=(2, 2), padding=(1, 1), groups=2, bias=False)\n",
       "            (1): BatchNorm2d(224, eps=1e-05, momentum=0.1, affine=True, track_running_stats=True)\n",
       "            (2): ReLU(inplace=True)\n",
       "          )\n",
       "          (se): SqueezeExcitation(\n",
       "            (avgpool): AdaptiveAvgPool2d(output_size=1)\n",
       "            (fc1): Conv2d(224, 8, kernel_size=(1, 1), stride=(1, 1))\n",
       "            (fc2): Conv2d(8, 224, kernel_size=(1, 1), stride=(1, 1))\n",
       "            (activation): ReLU()\n",
       "            (scale_activation): Sigmoid()\n",
       "          )\n",
       "          (c): Conv2dNormActivation(\n",
       "            (0): Conv2d(224, 224, kernel_size=(1, 1), stride=(1, 1), bias=False)\n",
       "            (1): BatchNorm2d(224, eps=1e-05, momentum=0.1, affine=True, track_running_stats=True)\n",
       "          )\n",
       "        )\n",
       "        (activation): ReLU(inplace=True)\n",
       "      )\n",
       "      (block1-1): ResBottleneckBlock(\n",
       "        (f): BottleneckTransform(\n",
       "          (a): Conv2dNormActivation(\n",
       "            (0): Conv2d(224, 224, kernel_size=(1, 1), stride=(1, 1), bias=False)\n",
       "            (1): BatchNorm2d(224, eps=1e-05, momentum=0.1, affine=True, track_running_stats=True)\n",
       "            (2): ReLU(inplace=True)\n",
       "          )\n",
       "          (b): Conv2dNormActivation(\n",
       "            (0): Conv2d(224, 224, kernel_size=(3, 3), stride=(1, 1), padding=(1, 1), groups=2, bias=False)\n",
       "            (1): BatchNorm2d(224, eps=1e-05, momentum=0.1, affine=True, track_running_stats=True)\n",
       "            (2): ReLU(inplace=True)\n",
       "          )\n",
       "          (se): SqueezeExcitation(\n",
       "            (avgpool): AdaptiveAvgPool2d(output_size=1)\n",
       "            (fc1): Conv2d(224, 56, kernel_size=(1, 1), stride=(1, 1))\n",
       "            (fc2): Conv2d(56, 224, kernel_size=(1, 1), stride=(1, 1))\n",
       "            (activation): ReLU()\n",
       "            (scale_activation): Sigmoid()\n",
       "          )\n",
       "          (c): Conv2dNormActivation(\n",
       "            (0): Conv2d(224, 224, kernel_size=(1, 1), stride=(1, 1), bias=False)\n",
       "            (1): BatchNorm2d(224, eps=1e-05, momentum=0.1, affine=True, track_running_stats=True)\n",
       "          )\n",
       "        )\n",
       "        (activation): ReLU(inplace=True)\n",
       "      )\n",
       "    )\n",
       "    (block2): AnyStage(\n",
       "      (block2-0): ResBottleneckBlock(\n",
       "        (proj): Conv2dNormActivation(\n",
       "          (0): Conv2d(224, 448, kernel_size=(1, 1), stride=(2, 2), bias=False)\n",
       "          (1): BatchNorm2d(448, eps=1e-05, momentum=0.1, affine=True, track_running_stats=True)\n",
       "        )\n",
       "        (f): BottleneckTransform(\n",
       "          (a): Conv2dNormActivation(\n",
       "            (0): Conv2d(224, 448, kernel_size=(1, 1), stride=(1, 1), bias=False)\n",
       "            (1): BatchNorm2d(448, eps=1e-05, momentum=0.1, affine=True, track_running_stats=True)\n",
       "            (2): ReLU(inplace=True)\n",
       "          )\n",
       "          (b): Conv2dNormActivation(\n",
       "            (0): Conv2d(448, 448, kernel_size=(3, 3), stride=(2, 2), padding=(1, 1), groups=4, bias=False)\n",
       "            (1): BatchNorm2d(448, eps=1e-05, momentum=0.1, affine=True, track_running_stats=True)\n",
       "            (2): ReLU(inplace=True)\n",
       "          )\n",
       "          (se): SqueezeExcitation(\n",
       "            (avgpool): AdaptiveAvgPool2d(output_size=1)\n",
       "            (fc1): Conv2d(448, 56, kernel_size=(1, 1), stride=(1, 1))\n",
       "            (fc2): Conv2d(56, 448, kernel_size=(1, 1), stride=(1, 1))\n",
       "            (activation): ReLU()\n",
       "            (scale_activation): Sigmoid()\n",
       "          )\n",
       "          (c): Conv2dNormActivation(\n",
       "            (0): Conv2d(448, 448, kernel_size=(1, 1), stride=(1, 1), bias=False)\n",
       "            (1): BatchNorm2d(448, eps=1e-05, momentum=0.1, affine=True, track_running_stats=True)\n",
       "          )\n",
       "        )\n",
       "        (activation): ReLU(inplace=True)\n",
       "      )\n",
       "      (block2-1): ResBottleneckBlock(\n",
       "        (f): BottleneckTransform(\n",
       "          (a): Conv2dNormActivation(\n",
       "            (0): Conv2d(448, 448, kernel_size=(1, 1), stride=(1, 1), bias=False)\n",
       "            (1): BatchNorm2d(448, eps=1e-05, momentum=0.1, affine=True, track_running_stats=True)\n",
       "            (2): ReLU(inplace=True)\n",
       "          )\n",
       "          (b): Conv2dNormActivation(\n",
       "            (0): Conv2d(448, 448, kernel_size=(3, 3), stride=(1, 1), padding=(1, 1), groups=4, bias=False)\n",
       "            (1): BatchNorm2d(448, eps=1e-05, momentum=0.1, affine=True, track_running_stats=True)\n",
       "            (2): ReLU(inplace=True)\n",
       "          )\n",
       "          (se): SqueezeExcitation(\n",
       "            (avgpool): AdaptiveAvgPool2d(output_size=1)\n",
       "            (fc1): Conv2d(448, 112, kernel_size=(1, 1), stride=(1, 1))\n",
       "            (fc2): Conv2d(112, 448, kernel_size=(1, 1), stride=(1, 1))\n",
       "            (activation): ReLU()\n",
       "            (scale_activation): Sigmoid()\n",
       "          )\n",
       "          (c): Conv2dNormActivation(\n",
       "            (0): Conv2d(448, 448, kernel_size=(1, 1), stride=(1, 1), bias=False)\n",
       "            (1): BatchNorm2d(448, eps=1e-05, momentum=0.1, affine=True, track_running_stats=True)\n",
       "          )\n",
       "        )\n",
       "        (activation): ReLU(inplace=True)\n",
       "      )\n",
       "      (block2-2): ResBottleneckBlock(\n",
       "        (f): BottleneckTransform(\n",
       "          (a): Conv2dNormActivation(\n",
       "            (0): Conv2d(448, 448, kernel_size=(1, 1), stride=(1, 1), bias=False)\n",
       "            (1): BatchNorm2d(448, eps=1e-05, momentum=0.1, affine=True, track_running_stats=True)\n",
       "            (2): ReLU(inplace=True)\n",
       "          )\n",
       "          (b): Conv2dNormActivation(\n",
       "            (0): Conv2d(448, 448, kernel_size=(3, 3), stride=(1, 1), padding=(1, 1), groups=4, bias=False)\n",
       "            (1): BatchNorm2d(448, eps=1e-05, momentum=0.1, affine=True, track_running_stats=True)\n",
       "            (2): ReLU(inplace=True)\n",
       "          )\n",
       "          (se): SqueezeExcitation(\n",
       "            (avgpool): AdaptiveAvgPool2d(output_size=1)\n",
       "            (fc1): Conv2d(448, 112, kernel_size=(1, 1), stride=(1, 1))\n",
       "            (fc2): Conv2d(112, 448, kernel_size=(1, 1), stride=(1, 1))\n",
       "            (activation): ReLU()\n",
       "            (scale_activation): Sigmoid()\n",
       "          )\n",
       "          (c): Conv2dNormActivation(\n",
       "            (0): Conv2d(448, 448, kernel_size=(1, 1), stride=(1, 1), bias=False)\n",
       "            (1): BatchNorm2d(448, eps=1e-05, momentum=0.1, affine=True, track_running_stats=True)\n",
       "          )\n",
       "        )\n",
       "        (activation): ReLU(inplace=True)\n",
       "      )\n",
       "      (block2-3): ResBottleneckBlock(\n",
       "        (f): BottleneckTransform(\n",
       "          (a): Conv2dNormActivation(\n",
       "            (0): Conv2d(448, 448, kernel_size=(1, 1), stride=(1, 1), bias=False)\n",
       "            (1): BatchNorm2d(448, eps=1e-05, momentum=0.1, affine=True, track_running_stats=True)\n",
       "            (2): ReLU(inplace=True)\n",
       "          )\n",
       "          (b): Conv2dNormActivation(\n",
       "            (0): Conv2d(448, 448, kernel_size=(3, 3), stride=(1, 1), padding=(1, 1), groups=4, bias=False)\n",
       "            (1): BatchNorm2d(448, eps=1e-05, momentum=0.1, affine=True, track_running_stats=True)\n",
       "            (2): ReLU(inplace=True)\n",
       "          )\n",
       "          (se): SqueezeExcitation(\n",
       "            (avgpool): AdaptiveAvgPool2d(output_size=1)\n",
       "            (fc1): Conv2d(448, 112, kernel_size=(1, 1), stride=(1, 1))\n",
       "            (fc2): Conv2d(112, 448, kernel_size=(1, 1), stride=(1, 1))\n",
       "            (activation): ReLU()\n",
       "            (scale_activation): Sigmoid()\n",
       "          )\n",
       "          (c): Conv2dNormActivation(\n",
       "            (0): Conv2d(448, 448, kernel_size=(1, 1), stride=(1, 1), bias=False)\n",
       "            (1): BatchNorm2d(448, eps=1e-05, momentum=0.1, affine=True, track_running_stats=True)\n",
       "          )\n",
       "        )\n",
       "        (activation): ReLU(inplace=True)\n",
       "      )\n",
       "    )\n",
       "    (block3): AnyStage(\n",
       "      (block3-0): ResBottleneckBlock(\n",
       "        (proj): Conv2dNormActivation(\n",
       "          (0): Conv2d(448, 1232, kernel_size=(1, 1), stride=(2, 2), bias=False)\n",
       "          (1): BatchNorm2d(1232, eps=1e-05, momentum=0.1, affine=True, track_running_stats=True)\n",
       "        )\n",
       "        (f): BottleneckTransform(\n",
       "          (a): Conv2dNormActivation(\n",
       "            (0): Conv2d(448, 1232, kernel_size=(1, 1), stride=(1, 1), bias=False)\n",
       "            (1): BatchNorm2d(1232, eps=1e-05, momentum=0.1, affine=True, track_running_stats=True)\n",
       "            (2): ReLU(inplace=True)\n",
       "          )\n",
       "          (b): Conv2dNormActivation(\n",
       "            (0): Conv2d(1232, 1232, kernel_size=(3, 3), stride=(2, 2), padding=(1, 1), groups=11, bias=False)\n",
       "            (1): BatchNorm2d(1232, eps=1e-05, momentum=0.1, affine=True, track_running_stats=True)\n",
       "            (2): ReLU(inplace=True)\n",
       "          )\n",
       "          (se): SqueezeExcitation(\n",
       "            (avgpool): AdaptiveAvgPool2d(output_size=1)\n",
       "            (fc1): Conv2d(1232, 112, kernel_size=(1, 1), stride=(1, 1))\n",
       "            (fc2): Conv2d(112, 1232, kernel_size=(1, 1), stride=(1, 1))\n",
       "            (activation): ReLU()\n",
       "            (scale_activation): Sigmoid()\n",
       "          )\n",
       "          (c): Conv2dNormActivation(\n",
       "            (0): Conv2d(1232, 1232, kernel_size=(1, 1), stride=(1, 1), bias=False)\n",
       "            (1): BatchNorm2d(1232, eps=1e-05, momentum=0.1, affine=True, track_running_stats=True)\n",
       "          )\n",
       "        )\n",
       "        (activation): ReLU(inplace=True)\n",
       "      )\n",
       "      (block3-1): ResBottleneckBlock(\n",
       "        (f): BottleneckTransform(\n",
       "          (a): Conv2dNormActivation(\n",
       "            (0): Conv2d(1232, 1232, kernel_size=(1, 1), stride=(1, 1), bias=False)\n",
       "            (1): BatchNorm2d(1232, eps=1e-05, momentum=0.1, affine=True, track_running_stats=True)\n",
       "            (2): ReLU(inplace=True)\n",
       "          )\n",
       "          (b): Conv2dNormActivation(\n",
       "            (0): Conv2d(1232, 1232, kernel_size=(3, 3), stride=(1, 1), padding=(1, 1), groups=11, bias=False)\n",
       "            (1): BatchNorm2d(1232, eps=1e-05, momentum=0.1, affine=True, track_running_stats=True)\n",
       "            (2): ReLU(inplace=True)\n",
       "          )\n",
       "          (se): SqueezeExcitation(\n",
       "            (avgpool): AdaptiveAvgPool2d(output_size=1)\n",
       "            (fc1): Conv2d(1232, 308, kernel_size=(1, 1), stride=(1, 1))\n",
       "            (fc2): Conv2d(308, 1232, kernel_size=(1, 1), stride=(1, 1))\n",
       "            (activation): ReLU()\n",
       "            (scale_activation): Sigmoid()\n",
       "          )\n",
       "          (c): Conv2dNormActivation(\n",
       "            (0): Conv2d(1232, 1232, kernel_size=(1, 1), stride=(1, 1), bias=False)\n",
       "            (1): BatchNorm2d(1232, eps=1e-05, momentum=0.1, affine=True, track_running_stats=True)\n",
       "          )\n",
       "        )\n",
       "        (activation): ReLU(inplace=True)\n",
       "      )\n",
       "      (block3-2): ResBottleneckBlock(\n",
       "        (f): BottleneckTransform(\n",
       "          (a): Conv2dNormActivation(\n",
       "            (0): Conv2d(1232, 1232, kernel_size=(1, 1), stride=(1, 1), bias=False)\n",
       "            (1): BatchNorm2d(1232, eps=1e-05, momentum=0.1, affine=True, track_running_stats=True)\n",
       "            (2): ReLU(inplace=True)\n",
       "          )\n",
       "          (b): Conv2dNormActivation(\n",
       "            (0): Conv2d(1232, 1232, kernel_size=(3, 3), stride=(1, 1), padding=(1, 1), groups=11, bias=False)\n",
       "            (1): BatchNorm2d(1232, eps=1e-05, momentum=0.1, affine=True, track_running_stats=True)\n",
       "            (2): ReLU(inplace=True)\n",
       "          )\n",
       "          (se): SqueezeExcitation(\n",
       "            (avgpool): AdaptiveAvgPool2d(output_size=1)\n",
       "            (fc1): Conv2d(1232, 308, kernel_size=(1, 1), stride=(1, 1))\n",
       "            (fc2): Conv2d(308, 1232, kernel_size=(1, 1), stride=(1, 1))\n",
       "            (activation): ReLU()\n",
       "            (scale_activation): Sigmoid()\n",
       "          )\n",
       "          (c): Conv2dNormActivation(\n",
       "            (0): Conv2d(1232, 1232, kernel_size=(1, 1), stride=(1, 1), bias=False)\n",
       "            (1): BatchNorm2d(1232, eps=1e-05, momentum=0.1, affine=True, track_running_stats=True)\n",
       "          )\n",
       "        )\n",
       "        (activation): ReLU(inplace=True)\n",
       "      )\n",
       "      (block3-3): ResBottleneckBlock(\n",
       "        (f): BottleneckTransform(\n",
       "          (a): Conv2dNormActivation(\n",
       "            (0): Conv2d(1232, 1232, kernel_size=(1, 1), stride=(1, 1), bias=False)\n",
       "            (1): BatchNorm2d(1232, eps=1e-05, momentum=0.1, affine=True, track_running_stats=True)\n",
       "            (2): ReLU(inplace=True)\n",
       "          )\n",
       "          (b): Conv2dNormActivation(\n",
       "            (0): Conv2d(1232, 1232, kernel_size=(3, 3), stride=(1, 1), padding=(1, 1), groups=11, bias=False)\n",
       "            (1): BatchNorm2d(1232, eps=1e-05, momentum=0.1, affine=True, track_running_stats=True)\n",
       "            (2): ReLU(inplace=True)\n",
       "          )\n",
       "          (se): SqueezeExcitation(\n",
       "            (avgpool): AdaptiveAvgPool2d(output_size=1)\n",
       "            (fc1): Conv2d(1232, 308, kernel_size=(1, 1), stride=(1, 1))\n",
       "            (fc2): Conv2d(308, 1232, kernel_size=(1, 1), stride=(1, 1))\n",
       "            (activation): ReLU()\n",
       "            (scale_activation): Sigmoid()\n",
       "          )\n",
       "          (c): Conv2dNormActivation(\n",
       "            (0): Conv2d(1232, 1232, kernel_size=(1, 1), stride=(1, 1), bias=False)\n",
       "            (1): BatchNorm2d(1232, eps=1e-05, momentum=0.1, affine=True, track_running_stats=True)\n",
       "          )\n",
       "        )\n",
       "        (activation): ReLU(inplace=True)\n",
       "      )\n",
       "      (block3-4): ResBottleneckBlock(\n",
       "        (f): BottleneckTransform(\n",
       "          (a): Conv2dNormActivation(\n",
       "            (0): Conv2d(1232, 1232, kernel_size=(1, 1), stride=(1, 1), bias=False)\n",
       "            (1): BatchNorm2d(1232, eps=1e-05, momentum=0.1, affine=True, track_running_stats=True)\n",
       "            (2): ReLU(inplace=True)\n",
       "          )\n",
       "          (b): Conv2dNormActivation(\n",
       "            (0): Conv2d(1232, 1232, kernel_size=(3, 3), stride=(1, 1), padding=(1, 1), groups=11, bias=False)\n",
       "            (1): BatchNorm2d(1232, eps=1e-05, momentum=0.1, affine=True, track_running_stats=True)\n",
       "            (2): ReLU(inplace=True)\n",
       "          )\n",
       "          (se): SqueezeExcitation(\n",
       "            (avgpool): AdaptiveAvgPool2d(output_size=1)\n",
       "            (fc1): Conv2d(1232, 308, kernel_size=(1, 1), stride=(1, 1))\n",
       "            (fc2): Conv2d(308, 1232, kernel_size=(1, 1), stride=(1, 1))\n",
       "            (activation): ReLU()\n",
       "            (scale_activation): Sigmoid()\n",
       "          )\n",
       "          (c): Conv2dNormActivation(\n",
       "            (0): Conv2d(1232, 1232, kernel_size=(1, 1), stride=(1, 1), bias=False)\n",
       "            (1): BatchNorm2d(1232, eps=1e-05, momentum=0.1, affine=True, track_running_stats=True)\n",
       "          )\n",
       "        )\n",
       "        (activation): ReLU(inplace=True)\n",
       "      )\n",
       "      (block3-5): ResBottleneckBlock(\n",
       "        (f): BottleneckTransform(\n",
       "          (a): Conv2dNormActivation(\n",
       "            (0): Conv2d(1232, 1232, kernel_size=(1, 1), stride=(1, 1), bias=False)\n",
       "            (1): BatchNorm2d(1232, eps=1e-05, momentum=0.1, affine=True, track_running_stats=True)\n",
       "            (2): ReLU(inplace=True)\n",
       "          )\n",
       "          (b): Conv2dNormActivation(\n",
       "            (0): Conv2d(1232, 1232, kernel_size=(3, 3), stride=(1, 1), padding=(1, 1), groups=11, bias=False)\n",
       "            (1): BatchNorm2d(1232, eps=1e-05, momentum=0.1, affine=True, track_running_stats=True)\n",
       "            (2): ReLU(inplace=True)\n",
       "          )\n",
       "          (se): SqueezeExcitation(\n",
       "            (avgpool): AdaptiveAvgPool2d(output_size=1)\n",
       "            (fc1): Conv2d(1232, 308, kernel_size=(1, 1), stride=(1, 1))\n",
       "            (fc2): Conv2d(308, 1232, kernel_size=(1, 1), stride=(1, 1))\n",
       "            (activation): ReLU()\n",
       "            (scale_activation): Sigmoid()\n",
       "          )\n",
       "          (c): Conv2dNormActivation(\n",
       "            (0): Conv2d(1232, 1232, kernel_size=(1, 1), stride=(1, 1), bias=False)\n",
       "            (1): BatchNorm2d(1232, eps=1e-05, momentum=0.1, affine=True, track_running_stats=True)\n",
       "          )\n",
       "        )\n",
       "        (activation): ReLU(inplace=True)\n",
       "      )\n",
       "      (block3-6): ResBottleneckBlock(\n",
       "        (f): BottleneckTransform(\n",
       "          (a): Conv2dNormActivation(\n",
       "            (0): Conv2d(1232, 1232, kernel_size=(1, 1), stride=(1, 1), bias=False)\n",
       "            (1): BatchNorm2d(1232, eps=1e-05, momentum=0.1, affine=True, track_running_stats=True)\n",
       "            (2): ReLU(inplace=True)\n",
       "          )\n",
       "          (b): Conv2dNormActivation(\n",
       "            (0): Conv2d(1232, 1232, kernel_size=(3, 3), stride=(1, 1), padding=(1, 1), groups=11, bias=False)\n",
       "            (1): BatchNorm2d(1232, eps=1e-05, momentum=0.1, affine=True, track_running_stats=True)\n",
       "            (2): ReLU(inplace=True)\n",
       "          )\n",
       "          (se): SqueezeExcitation(\n",
       "            (avgpool): AdaptiveAvgPool2d(output_size=1)\n",
       "            (fc1): Conv2d(1232, 308, kernel_size=(1, 1), stride=(1, 1))\n",
       "            (fc2): Conv2d(308, 1232, kernel_size=(1, 1), stride=(1, 1))\n",
       "            (activation): ReLU()\n",
       "            (scale_activation): Sigmoid()\n",
       "          )\n",
       "          (c): Conv2dNormActivation(\n",
       "            (0): Conv2d(1232, 1232, kernel_size=(1, 1), stride=(1, 1), bias=False)\n",
       "            (1): BatchNorm2d(1232, eps=1e-05, momentum=0.1, affine=True, track_running_stats=True)\n",
       "          )\n",
       "        )\n",
       "        (activation): ReLU(inplace=True)\n",
       "      )\n",
       "      (block3-7): ResBottleneckBlock(\n",
       "        (f): BottleneckTransform(\n",
       "          (a): Conv2dNormActivation(\n",
       "            (0): Conv2d(1232, 1232, kernel_size=(1, 1), stride=(1, 1), bias=False)\n",
       "            (1): BatchNorm2d(1232, eps=1e-05, momentum=0.1, affine=True, track_running_stats=True)\n",
       "            (2): ReLU(inplace=True)\n",
       "          )\n",
       "          (b): Conv2dNormActivation(\n",
       "            (0): Conv2d(1232, 1232, kernel_size=(3, 3), stride=(1, 1), padding=(1, 1), groups=11, bias=False)\n",
       "            (1): BatchNorm2d(1232, eps=1e-05, momentum=0.1, affine=True, track_running_stats=True)\n",
       "            (2): ReLU(inplace=True)\n",
       "          )\n",
       "          (se): SqueezeExcitation(\n",
       "            (avgpool): AdaptiveAvgPool2d(output_size=1)\n",
       "            (fc1): Conv2d(1232, 308, kernel_size=(1, 1), stride=(1, 1))\n",
       "            (fc2): Conv2d(308, 1232, kernel_size=(1, 1), stride=(1, 1))\n",
       "            (activation): ReLU()\n",
       "            (scale_activation): Sigmoid()\n",
       "          )\n",
       "          (c): Conv2dNormActivation(\n",
       "            (0): Conv2d(1232, 1232, kernel_size=(1, 1), stride=(1, 1), bias=False)\n",
       "            (1): BatchNorm2d(1232, eps=1e-05, momentum=0.1, affine=True, track_running_stats=True)\n",
       "          )\n",
       "        )\n",
       "        (activation): ReLU(inplace=True)\n",
       "      )\n",
       "      (block3-8): ResBottleneckBlock(\n",
       "        (f): BottleneckTransform(\n",
       "          (a): Conv2dNormActivation(\n",
       "            (0): Conv2d(1232, 1232, kernel_size=(1, 1), stride=(1, 1), bias=False)\n",
       "            (1): BatchNorm2d(1232, eps=1e-05, momentum=0.1, affine=True, track_running_stats=True)\n",
       "            (2): ReLU(inplace=True)\n",
       "          )\n",
       "          (b): Conv2dNormActivation(\n",
       "            (0): Conv2d(1232, 1232, kernel_size=(3, 3), stride=(1, 1), padding=(1, 1), groups=11, bias=False)\n",
       "            (1): BatchNorm2d(1232, eps=1e-05, momentum=0.1, affine=True, track_running_stats=True)\n",
       "            (2): ReLU(inplace=True)\n",
       "          )\n",
       "          (se): SqueezeExcitation(\n",
       "            (avgpool): AdaptiveAvgPool2d(output_size=1)\n",
       "            (fc1): Conv2d(1232, 308, kernel_size=(1, 1), stride=(1, 1))\n",
       "            (fc2): Conv2d(308, 1232, kernel_size=(1, 1), stride=(1, 1))\n",
       "            (activation): ReLU()\n",
       "            (scale_activation): Sigmoid()\n",
       "          )\n",
       "          (c): Conv2dNormActivation(\n",
       "            (0): Conv2d(1232, 1232, kernel_size=(1, 1), stride=(1, 1), bias=False)\n",
       "            (1): BatchNorm2d(1232, eps=1e-05, momentum=0.1, affine=True, track_running_stats=True)\n",
       "          )\n",
       "        )\n",
       "        (activation): ReLU(inplace=True)\n",
       "      )\n",
       "      (block3-9): ResBottleneckBlock(\n",
       "        (f): BottleneckTransform(\n",
       "          (a): Conv2dNormActivation(\n",
       "            (0): Conv2d(1232, 1232, kernel_size=(1, 1), stride=(1, 1), bias=False)\n",
       "            (1): BatchNorm2d(1232, eps=1e-05, momentum=0.1, affine=True, track_running_stats=True)\n",
       "            (2): ReLU(inplace=True)\n",
       "          )\n",
       "          (b): Conv2dNormActivation(\n",
       "            (0): Conv2d(1232, 1232, kernel_size=(3, 3), stride=(1, 1), padding=(1, 1), groups=11, bias=False)\n",
       "            (1): BatchNorm2d(1232, eps=1e-05, momentum=0.1, affine=True, track_running_stats=True)\n",
       "            (2): ReLU(inplace=True)\n",
       "          )\n",
       "          (se): SqueezeExcitation(\n",
       "            (avgpool): AdaptiveAvgPool2d(output_size=1)\n",
       "            (fc1): Conv2d(1232, 308, kernel_size=(1, 1), stride=(1, 1))\n",
       "            (fc2): Conv2d(308, 1232, kernel_size=(1, 1), stride=(1, 1))\n",
       "            (activation): ReLU()\n",
       "            (scale_activation): Sigmoid()\n",
       "          )\n",
       "          (c): Conv2dNormActivation(\n",
       "            (0): Conv2d(1232, 1232, kernel_size=(1, 1), stride=(1, 1), bias=False)\n",
       "            (1): BatchNorm2d(1232, eps=1e-05, momentum=0.1, affine=True, track_running_stats=True)\n",
       "          )\n",
       "        )\n",
       "        (activation): ReLU(inplace=True)\n",
       "      )\n",
       "      (block3-10): ResBottleneckBlock(\n",
       "        (f): BottleneckTransform(\n",
       "          (a): Conv2dNormActivation(\n",
       "            (0): Conv2d(1232, 1232, kernel_size=(1, 1), stride=(1, 1), bias=False)\n",
       "            (1): BatchNorm2d(1232, eps=1e-05, momentum=0.1, affine=True, track_running_stats=True)\n",
       "            (2): ReLU(inplace=True)\n",
       "          )\n",
       "          (b): Conv2dNormActivation(\n",
       "            (0): Conv2d(1232, 1232, kernel_size=(3, 3), stride=(1, 1), padding=(1, 1), groups=11, bias=False)\n",
       "            (1): BatchNorm2d(1232, eps=1e-05, momentum=0.1, affine=True, track_running_stats=True)\n",
       "            (2): ReLU(inplace=True)\n",
       "          )\n",
       "          (se): SqueezeExcitation(\n",
       "            (avgpool): AdaptiveAvgPool2d(output_size=1)\n",
       "            (fc1): Conv2d(1232, 308, kernel_size=(1, 1), stride=(1, 1))\n",
       "            (fc2): Conv2d(308, 1232, kernel_size=(1, 1), stride=(1, 1))\n",
       "            (activation): ReLU()\n",
       "            (scale_activation): Sigmoid()\n",
       "          )\n",
       "          (c): Conv2dNormActivation(\n",
       "            (0): Conv2d(1232, 1232, kernel_size=(1, 1), stride=(1, 1), bias=False)\n",
       "            (1): BatchNorm2d(1232, eps=1e-05, momentum=0.1, affine=True, track_running_stats=True)\n",
       "          )\n",
       "        )\n",
       "        (activation): ReLU(inplace=True)\n",
       "      )\n",
       "    )\n",
       "    (block4): AnyStage(\n",
       "      (block4-0): ResBottleneckBlock(\n",
       "        (proj): Conv2dNormActivation(\n",
       "          (0): Conv2d(1232, 3024, kernel_size=(1, 1), stride=(2, 2), bias=False)\n",
       "          (1): BatchNorm2d(3024, eps=1e-05, momentum=0.1, affine=True, track_running_stats=True)\n",
       "        )\n",
       "        (f): BottleneckTransform(\n",
       "          (a): Conv2dNormActivation(\n",
       "            (0): Conv2d(1232, 3024, kernel_size=(1, 1), stride=(1, 1), bias=False)\n",
       "            (1): BatchNorm2d(3024, eps=1e-05, momentum=0.1, affine=True, track_running_stats=True)\n",
       "            (2): ReLU(inplace=True)\n",
       "          )\n",
       "          (b): Conv2dNormActivation(\n",
       "            (0): Conv2d(3024, 3024, kernel_size=(3, 3), stride=(2, 2), padding=(1, 1), groups=27, bias=False)\n",
       "            (1): BatchNorm2d(3024, eps=1e-05, momentum=0.1, affine=True, track_running_stats=True)\n",
       "            (2): ReLU(inplace=True)\n",
       "          )\n",
       "          (se): SqueezeExcitation(\n",
       "            (avgpool): AdaptiveAvgPool2d(output_size=1)\n",
       "            (fc1): Conv2d(3024, 308, kernel_size=(1, 1), stride=(1, 1))\n",
       "            (fc2): Conv2d(308, 3024, kernel_size=(1, 1), stride=(1, 1))\n",
       "            (activation): ReLU()\n",
       "            (scale_activation): Sigmoid()\n",
       "          )\n",
       "          (c): Conv2dNormActivation(\n",
       "            (0): Conv2d(3024, 3024, kernel_size=(1, 1), stride=(1, 1), bias=False)\n",
       "            (1): BatchNorm2d(3024, eps=1e-05, momentum=0.1, affine=True, track_running_stats=True)\n",
       "          )\n",
       "        )\n",
       "        (activation): ReLU(inplace=True)\n",
       "      )\n",
       "    )\n",
       "  )\n",
       "  (avgpool): AdaptiveAvgPool2d(output_size=(1, 1))\n",
       "  (fc): Linear(in_features=3024, out_features=1000, bias=True)\n",
       ")"
      ]
     },
     "execution_count": 21,
     "metadata": {},
     "output_type": "execute_result"
    }
   ],
   "source": [
    "RegNet = torchvision.models.regnet_y_16gf(weights=torchvision.models.RegNet_Y_16GF_Weights.IMAGENET1K_SWAG_E2E_V1)\n",
    "RegNet"
   ]
  },
  {
   "cell_type": "code",
   "execution_count": 22,
   "id": "66973573-70e8-42e3-ba82-18bf0ab50300",
   "metadata": {},
   "outputs": [
    {
     "name": "stdout",
     "output_type": "stream",
     "text": [
      "Sequential(\n",
      "  (0): Linear(in_features=3024, out_features=1000, bias=True)\n",
      "  (1): Linear(in_features=1000, out_features=18, bias=True)\n",
      ")\n"
     ]
    }
   ],
   "source": [
    "import math\n",
    "\n",
    "for param in RegNet.parameters():\n",
    "    param.requires_grad = False\n",
    "\n",
    "class_num = 18\n",
    "RegNet.fc = nn.Sequential(\n",
    "                nn.Linear(in_features=3024, out_features=1000, bias=True),\n",
    "                nn.Linear(in_features=1000, out_features=class_num, bias=True)\n",
    ")\n",
    "nn.init.xavier_uniform_(RegNet.fc[0].weight)\n",
    "stdv = 1. / math.sqrt(RegNet.fc[0].weight.size(1))\n",
    "RegNet.fc[0].bias.data.uniform_(-stdv, stdv)\n",
    "nn.init.xavier_uniform_(RegNet.fc[1].weight)\n",
    "stdv = 1. / math.sqrt(RegNet.fc[1].weight.size(1))\n",
    "RegNet.fc[1].bias.data.uniform_(-stdv, stdv)\n",
    "print(RegNet.fc)"
   ]
  },
  {
   "cell_type": "code",
   "execution_count": 23,
   "id": "b7a12ee1-b57f-407a-82c9-e37136aaae3d",
   "metadata": {},
   "outputs": [
    {
     "name": "stdout",
     "output_type": "stream",
     "text": [
      "필요 입력 채널 개수 3\n",
      "네트워크 출력 채널 개수 18\n"
     ]
    }
   ],
   "source": [
    "print('필요 입력 채널 개수', RegNet.stem[0].weight.shape[1])\n",
    "print('네트워크 출력 채널 개수', RegNet.fc[1].weight.shape[0])"
   ]
  },
  {
   "cell_type": "code",
   "execution_count": 24,
   "id": "9a1a2262-f820-4294-8086-3a48a5e5d686",
   "metadata": {},
   "outputs": [
    {
     "name": "stdout",
     "output_type": "stream",
     "text": [
      "using cuda:0\n"
     ]
    }
   ],
   "source": [
    "device = torch.device(\"cuda:0\" if torch.cuda.is_available() else \"cpu\")\n",
    "print(f\"using {device}\")\n",
    "\n",
    "model = RegNet.to(device)\n",
    "\n",
    "LEARNING_RATE = 0.0001\n",
    "NUM_EPOCH = 100\n",
    "\n",
    "criterion = nn.CrossEntropyLoss()\n",
    "optimizer = torch.optim.Adam(model.parameters(), lr=LEARNING_RATE)"
   ]
  },
  {
   "cell_type": "code",
   "execution_count": 25,
   "id": "8c067d0e-38c9-4ab8-baba-88cf8dcb8c6c",
   "metadata": {},
   "outputs": [
    {
     "data": {
      "application/vnd.jupyter.widget-view+json": {
       "model_id": "32500f3a1bdf4a08ba8e961c133c3067",
       "version_major": 2,
       "version_minor": 0
      },
      "text/plain": [
       "HBox(children=(HTML(value=''), FloatProgress(value=0.0, max=60.0), HTML(value='')))"
      ]
     },
     "metadata": {},
     "output_type": "display_data"
    },
    {
     "name": "stdout",
     "output_type": "stream",
     "text": [
      "\n",
      "epoch[0/100] training loss 1.48001, training accuracy 0.59378\n"
     ]
    },
    {
     "data": {
      "application/vnd.jupyter.widget-view+json": {
       "model_id": "71ae33241f94400790da6a7a0433a269",
       "version_major": 2,
       "version_minor": 0
      },
      "text/plain": [
       "HBox(children=(HTML(value=''), FloatProgress(value=0.0, max=15.0), HTML(value='')))"
      ]
     },
     "metadata": {},
     "output_type": "display_data"
    },
    {
     "name": "stdout",
     "output_type": "stream",
     "text": [
      "\n",
      "[val] acc : 0.70106, loss : 1.04946, f1 score : 0.51444\n",
      "best acc : 0.70106, best loss : 1.04946, best f1 : 0.51444\n"
     ]
    },
    {
     "data": {
      "application/vnd.jupyter.widget-view+json": {
       "model_id": "62beca59cb994fd3b2d29076619946d8",
       "version_major": 2,
       "version_minor": 0
      },
      "text/plain": [
       "HBox(children=(HTML(value=''), FloatProgress(value=0.0, max=60.0), HTML(value='')))"
      ]
     },
     "metadata": {},
     "output_type": "display_data"
    },
    {
     "name": "stdout",
     "output_type": "stream",
     "text": [
      "\n",
      "epoch[1/100] training loss 0.62314, training accuracy 0.80622\n"
     ]
    },
    {
     "data": {
      "application/vnd.jupyter.widget-view+json": {
       "model_id": "f2aa38ff59ec4ca292ab82590edd2e75",
       "version_major": 2,
       "version_minor": 0
      },
      "text/plain": [
       "HBox(children=(HTML(value=''), FloatProgress(value=0.0, max=15.0), HTML(value='')))"
      ]
     },
     "metadata": {},
     "output_type": "display_data"
    },
    {
     "name": "stdout",
     "output_type": "stream",
     "text": [
      "\n",
      "[val] acc : 0.79206, loss : 0.66784, f1 score : 0.62077\n",
      "best acc : 0.79206, best loss : 0.66784, best f1 : 0.62077\n"
     ]
    },
    {
     "data": {
      "application/vnd.jupyter.widget-view+json": {
       "model_id": "9291da26212445bb83e91105b960c4c0",
       "version_major": 2,
       "version_minor": 0
      },
      "text/plain": [
       "HBox(children=(HTML(value=''), FloatProgress(value=0.0, max=60.0), HTML(value='')))"
      ]
     },
     "metadata": {},
     "output_type": "display_data"
    },
    {
     "name": "stdout",
     "output_type": "stream",
     "text": [
      "\n",
      "epoch[2/100] training loss 0.42233, training accuracy 0.86329\n"
     ]
    },
    {
     "data": {
      "application/vnd.jupyter.widget-view+json": {
       "model_id": "60dba74f82344ae4b7ff62b5e62d635a",
       "version_major": 2,
       "version_minor": 0
      },
      "text/plain": [
       "HBox(children=(HTML(value=''), FloatProgress(value=0.0, max=15.0), HTML(value='')))"
      ]
     },
     "metadata": {},
     "output_type": "display_data"
    },
    {
     "name": "stdout",
     "output_type": "stream",
     "text": [
      "\n",
      "[val] acc : 0.82196, loss : 0.57302, f1 score : 0.67915\n",
      "best acc : 0.82196, best loss : 0.57302, best f1 : 0.67915\n"
     ]
    },
    {
     "data": {
      "application/vnd.jupyter.widget-view+json": {
       "model_id": "5ed957c28fa14d0eba14fdce90ec3c62",
       "version_major": 2,
       "version_minor": 0
      },
      "text/plain": [
       "HBox(children=(HTML(value=''), FloatProgress(value=0.0, max=60.0), HTML(value='')))"
      ]
     },
     "metadata": {},
     "output_type": "display_data"
    },
    {
     "name": "stdout",
     "output_type": "stream",
     "text": [
      "\n",
      "epoch[3/100] training loss 0.33753, training accuracy 0.89332\n"
     ]
    },
    {
     "data": {
      "application/vnd.jupyter.widget-view+json": {
       "model_id": "6db3fbf2a26a4014982c16c848de796f",
       "version_major": 2,
       "version_minor": 0
      },
      "text/plain": [
       "HBox(children=(HTML(value=''), FloatProgress(value=0.0, max=15.0), HTML(value='')))"
      ]
     },
     "metadata": {},
     "output_type": "display_data"
    },
    {
     "name": "stdout",
     "output_type": "stream",
     "text": [
      "\n",
      "[val] acc : 0.82619, loss : 0.55795, f1 score : 0.68856\n",
      "best acc : 0.82619, best loss : 0.55795, best f1 : 0.68856\n"
     ]
    },
    {
     "data": {
      "application/vnd.jupyter.widget-view+json": {
       "model_id": "043b416d33164fce93b176dacd8bfe55",
       "version_major": 2,
       "version_minor": 0
      },
      "text/plain": [
       "HBox(children=(HTML(value=''), FloatProgress(value=0.0, max=60.0), HTML(value='')))"
      ]
     },
     "metadata": {},
     "output_type": "display_data"
    },
    {
     "name": "stdout",
     "output_type": "stream",
     "text": [
      "\n",
      "epoch[4/100] training loss 0.29635, training accuracy 0.90119\n"
     ]
    },
    {
     "data": {
      "application/vnd.jupyter.widget-view+json": {
       "model_id": "5ecbb5887c43444d9cb8c2fae24d84d5",
       "version_major": 2,
       "version_minor": 0
      },
      "text/plain": [
       "HBox(children=(HTML(value=''), FloatProgress(value=0.0, max=15.0), HTML(value='')))"
      ]
     },
     "metadata": {},
     "output_type": "display_data"
    },
    {
     "name": "stdout",
     "output_type": "stream",
     "text": [
      "\n",
      "[val] acc : 0.84127, loss : 0.52369, f1 score : 0.70063\n",
      "best acc : 0.84127, best loss : 0.52369, best f1 : 0.70063\n"
     ]
    },
    {
     "data": {
      "application/vnd.jupyter.widget-view+json": {
       "model_id": "8f93c264aecd41498be223eaeee7dca6",
       "version_major": 2,
       "version_minor": 0
      },
      "text/plain": [
       "HBox(children=(HTML(value=''), FloatProgress(value=0.0, max=60.0), HTML(value='')))"
      ]
     },
     "metadata": {},
     "output_type": "display_data"
    },
    {
     "name": "stdout",
     "output_type": "stream",
     "text": [
      "\n",
      "epoch[5/100] training loss 0.23576, training accuracy 0.92440\n"
     ]
    },
    {
     "data": {
      "application/vnd.jupyter.widget-view+json": {
       "model_id": "a5bcaadad78a4b649fd4b37b0e4ae519",
       "version_major": 2,
       "version_minor": 0
      },
      "text/plain": [
       "HBox(children=(HTML(value=''), FloatProgress(value=0.0, max=15.0), HTML(value='')))"
      ]
     },
     "metadata": {},
     "output_type": "display_data"
    },
    {
     "name": "stdout",
     "output_type": "stream",
     "text": [
      "\n",
      "[val] acc : 0.83201, loss : 0.54910, f1 score : 0.69248\n",
      "best acc : 0.84127, best loss : 0.52369, best f1 : 0.70063\n"
     ]
    },
    {
     "data": {
      "application/vnd.jupyter.widget-view+json": {
       "model_id": "66f865ba0c104afc898def284176bc2a",
       "version_major": 2,
       "version_minor": 0
      },
      "text/plain": [
       "HBox(children=(HTML(value=''), FloatProgress(value=0.0, max=60.0), HTML(value='')))"
      ]
     },
     "metadata": {},
     "output_type": "display_data"
    },
    {
     "name": "stdout",
     "output_type": "stream",
     "text": [
      "\n",
      "epoch[6/100] training loss 0.21346, training accuracy 0.93307\n"
     ]
    },
    {
     "data": {
      "application/vnd.jupyter.widget-view+json": {
       "model_id": "a76ce2f46f204d7d9bfd0482b41cdfdd",
       "version_major": 2,
       "version_minor": 0
      },
      "text/plain": [
       "HBox(children=(HTML(value=''), FloatProgress(value=0.0, max=15.0), HTML(value='')))"
      ]
     },
     "metadata": {},
     "output_type": "display_data"
    },
    {
     "name": "stdout",
     "output_type": "stream",
     "text": [
      "\n",
      "[val] acc : 0.84762, loss : 0.50999, f1 score : 0.72494\n",
      "best acc : 0.84762, best loss : 0.50999, best f1 : 0.72494\n"
     ]
    },
    {
     "data": {
      "application/vnd.jupyter.widget-view+json": {
       "model_id": "22f88c6f547f49b394eabcebfb4a5a9f",
       "version_major": 2,
       "version_minor": 0
      },
      "text/plain": [
       "HBox(children=(HTML(value=''), FloatProgress(value=0.0, max=60.0), HTML(value='')))"
      ]
     },
     "metadata": {},
     "output_type": "display_data"
    },
    {
     "name": "stdout",
     "output_type": "stream",
     "text": [
      "\n",
      "epoch[7/100] training loss 0.18840, training accuracy 0.94147\n"
     ]
    },
    {
     "data": {
      "application/vnd.jupyter.widget-view+json": {
       "model_id": "ac9e4c4055ab41d0b2c3aee10de7e5b5",
       "version_major": 2,
       "version_minor": 0
      },
      "text/plain": [
       "HBox(children=(HTML(value=''), FloatProgress(value=0.0, max=15.0), HTML(value='')))"
      ]
     },
     "metadata": {},
     "output_type": "display_data"
    },
    {
     "name": "stdout",
     "output_type": "stream",
     "text": [
      "\n",
      "[val] acc : 0.84788, loss : 0.50049, f1 score : 0.72804\n",
      "best acc : 0.84788, best loss : 0.50049, best f1 : 0.72804\n"
     ]
    },
    {
     "data": {
      "application/vnd.jupyter.widget-view+json": {
       "model_id": "95e50146f03c4763bf6c0e052991355f",
       "version_major": 2,
       "version_minor": 0
      },
      "text/plain": [
       "HBox(children=(HTML(value=''), FloatProgress(value=0.0, max=60.0), HTML(value='')))"
      ]
     },
     "metadata": {},
     "output_type": "display_data"
    },
    {
     "name": "stdout",
     "output_type": "stream",
     "text": [
      "\n",
      "epoch[8/100] training loss 0.15887, training accuracy 0.95370\n"
     ]
    },
    {
     "data": {
      "application/vnd.jupyter.widget-view+json": {
       "model_id": "d10f2006104b474c8d3870dfda335408",
       "version_major": 2,
       "version_minor": 0
      },
      "text/plain": [
       "HBox(children=(HTML(value=''), FloatProgress(value=0.0, max=15.0), HTML(value='')))"
      ]
     },
     "metadata": {},
     "output_type": "display_data"
    },
    {
     "name": "stdout",
     "output_type": "stream",
     "text": [
      "\n",
      "[val] acc : 0.84815, loss : 0.51948, f1 score : 0.73064\n",
      "best acc : 0.84815, best loss : 0.50049, best f1 : 0.73064\n"
     ]
    },
    {
     "data": {
      "application/vnd.jupyter.widget-view+json": {
       "model_id": "088bec1ec7164dc7b2e4e38ad12b578d",
       "version_major": 2,
       "version_minor": 0
      },
      "text/plain": [
       "HBox(children=(HTML(value=''), FloatProgress(value=0.0, max=60.0), HTML(value='')))"
      ]
     },
     "metadata": {},
     "output_type": "display_data"
    },
    {
     "name": "stdout",
     "output_type": "stream",
     "text": [
      "\n",
      "epoch[9/100] training loss 0.14585, training accuracy 0.95780\n"
     ]
    },
    {
     "data": {
      "application/vnd.jupyter.widget-view+json": {
       "model_id": "2b42818d289e4ab2aecb1d713c54e955",
       "version_major": 2,
       "version_minor": 0
      },
      "text/plain": [
       "HBox(children=(HTML(value=''), FloatProgress(value=0.0, max=15.0), HTML(value='')))"
      ]
     },
     "metadata": {},
     "output_type": "display_data"
    },
    {
     "name": "stdout",
     "output_type": "stream",
     "text": [
      "\n",
      "[val] acc : 0.84974, loss : 0.50048, f1 score : 0.72907\n",
      "best acc : 0.84974, best loss : 0.50048, best f1 : 0.73064\n"
     ]
    },
    {
     "data": {
      "application/vnd.jupyter.widget-view+json": {
       "model_id": "a9dd03fcc7524cb8ba7c335572a1a3ee",
       "version_major": 2,
       "version_minor": 0
      },
      "text/plain": [
       "HBox(children=(HTML(value=''), FloatProgress(value=0.0, max=60.0), HTML(value='')))"
      ]
     },
     "metadata": {},
     "output_type": "display_data"
    },
    {
     "name": "stdout",
     "output_type": "stream",
     "text": [
      "\n",
      "epoch[10/100] training loss 0.13895, training accuracy 0.96045\n"
     ]
    },
    {
     "data": {
      "application/vnd.jupyter.widget-view+json": {
       "model_id": "ad3cb07ee360452681ea23065c8bc88a",
       "version_major": 2,
       "version_minor": 0
      },
      "text/plain": [
       "HBox(children=(HTML(value=''), FloatProgress(value=0.0, max=15.0), HTML(value='')))"
      ]
     },
     "metadata": {},
     "output_type": "display_data"
    },
    {
     "name": "stdout",
     "output_type": "stream",
     "text": [
      "\n",
      "[val] acc : 0.83942, loss : 0.54107, f1 score : 0.71545\n",
      "best acc : 0.84974, best loss : 0.50048, best f1 : 0.73064\n"
     ]
    },
    {
     "data": {
      "application/vnd.jupyter.widget-view+json": {
       "model_id": "2ea90fb403bd44d78a85d0e6c7491ee2",
       "version_major": 2,
       "version_minor": 0
      },
      "text/plain": [
       "HBox(children=(HTML(value=''), FloatProgress(value=0.0, max=60.0), HTML(value='')))"
      ]
     },
     "metadata": {},
     "output_type": "display_data"
    },
    {
     "name": "stdout",
     "output_type": "stream",
     "text": [
      "\n",
      "epoch[11/100] training loss 0.12431, training accuracy 0.96574\n"
     ]
    },
    {
     "data": {
      "application/vnd.jupyter.widget-view+json": {
       "model_id": "e9fdc04a30e940038b8041f2786c8c48",
       "version_major": 2,
       "version_minor": 0
      },
      "text/plain": [
       "HBox(children=(HTML(value=''), FloatProgress(value=0.0, max=15.0), HTML(value='')))"
      ]
     },
     "metadata": {},
     "output_type": "display_data"
    },
    {
     "name": "stdout",
     "output_type": "stream",
     "text": [
      "\n",
      "[val] acc : 0.85291, loss : 0.50509, f1 score : 0.71396\n",
      "best acc : 0.85291, best loss : 0.50048, best f1 : 0.73064\n"
     ]
    },
    {
     "data": {
      "application/vnd.jupyter.widget-view+json": {
       "model_id": "2feadad0bf6049ca8733ee04bbc2ef2e",
       "version_major": 2,
       "version_minor": 0
      },
      "text/plain": [
       "HBox(children=(HTML(value=''), FloatProgress(value=0.0, max=60.0), HTML(value='')))"
      ]
     },
     "metadata": {},
     "output_type": "display_data"
    },
    {
     "name": "stdout",
     "output_type": "stream",
     "text": [
      "\n",
      "epoch[12/100] training loss 0.10952, training accuracy 0.97044\n"
     ]
    },
    {
     "data": {
      "application/vnd.jupyter.widget-view+json": {
       "model_id": "7f10760c285d447abd52beeaa15849e4",
       "version_major": 2,
       "version_minor": 0
      },
      "text/plain": [
       "HBox(children=(HTML(value=''), FloatProgress(value=0.0, max=15.0), HTML(value='')))"
      ]
     },
     "metadata": {},
     "output_type": "display_data"
    },
    {
     "name": "stdout",
     "output_type": "stream",
     "text": [
      "\n",
      "[val] acc : 0.84286, loss : 0.52084, f1 score : 0.72712\n",
      "best acc : 0.85291, best loss : 0.50048, best f1 : 0.73064\n"
     ]
    },
    {
     "data": {
      "application/vnd.jupyter.widget-view+json": {
       "model_id": "c1d9b4f6d3794a8dad453a1ae1303e9d",
       "version_major": 2,
       "version_minor": 0
      },
      "text/plain": [
       "HBox(children=(HTML(value=''), FloatProgress(value=0.0, max=60.0), HTML(value='')))"
      ]
     },
     "metadata": {},
     "output_type": "display_data"
    },
    {
     "name": "stdout",
     "output_type": "stream",
     "text": [
      "\n",
      "epoch[13/100] training loss 0.10292, training accuracy 0.97315\n"
     ]
    },
    {
     "data": {
      "application/vnd.jupyter.widget-view+json": {
       "model_id": "c53694e921ec4235b3ff453f824fe4db",
       "version_major": 2,
       "version_minor": 0
      },
      "text/plain": [
       "HBox(children=(HTML(value=''), FloatProgress(value=0.0, max=15.0), HTML(value='')))"
      ]
     },
     "metadata": {},
     "output_type": "display_data"
    },
    {
     "name": "stdout",
     "output_type": "stream",
     "text": [
      "\n",
      "[val] acc : 0.85847, loss : 0.51035, f1 score : 0.74378\n",
      "best acc : 0.85847, best loss : 0.50048, best f1 : 0.74378\n"
     ]
    },
    {
     "data": {
      "application/vnd.jupyter.widget-view+json": {
       "model_id": "8e552f6433ca4c0b9f49917063a652e2",
       "version_major": 2,
       "version_minor": 0
      },
      "text/plain": [
       "HBox(children=(HTML(value=''), FloatProgress(value=0.0, max=60.0), HTML(value='')))"
      ]
     },
     "metadata": {},
     "output_type": "display_data"
    },
    {
     "name": "stdout",
     "output_type": "stream",
     "text": [
      "\n",
      "epoch[14/100] training loss 0.09279, training accuracy 0.97745\n"
     ]
    },
    {
     "data": {
      "application/vnd.jupyter.widget-view+json": {
       "model_id": "d9e428a94c10462eb37fc287a78b79ee",
       "version_major": 2,
       "version_minor": 0
      },
      "text/plain": [
       "HBox(children=(HTML(value=''), FloatProgress(value=0.0, max=15.0), HTML(value='')))"
      ]
     },
     "metadata": {},
     "output_type": "display_data"
    },
    {
     "name": "stdout",
     "output_type": "stream",
     "text": [
      "\n",
      "[val] acc : 0.86296, loss : 0.48334, f1 score : 0.74249\n",
      "best acc : 0.86296, best loss : 0.48334, best f1 : 0.74378\n"
     ]
    },
    {
     "data": {
      "application/vnd.jupyter.widget-view+json": {
       "model_id": "0d0d96b4aed94131a02a63a140278b1d",
       "version_major": 2,
       "version_minor": 0
      },
      "text/plain": [
       "HBox(children=(HTML(value=''), FloatProgress(value=0.0, max=60.0), HTML(value='')))"
      ]
     },
     "metadata": {},
     "output_type": "display_data"
    },
    {
     "name": "stdout",
     "output_type": "stream",
     "text": [
      "\n",
      "epoch[15/100] training loss 0.08060, training accuracy 0.98228\n"
     ]
    },
    {
     "data": {
      "application/vnd.jupyter.widget-view+json": {
       "model_id": "3d5c41c3835c41c0be2c2c0acd23a555",
       "version_major": 2,
       "version_minor": 0
      },
      "text/plain": [
       "HBox(children=(HTML(value=''), FloatProgress(value=0.0, max=15.0), HTML(value='')))"
      ]
     },
     "metadata": {},
     "output_type": "display_data"
    },
    {
     "name": "stdout",
     "output_type": "stream",
     "text": [
      "\n",
      "[val] acc : 0.85899, loss : 0.49281, f1 score : 0.74436\n",
      "best acc : 0.86296, best loss : 0.48334, best f1 : 0.74436\n"
     ]
    },
    {
     "data": {
      "application/vnd.jupyter.widget-view+json": {
       "model_id": "f68e03324b4445958a74b7f25954ed14",
       "version_major": 2,
       "version_minor": 0
      },
      "text/plain": [
       "HBox(children=(HTML(value=''), FloatProgress(value=0.0, max=60.0), HTML(value='')))"
      ]
     },
     "metadata": {},
     "output_type": "display_data"
    },
    {
     "name": "stdout",
     "output_type": "stream",
     "text": [
      "\n",
      "epoch[16/100] training loss 0.08238, training accuracy 0.98406\n"
     ]
    },
    {
     "data": {
      "application/vnd.jupyter.widget-view+json": {
       "model_id": "aae016bc84494d838502c086b461f68c",
       "version_major": 2,
       "version_minor": 0
      },
      "text/plain": [
       "HBox(children=(HTML(value=''), FloatProgress(value=0.0, max=15.0), HTML(value='')))"
      ]
     },
     "metadata": {},
     "output_type": "display_data"
    },
    {
     "name": "stdout",
     "output_type": "stream",
     "text": [
      "\n",
      "[val] acc : 0.85847, loss : 0.50461, f1 score : 0.72930\n",
      "best acc : 0.86296, best loss : 0.48334, best f1 : 0.74436\n"
     ]
    },
    {
     "data": {
      "application/vnd.jupyter.widget-view+json": {
       "model_id": "6a93c7ab800d41c9a0b3afd7daec8654",
       "version_major": 2,
       "version_minor": 0
      },
      "text/plain": [
       "HBox(children=(HTML(value=''), FloatProgress(value=0.0, max=60.0), HTML(value='')))"
      ]
     },
     "metadata": {},
     "output_type": "display_data"
    },
    {
     "name": "stdout",
     "output_type": "stream",
     "text": [
      "\n",
      "epoch[17/100] training loss 0.08510, training accuracy 0.97811\n"
     ]
    },
    {
     "data": {
      "application/vnd.jupyter.widget-view+json": {
       "model_id": "f20c4160e9df4572ac3fda1dc81cb33b",
       "version_major": 2,
       "version_minor": 0
      },
      "text/plain": [
       "HBox(children=(HTML(value=''), FloatProgress(value=0.0, max=15.0), HTML(value='')))"
      ]
     },
     "metadata": {},
     "output_type": "display_data"
    },
    {
     "name": "stdout",
     "output_type": "stream",
     "text": [
      "\n",
      "[val] acc : 0.86190, loss : 0.49410, f1 score : 0.76210\n",
      "best acc : 0.86296, best loss : 0.48334, best f1 : 0.76210\n"
     ]
    },
    {
     "data": {
      "application/vnd.jupyter.widget-view+json": {
       "model_id": "99349adca33b4fe183ee791db3cff427",
       "version_major": 2,
       "version_minor": 0
      },
      "text/plain": [
       "HBox(children=(HTML(value=''), FloatProgress(value=0.0, max=60.0), HTML(value='')))"
      ]
     },
     "metadata": {},
     "output_type": "display_data"
    },
    {
     "name": "stdout",
     "output_type": "stream",
     "text": [
      "\n",
      "epoch[18/100] training loss 0.06487, training accuracy 0.98770\n"
     ]
    },
    {
     "data": {
      "application/vnd.jupyter.widget-view+json": {
       "model_id": "342e4c9ef5b74e89a20748d6455dbc33",
       "version_major": 2,
       "version_minor": 0
      },
      "text/plain": [
       "HBox(children=(HTML(value=''), FloatProgress(value=0.0, max=15.0), HTML(value='')))"
      ]
     },
     "metadata": {},
     "output_type": "display_data"
    },
    {
     "name": "stdout",
     "output_type": "stream",
     "text": [
      "\n",
      "[val] acc : 0.85344, loss : 0.51779, f1 score : 0.72997\n",
      "best acc : 0.86296, best loss : 0.48334, best f1 : 0.76210\n"
     ]
    },
    {
     "data": {
      "application/vnd.jupyter.widget-view+json": {
       "model_id": "765ba803be67428294117d99fcd6961a",
       "version_major": 2,
       "version_minor": 0
      },
      "text/plain": [
       "HBox(children=(HTML(value=''), FloatProgress(value=0.0, max=60.0), HTML(value='')))"
      ]
     },
     "metadata": {},
     "output_type": "display_data"
    },
    {
     "name": "stdout",
     "output_type": "stream",
     "text": [
      "\n",
      "epoch[19/100] training loss 0.06315, training accuracy 0.98717\n"
     ]
    },
    {
     "data": {
      "application/vnd.jupyter.widget-view+json": {
       "model_id": "2b08e50d38394516b1025036842c4141",
       "version_major": 2,
       "version_minor": 0
      },
      "text/plain": [
       "HBox(children=(HTML(value=''), FloatProgress(value=0.0, max=15.0), HTML(value='')))"
      ]
     },
     "metadata": {},
     "output_type": "display_data"
    },
    {
     "name": "stdout",
     "output_type": "stream",
     "text": [
      "\n",
      "Early Stopping!\n"
     ]
    }
   ],
   "source": [
    "best_val_acc = 0\n",
    "best_val_loss = np.inf\n",
    "patience = 5\n",
    "cur_count = 0\n",
    "\n",
    "f1 = F1Score(num_classes=class_num, average='macro').to(device)\n",
    "best_f1_score = 0\n",
    "\n",
    "for epoch in range(NUM_EPOCH):\n",
    "    model.train()\n",
    "    loss_value = 0\n",
    "    matches = 0\n",
    "    for train_batch in tqdm(train_dataloader_mask):\n",
    "        inputs, labels = train_batch\n",
    "        inputs = inputs.to(device)\n",
    "        labels = labels.to(device)\n",
    "        \n",
    "        outs = model(inputs)\n",
    "        preds = torch.argmax(outs, dim=-1)\n",
    "        loss = criterion(outs, labels)\n",
    "        \n",
    "        optimizer.zero_grad()\n",
    "        loss.backward()\n",
    "        optimizer.step()\n",
    "        \n",
    "        if epoch % 10 == 0:\n",
    "            torch.save(model, '/opt/ml/checkpoint/RegNet/checkpoint_ep_%d.pt'% epoch)\n",
    "        \n",
    "        loss_value += loss.item()\n",
    "        matches += (preds == labels).sum().item()\n",
    "        \n",
    "    train_loss = loss_value / len(train_dataloader_mask)\n",
    "    train_acc = matches / len(mask_train_set)\n",
    "    \n",
    "    print(f\"epoch[{epoch}/{NUM_EPOCH}] training loss {train_loss:.5f}, training accuracy {train_acc:.5f}\")\n",
    "    \n",
    "    with torch.no_grad():\n",
    "        model.eval()\n",
    "        val_loss_items = []\n",
    "        val_acc_items = []\n",
    "        f1_score = 0\n",
    "        for val_batch in tqdm(val_dataloader_mask):\n",
    "            inputs, labels = val_batch\n",
    "            inputs = inputs.to(device)\n",
    "            labels = labels.to(device)\n",
    "            \n",
    "            outs = model(inputs)\n",
    "            preds = torch.argmax(outs, dim=-1)\n",
    "            \n",
    "            loss_item = criterion(outs, labels).item()\n",
    "            acc_item = (labels==preds).sum().item()\n",
    "            val_loss_items.append(loss_item)\n",
    "            val_acc_items.append(acc_item)\n",
    "            f1_score += f1(outs, labels)\n",
    "            \n",
    "        val_loss = np.sum(val_loss_items) / len(val_dataloader_mask)\n",
    "        val_acc = np.sum(val_acc_items) / len(mask_val_set)\n",
    "        \n",
    "        f1_score /= len(val_dataloader_mask)\n",
    "        \n",
    "        if val_loss < best_val_loss:\n",
    "            best_val_loss = val_loss\n",
    "            cur_count = 0\n",
    "            torch.save(model, '/opt/ml/checkpoint/RegNet/checkpoint_best.pt')\n",
    "        else:\n",
    "            cur_count += 1\n",
    "            if cur_count >= patience:\n",
    "                print(\"Early Stopping!\")\n",
    "                break\n",
    "                \n",
    "        if val_acc > best_val_acc:\n",
    "            best_val_acc = val_acc\n",
    "        \n",
    "        if f1_score > best_f1_score:\n",
    "            best_f1_score = f1_score    \n",
    "                \n",
    "        print(f\"[val] acc : {val_acc:.5f}, loss : {val_loss:.5f}, f1 score : {f1_score:.5f}\")\n",
    "        print(f\"best acc : {best_val_acc:.5f}, best loss : {best_val_loss:.5f}, best f1 : {best_f1_score:.5f}\")"
   ]
  },
  {
   "cell_type": "code",
   "execution_count": 26,
   "id": "10704860-4783-4d80-ab5b-48147c4cd8c5",
   "metadata": {},
   "outputs": [],
   "source": [
    "torch.save({\n",
    "        'model_state_dict': model.state_dict(),\n",
    "        'optimizer_state_dict': optimizer.state_dict(),\n",
    "        'epoch' : epoch\n",
    "        }, '/opt/ml/checkpoint/RegNet/checkpoint.tar')"
   ]
  },
  {
   "cell_type": "code",
   "execution_count": 18,
   "id": "72148dbc-d9ee-4a88-bc18-27a1a4e24148",
   "metadata": {},
   "outputs": [
    {
     "name": "stdout",
     "output_type": "stream",
     "text": [
      "using cuda:0\n"
     ]
    }
   ],
   "source": [
    "device = torch.device(\"cuda:0\" if torch.cuda.is_available() else \"cpu\")\n",
    "print(f\"using {device}\")\n",
    "\n",
    "NUM_EPOCH = 200\n",
    "class_num = 18\n",
    "\n",
    "model = torchvision.models.regnet_y_16gf(weights=torchvision.models.RegNet_Y_16GF_Weights.IMAGENET1K_SWAG_E2E_V1)\n",
    "model.fc = nn.Sequential(\n",
    "                nn.Linear(in_features=3024, out_features=1000, bias=True),\n",
    "                nn.Linear(in_features=1000, out_features=class_num, bias=True)\n",
    ")\n",
    "model = model.to(device)\n",
    "\n",
    "LEARNING_RATE = 0.0001\n",
    "criterion = nn.CrossEntropyLoss()\n",
    "optimizer = torch.optim.Adam(model.parameters(), lr=LEARNING_RATE)"
   ]
  },
  {
   "cell_type": "code",
   "execution_count": 19,
   "id": "bbbf4432-9bdb-4d53-aba6-b57804f30f47",
   "metadata": {},
   "outputs": [],
   "source": [
    "checkpoint = torch.load('/opt/ml/checkpoint/RegNet/checkpoint.tar')\n",
    "\n",
    "model.load_state_dict(checkpoint['model_state_dict'])\n",
    "optimizer.load_state_dict(checkpoint['optimizer_state_dict'])\n",
    "checkpoint_epoch = checkpoint['epoch']"
   ]
  },
  {
   "cell_type": "code",
   "execution_count": 20,
   "id": "e560abc7-e70f-4381-946d-054e914f15d4",
   "metadata": {},
   "outputs": [],
   "source": [
    "for param in model.parameters():\n",
    "    param.requires_grad = True"
   ]
  },
  {
   "cell_type": "code",
   "execution_count": 21,
   "id": "7ddb542f-6721-4820-8f75-d0dae66392d0",
   "metadata": {},
   "outputs": [
    {
     "name": "stdout",
     "output_type": "stream",
     "text": [
      "[0] name:[stem.0.weight] shape:[(32, 3, 3, 3)].\n",
      "    val:[-0.  0.  0.  0.  0.]\n",
      "[1] name:[stem.1.weight] shape:[(32,)].\n",
      "    val:[0.772 5.304 5.613 5.635 7.578]\n",
      "[2] name:[stem.1.bias] shape:[(32,)].\n",
      "    val:[-1.826  1.65  16.304 15.479  2.09 ]\n",
      "[3] name:[trunk_output.block1.block1-0.proj.0.weight] shape:[(224, 32, 1, 1)].\n",
      "    val:[ 0.     0.001 -0.    -0.001 -0.001]\n",
      "[4] name:[trunk_output.block1.block1-0.proj.1.weight] shape:[(224,)].\n",
      "    val:[-6.575e-03 -2.190e-05  1.392e-03 -2.287e-04  5.578e-03]\n",
      "[5] name:[trunk_output.block1.block1-0.proj.1.bias] shape:[(224,)].\n",
      "    val:[ 1.405  5.743 -0.396 -0.705 -0.043]\n",
      "[6] name:[trunk_output.block1.block1-0.f.a.0.weight] shape:[(224, 32, 1, 1)].\n",
      "    val:[-0.    -0.01  -0.364 -0.076  0.314]\n",
      "[7] name:[trunk_output.block1.block1-0.f.a.1.weight] shape:[(224,)].\n",
      "    val:[2.111 2.197 3.205 0.875 2.933]\n",
      "[8] name:[trunk_output.block1.block1-0.f.a.1.bias] shape:[(224,)].\n",
      "    val:[ 0.129  0.002 -1.065  1.929 -0.598]\n",
      "[9] name:[trunk_output.block1.block1-0.f.b.0.weight] shape:[(224, 112, 3, 3)].\n",
      "    val:[-0.012 -0.036 -0.03   0.023 -0.019]\n",
      "[10] name:[trunk_output.block1.block1-0.f.b.1.weight] shape:[(224,)].\n",
      "    val:[5.595 4.017 5.023 4.938 5.371]\n",
      "[11] name:[trunk_output.block1.block1-0.f.b.1.bias] shape:[(224,)].\n",
      "    val:[-20.453  -0.423  -1.608  -0.866  -0.791]\n",
      "[12] name:[trunk_output.block1.block1-0.f.se.fc1.weight] shape:[(8, 224, 1, 1)].\n",
      "    val:[ 0. -0.  0.  0.  0.]\n",
      "[13] name:[trunk_output.block1.block1-0.f.se.fc1.bias] shape:[(8,)].\n",
      "    val:[-0. -0.  0.  0.  0.]\n",
      "[14] name:[trunk_output.block1.block1-0.f.se.fc2.weight] shape:[(224, 8, 1, 1)].\n",
      "    val:[-0.  0.  0.  0.  0.]\n",
      "[15] name:[trunk_output.block1.block1-0.f.se.fc2.bias] shape:[(224,)].\n",
      "    val:[ 0.124  0.017 -0.022  0.027  0.002]\n",
      "[16] name:[trunk_output.block1.block1-0.f.c.0.weight] shape:[(224, 224, 1, 1)].\n",
      "    val:[0.133 0.019 0.007 0.068 0.016]\n",
      "[17] name:[trunk_output.block1.block1-0.f.c.1.weight] shape:[(224,)].\n",
      "    val:[ 3.909e+00  3.381e+00  5.070e+00  6.563e+00 -5.156e-03]\n",
      "[18] name:[trunk_output.block1.block1-0.f.c.1.bias] shape:[(224,)].\n",
      "    val:[ 1.405  5.743 -0.396 -0.705 -0.043]\n",
      "[19] name:[trunk_output.block1.block1-1.f.a.0.weight] shape:[(224, 224, 1, 1)].\n",
      "    val:[-0.024 -0.06   0.031 -0.054  0.   ]\n",
      "[20] name:[trunk_output.block1.block1-1.f.a.1.weight] shape:[(224,)].\n",
      "    val:[5.414 1.843 1.699 1.841 3.192]\n",
      "[21] name:[trunk_output.block1.block1-1.f.a.1.bias] shape:[(224,)].\n",
      "    val:[-1.643  2.361  4.392  2.061 -1.461]\n",
      "[22] name:[trunk_output.block1.block1-1.f.b.0.weight] shape:[(224, 112, 3, 3)].\n",
      "    val:[-0.021 -0.014  0.008 -0.008 -0.01 ]\n",
      "[23] name:[trunk_output.block1.block1-1.f.b.1.weight] shape:[(224,)].\n",
      "    val:[1.425 1.356 2.363 1.555 1.485]\n",
      "[24] name:[trunk_output.block1.block1-1.f.b.1.bias] shape:[(224,)].\n",
      "    val:[ 0.36   1.101 -5.179 -0.217 -0.182]\n",
      "[25] name:[trunk_output.block1.block1-1.f.se.fc1.weight] shape:[(56, 224, 1, 1)].\n",
      "    val:[0. 0. 0. 0. 0.]\n",
      "[26] name:[trunk_output.block1.block1-1.f.se.fc1.bias] shape:[(56,)].\n",
      "    val:[0.    0.022 0.    0.017 0.007]\n",
      "[27] name:[trunk_output.block1.block1-1.f.se.fc2.weight] shape:[(224, 56, 1, 1)].\n",
      "    val:[-0.     0.131  0.     0.001  0.001]\n",
      "[28] name:[trunk_output.block1.block1-1.f.se.fc2.bias] shape:[(224,)].\n",
      "    val:[ 0.013  0.046 -0.002  0.015  0.022]\n",
      "[29] name:[trunk_output.block1.block1-1.f.c.0.weight] shape:[(224, 224, 1, 1)].\n",
      "    val:[ 0.107 -0.056  0.084 -0.076  0.124]\n",
      "[30] name:[trunk_output.block1.block1-1.f.c.1.weight] shape:[(224,)].\n",
      "    val:[ 4.398 -0.426  4.985  3.03   6.305]\n",
      "[31] name:[trunk_output.block1.block1-1.f.c.1.bias] shape:[(224,)].\n",
      "    val:[-5.971  0.236 -2.12  -1.256  1.541]\n",
      "[32] name:[trunk_output.block2.block2-0.proj.0.weight] shape:[(448, 224, 1, 1)].\n",
      "    val:[-8.870e-05  2.759e-03  9.717e-03  9.513e-03  1.124e-02]\n",
      "[33] name:[trunk_output.block2.block2-0.proj.1.weight] shape:[(448,)].\n",
      "    val:[3.567 0.598 0.524 0.523 0.466]\n",
      "[34] name:[trunk_output.block2.block2-0.proj.1.bias] shape:[(448,)].\n",
      "    val:[ 1.34   1.301 -0.155  1.702  1.783]\n",
      "[35] name:[trunk_output.block2.block2-0.f.a.0.weight] shape:[(448, 224, 1, 1)].\n",
      "    val:[-0.055  0.006  0.005 -0.002 -0.012]\n",
      "[36] name:[trunk_output.block2.block2-0.f.a.1.weight] shape:[(448,)].\n",
      "    val:[2.647 3.041 2.461 1.662 3.98 ]\n",
      "[37] name:[trunk_output.block2.block2-0.f.a.1.bias] shape:[(448,)].\n",
      "    val:[-1.285 -2.163 -1.476  1.403 -3.51 ]\n",
      "[38] name:[trunk_output.block2.block2-0.f.b.0.weight] shape:[(448, 112, 3, 3)].\n",
      "    val:[-0.004  0.015  0.014 -0.004  0.014]\n",
      "[39] name:[trunk_output.block2.block2-0.f.b.1.weight] shape:[(448,)].\n",
      "    val:[1.184 0.692 1.219 1.581 0.868]\n",
      "[40] name:[trunk_output.block2.block2-0.f.b.1.bias] shape:[(448,)].\n",
      "    val:[ 0.581  1.68   0.073 -0.391  1.277]\n",
      "[41] name:[trunk_output.block2.block2-0.f.se.fc1.weight] shape:[(56, 448, 1, 1)].\n",
      "    val:[0. 0. 0. 0. 0.]\n",
      "[42] name:[trunk_output.block2.block2-0.f.se.fc1.bias] shape:[(56,)].\n",
      "    val:[ 0.     0.01  -0.005  0.012  0.011]\n",
      "[43] name:[trunk_output.block2.block2-0.f.se.fc2.weight] shape:[(448, 56, 1, 1)].\n",
      "    val:[ 0.    -0.046  0.022  0.009  0.007]\n",
      "[44] name:[trunk_output.block2.block2-0.f.se.fc2.bias] shape:[(448,)].\n",
      "    val:[ 0.016  0.047 -0.008 -0.004  0.056]\n",
      "[45] name:[trunk_output.block2.block2-0.f.c.0.weight] shape:[(448, 448, 1, 1)].\n",
      "    val:[ 0.004 -0.007 -0.004 -0.005 -0.006]\n",
      "[46] name:[trunk_output.block2.block2-0.f.c.1.weight] shape:[(448,)].\n",
      "    val:[-0.545  3.076  4.777  2.534  1.316]\n",
      "[47] name:[trunk_output.block2.block2-0.f.c.1.bias] shape:[(448,)].\n",
      "    val:[ 1.34   1.301 -0.155  1.702  1.783]\n",
      "[48] name:[trunk_output.block2.block2-1.f.a.0.weight] shape:[(448, 448, 1, 1)].\n",
      "    val:[ 0.023 -0.015 -0.016 -0.008 -0.005]\n",
      "[49] name:[trunk_output.block2.block2-1.f.a.1.weight] shape:[(448,)].\n",
      "    val:[1.25  1.374 1.574 2.554 1.487]\n",
      "[50] name:[trunk_output.block2.block2-1.f.a.1.bias] shape:[(448,)].\n",
      "    val:[-0.479  0.485  0.022 -5.411  0.29 ]\n",
      "[51] name:[trunk_output.block2.block2-1.f.b.0.weight] shape:[(448, 112, 3, 3)].\n",
      "    val:[-0.003  0.009 -0.001  0.007 -0.003]\n",
      "[52] name:[trunk_output.block2.block2-1.f.b.1.weight] shape:[(448,)].\n",
      "    val:[9.549 4.034 3.295 2.066 3.038]\n",
      "[53] name:[trunk_output.block2.block2-1.f.b.1.bias] shape:[(448,)].\n",
      "    val:[-6.032 -2.484 -2.43   0.731 -1.824]\n",
      "[54] name:[trunk_output.block2.block2-1.f.se.fc1.weight] shape:[(112, 448, 1, 1)].\n",
      "    val:[-0.044 -0.117 -0.011  0.028 -0.002]\n",
      "[55] name:[trunk_output.block2.block2-1.f.se.fc1.bias] shape:[(112,)].\n",
      "    val:[ 2.529e-02  1.152e-02  1.685e-02 -6.898e-05  1.444e-02]\n",
      "[56] name:[trunk_output.block2.block2-1.f.se.fc2.weight] shape:[(448, 112, 1, 1)].\n",
      "    val:[ 0.01  -0.048 -0.045  0.006 -0.009]\n",
      "[57] name:[trunk_output.block2.block2-1.f.se.fc2.bias] shape:[(448,)].\n",
      "    val:[-0.052 -0.015 -0.002  0.004 -0.003]\n",
      "[58] name:[trunk_output.block2.block2-1.f.c.0.weight] shape:[(448, 448, 1, 1)].\n",
      "    val:[ 0.027 -0.005  0.016  0.028  0.007]\n",
      "[59] name:[trunk_output.block2.block2-1.f.c.1.weight] shape:[(448,)].\n",
      "    val:[2.547 1.594 1.437 0.573 1.93 ]\n",
      "[60] name:[trunk_output.block2.block2-1.f.c.1.bias] shape:[(448,)].\n",
      "    val:[-2.569 -1.569 -0.984  0.784  3.204]\n",
      "[61] name:[trunk_output.block2.block2-2.f.a.0.weight] shape:[(448, 448, 1, 1)].\n",
      "    val:[-0.011 -0.034  0.01   0.015  0.014]\n",
      "[62] name:[trunk_output.block2.block2-2.f.a.1.weight] shape:[(448,)].\n",
      "    val:[1.802 1.786 2.925 3.467 2.435]\n",
      "[63] name:[trunk_output.block2.block2-2.f.a.1.bias] shape:[(448,)].\n",
      "    val:[-0.205 -0.278 -2.387 -7.349 -2.326]\n",
      "[64] name:[trunk_output.block2.block2-2.f.b.0.weight] shape:[(448, 112, 3, 3)].\n",
      "    val:[ 0.019  0.008 -0.014  0.017 -0.025]\n",
      "[65] name:[trunk_output.block2.block2-2.f.b.1.weight] shape:[(448,)].\n",
      "    val:[3.079 3.1   3.276 4.774 4.43 ]\n",
      "[66] name:[trunk_output.block2.block2-2.f.b.1.bias] shape:[(448,)].\n",
      "    val:[-1.202 -2.907 -1.555 -3.92  -4.031]\n",
      "[67] name:[trunk_output.block2.block2-2.f.se.fc1.weight] shape:[(112, 448, 1, 1)].\n",
      "    val:[ 0.033  0.002  0.008  0.005 -0.019]\n",
      "[68] name:[trunk_output.block2.block2-2.f.se.fc1.bias] shape:[(112,)].\n",
      "    val:[0.018 0.018 0.008 0.001 0.018]\n",
      "[69] name:[trunk_output.block2.block2-2.f.se.fc2.weight] shape:[(448, 112, 1, 1)].\n",
      "    val:[-0.035  0.02  -0.001 -0.02   0.008]\n",
      "[70] name:[trunk_output.block2.block2-2.f.se.fc2.bias] shape:[(448,)].\n",
      "    val:[-0.007  0.003 -0.009 -0.025 -0.001]\n",
      "[71] name:[trunk_output.block2.block2-2.f.c.0.weight] shape:[(448, 448, 1, 1)].\n",
      "    val:[-0.001 -0.001  0.016 -0.004  0.001]\n",
      "[72] name:[trunk_output.block2.block2-2.f.c.1.weight] shape:[(448,)].\n",
      "    val:[-0.196  2.712  2.127  3.075  2.635]\n",
      "[73] name:[trunk_output.block2.block2-2.f.c.1.bias] shape:[(448,)].\n",
      "    val:[ 0.076 -2.9   -0.027 -0.858  1.049]\n",
      "[74] name:[trunk_output.block2.block2-3.f.a.0.weight] shape:[(448, 448, 1, 1)].\n",
      "    val:[ 0.01  -0.008 -0.026  0.004  0.005]\n",
      "[75] name:[trunk_output.block2.block2-3.f.a.1.weight] shape:[(448,)].\n",
      "    val:[2.591 2.951 2.148 2.657 1.995]\n",
      "[76] name:[trunk_output.block2.block2-3.f.a.1.bias] shape:[(448,)].\n",
      "    val:[-1.94  -4.002 -1.372 -1.62  -0.861]\n",
      "[77] name:[trunk_output.block2.block2-3.f.b.0.weight] shape:[(448, 112, 3, 3)].\n",
      "    val:[-0.016  0.004 -0.016 -0.002 -0.011]\n",
      "[78] name:[trunk_output.block2.block2-3.f.b.1.weight] shape:[(448,)].\n",
      "    val:[12.229  2.697  1.758  2.068  1.361]\n",
      "[79] name:[trunk_output.block2.block2-3.f.b.1.bias] shape:[(448,)].\n",
      "    val:[-4.454 -4.355 -1.444 -1.126  0.958]\n",
      "[80] name:[trunk_output.block2.block2-3.f.se.fc1.weight] shape:[(112, 448, 1, 1)].\n",
      "    val:[-0.01   0.001  0.001  0.002  0.003]\n",
      "[81] name:[trunk_output.block2.block2-3.f.se.fc1.bias] shape:[(112,)].\n",
      "    val:[0.004 0.006 0.004 0.009 0.017]\n",
      "[82] name:[trunk_output.block2.block2-3.f.se.fc2.weight] shape:[(448, 112, 1, 1)].\n",
      "    val:[ 0.014  0.019 -0.     0.028 -0.071]\n",
      "[83] name:[trunk_output.block2.block2-3.f.se.fc2.bias] shape:[(448,)].\n",
      "    val:[-0.043  0.007  0.008  0.007  0.012]\n",
      "[84] name:[trunk_output.block2.block2-3.f.c.0.weight] shape:[(448, 448, 1, 1)].\n",
      "    val:[ 0.018  0.011 -0.001 -0.002 -0.01 ]\n",
      "[85] name:[trunk_output.block2.block2-3.f.c.1.weight] shape:[(448,)].\n",
      "    val:[0.936 1.693 2.688 2.049 1.622]\n",
      "[86] name:[trunk_output.block2.block2-3.f.c.1.bias] shape:[(448,)].\n",
      "    val:[-0.644  2.323 -2.94  -4.479  0.698]\n",
      "[87] name:[trunk_output.block3.block3-0.proj.0.weight] shape:[(1232, 448, 1, 1)].\n",
      "    val:[ 0.001 -0.022  0.015 -0.013  0.004]\n",
      "[88] name:[trunk_output.block3.block3-0.proj.1.weight] shape:[(1232,)].\n",
      "    val:[0.741 1.922 0.718 0.875 0.328]\n",
      "[89] name:[trunk_output.block3.block3-0.proj.1.bias] shape:[(1232,)].\n",
      "    val:[ 1.152 -2.991 -0.532 -0.859 -0.288]\n",
      "[90] name:[trunk_output.block3.block3-0.f.a.0.weight] shape:[(1232, 448, 1, 1)].\n",
      "    val:[-0.007  0.003 -0.019  0.011  0.01 ]\n",
      "[91] name:[trunk_output.block3.block3-0.f.a.1.weight] shape:[(1232,)].\n",
      "    val:[1.271 1.152 2.905 2.893 3.063]\n",
      "[92] name:[trunk_output.block3.block3-0.f.a.1.bias] shape:[(1232,)].\n",
      "    val:[ 0.18   0.507 -3.531 -3.455 -4.963]\n",
      "[93] name:[trunk_output.block3.block3-0.f.b.0.weight] shape:[(1232, 112, 3, 3)].\n",
      "    val:[-0.005  0.002 -0.007 -0.006 -0.009]\n",
      "[94] name:[trunk_output.block3.block3-0.f.b.1.weight] shape:[(1232,)].\n",
      "    val:[0.693 6.211 0.786 0.63  0.622]\n",
      "[95] name:[trunk_output.block3.block3-0.f.b.1.bias] shape:[(1232,)].\n",
      "    val:[-0.039 -0.412  0.097  0.305 -0.329]\n",
      "[96] name:[trunk_output.block3.block3-0.f.se.fc1.weight] shape:[(112, 1232, 1, 1)].\n",
      "    val:[ 0.002  0.006  0.003 -0.011  0.008]\n",
      "[97] name:[trunk_output.block3.block3-0.f.se.fc1.bias] shape:[(112,)].\n",
      "    val:[ 0.002  0.004  0.002  0.001 -0.002]\n",
      "[98] name:[trunk_output.block3.block3-0.f.se.fc2.weight] shape:[(1232, 112, 1, 1)].\n",
      "    val:[-0.011  0.01   0.015  0.002  0.004]\n",
      "[99] name:[trunk_output.block3.block3-0.f.se.fc2.bias] shape:[(1232,)].\n",
      "    val:[ 0.002 -0.009  0.002  0.003  0.002]\n",
      "[100] name:[trunk_output.block3.block3-0.f.c.0.weight] shape:[(1232, 1232, 1, 1)].\n",
      "    val:[ 0.016 -0.026  0.019  0.002  0.013]\n",
      "[101] name:[trunk_output.block3.block3-0.f.c.1.weight] shape:[(1232,)].\n",
      "    val:[2.199 5.456 2.328 3.087 1.945]\n",
      "[102] name:[trunk_output.block3.block3-0.f.c.1.bias] shape:[(1232,)].\n",
      "    val:[ 1.152 -2.991 -0.532 -0.859 -0.288]\n",
      "[103] name:[trunk_output.block3.block3-1.f.a.0.weight] shape:[(1232, 1232, 1, 1)].\n",
      "    val:[-0.023 -0.02   0.003  0.08  -0.009]\n",
      "[104] name:[trunk_output.block3.block3-1.f.a.1.weight] shape:[(1232,)].\n",
      "    val:[2.108 1.79  1.987 2.139 2.621]\n",
      "[105] name:[trunk_output.block3.block3-1.f.a.1.bias] shape:[(1232,)].\n",
      "    val:[-2.273 -0.588 -1.952 -2.506 -4.039]\n",
      "[106] name:[trunk_output.block3.block3-1.f.b.0.weight] shape:[(1232, 112, 3, 3)].\n",
      "    val:[ 0.007 -0.     0.006 -0.002 -0.018]\n",
      "[107] name:[trunk_output.block3.block3-1.f.b.1.weight] shape:[(1232,)].\n",
      "    val:[3.636 1.669 2.374 1.936 2.472]\n",
      "[108] name:[trunk_output.block3.block3-1.f.b.1.bias] shape:[(1232,)].\n",
      "    val:[-1.781  0.18  -1.04   0.747 -1.254]\n",
      "[109] name:[trunk_output.block3.block3-1.f.se.fc1.weight] shape:[(308, 1232, 1, 1)].\n",
      "    val:[-1.807e-05  1.460e-02  8.863e-03  6.696e-03 -9.998e-03]\n",
      "[110] name:[trunk_output.block3.block3-1.f.se.fc1.bias] shape:[(308,)].\n",
      "    val:[0.006 0.    0.007 0.007 0.003]\n",
      "[111] name:[trunk_output.block3.block3-1.f.se.fc2.weight] shape:[(1232, 308, 1, 1)].\n",
      "    val:[-0.011  0.     0.001 -0.005 -0.009]\n",
      "[112] name:[trunk_output.block3.block3-1.f.se.fc2.bias] shape:[(1232,)].\n",
      "    val:[-0.01  -0.005 -0.004 -0.014 -0.008]\n",
      "[113] name:[trunk_output.block3.block3-1.f.c.0.weight] shape:[(1232, 1232, 1, 1)].\n",
      "    val:[-0.024 -0.019 -0.014  0.031 -0.019]\n",
      "[114] name:[trunk_output.block3.block3-1.f.c.1.weight] shape:[(1232,)].\n",
      "    val:[1.141 3.293 0.787 2.499 0.442]\n",
      "[115] name:[trunk_output.block3.block3-1.f.c.1.bias] shape:[(1232,)].\n",
      "    val:[-1.177 -5.093 -0.646 -2.244  2.385]\n",
      "[116] name:[trunk_output.block3.block3-2.f.a.0.weight] shape:[(1232, 1232, 1, 1)].\n",
      "    val:[ 0.007  0.003 -0.013  0.002  0.009]\n",
      "[117] name:[trunk_output.block3.block3-2.f.a.1.weight] shape:[(1232,)].\n",
      "    val:[1.937 2.468 2.294 2.631 3.131]\n",
      "[118] name:[trunk_output.block3.block3-2.f.a.1.bias] shape:[(1232,)].\n",
      "    val:[-2.572 -3.298 -2.336 -3.019 -4.406]\n",
      "[119] name:[trunk_output.block3.block3-2.f.b.0.weight] shape:[(1232, 112, 3, 3)].\n",
      "    val:[ 0.013 -0.003 -0.009  0.027  0.007]\n",
      "[120] name:[trunk_output.block3.block3-2.f.b.1.weight] shape:[(1232,)].\n",
      "    val:[2.218 2.337 1.946 1.401 2.852]\n",
      "[121] name:[trunk_output.block3.block3-2.f.b.1.bias] shape:[(1232,)].\n",
      "    val:[-1.103 -1.607 -1.596  0.371 -3.018]\n",
      "[122] name:[trunk_output.block3.block3-2.f.se.fc1.weight] shape:[(308, 1232, 1, 1)].\n",
      "    val:[-6.879e-04 -3.501e-04 -8.399e-04  1.039e-06  3.652e-05]\n",
      "[123] name:[trunk_output.block3.block3-2.f.se.fc1.bias] shape:[(308,)].\n",
      "    val:[0.    0.003 0.004 0.003 0.002]\n",
      "[124] name:[trunk_output.block3.block3-2.f.se.fc2.weight] shape:[(1232, 308, 1, 1)].\n",
      "    val:[-0.     0.003  0.003  0.002  0.001]\n",
      "[125] name:[trunk_output.block3.block3-2.f.se.fc2.bias] shape:[(1232,)].\n",
      "    val:[ 2.772e-03  8.103e-04  1.535e-03  1.096e-03 -1.883e-05]\n",
      "[126] name:[trunk_output.block3.block3-2.f.c.0.weight] shape:[(1232, 1232, 1, 1)].\n",
      "    val:[ 0.012 -0.     0.001 -0.009 -0.006]\n",
      "[127] name:[trunk_output.block3.block3-2.f.c.1.weight] shape:[(1232,)].\n",
      "    val:[0.622 1.699 1.121 3.458 0.473]\n",
      "[128] name:[trunk_output.block3.block3-2.f.c.1.bias] shape:[(1232,)].\n",
      "    val:[-0.48  -0.292  0.157 -1.762  1.877]\n",
      "[129] name:[trunk_output.block3.block3-3.f.a.0.weight] shape:[(1232, 1232, 1, 1)].\n",
      "    val:[ 0.001 -0.001  0.008 -0.003 -0.003]\n",
      "[130] name:[trunk_output.block3.block3-3.f.a.1.weight] shape:[(1232,)].\n",
      "    val:[2.273 2.244 1.989 1.185 1.649]\n",
      "[131] name:[trunk_output.block3.block3-3.f.a.1.bias] shape:[(1232,)].\n",
      "    val:[-2.673 -3.312 -2.244 -0.077 -3.805]\n",
      "[132] name:[trunk_output.block3.block3-3.f.b.0.weight] shape:[(1232, 112, 3, 3)].\n",
      "    val:[ 0.001 -0.004  0.003 -0.008 -0.009]\n",
      "[133] name:[trunk_output.block3.block3-3.f.b.1.weight] shape:[(1232,)].\n",
      "    val:[1.239 2.009 1.613 1.413 2.38 ]\n",
      "[134] name:[trunk_output.block3.block3-3.f.b.1.bias] shape:[(1232,)].\n",
      "    val:[-1.672 -2.823 -3.029 -2.658 -5.733]\n",
      "[135] name:[trunk_output.block3.block3-3.f.se.fc1.weight] shape:[(308, 1232, 1, 1)].\n",
      "    val:[ 0.001 -0.001  0.001 -0.001  0.008]\n",
      "[136] name:[trunk_output.block3.block3-3.f.se.fc1.bias] shape:[(308,)].\n",
      "    val:[0.001 0.003 0.004 0.007 0.007]\n",
      "[137] name:[trunk_output.block3.block3-3.f.se.fc2.weight] shape:[(1232, 308, 1, 1)].\n",
      "    val:[ 0.01  -0.003  0.004  0.001  0.004]\n",
      "[138] name:[trunk_output.block3.block3-3.f.se.fc2.bias] shape:[(1232,)].\n",
      "    val:[ 0.004 -0.001  0.002  0.003 -0.011]\n",
      "[139] name:[trunk_output.block3.block3-3.f.c.0.weight] shape:[(1232, 1232, 1, 1)].\n",
      "    val:[ 0.001  0.001 -0.003  0.005 -0.009]\n",
      "[140] name:[trunk_output.block3.block3-3.f.c.1.weight] shape:[(1232,)].\n",
      "    val:[0.375 1.824 0.764 4.045 0.472]\n",
      "[141] name:[trunk_output.block3.block3-3.f.c.1.bias] shape:[(1232,)].\n",
      "    val:[ 0.468 -1.571 -0.708 -3.85   1.605]\n",
      "[142] name:[trunk_output.block3.block3-4.f.a.0.weight] shape:[(1232, 1232, 1, 1)].\n",
      "    val:[-0.005 -0.016  0.009  0.025 -0.013]\n",
      "[143] name:[trunk_output.block3.block3-4.f.a.1.weight] shape:[(1232,)].\n",
      "    val:[1.636 1.418 2.573 3.06  1.567]\n",
      "[144] name:[trunk_output.block3.block3-4.f.a.1.bias] shape:[(1232,)].\n",
      "    val:[ 0.973  0.93  -1.763 -5.673  0.042]\n",
      "[145] name:[trunk_output.block3.block3-4.f.b.0.weight] shape:[(1232, 112, 3, 3)].\n",
      "    val:[-0.006  0.005  0.008  0.017 -0.012]\n",
      "[146] name:[trunk_output.block3.block3-4.f.b.1.weight] shape:[(1232,)].\n",
      "    val:[2.943 2.406 2.209 1.982 1.937]\n",
      "[147] name:[trunk_output.block3.block3-4.f.b.1.bias] shape:[(1232,)].\n",
      "    val:[-2.351 -1.867 -1.705 -0.963 -1.285]\n",
      "[148] name:[trunk_output.block3.block3-4.f.se.fc1.weight] shape:[(308, 1232, 1, 1)].\n",
      "    val:[-0.001  0.     0.002  0.002  0.   ]\n",
      "[149] name:[trunk_output.block3.block3-4.f.se.fc1.bias] shape:[(308,)].\n",
      "    val:[0.005 0.003 0.004 0.003 0.008]\n",
      "[150] name:[trunk_output.block3.block3-4.f.se.fc2.weight] shape:[(1232, 308, 1, 1)].\n",
      "    val:[ 0.008 -0.008 -0.007  0.004  0.001]\n",
      "[151] name:[trunk_output.block3.block3-4.f.se.fc2.bias] shape:[(1232,)].\n",
      "    val:[ 0.006  0.003 -0.003 -0.003  0.   ]\n",
      "[152] name:[trunk_output.block3.block3-4.f.c.0.weight] shape:[(1232, 1232, 1, 1)].\n",
      "    val:[ 0.014  0.001  0.01  -0.015  0.004]\n",
      "[153] name:[trunk_output.block3.block3-4.f.c.1.weight] shape:[(1232,)].\n",
      "    val:[1.002 2.215 0.791 5.168 0.565]\n",
      "[154] name:[trunk_output.block3.block3-4.f.c.1.bias] shape:[(1232,)].\n",
      "    val:[-0.984 -2.304 -0.234 -8.127  0.647]\n",
      "[155] name:[trunk_output.block3.block3-5.f.a.0.weight] shape:[(1232, 1232, 1, 1)].\n",
      "    val:[ 0.011  0.009  0.027  0.015 -0.016]\n",
      "[156] name:[trunk_output.block3.block3-5.f.a.1.weight] shape:[(1232,)].\n",
      "    val:[1.771 1.929 2.697 2.066 2.355]\n",
      "[157] name:[trunk_output.block3.block3-5.f.a.1.bias] shape:[(1232,)].\n",
      "    val:[-1.827 -1.757 -4.429 -5.627 -2.513]\n",
      "[158] name:[trunk_output.block3.block3-5.f.b.0.weight] shape:[(1232, 112, 3, 3)].\n",
      "    val:[-0.005 -0.002 -0.013 -0.004  0.028]\n",
      "[159] name:[trunk_output.block3.block3-5.f.b.1.weight] shape:[(1232,)].\n",
      "    val:[2.766 2.128 2.408 2.974 3.033]\n",
      "[160] name:[trunk_output.block3.block3-5.f.b.1.bias] shape:[(1232,)].\n",
      "    val:[-2.561 -2.809 -2.058 -3.408 -4.655]\n",
      "[161] name:[trunk_output.block3.block3-5.f.se.fc1.weight] shape:[(308, 1232, 1, 1)].\n",
      "    val:[0.032 0.008 0.005 0.014 0.011]\n",
      "[162] name:[trunk_output.block3.block3-5.f.se.fc1.bias] shape:[(308,)].\n",
      "    val:[0.016 0.007 0.008 0.01  0.009]\n",
      "[163] name:[trunk_output.block3.block3-5.f.se.fc2.weight] shape:[(1232, 308, 1, 1)].\n",
      "    val:[ 0.024 -0.005 -0.003  0.008  0.003]\n",
      "[164] name:[trunk_output.block3.block3-5.f.se.fc2.bias] shape:[(1232,)].\n",
      "    val:[-0.006  0.003 -0.003 -0.01  -0.   ]\n",
      "[165] name:[trunk_output.block3.block3-5.f.c.0.weight] shape:[(1232, 1232, 1, 1)].\n",
      "    val:[-0.005 -0.001  0.008  0.012  0.032]\n",
      "[166] name:[trunk_output.block3.block3-5.f.c.1.weight] shape:[(1232,)].\n",
      "    val:[0.861 2.626 1.558 3.734 0.667]\n",
      "[167] name:[trunk_output.block3.block3-5.f.c.1.bias] shape:[(1232,)].\n",
      "    val:[ 0.02  -3.249 -1.773 -4.244  0.057]\n",
      "[168] name:[trunk_output.block3.block3-6.f.a.0.weight] shape:[(1232, 1232, 1, 1)].\n",
      "    val:[-0.025 -0.    -0.014 -0.015  0.039]\n",
      "[169] name:[trunk_output.block3.block3-6.f.a.1.weight] shape:[(1232,)].\n",
      "    val:[2.409 1.849 1.811 1.935 2.054]\n",
      "[170] name:[trunk_output.block3.block3-6.f.a.1.bias] shape:[(1232,)].\n",
      "    val:[-5.494 -2.452 -1.541 -6.651 -2.559]\n",
      "[171] name:[trunk_output.block3.block3-6.f.b.0.weight] shape:[(1232, 112, 3, 3)].\n",
      "    val:[-0.002 -0.004 -0.007 -0.004 -0.006]\n",
      "[172] name:[trunk_output.block3.block3-6.f.b.1.weight] shape:[(1232,)].\n",
      "    val:[2.495 3.101 3.396 3.213 2.51 ]\n",
      "[173] name:[trunk_output.block3.block3-6.f.b.1.bias] shape:[(1232,)].\n",
      "    val:[-1.315 -4.956 -2.995 -8.424 -1.261]\n",
      "[174] name:[trunk_output.block3.block3-6.f.se.fc1.weight] shape:[(308, 1232, 1, 1)].\n",
      "    val:[-0.024  0.007  0.011  0.003  0.009]\n",
      "[175] name:[trunk_output.block3.block3-6.f.se.fc1.bias] shape:[(308,)].\n",
      "    val:[0.006 0.004 0.007 0.006 0.01 ]\n",
      "[176] name:[trunk_output.block3.block3-6.f.se.fc2.weight] shape:[(1232, 308, 1, 1)].\n",
      "    val:[-0.004 -0.007  0.001  0.015  0.002]\n",
      "[177] name:[trunk_output.block3.block3-6.f.se.fc2.bias] shape:[(1232,)].\n",
      "    val:[-0.001 -0.003 -0.008  0.007 -0.005]\n",
      "[178] name:[trunk_output.block3.block3-6.f.c.0.weight] shape:[(1232, 1232, 1, 1)].\n",
      "    val:[ 0.032 -0.023 -0.014  0.004  0.02 ]\n",
      "[179] name:[trunk_output.block3.block3-6.f.c.1.weight] shape:[(1232,)].\n",
      "    val:[0.761 3.188 0.884 3.446 0.667]\n",
      "[180] name:[trunk_output.block3.block3-6.f.c.1.bias] shape:[(1232,)].\n",
      "    val:[ 0.415 -2.713  2.019 -3.427 -1.803]\n",
      "[181] name:[trunk_output.block3.block3-7.f.a.0.weight] shape:[(1232, 1232, 1, 1)].\n",
      "    val:[-0.043  0.007 -0.017 -0.007  0.009]\n",
      "[182] name:[trunk_output.block3.block3-7.f.a.1.weight] shape:[(1232,)].\n",
      "    val:[2.974 3.152 2.452 1.547 1.508]\n",
      "[183] name:[trunk_output.block3.block3-7.f.a.1.bias] shape:[(1232,)].\n",
      "    val:[-6.317 -7.378 -4.206 -1.813 -1.382]\n",
      "[184] name:[trunk_output.block3.block3-7.f.b.0.weight] shape:[(1232, 112, 3, 3)].\n",
      "    val:[ 0.008 -0.006  0.003  0.022  0.026]\n",
      "[185] name:[trunk_output.block3.block3-7.f.b.1.weight] shape:[(1232,)].\n",
      "    val:[ 3.605  4.101 11.269 14.154  4.178]\n",
      "[186] name:[trunk_output.block3.block3-7.f.b.1.bias] shape:[(1232,)].\n",
      "    val:[ -3.517  -4.395 -10.833  -9.651   1.015]\n",
      "[187] name:[trunk_output.block3.block3-7.f.se.fc1.weight] shape:[(308, 1232, 1, 1)].\n",
      "    val:[ 0.009 -0.003  0.02  -0.054  0.004]\n",
      "[188] name:[trunk_output.block3.block3-7.f.se.fc1.bias] shape:[(308,)].\n",
      "    val:[ 0.007  0.002 -0.004  0.005  0.009]\n",
      "[189] name:[trunk_output.block3.block3-7.f.se.fc2.weight] shape:[(1232, 308, 1, 1)].\n",
      "    val:[ 0.019 -0.022  0.007 -0.027  0.015]\n",
      "[190] name:[trunk_output.block3.block3-7.f.se.fc2.bias] shape:[(1232,)].\n",
      "    val:[-0.001  0.003 -0.02  -0.016  0.006]\n",
      "[191] name:[trunk_output.block3.block3-7.f.c.0.weight] shape:[(1232, 1232, 1, 1)].\n",
      "    val:[-0.004 -0.01   0.015  0.008 -0.002]\n",
      "[192] name:[trunk_output.block3.block3-7.f.c.1.weight] shape:[(1232,)].\n",
      "    val:[0.868 2.385 0.777 2.235 0.636]\n",
      "[193] name:[trunk_output.block3.block3-7.f.c.1.bias] shape:[(1232,)].\n",
      "    val:[-1.013 -0.761 -0.03  -1.578 -0.776]\n",
      "[194] name:[trunk_output.block3.block3-8.f.a.0.weight] shape:[(1232, 1232, 1, 1)].\n",
      "    val:[ 0.029 -0.014 -0.014 -0.02   0.016]\n",
      "[195] name:[trunk_output.block3.block3-8.f.a.1.weight] shape:[(1232,)].\n",
      "    val:[1.724 2.232 2.743 2.33  1.995]\n",
      "[196] name:[trunk_output.block3.block3-8.f.a.1.bias] shape:[(1232,)].\n",
      "    val:[-2.237 -4.422 -4.693 -3.777 -2.852]\n",
      "[197] name:[trunk_output.block3.block3-8.f.b.0.weight] shape:[(1232, 112, 3, 3)].\n",
      "    val:[-0.002  0.001  0.004  0.007  0.005]\n",
      "[198] name:[trunk_output.block3.block3-8.f.b.1.weight] shape:[(1232,)].\n",
      "    val:[7.535 6.218 6.19  5.914 5.752]\n",
      "[199] name:[trunk_output.block3.block3-8.f.b.1.bias] shape:[(1232,)].\n",
      "    val:[-5.502 -5.684 -3.745 -3.955 -4.244]\n",
      "[200] name:[trunk_output.block3.block3-8.f.se.fc1.weight] shape:[(308, 1232, 1, 1)].\n",
      "    val:[ 0.02  -0.005  0.016  0.001  0.03 ]\n",
      "[201] name:[trunk_output.block3.block3-8.f.se.fc1.bias] shape:[(308,)].\n",
      "    val:[0.007 0.014 0.011 0.006 0.005]\n",
      "[202] name:[trunk_output.block3.block3-8.f.se.fc2.weight] shape:[(1232, 308, 1, 1)].\n",
      "    val:[-0.012 -0.034  0.002  0.002 -0.032]\n",
      "[203] name:[trunk_output.block3.block3-8.f.se.fc2.bias] shape:[(1232,)].\n",
      "    val:[-0.013 -0.007 -0.009 -0.01  -0.006]\n",
      "[204] name:[trunk_output.block3.block3-8.f.c.0.weight] shape:[(1232, 1232, 1, 1)].\n",
      "    val:[ 0.013  0.002  0.02  -0.002  0.019]\n",
      "[205] name:[trunk_output.block3.block3-8.f.c.1.weight] shape:[(1232,)].\n",
      "    val:[0.91  1.859 0.608 2.646 0.583]\n",
      "[206] name:[trunk_output.block3.block3-8.f.c.1.bias] shape:[(1232,)].\n",
      "    val:[-0.269 -0.916  0.919 -1.03  -0.117]\n",
      "[207] name:[trunk_output.block3.block3-9.f.a.0.weight] shape:[(1232, 1232, 1, 1)].\n",
      "    val:[ 0.038 -0.018 -0.024  0.01   0.001]\n",
      "[208] name:[trunk_output.block3.block3-9.f.a.1.weight] shape:[(1232,)].\n",
      "    val:[2.387 2.584 3.501 2.778 2.278]\n",
      "[209] name:[trunk_output.block3.block3-9.f.a.1.bias] shape:[(1232,)].\n",
      "    val:[-3.973 -3.767 -7.29  -4.206 -3.277]\n",
      "[210] name:[trunk_output.block3.block3-9.f.b.0.weight] shape:[(1232, 112, 3, 3)].\n",
      "    val:[-0.011  0.003 -0.009 -0.009 -0.003]\n",
      "[211] name:[trunk_output.block3.block3-9.f.b.1.weight] shape:[(1232,)].\n",
      "    val:[6.712 3.021 4.501 5.468 7.061]\n",
      "[212] name:[trunk_output.block3.block3-9.f.b.1.bias] shape:[(1232,)].\n",
      "    val:[-4.241  0.718 -4.609 -5.01  -4.55 ]\n",
      "[213] name:[trunk_output.block3.block3-9.f.se.fc1.weight] shape:[(308, 1232, 1, 1)].\n",
      "    val:[-0.007 -0.003 -0.013  0.026 -0.02 ]\n",
      "[214] name:[trunk_output.block3.block3-9.f.se.fc1.bias] shape:[(308,)].\n",
      "    val:[0.003 0.01  0.008 0.003 0.001]\n",
      "[215] name:[trunk_output.block3.block3-9.f.se.fc2.weight] shape:[(1232, 308, 1, 1)].\n",
      "    val:[-0.03  -0.033 -0.037 -0.035 -0.024]\n",
      "[216] name:[trunk_output.block3.block3-9.f.se.fc2.bias] shape:[(1232,)].\n",
      "    val:[-7.900e-03  1.217e-02 -2.888e-03  4.546e-05 -7.591e-03]\n",
      "[217] name:[trunk_output.block3.block3-9.f.c.0.weight] shape:[(1232, 1232, 1, 1)].\n",
      "    val:[-0.002  0.035 -0.004 -0.011 -0.006]\n",
      "[218] name:[trunk_output.block3.block3-9.f.c.1.weight] shape:[(1232,)].\n",
      "    val:[0.999 1.961 0.492 2.003 0.546]\n",
      "[219] name:[trunk_output.block3.block3-9.f.c.1.bias] shape:[(1232,)].\n",
      "    val:[-0.501 -0.847  0.218 -1.269 -1.045]\n",
      "[220] name:[trunk_output.block3.block3-10.f.a.0.weight] shape:[(1232, 1232, 1, 1)].\n",
      "    val:[-0.024 -0.028 -0.006 -0.009  0.002]\n",
      "[221] name:[trunk_output.block3.block3-10.f.a.1.weight] shape:[(1232,)].\n",
      "    val:[2.156 2.73  2.411 1.978 2.316]\n",
      "[222] name:[trunk_output.block3.block3-10.f.a.1.bias] shape:[(1232,)].\n",
      "    val:[-3.572 -6.219 -4.919 -3.665 -3.891]\n",
      "[223] name:[trunk_output.block3.block3-10.f.b.0.weight] shape:[(1232, 112, 3, 3)].\n",
      "    val:[ 0.005  0.003  0.004 -0.001 -0.011]\n",
      "[224] name:[trunk_output.block3.block3-10.f.b.1.weight] shape:[(1232,)].\n",
      "    val:[7.47  8.416 4.354 3.838 5.379]\n",
      "[225] name:[trunk_output.block3.block3-10.f.b.1.bias] shape:[(1232,)].\n",
      "    val:[-6.353 -6.131 -2.989 -2.328 -2.846]\n",
      "[226] name:[trunk_output.block3.block3-10.f.se.fc1.weight] shape:[(308, 1232, 1, 1)].\n",
      "    val:[ 0.046  0.037 -0.003 -0.025 -0.002]\n",
      "[227] name:[trunk_output.block3.block3-10.f.se.fc1.bias] shape:[(308,)].\n",
      "    val:[0.005 0.004 0.006 0.002 0.016]\n",
      "[228] name:[trunk_output.block3.block3-10.f.se.fc2.weight] shape:[(1232, 308, 1, 1)].\n",
      "    val:[ 0.007  0.006 -0.012  0.02  -0.003]\n",
      "[229] name:[trunk_output.block3.block3-10.f.se.fc2.bias] shape:[(1232,)].\n",
      "    val:[-0.014 -0.021 -0.007 -0.01  -0.009]\n",
      "[230] name:[trunk_output.block3.block3-10.f.c.0.weight] shape:[(1232, 1232, 1, 1)].\n",
      "    val:[-0.016  0.021  0.012 -0.013 -0.021]\n",
      "[231] name:[trunk_output.block3.block3-10.f.c.1.weight] shape:[(1232,)].\n",
      "    val:[1.316 2.16  0.503 1.561 0.628]\n",
      "[232] name:[trunk_output.block3.block3-10.f.c.1.bias] shape:[(1232,)].\n",
      "    val:[-1.197 -1.726  0.21  -1.276  0.385]\n",
      "[233] name:[trunk_output.block4.block4-0.proj.0.weight] shape:[(3024, 1232, 1, 1)].\n",
      "    val:[ 0.002 -0.038  0.003 -0.006  0.004]\n",
      "[234] name:[trunk_output.block4.block4-0.proj.1.weight] shape:[(3024,)].\n",
      "    val:[6.516 3.92  4.187 4.401 4.277]\n",
      "[235] name:[trunk_output.block4.block4-0.proj.1.bias] shape:[(3024,)].\n",
      "    val:[-8.734 -5.351 -7.065 -6.057 -5.081]\n",
      "[236] name:[trunk_output.block4.block4-0.f.a.0.weight] shape:[(3024, 1232, 1, 1)].\n",
      "    val:[-0.008 -0.029  0.001 -0.011 -0.021]\n",
      "[237] name:[trunk_output.block4.block4-0.f.a.1.weight] shape:[(3024,)].\n",
      "    val:[2.974 2.373 3.803 2.592 2.221]\n",
      "[238] name:[trunk_output.block4.block4-0.f.a.1.bias] shape:[(3024,)].\n",
      "    val:[ -5.394  -5.301 -10.392  -4.682  -3.838]\n",
      "[239] name:[trunk_output.block4.block4-0.f.b.0.weight] shape:[(3024, 112, 3, 3)].\n",
      "    val:[-0.006 -0.007 -0.007 -0.006 -0.003]\n",
      "[240] name:[trunk_output.block4.block4-0.f.b.1.weight] shape:[(3024,)].\n",
      "    val:[4.98  3.551 2.843 2.532 0.68 ]\n",
      "[241] name:[trunk_output.block4.block4-0.f.b.1.bias] shape:[(3024,)].\n",
      "    val:[-3.514 -2.981 -0.011 -4.632  0.657]\n",
      "[242] name:[trunk_output.block4.block4-0.f.se.fc1.weight] shape:[(308, 3024, 1, 1)].\n",
      "    val:[ 0.039 -0.006  0.019 -0.013  0.001]\n",
      "[243] name:[trunk_output.block4.block4-0.f.se.fc1.bias] shape:[(308,)].\n",
      "    val:[0.005 0.006 0.    0.009 0.001]\n",
      "[244] name:[trunk_output.block4.block4-0.f.se.fc2.weight] shape:[(3024, 308, 1, 1)].\n",
      "    val:[-0.042 -0.032 -0.044 -0.004 -0.018]\n",
      "[245] name:[trunk_output.block4.block4-0.f.se.fc2.bias] shape:[(3024,)].\n",
      "    val:[-0.023 -0.024 -0.009 -0.018 -0.014]\n",
      "[246] name:[trunk_output.block4.block4-0.f.c.0.weight] shape:[(3024, 3024, 1, 1)].\n",
      "    val:[-0.002  0.01  -0.003 -0.008 -0.006]\n",
      "[247] name:[trunk_output.block4.block4-0.f.c.1.weight] shape:[(3024,)].\n",
      "    val:[7.913 9.704 7.716 8.08  7.162]\n",
      "[248] name:[trunk_output.block4.block4-0.f.c.1.bias] shape:[(3024,)].\n",
      "    val:[-8.734 -5.351 -7.065 -6.057 -5.081]\n",
      "[249] name:[fc.0.weight] shape:[(1000, 3024)].\n",
      "    val:[-0.027  0.012 -0.001  0.036 -0.023]\n",
      "[250] name:[fc.0.bias] shape:[(1000,)].\n",
      "    val:[ 0.013  0.003  0.016  0.001 -0.008]\n",
      "[251] name:[fc.1.weight] shape:[(18, 1000)].\n",
      "    val:[-0.015  0.054  0.076 -0.041 -0.017]\n",
      "[252] name:[fc.1.bias] shape:[(18,)].\n",
      "    val:[ 0.012 -0.013 -0.016  0.015 -0.013]\n",
      "Total number of parameters:[83,608,158].\n"
     ]
    }
   ],
   "source": [
    "np.set_printoptions(precision=3)\n",
    "n_param = 0\n",
    "for p_idx, (param_name, param) in enumerate(model.named_parameters()):\n",
    "    if param.requires_grad:\n",
    "        param_numpy = param.detach().cpu().numpy()\n",
    "        n_param += len(param_numpy.reshape(-1))\n",
    "        print (\"[%d] name:[%s] shape:[%s].\"%(p_idx,param_name,param_numpy.shape))\n",
    "        print (\"    val:%s\"%(param_numpy.reshape(-1)[:5]))\n",
    "print (\"Total number of parameters:[%s].\"%(format(n_param,',d')))"
   ]
  },
  {
   "cell_type": "code",
   "execution_count": 22,
   "id": "f63b87ae-d675-49c2-8c8c-0a2939f26e3c",
   "metadata": {},
   "outputs": [
    {
     "data": {
      "application/vnd.jupyter.widget-view+json": {
       "model_id": "679327bd52274e3bb7f46a020157e082",
       "version_major": 2,
       "version_minor": 0
      },
      "text/plain": [
       "HBox(children=(HTML(value=''), FloatProgress(value=0.0, max=473.0), HTML(value='')))"
      ]
     },
     "metadata": {},
     "output_type": "display_data"
    },
    {
     "name": "stdout",
     "output_type": "stream",
     "text": [
      "\n",
      "epoch[0/200] training loss 0.29734, training accuracy 0.91858\n"
     ]
    },
    {
     "data": {
      "application/vnd.jupyter.widget-view+json": {
       "model_id": "1514e56969ae4b16a3e2a383385ecbbb",
       "version_major": 2,
       "version_minor": 0
      },
      "text/plain": [
       "HBox(children=(HTML(value=''), FloatProgress(value=0.0, max=119.0), HTML(value='')))"
      ]
     },
     "metadata": {},
     "output_type": "display_data"
    },
    {
     "name": "stdout",
     "output_type": "stream",
     "text": [
      "\n",
      "checkpoint saved!\n",
      "[val] acc : 0.90450, loss : 0.39809, f1 score : 0.82499\n",
      "best acc : 0.90450, best loss : 0.39809, best f1 : 0.82499\n"
     ]
    },
    {
     "data": {
      "application/vnd.jupyter.widget-view+json": {
       "model_id": "d37198b38a664f878c78678d8958aafb",
       "version_major": 2,
       "version_minor": 0
      },
      "text/plain": [
       "HBox(children=(HTML(value=''), FloatProgress(value=0.0, max=473.0), HTML(value='')))"
      ]
     },
     "metadata": {},
     "output_type": "display_data"
    },
    {
     "name": "stdout",
     "output_type": "stream",
     "text": [
      "\n",
      "epoch[1/200] training loss 0.03674, training accuracy 0.98862\n"
     ]
    },
    {
     "data": {
      "application/vnd.jupyter.widget-view+json": {
       "model_id": "14f90320e1d64b2d9830b5ccf0fe884d",
       "version_major": 2,
       "version_minor": 0
      },
      "text/plain": [
       "HBox(children=(HTML(value=''), FloatProgress(value=0.0, max=119.0), HTML(value='')))"
      ]
     },
     "metadata": {},
     "output_type": "display_data"
    },
    {
     "name": "stdout",
     "output_type": "stream",
     "text": [
      "\n",
      "[val] acc : 0.87566, loss : 0.64523, f1 score : 0.79393\n",
      "best acc : 0.90450, best loss : 0.39809, best f1 : 0.82499\n"
     ]
    },
    {
     "data": {
      "application/vnd.jupyter.widget-view+json": {
       "model_id": "604aafaf2f3841aabcd0a6d8d3ff54e4",
       "version_major": 2,
       "version_minor": 0
      },
      "text/plain": [
       "HBox(children=(HTML(value=''), FloatProgress(value=0.0, max=473.0), HTML(value='')))"
      ]
     },
     "metadata": {},
     "output_type": "display_data"
    },
    {
     "name": "stdout",
     "output_type": "stream",
     "text": [
      "\n",
      "epoch[2/200] training loss 0.02008, training accuracy 0.99352\n"
     ]
    },
    {
     "data": {
      "application/vnd.jupyter.widget-view+json": {
       "model_id": "071a2ce53f8b46d599e84dcb2bf27416",
       "version_major": 2,
       "version_minor": 0
      },
      "text/plain": [
       "HBox(children=(HTML(value=''), FloatProgress(value=0.0, max=119.0), HTML(value='')))"
      ]
     },
     "metadata": {},
     "output_type": "display_data"
    },
    {
     "name": "stdout",
     "output_type": "stream",
     "text": [
      "\n",
      "[val] acc : 0.88492, loss : 0.61049, f1 score : 0.79532\n",
      "best acc : 0.90450, best loss : 0.39809, best f1 : 0.82499\n"
     ]
    },
    {
     "data": {
      "application/vnd.jupyter.widget-view+json": {
       "model_id": "0edc1053041f4402b7de73d1684f3b8e",
       "version_major": 2,
       "version_minor": 0
      },
      "text/plain": [
       "HBox(children=(HTML(value=''), FloatProgress(value=0.0, max=473.0), HTML(value='')))"
      ]
     },
     "metadata": {},
     "output_type": "display_data"
    },
    {
     "name": "stdout",
     "output_type": "stream",
     "text": [
      "\n",
      "epoch[3/200] training loss 0.01905, training accuracy 0.99405\n"
     ]
    },
    {
     "data": {
      "application/vnd.jupyter.widget-view+json": {
       "model_id": "9931c104bdff4183bbf87c88e0811be7",
       "version_major": 2,
       "version_minor": 0
      },
      "text/plain": [
       "HBox(children=(HTML(value=''), FloatProgress(value=0.0, max=119.0), HTML(value='')))"
      ]
     },
     "metadata": {},
     "output_type": "display_data"
    },
    {
     "name": "stdout",
     "output_type": "stream",
     "text": [
      "\n",
      "[val] acc : 0.89259, loss : 0.64887, f1 score : 0.80171\n",
      "best acc : 0.90450, best loss : 0.39809, best f1 : 0.82499\n"
     ]
    },
    {
     "data": {
      "application/vnd.jupyter.widget-view+json": {
       "model_id": "f6ba51a142904b0bbd7cf1165cfdd849",
       "version_major": 2,
       "version_minor": 0
      },
      "text/plain": [
       "HBox(children=(HTML(value=''), FloatProgress(value=0.0, max=473.0), HTML(value='')))"
      ]
     },
     "metadata": {},
     "output_type": "display_data"
    },
    {
     "name": "stdout",
     "output_type": "stream",
     "text": [
      "\n",
      "epoch[4/200] training loss 0.03219, training accuracy 0.98922\n"
     ]
    },
    {
     "data": {
      "application/vnd.jupyter.widget-view+json": {
       "model_id": "0c02aa9a6fda48a39541ccbd269f8b5d",
       "version_major": 2,
       "version_minor": 0
      },
      "text/plain": [
       "HBox(children=(HTML(value=''), FloatProgress(value=0.0, max=119.0), HTML(value='')))"
      ]
     },
     "metadata": {},
     "output_type": "display_data"
    },
    {
     "name": "stdout",
     "output_type": "stream",
     "text": [
      "\n",
      "[val] acc : 0.88519, loss : 0.68886, f1 score : 0.78967\n",
      "best acc : 0.90450, best loss : 0.39809, best f1 : 0.82499\n"
     ]
    },
    {
     "data": {
      "application/vnd.jupyter.widget-view+json": {
       "model_id": "25759635586647279d8308c49e164bd7",
       "version_major": 2,
       "version_minor": 0
      },
      "text/plain": [
       "HBox(children=(HTML(value=''), FloatProgress(value=0.0, max=473.0), HTML(value='')))"
      ]
     },
     "metadata": {},
     "output_type": "display_data"
    },
    {
     "name": "stdout",
     "output_type": "stream",
     "text": [
      "\n",
      "epoch[5/200] training loss 0.02529, training accuracy 0.99114\n"
     ]
    },
    {
     "data": {
      "application/vnd.jupyter.widget-view+json": {
       "model_id": "3da29e086e4541ff9ff0fff464697e35",
       "version_major": 2,
       "version_minor": 0
      },
      "text/plain": [
       "HBox(children=(HTML(value=''), FloatProgress(value=0.0, max=119.0), HTML(value='')))"
      ]
     },
     "metadata": {},
     "output_type": "display_data"
    },
    {
     "name": "stdout",
     "output_type": "stream",
     "text": [
      "\n",
      "[val] acc : 0.90661, loss : 0.61002, f1 score : 0.82530\n",
      "best acc : 0.90661, best loss : 0.39809, best f1 : 0.82530\n"
     ]
    },
    {
     "data": {
      "application/vnd.jupyter.widget-view+json": {
       "model_id": "98eb06d5390f4e398b2dca9edd84d49f",
       "version_major": 2,
       "version_minor": 0
      },
      "text/plain": [
       "HBox(children=(HTML(value=''), FloatProgress(value=0.0, max=473.0), HTML(value='')))"
      ]
     },
     "metadata": {},
     "output_type": "display_data"
    },
    {
     "name": "stdout",
     "output_type": "stream",
     "text": [
      "\n",
      "epoch[6/200] training loss 0.02154, training accuracy 0.99352\n"
     ]
    },
    {
     "data": {
      "application/vnd.jupyter.widget-view+json": {
       "model_id": "0a6a345edf82437d932e571f80fb9a86",
       "version_major": 2,
       "version_minor": 0
      },
      "text/plain": [
       "HBox(children=(HTML(value=''), FloatProgress(value=0.0, max=119.0), HTML(value='')))"
      ]
     },
     "metadata": {},
     "output_type": "display_data"
    },
    {
     "name": "stdout",
     "output_type": "stream",
     "text": [
      "\n",
      "[val] acc : 0.90423, loss : 0.59387, f1 score : 0.82157\n",
      "best acc : 0.90661, best loss : 0.39809, best f1 : 0.82530\n"
     ]
    },
    {
     "data": {
      "application/vnd.jupyter.widget-view+json": {
       "model_id": "b6423623693242e5b0d9afac6dad73fd",
       "version_major": 2,
       "version_minor": 0
      },
      "text/plain": [
       "HBox(children=(HTML(value=''), FloatProgress(value=0.0, max=473.0), HTML(value='')))"
      ]
     },
     "metadata": {},
     "output_type": "display_data"
    },
    {
     "name": "stdout",
     "output_type": "stream",
     "text": [
      "\n",
      "epoch[7/200] training loss 0.01637, training accuracy 0.99491\n"
     ]
    },
    {
     "data": {
      "application/vnd.jupyter.widget-view+json": {
       "model_id": "42f8e02ccbf04101a83f22a8f136bd2c",
       "version_major": 2,
       "version_minor": 0
      },
      "text/plain": [
       "HBox(children=(HTML(value=''), FloatProgress(value=0.0, max=119.0), HTML(value='')))"
      ]
     },
     "metadata": {},
     "output_type": "display_data"
    },
    {
     "name": "stdout",
     "output_type": "stream",
     "text": [
      "\n",
      "[val] acc : 0.90635, loss : 0.61550, f1 score : 0.83741\n",
      "best acc : 0.90661, best loss : 0.39809, best f1 : 0.83741\n"
     ]
    },
    {
     "data": {
      "application/vnd.jupyter.widget-view+json": {
       "model_id": "1dc1a86832e0499d81805cdb39e84c9e",
       "version_major": 2,
       "version_minor": 0
      },
      "text/plain": [
       "HBox(children=(HTML(value=''), FloatProgress(value=0.0, max=473.0), HTML(value='')))"
      ]
     },
     "metadata": {},
     "output_type": "display_data"
    },
    {
     "name": "stdout",
     "output_type": "stream",
     "text": [
      "\n",
      "epoch[8/200] training loss 0.01996, training accuracy 0.99418\n"
     ]
    },
    {
     "data": {
      "application/vnd.jupyter.widget-view+json": {
       "model_id": "da4b7e10857d43cbb4cc654b819fce02",
       "version_major": 2,
       "version_minor": 0
      },
      "text/plain": [
       "HBox(children=(HTML(value=''), FloatProgress(value=0.0, max=119.0), HTML(value='')))"
      ]
     },
     "metadata": {},
     "output_type": "display_data"
    },
    {
     "name": "stdout",
     "output_type": "stream",
     "text": [
      "\n",
      "[val] acc : 0.90000, loss : 0.66043, f1 score : 0.82413\n",
      "best acc : 0.90661, best loss : 0.39809, best f1 : 0.83741\n"
     ]
    },
    {
     "data": {
      "application/vnd.jupyter.widget-view+json": {
       "model_id": "364b195976a6411b9a9eff543407f410",
       "version_major": 2,
       "version_minor": 0
      },
      "text/plain": [
       "HBox(children=(HTML(value=''), FloatProgress(value=0.0, max=473.0), HTML(value='')))"
      ]
     },
     "metadata": {},
     "output_type": "display_data"
    },
    {
     "name": "stdout",
     "output_type": "stream",
     "text": [
      "\n",
      "epoch[9/200] training loss 0.02839, training accuracy 0.99160\n"
     ]
    },
    {
     "data": {
      "application/vnd.jupyter.widget-view+json": {
       "model_id": "9a24de0f0dbe47d68c9ceefccca2f51e",
       "version_major": 2,
       "version_minor": 0
      },
      "text/plain": [
       "HBox(children=(HTML(value=''), FloatProgress(value=0.0, max=119.0), HTML(value='')))"
      ]
     },
     "metadata": {},
     "output_type": "display_data"
    },
    {
     "name": "stdout",
     "output_type": "stream",
     "text": [
      "\n",
      "[val] acc : 0.90423, loss : 0.81658, f1 score : 0.81813\n",
      "best acc : 0.90661, best loss : 0.39809, best f1 : 0.83741\n"
     ]
    },
    {
     "data": {
      "application/vnd.jupyter.widget-view+json": {
       "model_id": "e20255206b7f43bdafc20f4c007cb853",
       "version_major": 2,
       "version_minor": 0
      },
      "text/plain": [
       "HBox(children=(HTML(value=''), FloatProgress(value=0.0, max=473.0), HTML(value='')))"
      ]
     },
     "metadata": {},
     "output_type": "display_data"
    },
    {
     "name": "stdout",
     "output_type": "stream",
     "text": [
      "\n",
      "epoch[10/200] training loss 0.01569, training accuracy 0.99491\n"
     ]
    },
    {
     "data": {
      "application/vnd.jupyter.widget-view+json": {
       "model_id": "3dd14616c47b44118b1418934ba2c923",
       "version_major": 2,
       "version_minor": 0
      },
      "text/plain": [
       "HBox(children=(HTML(value=''), FloatProgress(value=0.0, max=119.0), HTML(value='')))"
      ]
     },
     "metadata": {},
     "output_type": "display_data"
    },
    {
     "name": "stdout",
     "output_type": "stream",
     "text": [
      "\n",
      "[val] acc : 0.89233, loss : 0.92357, f1 score : 0.80278\n",
      "best acc : 0.90661, best loss : 0.39809, best f1 : 0.83741\n"
     ]
    },
    {
     "data": {
      "application/vnd.jupyter.widget-view+json": {
       "model_id": "dc547a7e42854edbbfc2affb5ef29825",
       "version_major": 2,
       "version_minor": 0
      },
      "text/plain": [
       "HBox(children=(HTML(value=''), FloatProgress(value=0.0, max=473.0), HTML(value='')))"
      ]
     },
     "metadata": {},
     "output_type": "display_data"
    },
    {
     "name": "stdout",
     "output_type": "stream",
     "text": [
      "\n",
      "epoch[11/200] training loss 0.01151, training accuracy 0.99663\n"
     ]
    },
    {
     "data": {
      "application/vnd.jupyter.widget-view+json": {
       "model_id": "fcc0c2ef255c41ddb8dbed699b0971fd",
       "version_major": 2,
       "version_minor": 0
      },
      "text/plain": [
       "HBox(children=(HTML(value=''), FloatProgress(value=0.0, max=119.0), HTML(value='')))"
      ]
     },
     "metadata": {},
     "output_type": "display_data"
    },
    {
     "name": "stdout",
     "output_type": "stream",
     "text": [
      "\n",
      "[val] acc : 0.89815, loss : 0.73768, f1 score : 0.79353\n",
      "best acc : 0.90661, best loss : 0.39809, best f1 : 0.83741\n"
     ]
    },
    {
     "data": {
      "application/vnd.jupyter.widget-view+json": {
       "model_id": "9443881a91d646969887bb72804102ed",
       "version_major": 2,
       "version_minor": 0
      },
      "text/plain": [
       "HBox(children=(HTML(value=''), FloatProgress(value=0.0, max=473.0), HTML(value='')))"
      ]
     },
     "metadata": {},
     "output_type": "display_data"
    },
    {
     "name": "stdout",
     "output_type": "stream",
     "text": [
      "\n",
      "epoch[12/200] training loss 0.00859, training accuracy 0.99722\n"
     ]
    },
    {
     "data": {
      "application/vnd.jupyter.widget-view+json": {
       "model_id": "e752d0af69c84f24af0b95070f991d8f",
       "version_major": 2,
       "version_minor": 0
      },
      "text/plain": [
       "HBox(children=(HTML(value=''), FloatProgress(value=0.0, max=119.0), HTML(value='')))"
      ]
     },
     "metadata": {},
     "output_type": "display_data"
    },
    {
     "name": "stdout",
     "output_type": "stream",
     "text": [
      "\n",
      "[val] acc : 0.89524, loss : 0.76775, f1 score : 0.80261\n",
      "best acc : 0.90661, best loss : 0.39809, best f1 : 0.83741\n"
     ]
    },
    {
     "data": {
      "application/vnd.jupyter.widget-view+json": {
       "model_id": "54ba899121c84c4f91fd9f5586fd5ef1",
       "version_major": 2,
       "version_minor": 0
      },
      "text/plain": [
       "HBox(children=(HTML(value=''), FloatProgress(value=0.0, max=473.0), HTML(value='')))"
      ]
     },
     "metadata": {},
     "output_type": "display_data"
    },
    {
     "name": "stdout",
     "output_type": "stream",
     "text": [
      "\n",
      "epoch[13/200] training loss 0.00839, training accuracy 0.99709\n"
     ]
    },
    {
     "data": {
      "application/vnd.jupyter.widget-view+json": {
       "model_id": "32dfa017e7a34c3fa5d5f85d03ec3e92",
       "version_major": 2,
       "version_minor": 0
      },
      "text/plain": [
       "HBox(children=(HTML(value=''), FloatProgress(value=0.0, max=119.0), HTML(value='')))"
      ]
     },
     "metadata": {},
     "output_type": "display_data"
    },
    {
     "name": "stdout",
     "output_type": "stream",
     "text": [
      "\n",
      "[val] acc : 0.88915, loss : 0.83816, f1 score : 0.79659\n",
      "best acc : 0.90661, best loss : 0.39809, best f1 : 0.83741\n"
     ]
    },
    {
     "data": {
      "application/vnd.jupyter.widget-view+json": {
       "model_id": "5623419c4f4f4b9891d408f52e87ada1",
       "version_major": 2,
       "version_minor": 0
      },
      "text/plain": [
       "HBox(children=(HTML(value=''), FloatProgress(value=0.0, max=473.0), HTML(value='')))"
      ]
     },
     "metadata": {},
     "output_type": "display_data"
    },
    {
     "name": "stdout",
     "output_type": "stream",
     "text": [
      "\n",
      "epoch[14/200] training loss 0.01679, training accuracy 0.99497\n"
     ]
    },
    {
     "data": {
      "application/vnd.jupyter.widget-view+json": {
       "model_id": "746e37093e944ef6a0135f31d8739633",
       "version_major": 2,
       "version_minor": 0
      },
      "text/plain": [
       "HBox(children=(HTML(value=''), FloatProgress(value=0.0, max=119.0), HTML(value='')))"
      ]
     },
     "metadata": {},
     "output_type": "display_data"
    },
    {
     "name": "stdout",
     "output_type": "stream",
     "text": [
      "\n",
      "[val] acc : 0.88545, loss : 0.88137, f1 score : 0.80445\n",
      "best acc : 0.90661, best loss : 0.39809, best f1 : 0.83741\n"
     ]
    },
    {
     "data": {
      "application/vnd.jupyter.widget-view+json": {
       "model_id": "f7333a5384304f9a8028890bb24aff35",
       "version_major": 2,
       "version_minor": 0
      },
      "text/plain": [
       "HBox(children=(HTML(value=''), FloatProgress(value=0.0, max=473.0), HTML(value='')))"
      ]
     },
     "metadata": {},
     "output_type": "display_data"
    },
    {
     "name": "stdout",
     "output_type": "stream",
     "text": [
      "\n",
      "epoch[15/200] training loss 0.01751, training accuracy 0.99517\n"
     ]
    },
    {
     "data": {
      "application/vnd.jupyter.widget-view+json": {
       "model_id": "40ff82a486784d26ba25a2683ab008d1",
       "version_major": 2,
       "version_minor": 0
      },
      "text/plain": [
       "HBox(children=(HTML(value=''), FloatProgress(value=0.0, max=119.0), HTML(value='')))"
      ]
     },
     "metadata": {},
     "output_type": "display_data"
    },
    {
     "name": "stdout",
     "output_type": "stream",
     "text": [
      "\n",
      "[val] acc : 0.88704, loss : 1.00022, f1 score : 0.79441\n",
      "best acc : 0.90661, best loss : 0.39809, best f1 : 0.83741\n"
     ]
    },
    {
     "data": {
      "application/vnd.jupyter.widget-view+json": {
       "model_id": "51ee902e85fc478b95d324fae56475c3",
       "version_major": 2,
       "version_minor": 0
      },
      "text/plain": [
       "HBox(children=(HTML(value=''), FloatProgress(value=0.0, max=473.0), HTML(value='')))"
      ]
     },
     "metadata": {},
     "output_type": "display_data"
    },
    {
     "name": "stdout",
     "output_type": "stream",
     "text": [
      "\n",
      "epoch[16/200] training loss 0.01278, training accuracy 0.99577\n"
     ]
    },
    {
     "data": {
      "application/vnd.jupyter.widget-view+json": {
       "model_id": "948286c95ae24d85af74f62ffd3ecef7",
       "version_major": 2,
       "version_minor": 0
      },
      "text/plain": [
       "HBox(children=(HTML(value=''), FloatProgress(value=0.0, max=119.0), HTML(value='')))"
      ]
     },
     "metadata": {},
     "output_type": "display_data"
    },
    {
     "name": "stdout",
     "output_type": "stream",
     "text": [
      "\n",
      "[val] acc : 0.90582, loss : 0.73636, f1 score : 0.82676\n",
      "best acc : 0.90661, best loss : 0.39809, best f1 : 0.83741\n"
     ]
    },
    {
     "data": {
      "application/vnd.jupyter.widget-view+json": {
       "model_id": "c1baff09aecb4311aec08414f957d912",
       "version_major": 2,
       "version_minor": 0
      },
      "text/plain": [
       "HBox(children=(HTML(value=''), FloatProgress(value=0.0, max=473.0), HTML(value='')))"
      ]
     },
     "metadata": {},
     "output_type": "display_data"
    },
    {
     "name": "stdout",
     "output_type": "stream",
     "text": [
      "\n",
      "epoch[17/200] training loss 0.00882, training accuracy 0.99709\n"
     ]
    },
    {
     "data": {
      "application/vnd.jupyter.widget-view+json": {
       "model_id": "be5459698aa04964a2760919ba3c1d20",
       "version_major": 2,
       "version_minor": 0
      },
      "text/plain": [
       "HBox(children=(HTML(value=''), FloatProgress(value=0.0, max=119.0), HTML(value='')))"
      ]
     },
     "metadata": {},
     "output_type": "display_data"
    },
    {
     "name": "stdout",
     "output_type": "stream",
     "text": [
      "\n",
      "[val] acc : 0.89471, loss : 0.77994, f1 score : 0.82200\n",
      "best acc : 0.90661, best loss : 0.39809, best f1 : 0.83741\n"
     ]
    },
    {
     "data": {
      "application/vnd.jupyter.widget-view+json": {
       "model_id": "061dcad272b04b11a925a8409139745a",
       "version_major": 2,
       "version_minor": 0
      },
      "text/plain": [
       "HBox(children=(HTML(value=''), FloatProgress(value=0.0, max=473.0), HTML(value='')))"
      ]
     },
     "metadata": {},
     "output_type": "display_data"
    },
    {
     "name": "stdout",
     "output_type": "stream",
     "text": [
      "\n",
      "epoch[18/200] training loss 0.01070, training accuracy 0.99762\n"
     ]
    },
    {
     "data": {
      "application/vnd.jupyter.widget-view+json": {
       "model_id": "165a7e8f8b4a473ba67bf4e88ad54191",
       "version_major": 2,
       "version_minor": 0
      },
      "text/plain": [
       "HBox(children=(HTML(value=''), FloatProgress(value=0.0, max=119.0), HTML(value='')))"
      ]
     },
     "metadata": {},
     "output_type": "display_data"
    },
    {
     "name": "stdout",
     "output_type": "stream",
     "text": [
      "\n",
      "[val] acc : 0.89444, loss : 0.85142, f1 score : 0.80918\n",
      "best acc : 0.90661, best loss : 0.39809, best f1 : 0.83741\n"
     ]
    },
    {
     "data": {
      "application/vnd.jupyter.widget-view+json": {
       "model_id": "94846e4898b64797b0a44daa9c063cc2",
       "version_major": 2,
       "version_minor": 0
      },
      "text/plain": [
       "HBox(children=(HTML(value=''), FloatProgress(value=0.0, max=473.0), HTML(value='')))"
      ]
     },
     "metadata": {},
     "output_type": "display_data"
    },
    {
     "name": "stdout",
     "output_type": "stream",
     "text": [
      "\n",
      "epoch[19/200] training loss 0.00733, training accuracy 0.99769\n"
     ]
    },
    {
     "data": {
      "application/vnd.jupyter.widget-view+json": {
       "model_id": "f156a302af8344e6890170660b536c22",
       "version_major": 2,
       "version_minor": 0
      },
      "text/plain": [
       "HBox(children=(HTML(value=''), FloatProgress(value=0.0, max=119.0), HTML(value='')))"
      ]
     },
     "metadata": {},
     "output_type": "display_data"
    },
    {
     "name": "stdout",
     "output_type": "stream",
     "text": [
      "\n",
      "[val] acc : 0.90370, loss : 0.77627, f1 score : 0.81312\n",
      "best acc : 0.90661, best loss : 0.39809, best f1 : 0.83741\n"
     ]
    },
    {
     "data": {
      "application/vnd.jupyter.widget-view+json": {
       "model_id": "78d4b423d05a483ba8cc521ac60017da",
       "version_major": 2,
       "version_minor": 0
      },
      "text/plain": [
       "HBox(children=(HTML(value=''), FloatProgress(value=0.0, max=473.0), HTML(value='')))"
      ]
     },
     "metadata": {},
     "output_type": "display_data"
    },
    {
     "name": "stdout",
     "output_type": "stream",
     "text": [
      "\n"
     ]
    },
    {
     "ename": "KeyboardInterrupt",
     "evalue": "",
     "output_type": "error",
     "traceback": [
      "\u001b[0;31m---------------------------------------------------------------------------\u001b[0m",
      "\u001b[0;31mKeyboardInterrupt\u001b[0m                         Traceback (most recent call last)",
      "\u001b[0;32m<ipython-input-22-d30a24a24779>\u001b[0m in \u001b[0;36m<module>\u001b[0;34m\u001b[0m\n\u001b[1;32m     28\u001b[0m \u001b[0;34m\u001b[0m\u001b[0m\n\u001b[1;32m     29\u001b[0m         \u001b[0;32mif\u001b[0m \u001b[0mepoch\u001b[0m \u001b[0;34m%\u001b[0m \u001b[0;36m10\u001b[0m \u001b[0;34m==\u001b[0m \u001b[0;36m0\u001b[0m\u001b[0;34m:\u001b[0m\u001b[0;34m\u001b[0m\u001b[0;34m\u001b[0m\u001b[0m\n\u001b[0;32m---> 30\u001b[0;31m             \u001b[0mtorch\u001b[0m\u001b[0;34m.\u001b[0m\u001b[0msave\u001b[0m\u001b[0;34m(\u001b[0m\u001b[0mmodel\u001b[0m\u001b[0;34m,\u001b[0m \u001b[0;34mf'/opt/ml/checkpoint/RegNet/nonfreeze_checkpoint_ep_{epoch+20}.pt'\u001b[0m\u001b[0;34m)\u001b[0m\u001b[0;34m\u001b[0m\u001b[0;34m\u001b[0m\u001b[0m\n\u001b[0m\u001b[1;32m     31\u001b[0m \u001b[0;34m\u001b[0m\u001b[0m\n\u001b[1;32m     32\u001b[0m         \u001b[0mloss_value\u001b[0m \u001b[0;34m+=\u001b[0m \u001b[0mloss\u001b[0m\u001b[0;34m.\u001b[0m\u001b[0mitem\u001b[0m\u001b[0;34m(\u001b[0m\u001b[0;34m)\u001b[0m\u001b[0;34m\u001b[0m\u001b[0;34m\u001b[0m\u001b[0m\n",
      "\u001b[0;32m/opt/conda/lib/python3.8/site-packages/torch/serialization.py\u001b[0m in \u001b[0;36msave\u001b[0;34m(obj, f, pickle_module, pickle_protocol, _use_new_zipfile_serialization)\u001b[0m\n\u001b[1;32m    421\u001b[0m     \u001b[0;32mif\u001b[0m \u001b[0m_use_new_zipfile_serialization\u001b[0m\u001b[0;34m:\u001b[0m\u001b[0;34m\u001b[0m\u001b[0;34m\u001b[0m\u001b[0m\n\u001b[1;32m    422\u001b[0m         \u001b[0;32mwith\u001b[0m \u001b[0m_open_zipfile_writer\u001b[0m\u001b[0;34m(\u001b[0m\u001b[0mf\u001b[0m\u001b[0;34m)\u001b[0m \u001b[0;32mas\u001b[0m \u001b[0mopened_zipfile\u001b[0m\u001b[0;34m:\u001b[0m\u001b[0;34m\u001b[0m\u001b[0;34m\u001b[0m\u001b[0m\n\u001b[0;32m--> 423\u001b[0;31m             \u001b[0m_save\u001b[0m\u001b[0;34m(\u001b[0m\u001b[0mobj\u001b[0m\u001b[0;34m,\u001b[0m \u001b[0mopened_zipfile\u001b[0m\u001b[0;34m,\u001b[0m \u001b[0mpickle_module\u001b[0m\u001b[0;34m,\u001b[0m \u001b[0mpickle_protocol\u001b[0m\u001b[0;34m)\u001b[0m\u001b[0;34m\u001b[0m\u001b[0;34m\u001b[0m\u001b[0m\n\u001b[0m\u001b[1;32m    424\u001b[0m             \u001b[0;32mreturn\u001b[0m\u001b[0;34m\u001b[0m\u001b[0;34m\u001b[0m\u001b[0m\n\u001b[1;32m    425\u001b[0m     \u001b[0;32melse\u001b[0m\u001b[0;34m:\u001b[0m\u001b[0;34m\u001b[0m\u001b[0;34m\u001b[0m\u001b[0m\n",
      "\u001b[0;32m/opt/conda/lib/python3.8/site-packages/torch/serialization.py\u001b[0m in \u001b[0;36m_save\u001b[0;34m(obj, zip_file, pickle_module, pickle_protocol)\u001b[0m\n\u001b[1;32m    648\u001b[0m         \u001b[0;31m# Now that it is on the CPU we can directly copy it into the zip file\u001b[0m\u001b[0;34m\u001b[0m\u001b[0;34m\u001b[0m\u001b[0;34m\u001b[0m\u001b[0m\n\u001b[1;32m    649\u001b[0m         \u001b[0mnum_bytes\u001b[0m \u001b[0;34m=\u001b[0m \u001b[0mstorage\u001b[0m\u001b[0;34m.\u001b[0m\u001b[0mnbytes\u001b[0m\u001b[0;34m(\u001b[0m\u001b[0;34m)\u001b[0m\u001b[0;34m\u001b[0m\u001b[0;34m\u001b[0m\u001b[0m\n\u001b[0;32m--> 650\u001b[0;31m         \u001b[0mzip_file\u001b[0m\u001b[0;34m.\u001b[0m\u001b[0mwrite_record\u001b[0m\u001b[0;34m(\u001b[0m\u001b[0mname\u001b[0m\u001b[0;34m,\u001b[0m \u001b[0mstorage\u001b[0m\u001b[0;34m.\u001b[0m\u001b[0mdata_ptr\u001b[0m\u001b[0;34m(\u001b[0m\u001b[0;34m)\u001b[0m\u001b[0;34m,\u001b[0m \u001b[0mnum_bytes\u001b[0m\u001b[0;34m)\u001b[0m\u001b[0;34m\u001b[0m\u001b[0;34m\u001b[0m\u001b[0m\n\u001b[0m\u001b[1;32m    651\u001b[0m \u001b[0;34m\u001b[0m\u001b[0m\n\u001b[1;32m    652\u001b[0m \u001b[0;34m\u001b[0m\u001b[0m\n",
      "\u001b[0;31mKeyboardInterrupt\u001b[0m: "
     ]
    }
   ],
   "source": [
    "best_val_acc = 0\n",
    "best_val_loss = np.inf\n",
    "# patience = 5\n",
    "# cur_count = 0\n",
    "accumulation_steps = 4\n",
    "\n",
    "f1 = F1Score(num_classes=class_num, average='macro').to(device)\n",
    "best_f1_score = 0\n",
    "\n",
    "for epoch in range(NUM_EPOCH):\n",
    "    model.train()\n",
    "    loss_value = 0\n",
    "    matches = 0\n",
    "    for idx, train_batch in enumerate(tqdm(train_dataloader_mask)):\n",
    "        inputs, labels = train_batch\n",
    "        inputs = inputs.to(device)\n",
    "        labels = labels.to(device)\n",
    "        \n",
    "        outs = model(inputs)\n",
    "        preds = torch.argmax(outs, dim=-1)\n",
    "        loss = criterion(outs, labels)\n",
    "        \n",
    "        loss.backward()\n",
    "        \n",
    "        if (idx+1) % accumulation_steps == 0:\n",
    "            optimizer.step()\n",
    "            optimizer.zero_grad()\n",
    "        \n",
    "        if epoch % 10 == 0:\n",
    "            torch.save(model, f'/opt/ml/checkpoint/RegNet/nonfreeze_checkpoint_ep_{epoch+20}.pt')\n",
    "        \n",
    "        loss_value += loss.item()\n",
    "        matches += (preds == labels).sum().item()\n",
    "        \n",
    "    train_loss = loss_value / len(train_dataloader_mask)\n",
    "    train_acc = matches / len(mask_train_set)\n",
    "    \n",
    "    print(f\"epoch[{epoch}/{NUM_EPOCH}] training loss {train_loss:.5f}, training accuracy {train_acc:.5f}\")\n",
    "    \n",
    "    with torch.no_grad():\n",
    "        model.eval()\n",
    "        val_loss_items = []\n",
    "        val_acc_items = []\n",
    "        f1_score = 0\n",
    "        for val_batch in tqdm(val_dataloader_mask):\n",
    "            inputs, labels = val_batch\n",
    "            inputs = inputs.to(device)\n",
    "            labels = labels.to(device)\n",
    "            \n",
    "            outs = model(inputs)\n",
    "            preds = torch.argmax(outs, dim=-1)\n",
    "            \n",
    "            loss_item = criterion(outs, labels).item()\n",
    "            acc_item = (labels==preds).sum().item()\n",
    "            val_loss_items.append(loss_item)\n",
    "            val_acc_items.append(acc_item)\n",
    "            \n",
    "            f1_score += f1(outs, labels)\n",
    "            \n",
    "        val_loss = np.sum(val_loss_items) / len(val_dataloader_mask)\n",
    "        val_acc = np.sum(val_acc_items) / len(mask_val_set)\n",
    "        \n",
    "        f1_score /= len(val_dataloader_mask)\n",
    "        \n",
    "        if val_loss < best_val_loss:\n",
    "            best_val_loss = val_loss\n",
    "#             cur_count = 0\n",
    "            torch.save(model, '/opt/ml/checkpoint/RegNet/nonfreeze_checkpoint_best.pt')                     \n",
    "            print('checkpoint saved!')\n",
    "#         else:\n",
    "#             cur_count += 1\n",
    "#             if cur_count >= patience:\n",
    "#                 print(\"Early Stopping!\")\n",
    "#                 break\n",
    "                \n",
    "        if val_acc > best_val_acc:\n",
    "            best_val_acc = val_acc\n",
    "        \n",
    "        if f1_score > best_f1_score:\n",
    "            best_f1_score = f1_score\n",
    "\n",
    "                \n",
    "        print(f\"[val] acc : {val_acc:.5f}, loss : {val_loss:.5f}, f1 score : {f1_score:.5f}\")\n",
    "        print(f\"best acc : {best_val_acc:.5f}, best loss : {best_val_loss:.5f}, best f1 : {best_f1_score:.5f}\")"
   ]
  },
  {
   "cell_type": "code",
   "execution_count": 27,
   "id": "afda23d0-6ad9-408b-99c9-705ae5fd8347",
   "metadata": {},
   "outputs": [
    {
     "data": {
      "text/html": [
       "<div>\n",
       "<style scoped>\n",
       "    .dataframe tbody tr th:only-of-type {\n",
       "        vertical-align: middle;\n",
       "    }\n",
       "\n",
       "    .dataframe tbody tr th {\n",
       "        vertical-align: top;\n",
       "    }\n",
       "\n",
       "    .dataframe thead th {\n",
       "        text-align: right;\n",
       "    }\n",
       "</style>\n",
       "<table border=\"1\" class=\"dataframe\">\n",
       "  <thead>\n",
       "    <tr style=\"text-align: right;\">\n",
       "      <th></th>\n",
       "      <th>ImageID</th>\n",
       "      <th>ans</th>\n",
       "    </tr>\n",
       "  </thead>\n",
       "  <tbody>\n",
       "    <tr>\n",
       "      <th>0</th>\n",
       "      <td>cbc5c6e168e63498590db46022617123f1fe1268.jpg</td>\n",
       "      <td>0</td>\n",
       "    </tr>\n",
       "    <tr>\n",
       "      <th>1</th>\n",
       "      <td>0e72482bf56b3581c081f7da2a6180b8792c7089.jpg</td>\n",
       "      <td>0</td>\n",
       "    </tr>\n",
       "    <tr>\n",
       "      <th>2</th>\n",
       "      <td>b549040c49190cedc41327748aeb197c1670f14d.jpg</td>\n",
       "      <td>0</td>\n",
       "    </tr>\n",
       "    <tr>\n",
       "      <th>3</th>\n",
       "      <td>4f9cb2a045c6d5b9e50ad3459ea7b791eb6e18bc.jpg</td>\n",
       "      <td>0</td>\n",
       "    </tr>\n",
       "    <tr>\n",
       "      <th>4</th>\n",
       "      <td>248428d9a4a5b6229a7081c32851b90cb8d38d0c.jpg</td>\n",
       "      <td>0</td>\n",
       "    </tr>\n",
       "  </tbody>\n",
       "</table>\n",
       "</div>"
      ],
      "text/plain": [
       "                                        ImageID  ans\n",
       "0  cbc5c6e168e63498590db46022617123f1fe1268.jpg    0\n",
       "1  0e72482bf56b3581c081f7da2a6180b8792c7089.jpg    0\n",
       "2  b549040c49190cedc41327748aeb197c1670f14d.jpg    0\n",
       "3  4f9cb2a045c6d5b9e50ad3459ea7b791eb6e18bc.jpg    0\n",
       "4  248428d9a4a5b6229a7081c32851b90cb8d38d0c.jpg    0"
      ]
     },
     "execution_count": 27,
     "metadata": {},
     "output_type": "execute_result"
    }
   ],
   "source": [
    "# meta 데이터와 이미지 경로를 불러옵니다.\n",
    "test_dir_path = '/opt/ml/input/data/eval/'\n",
    "test_image_path = '/opt/ml/input/data/eval/images/'\n",
    "\n",
    "best_model = torch.load('/opt/ml/checkpoint/RegNet/nonfreeze_checkpoint_best.pt')\n",
    "submission = pd.read_csv(test_dir_path+'info.csv')\n",
    "submission.head()"
   ]
  },
  {
   "cell_type": "code",
   "execution_count": 28,
   "id": "566c2df1-a083-4e27-a655-f2c73d15f762",
   "metadata": {},
   "outputs": [],
   "source": [
    "image_paths = [os.path.join(test_image_path, img_id) for img_id in submission.ImageID]\n",
    "test_image = pd.Series(image_paths)"
   ]
  },
  {
   "cell_type": "code",
   "execution_count": 29,
   "id": "a9c14322-45a8-40a5-aded-f335204484b1",
   "metadata": {},
   "outputs": [],
   "source": [
    "class Test_Dataset(Dataset):\n",
    "    def __init__(self, midcrop=True, transform=None):\n",
    "        self.midcrop = midcrop\n",
    "        self.data = test_image\n",
    "        self.transform = transform\n",
    "        \n",
    "    def __len__(self):\n",
    "        return len(test_image)\n",
    "    \n",
    "    def __getitem__(self, idx):\n",
    "        img = cv2.cvtColor(cv2.imread(self.data[idx]), cv2.COLOR_BGR2RGB)\n",
    "        \n",
    "        if self.midcrop:\n",
    "            img = img[64:448]\n",
    "            \n",
    "        if self.transform:\n",
    "            img = self.transform(img)\n",
    "            \n",
    "        return img"
   ]
  },
  {
   "cell_type": "code",
   "execution_count": 30,
   "id": "138db932-cc09-4f85-89d8-e7485659f7cd",
   "metadata": {},
   "outputs": [
    {
     "name": "stdout",
     "output_type": "stream",
     "text": [
      "test inference is done!\n"
     ]
    }
   ],
   "source": [
    "dataset = Test_Dataset(transform = transform1)\n",
    "\n",
    "loader = DataLoader(\n",
    "    dataset,\n",
    "    batch_size=batch_size,\n",
    "    shuffle=False,\n",
    "    num_workers=2\n",
    ")\n",
    "\n",
    "# 모델을 정의합니다. (학습한 모델이 있다면 torch.load로 모델을 불러주세요!)\n",
    "device = torch.device('cuda')\n",
    "model = best_model.to(device)\n",
    "model.eval()\n",
    "\n",
    "# 모델이 테스트 데이터셋을 예측하고 결과를 저장합니다.\n",
    "all_predictions = []\n",
    "for images in loader:\n",
    "    with torch.no_grad():\n",
    "        images = images.to(device)\n",
    "        pred = model(images)\n",
    "        pred = pred.argmax(dim=-1)\n",
    "        all_predictions.extend(pred.cpu().numpy())\n",
    "submission['ans'] = all_predictions\n",
    "\n",
    "# 제출할 파일을 저장합니다.\n",
    "submission.to_csv(os.path.join(test_dir_path, 'submission_regnet_2.csv'), index=False)\n",
    "print('test inference is done!')"
   ]
  },
  {
   "cell_type": "code",
   "execution_count": null,
   "id": "2fd05b0a-17a2-47b4-b10d-de6e4344e098",
   "metadata": {},
   "outputs": [],
   "source": []
  }
 ],
 "metadata": {
  "kernelspec": {
   "display_name": "Python 3",
   "language": "python",
   "name": "python3"
  },
  "language_info": {
   "codemirror_mode": {
    "name": "ipython",
    "version": 3
   },
   "file_extension": ".py",
   "mimetype": "text/x-python",
   "name": "python",
   "nbconvert_exporter": "python",
   "pygments_lexer": "ipython3",
   "version": "3.8.5"
  },
  "vscode": {
   "interpreter": {
    "hash": "31f2aee4e71d21fbe5cf8b01ff0e069b9275f58929596ceb00d14d90e3e16cd6"
   }
  }
 },
 "nbformat": 4,
 "nbformat_minor": 5
}
