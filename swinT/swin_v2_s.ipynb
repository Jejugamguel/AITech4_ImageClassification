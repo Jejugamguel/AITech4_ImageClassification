{
 "cells": [
  {
   "cell_type": "code",
   "execution_count": 1,
   "id": "1531288b-3caa-4cb1-b15c-7334747a5a9f",
   "metadata": {},
   "outputs": [],
   "source": [
    "import torch, gc\n",
    "gc.collect()\n",
    "torch.cuda.empty_cache()"
   ]
  },
  {
   "cell_type": "code",
   "execution_count": 2,
   "id": "69bc6ad5-8c6e-47b0-b625-46f66dc71d30",
   "metadata": {},
   "outputs": [
    {
     "name": "stdout",
     "output_type": "stream",
     "text": [
      "| ID | GPU | MEM |\n",
      "------------------\n",
      "|  0 |  7% |  0% |\n"
     ]
    }
   ],
   "source": [
    "import GPUtil\n",
    "GPUtil.showUtilization()"
   ]
  },
  {
   "cell_type": "code",
   "execution_count": 3,
   "id": "0b1d65a3-78de-4b01-a862-e6bd4c7ef135",
   "metadata": {},
   "outputs": [],
   "source": [
    "import torch\n",
    "import torch.nn as nn\n",
    "import torchvision\n",
    "from torchvision import transforms\n",
    "from torch.utils.data import Dataset, DataLoader\n",
    "from sklearn.model_selection import train_test_split\n",
    "\n",
    "import numpy as np\n",
    "import pandas as pd\n",
    "import cv2\n",
    "from PIL import Image\n",
    "import matplotlib.pyplot as plt\n",
    "from tqdm.notebook import tqdm\n",
    "import random\n",
    "import os\n",
    "from torchmetrics import F1Score"
   ]
  },
  {
   "cell_type": "code",
   "execution_count": 4,
   "id": "8e35b9f5-0e2b-49cb-a97c-d9873b5b7fc9",
   "metadata": {},
   "outputs": [
    {
     "data": {
      "text/plain": [
       "'1.13.0+cu117'"
      ]
     },
     "execution_count": 4,
     "metadata": {},
     "output_type": "execute_result"
    }
   ],
   "source": [
    "torch.__version__"
   ]
  },
  {
   "cell_type": "code",
   "execution_count": 29,
   "id": "d15beaba-39cc-48da-8165-9f2abc16322a",
   "metadata": {},
   "outputs": [
    {
     "data": {
      "text/plain": [
       "'/opt/ml/input/data'"
      ]
     },
     "execution_count": 29,
     "metadata": {},
     "output_type": "execute_result"
    }
   ],
   "source": [
    "os.chdir('input/data')\n",
    "os.getcwd()"
   ]
  },
  {
   "cell_type": "code",
   "execution_count": 30,
   "id": "2b3beb99-f9c7-4026-989a-cbaa8de1f632",
   "metadata": {},
   "outputs": [],
   "source": [
    "!find . -regex \".*\\.\\_[a-zA-Z0-9._]+\" -delete"
   ]
  },
  {
   "cell_type": "code",
   "execution_count": 4,
   "id": "fa8d19de-5a8e-454f-a22b-129e94792395",
   "metadata": {},
   "outputs": [],
   "source": [
    "random_seed = 12\n",
    "torch.manual_seed(random_seed)\n",
    "torch.cuda.manual_seed(random_seed)\n",
    "torch.cuda.manual_seed_all(random_seed) # if use multi-GPU\n",
    "torch.backends.cudnn.deterministic = True\n",
    "torch.backends.cudnn.benchmark = False\n",
    "np.random.seed(random_seed)\n",
    "random.seed(random_seed)"
   ]
  },
  {
   "cell_type": "code",
   "execution_count": 5,
   "id": "6f69f93c-5675-433f-8a88-7bf8e411d51c",
   "metadata": {},
   "outputs": [
    {
     "data": {
      "text/html": [
       "<div>\n",
       "<style scoped>\n",
       "    .dataframe tbody tr th:only-of-type {\n",
       "        vertical-align: middle;\n",
       "    }\n",
       "\n",
       "    .dataframe tbody tr th {\n",
       "        vertical-align: top;\n",
       "    }\n",
       "\n",
       "    .dataframe thead th {\n",
       "        text-align: right;\n",
       "    }\n",
       "</style>\n",
       "<table border=\"1\" class=\"dataframe\">\n",
       "  <thead>\n",
       "    <tr style=\"text-align: right;\">\n",
       "      <th></th>\n",
       "      <th>id</th>\n",
       "      <th>gender</th>\n",
       "      <th>race</th>\n",
       "      <th>age</th>\n",
       "      <th>path</th>\n",
       "    </tr>\n",
       "  </thead>\n",
       "  <tbody>\n",
       "    <tr>\n",
       "      <th>0</th>\n",
       "      <td>000001</td>\n",
       "      <td>female</td>\n",
       "      <td>Asian</td>\n",
       "      <td>45</td>\n",
       "      <td>000001_female_Asian_45</td>\n",
       "    </tr>\n",
       "    <tr>\n",
       "      <th>1</th>\n",
       "      <td>000002</td>\n",
       "      <td>female</td>\n",
       "      <td>Asian</td>\n",
       "      <td>52</td>\n",
       "      <td>000002_female_Asian_52</td>\n",
       "    </tr>\n",
       "    <tr>\n",
       "      <th>2</th>\n",
       "      <td>000004</td>\n",
       "      <td>male</td>\n",
       "      <td>Asian</td>\n",
       "      <td>54</td>\n",
       "      <td>000004_male_Asian_54</td>\n",
       "    </tr>\n",
       "    <tr>\n",
       "      <th>3</th>\n",
       "      <td>000005</td>\n",
       "      <td>female</td>\n",
       "      <td>Asian</td>\n",
       "      <td>58</td>\n",
       "      <td>000005_female_Asian_58</td>\n",
       "    </tr>\n",
       "    <tr>\n",
       "      <th>4</th>\n",
       "      <td>000006</td>\n",
       "      <td>female</td>\n",
       "      <td>Asian</td>\n",
       "      <td>59</td>\n",
       "      <td>000006_female_Asian_59</td>\n",
       "    </tr>\n",
       "    <tr>\n",
       "      <th>...</th>\n",
       "      <td>...</td>\n",
       "      <td>...</td>\n",
       "      <td>...</td>\n",
       "      <td>...</td>\n",
       "      <td>...</td>\n",
       "    </tr>\n",
       "    <tr>\n",
       "      <th>2695</th>\n",
       "      <td>006954</td>\n",
       "      <td>male</td>\n",
       "      <td>Asian</td>\n",
       "      <td>19</td>\n",
       "      <td>006954_male_Asian_19</td>\n",
       "    </tr>\n",
       "    <tr>\n",
       "      <th>2696</th>\n",
       "      <td>006955</td>\n",
       "      <td>male</td>\n",
       "      <td>Asian</td>\n",
       "      <td>19</td>\n",
       "      <td>006955_male_Asian_19</td>\n",
       "    </tr>\n",
       "    <tr>\n",
       "      <th>2697</th>\n",
       "      <td>006956</td>\n",
       "      <td>male</td>\n",
       "      <td>Asian</td>\n",
       "      <td>19</td>\n",
       "      <td>006956_male_Asian_19</td>\n",
       "    </tr>\n",
       "    <tr>\n",
       "      <th>2698</th>\n",
       "      <td>006957</td>\n",
       "      <td>male</td>\n",
       "      <td>Asian</td>\n",
       "      <td>20</td>\n",
       "      <td>006957_male_Asian_20</td>\n",
       "    </tr>\n",
       "    <tr>\n",
       "      <th>2699</th>\n",
       "      <td>006959</td>\n",
       "      <td>male</td>\n",
       "      <td>Asian</td>\n",
       "      <td>19</td>\n",
       "      <td>006959_male_Asian_19</td>\n",
       "    </tr>\n",
       "  </tbody>\n",
       "</table>\n",
       "<p>2700 rows × 5 columns</p>\n",
       "</div>"
      ],
      "text/plain": [
       "          id  gender   race  age                    path\n",
       "0     000001  female  Asian   45  000001_female_Asian_45\n",
       "1     000002  female  Asian   52  000002_female_Asian_52\n",
       "2     000004    male  Asian   54    000004_male_Asian_54\n",
       "3     000005  female  Asian   58  000005_female_Asian_58\n",
       "4     000006  female  Asian   59  000006_female_Asian_59\n",
       "...      ...     ...    ...  ...                     ...\n",
       "2695  006954    male  Asian   19    006954_male_Asian_19\n",
       "2696  006955    male  Asian   19    006955_male_Asian_19\n",
       "2697  006956    male  Asian   19    006956_male_Asian_19\n",
       "2698  006957    male  Asian   20    006957_male_Asian_20\n",
       "2699  006959    male  Asian   19    006959_male_Asian_19\n",
       "\n",
       "[2700 rows x 5 columns]"
      ]
     },
     "execution_count": 5,
     "metadata": {},
     "output_type": "execute_result"
    }
   ],
   "source": [
    "train_dir_path = '/opt/ml/input/data/train/'\n",
    "train_image_path = '/opt/ml/input/data/train/images/'\n",
    "\n",
    "dt_train = pd.read_csv(train_dir_path+'train.csv')\n",
    "dt_train"
   ]
  },
  {
   "cell_type": "code",
   "execution_count": 6,
   "id": "e02f6e90-56db-4610-84c0-bd91ce51b7ab",
   "metadata": {},
   "outputs": [],
   "source": [
    "def get_age_range(age):\n",
    "    if age < 30:\n",
    "        return 0\n",
    "    elif 30 <= age < 60:\n",
    "        return 1\n",
    "    else:\n",
    "        return 2"
   ]
  },
  {
   "cell_type": "code",
   "execution_count": 7,
   "id": "a727ed75-06f7-4828-be29-55e7cbdddfcc",
   "metadata": {},
   "outputs": [],
   "source": [
    "dt_train['age_range'] = dt_train['age'].apply(lambda x : get_age_range(x))"
   ]
  },
  {
   "cell_type": "code",
   "execution_count": 8,
   "id": "053dd987-184c-4528-97c0-954a568e626c",
   "metadata": {},
   "outputs": [
    {
     "data": {
      "text/html": [
       "<div>\n",
       "<style scoped>\n",
       "    .dataframe tbody tr th:only-of-type {\n",
       "        vertical-align: middle;\n",
       "    }\n",
       "\n",
       "    .dataframe tbody tr th {\n",
       "        vertical-align: top;\n",
       "    }\n",
       "\n",
       "    .dataframe thead th {\n",
       "        text-align: right;\n",
       "    }\n",
       "</style>\n",
       "<table border=\"1\" class=\"dataframe\">\n",
       "  <thead>\n",
       "    <tr style=\"text-align: right;\">\n",
       "      <th></th>\n",
       "      <th>id</th>\n",
       "      <th>gender</th>\n",
       "      <th>race</th>\n",
       "      <th>age</th>\n",
       "      <th>path</th>\n",
       "      <th>age_range</th>\n",
       "    </tr>\n",
       "  </thead>\n",
       "  <tbody>\n",
       "    <tr>\n",
       "      <th>0</th>\n",
       "      <td>000001</td>\n",
       "      <td>female</td>\n",
       "      <td>Asian</td>\n",
       "      <td>45</td>\n",
       "      <td>000001_female_Asian_45</td>\n",
       "      <td>1</td>\n",
       "    </tr>\n",
       "    <tr>\n",
       "      <th>1</th>\n",
       "      <td>000002</td>\n",
       "      <td>female</td>\n",
       "      <td>Asian</td>\n",
       "      <td>52</td>\n",
       "      <td>000002_female_Asian_52</td>\n",
       "      <td>1</td>\n",
       "    </tr>\n",
       "    <tr>\n",
       "      <th>2</th>\n",
       "      <td>000004</td>\n",
       "      <td>male</td>\n",
       "      <td>Asian</td>\n",
       "      <td>54</td>\n",
       "      <td>000004_male_Asian_54</td>\n",
       "      <td>1</td>\n",
       "    </tr>\n",
       "    <tr>\n",
       "      <th>3</th>\n",
       "      <td>000005</td>\n",
       "      <td>female</td>\n",
       "      <td>Asian</td>\n",
       "      <td>58</td>\n",
       "      <td>000005_female_Asian_58</td>\n",
       "      <td>1</td>\n",
       "    </tr>\n",
       "    <tr>\n",
       "      <th>4</th>\n",
       "      <td>000006</td>\n",
       "      <td>female</td>\n",
       "      <td>Asian</td>\n",
       "      <td>59</td>\n",
       "      <td>000006_female_Asian_59</td>\n",
       "      <td>1</td>\n",
       "    </tr>\n",
       "    <tr>\n",
       "      <th>...</th>\n",
       "      <td>...</td>\n",
       "      <td>...</td>\n",
       "      <td>...</td>\n",
       "      <td>...</td>\n",
       "      <td>...</td>\n",
       "      <td>...</td>\n",
       "    </tr>\n",
       "    <tr>\n",
       "      <th>2695</th>\n",
       "      <td>006954</td>\n",
       "      <td>male</td>\n",
       "      <td>Asian</td>\n",
       "      <td>19</td>\n",
       "      <td>006954_male_Asian_19</td>\n",
       "      <td>0</td>\n",
       "    </tr>\n",
       "    <tr>\n",
       "      <th>2696</th>\n",
       "      <td>006955</td>\n",
       "      <td>male</td>\n",
       "      <td>Asian</td>\n",
       "      <td>19</td>\n",
       "      <td>006955_male_Asian_19</td>\n",
       "      <td>0</td>\n",
       "    </tr>\n",
       "    <tr>\n",
       "      <th>2697</th>\n",
       "      <td>006956</td>\n",
       "      <td>male</td>\n",
       "      <td>Asian</td>\n",
       "      <td>19</td>\n",
       "      <td>006956_male_Asian_19</td>\n",
       "      <td>0</td>\n",
       "    </tr>\n",
       "    <tr>\n",
       "      <th>2698</th>\n",
       "      <td>006957</td>\n",
       "      <td>male</td>\n",
       "      <td>Asian</td>\n",
       "      <td>20</td>\n",
       "      <td>006957_male_Asian_20</td>\n",
       "      <td>0</td>\n",
       "    </tr>\n",
       "    <tr>\n",
       "      <th>2699</th>\n",
       "      <td>006959</td>\n",
       "      <td>male</td>\n",
       "      <td>Asian</td>\n",
       "      <td>19</td>\n",
       "      <td>006959_male_Asian_19</td>\n",
       "      <td>0</td>\n",
       "    </tr>\n",
       "  </tbody>\n",
       "</table>\n",
       "<p>2700 rows × 6 columns</p>\n",
       "</div>"
      ],
      "text/plain": [
       "          id  gender   race  age                    path  age_range\n",
       "0     000001  female  Asian   45  000001_female_Asian_45          1\n",
       "1     000002  female  Asian   52  000002_female_Asian_52          1\n",
       "2     000004    male  Asian   54    000004_male_Asian_54          1\n",
       "3     000005  female  Asian   58  000005_female_Asian_58          1\n",
       "4     000006  female  Asian   59  000006_female_Asian_59          1\n",
       "...      ...     ...    ...  ...                     ...        ...\n",
       "2695  006954    male  Asian   19    006954_male_Asian_19          0\n",
       "2696  006955    male  Asian   19    006955_male_Asian_19          0\n",
       "2697  006956    male  Asian   19    006956_male_Asian_19          0\n",
       "2698  006957    male  Asian   20    006957_male_Asian_20          0\n",
       "2699  006959    male  Asian   19    006959_male_Asian_19          0\n",
       "\n",
       "[2700 rows x 6 columns]"
      ]
     },
     "execution_count": 8,
     "metadata": {},
     "output_type": "execute_result"
    }
   ],
   "source": [
    "dt_train"
   ]
  },
  {
   "cell_type": "code",
   "execution_count": 9,
   "id": "2e1db9ec-22a0-4b6a-a099-346389defb1c",
   "metadata": {},
   "outputs": [],
   "source": [
    "train_idx, valid_idx = train_test_split(np.arange(len(dt_train)),\n",
    "                                       test_size=0.2,\n",
    "                                       shuffle=True,\n",
    "                                       stratify=dt_train['age_range'])"
   ]
  },
  {
   "cell_type": "code",
   "execution_count": 10,
   "id": "5b99a768-861d-43ad-ab2d-d62ac76311d6",
   "metadata": {},
   "outputs": [],
   "source": [
    "train_image = []\n",
    "train_label = []\n",
    "\n",
    "for idx in train_idx:\n",
    "    path = dt_train.iloc[idx]['path']\n",
    "    for file_name in [i for i in os.listdir(train_image_path+path) if i[0] != '.']:\n",
    "        train_image.append(train_image_path+path+'/'+file_name)\n",
    "        train_label.append((path.split('_')[1], path.split('_')[3], file_name.split('.')[0]))                            "
   ]
  },
  {
   "cell_type": "code",
   "execution_count": 11,
   "id": "ef44b512-3028-4fca-b4d9-edceabd7d2d9",
   "metadata": {},
   "outputs": [],
   "source": [
    "valid_image = []\n",
    "valid_label = []\n",
    "\n",
    "for idx in valid_idx:\n",
    "    path = dt_train.iloc[idx]['path']\n",
    "    for file_name in [i for i in os.listdir(train_image_path+path) if i[0] != '.']:\n",
    "        valid_image.append(train_image_path+path+'/'+file_name)\n",
    "        valid_label.append((path.split('_')[1], path.split('_')[3], file_name.split('.')[0]))              "
   ]
  },
  {
   "cell_type": "code",
   "execution_count": 12,
   "id": "98de1eb4-55d4-41ba-8541-70fff9bb011e",
   "metadata": {},
   "outputs": [],
   "source": [
    "def onehot_enc(x):\n",
    "    def gender(i):\n",
    "        if i == 'male':\n",
    "            return 0\n",
    "        elif i == 'female':\n",
    "            return 3\n",
    "    def age(j):\n",
    "        j = int(j)\n",
    "        if j < 30:\n",
    "            return 0\n",
    "        elif j >= 30 and j < 60:\n",
    "            return 1\n",
    "        elif j >= 60:\n",
    "            return 2\n",
    "    def mask(k):\n",
    "        if k == 'normal':\n",
    "            return 12\n",
    "        elif 'incorrect' in k:\n",
    "            return 6\n",
    "        else:\n",
    "            return 0\n",
    "    return gender(x[0]) + age(x[1]) + mask(x[2])"
   ]
  },
  {
   "cell_type": "code",
   "execution_count": 13,
   "id": "694474c7-7175-40e6-b071-e50218629f1a",
   "metadata": {},
   "outputs": [],
   "source": [
    "train_data = pd.Series(train_image)\n",
    "train_label = pd.Series(train_label)\n",
    "\n",
    "valid_data = pd.Series(valid_image)\n",
    "valid_label = pd.Series(valid_label)"
   ]
  },
  {
   "cell_type": "code",
   "execution_count": 14,
   "id": "e2cd7b29-5f03-444e-b781-902ca74f2085",
   "metadata": {},
   "outputs": [],
   "source": [
    "class Dataset_Mask(Dataset):\n",
    "    def __init__(self, data, label, encoding=True, midcrop=True, transform=None):\n",
    "        self.encoding = encoding\n",
    "        self.midcrop = midcrop\n",
    "        self.data = data\n",
    "        self.label = label\n",
    "        self.transform = transform\n",
    "        \n",
    "        if encoding:\n",
    "            self.label = self.label.apply(onehot_enc)\n",
    "        \n",
    "    def __len__(self):\n",
    "        return len(self.data)\n",
    "    \n",
    "    def __getitem__(self, idx):\n",
    "        X = cv2.cvtColor(cv2.imread(self.data[idx]), cv2.COLOR_BGR2RGB)\n",
    "        y = self.label[idx]\n",
    "        \n",
    "        if self.midcrop:\n",
    "            X = X[70:420, 17:367]\n",
    "        \n",
    "        if self.transform:\n",
    "            return self.transform(X), y\n",
    "        return X, y"
   ]
  },
  {
   "cell_type": "code",
   "execution_count": 15,
   "id": "e2a22aff-e634-4f15-877c-752d450d01da",
   "metadata": {},
   "outputs": [],
   "source": [
    "mask_train_set = Dataset_Mask(data=train_data, label=train_label, transform = transforms.Compose([\n",
    "                                transforms.ToTensor()\n",
    "                            ]))\n",
    "mask_val_set = Dataset_Mask(data=valid_data, label=valid_label, transform = transforms.Compose([\n",
    "                                transforms.ToTensor()\n",
    "                            ]))"
   ]
  },
  {
   "cell_type": "code",
   "execution_count": 16,
   "id": "37b1ced0-1e34-4d50-b2b2-dcdff8fd33f4",
   "metadata": {},
   "outputs": [],
   "source": [
    "batch_size = 32\n",
    "train_dataloader_mask = DataLoader(dataset = mask_train_set, batch_size=batch_size, shuffle=True, num_workers=2)\n",
    "val_dataloader_mask = DataLoader(dataset = mask_val_set, batch_size=batch_size, shuffle=True, num_workers=2)"
   ]
  },
  {
   "cell_type": "code",
   "execution_count": 19,
   "id": "af71a4ef-a137-47b0-af94-eebedaa36014",
   "metadata": {},
   "outputs": [
    {
     "name": "stderr",
     "output_type": "stream",
     "text": [
      "Downloading: \"https://download.pytorch.org/models/swin_v2_s-637d8ceb.pth\" to /opt/ml/.cache/torch/hub/checkpoints/swin_v2_s-637d8ceb.pth\n"
     ]
    },
    {
     "data": {
      "application/vnd.jupyter.widget-view+json": {
       "model_id": "23a4549c638e4312a5a1cdb08dc83611",
       "version_major": 2,
       "version_minor": 0
      },
      "text/plain": [
       "HBox(children=(HTML(value=''), FloatProgress(value=0.0, max=199936785.0), HTML(value='')))"
      ]
     },
     "metadata": {},
     "output_type": "display_data"
    },
    {
     "name": "stdout",
     "output_type": "stream",
     "text": [
      "\n"
     ]
    },
    {
     "data": {
      "text/plain": [
       "SwinTransformer(\n",
       "  (features): Sequential(\n",
       "    (0): Sequential(\n",
       "      (0): Conv2d(3, 96, kernel_size=(4, 4), stride=(4, 4))\n",
       "      (1): Permute()\n",
       "      (2): LayerNorm((96,), eps=1e-05, elementwise_affine=True)\n",
       "    )\n",
       "    (1): Sequential(\n",
       "      (0): SwinTransformerBlockV2(\n",
       "        (norm1): LayerNorm((96,), eps=1e-05, elementwise_affine=True)\n",
       "        (attn): ShiftedWindowAttentionV2(\n",
       "          (qkv): Linear(in_features=96, out_features=288, bias=True)\n",
       "          (proj): Linear(in_features=96, out_features=96, bias=True)\n",
       "          (cpb_mlp): Sequential(\n",
       "            (0): Linear(in_features=2, out_features=512, bias=True)\n",
       "            (1): ReLU(inplace=True)\n",
       "            (2): Linear(in_features=512, out_features=3, bias=False)\n",
       "          )\n",
       "        )\n",
       "        (stochastic_depth): StochasticDepth(p=0.0, mode=row)\n",
       "        (norm2): LayerNorm((96,), eps=1e-05, elementwise_affine=True)\n",
       "        (mlp): MLP(\n",
       "          (0): Linear(in_features=96, out_features=384, bias=True)\n",
       "          (1): GELU(approximate='none')\n",
       "          (2): Dropout(p=0.0, inplace=False)\n",
       "          (3): Linear(in_features=384, out_features=96, bias=True)\n",
       "          (4): Dropout(p=0.0, inplace=False)\n",
       "        )\n",
       "      )\n",
       "      (1): SwinTransformerBlockV2(\n",
       "        (norm1): LayerNorm((96,), eps=1e-05, elementwise_affine=True)\n",
       "        (attn): ShiftedWindowAttentionV2(\n",
       "          (qkv): Linear(in_features=96, out_features=288, bias=True)\n",
       "          (proj): Linear(in_features=96, out_features=96, bias=True)\n",
       "          (cpb_mlp): Sequential(\n",
       "            (0): Linear(in_features=2, out_features=512, bias=True)\n",
       "            (1): ReLU(inplace=True)\n",
       "            (2): Linear(in_features=512, out_features=3, bias=False)\n",
       "          )\n",
       "        )\n",
       "        (stochastic_depth): StochasticDepth(p=0.013043478260869565, mode=row)\n",
       "        (norm2): LayerNorm((96,), eps=1e-05, elementwise_affine=True)\n",
       "        (mlp): MLP(\n",
       "          (0): Linear(in_features=96, out_features=384, bias=True)\n",
       "          (1): GELU(approximate='none')\n",
       "          (2): Dropout(p=0.0, inplace=False)\n",
       "          (3): Linear(in_features=384, out_features=96, bias=True)\n",
       "          (4): Dropout(p=0.0, inplace=False)\n",
       "        )\n",
       "      )\n",
       "    )\n",
       "    (2): PatchMergingV2(\n",
       "      (reduction): Linear(in_features=384, out_features=192, bias=False)\n",
       "      (norm): LayerNorm((192,), eps=1e-05, elementwise_affine=True)\n",
       "    )\n",
       "    (3): Sequential(\n",
       "      (0): SwinTransformerBlockV2(\n",
       "        (norm1): LayerNorm((192,), eps=1e-05, elementwise_affine=True)\n",
       "        (attn): ShiftedWindowAttentionV2(\n",
       "          (qkv): Linear(in_features=192, out_features=576, bias=True)\n",
       "          (proj): Linear(in_features=192, out_features=192, bias=True)\n",
       "          (cpb_mlp): Sequential(\n",
       "            (0): Linear(in_features=2, out_features=512, bias=True)\n",
       "            (1): ReLU(inplace=True)\n",
       "            (2): Linear(in_features=512, out_features=6, bias=False)\n",
       "          )\n",
       "        )\n",
       "        (stochastic_depth): StochasticDepth(p=0.02608695652173913, mode=row)\n",
       "        (norm2): LayerNorm((192,), eps=1e-05, elementwise_affine=True)\n",
       "        (mlp): MLP(\n",
       "          (0): Linear(in_features=192, out_features=768, bias=True)\n",
       "          (1): GELU(approximate='none')\n",
       "          (2): Dropout(p=0.0, inplace=False)\n",
       "          (3): Linear(in_features=768, out_features=192, bias=True)\n",
       "          (4): Dropout(p=0.0, inplace=False)\n",
       "        )\n",
       "      )\n",
       "      (1): SwinTransformerBlockV2(\n",
       "        (norm1): LayerNorm((192,), eps=1e-05, elementwise_affine=True)\n",
       "        (attn): ShiftedWindowAttentionV2(\n",
       "          (qkv): Linear(in_features=192, out_features=576, bias=True)\n",
       "          (proj): Linear(in_features=192, out_features=192, bias=True)\n",
       "          (cpb_mlp): Sequential(\n",
       "            (0): Linear(in_features=2, out_features=512, bias=True)\n",
       "            (1): ReLU(inplace=True)\n",
       "            (2): Linear(in_features=512, out_features=6, bias=False)\n",
       "          )\n",
       "        )\n",
       "        (stochastic_depth): StochasticDepth(p=0.03913043478260869, mode=row)\n",
       "        (norm2): LayerNorm((192,), eps=1e-05, elementwise_affine=True)\n",
       "        (mlp): MLP(\n",
       "          (0): Linear(in_features=192, out_features=768, bias=True)\n",
       "          (1): GELU(approximate='none')\n",
       "          (2): Dropout(p=0.0, inplace=False)\n",
       "          (3): Linear(in_features=768, out_features=192, bias=True)\n",
       "          (4): Dropout(p=0.0, inplace=False)\n",
       "        )\n",
       "      )\n",
       "    )\n",
       "    (4): PatchMergingV2(\n",
       "      (reduction): Linear(in_features=768, out_features=384, bias=False)\n",
       "      (norm): LayerNorm((384,), eps=1e-05, elementwise_affine=True)\n",
       "    )\n",
       "    (5): Sequential(\n",
       "      (0): SwinTransformerBlockV2(\n",
       "        (norm1): LayerNorm((384,), eps=1e-05, elementwise_affine=True)\n",
       "        (attn): ShiftedWindowAttentionV2(\n",
       "          (qkv): Linear(in_features=384, out_features=1152, bias=True)\n",
       "          (proj): Linear(in_features=384, out_features=384, bias=True)\n",
       "          (cpb_mlp): Sequential(\n",
       "            (0): Linear(in_features=2, out_features=512, bias=True)\n",
       "            (1): ReLU(inplace=True)\n",
       "            (2): Linear(in_features=512, out_features=12, bias=False)\n",
       "          )\n",
       "        )\n",
       "        (stochastic_depth): StochasticDepth(p=0.05217391304347826, mode=row)\n",
       "        (norm2): LayerNorm((384,), eps=1e-05, elementwise_affine=True)\n",
       "        (mlp): MLP(\n",
       "          (0): Linear(in_features=384, out_features=1536, bias=True)\n",
       "          (1): GELU(approximate='none')\n",
       "          (2): Dropout(p=0.0, inplace=False)\n",
       "          (3): Linear(in_features=1536, out_features=384, bias=True)\n",
       "          (4): Dropout(p=0.0, inplace=False)\n",
       "        )\n",
       "      )\n",
       "      (1): SwinTransformerBlockV2(\n",
       "        (norm1): LayerNorm((384,), eps=1e-05, elementwise_affine=True)\n",
       "        (attn): ShiftedWindowAttentionV2(\n",
       "          (qkv): Linear(in_features=384, out_features=1152, bias=True)\n",
       "          (proj): Linear(in_features=384, out_features=384, bias=True)\n",
       "          (cpb_mlp): Sequential(\n",
       "            (0): Linear(in_features=2, out_features=512, bias=True)\n",
       "            (1): ReLU(inplace=True)\n",
       "            (2): Linear(in_features=512, out_features=12, bias=False)\n",
       "          )\n",
       "        )\n",
       "        (stochastic_depth): StochasticDepth(p=0.06521739130434782, mode=row)\n",
       "        (norm2): LayerNorm((384,), eps=1e-05, elementwise_affine=True)\n",
       "        (mlp): MLP(\n",
       "          (0): Linear(in_features=384, out_features=1536, bias=True)\n",
       "          (1): GELU(approximate='none')\n",
       "          (2): Dropout(p=0.0, inplace=False)\n",
       "          (3): Linear(in_features=1536, out_features=384, bias=True)\n",
       "          (4): Dropout(p=0.0, inplace=False)\n",
       "        )\n",
       "      )\n",
       "      (2): SwinTransformerBlockV2(\n",
       "        (norm1): LayerNorm((384,), eps=1e-05, elementwise_affine=True)\n",
       "        (attn): ShiftedWindowAttentionV2(\n",
       "          (qkv): Linear(in_features=384, out_features=1152, bias=True)\n",
       "          (proj): Linear(in_features=384, out_features=384, bias=True)\n",
       "          (cpb_mlp): Sequential(\n",
       "            (0): Linear(in_features=2, out_features=512, bias=True)\n",
       "            (1): ReLU(inplace=True)\n",
       "            (2): Linear(in_features=512, out_features=12, bias=False)\n",
       "          )\n",
       "        )\n",
       "        (stochastic_depth): StochasticDepth(p=0.07826086956521738, mode=row)\n",
       "        (norm2): LayerNorm((384,), eps=1e-05, elementwise_affine=True)\n",
       "        (mlp): MLP(\n",
       "          (0): Linear(in_features=384, out_features=1536, bias=True)\n",
       "          (1): GELU(approximate='none')\n",
       "          (2): Dropout(p=0.0, inplace=False)\n",
       "          (3): Linear(in_features=1536, out_features=384, bias=True)\n",
       "          (4): Dropout(p=0.0, inplace=False)\n",
       "        )\n",
       "      )\n",
       "      (3): SwinTransformerBlockV2(\n",
       "        (norm1): LayerNorm((384,), eps=1e-05, elementwise_affine=True)\n",
       "        (attn): ShiftedWindowAttentionV2(\n",
       "          (qkv): Linear(in_features=384, out_features=1152, bias=True)\n",
       "          (proj): Linear(in_features=384, out_features=384, bias=True)\n",
       "          (cpb_mlp): Sequential(\n",
       "            (0): Linear(in_features=2, out_features=512, bias=True)\n",
       "            (1): ReLU(inplace=True)\n",
       "            (2): Linear(in_features=512, out_features=12, bias=False)\n",
       "          )\n",
       "        )\n",
       "        (stochastic_depth): StochasticDepth(p=0.09130434782608696, mode=row)\n",
       "        (norm2): LayerNorm((384,), eps=1e-05, elementwise_affine=True)\n",
       "        (mlp): MLP(\n",
       "          (0): Linear(in_features=384, out_features=1536, bias=True)\n",
       "          (1): GELU(approximate='none')\n",
       "          (2): Dropout(p=0.0, inplace=False)\n",
       "          (3): Linear(in_features=1536, out_features=384, bias=True)\n",
       "          (4): Dropout(p=0.0, inplace=False)\n",
       "        )\n",
       "      )\n",
       "      (4): SwinTransformerBlockV2(\n",
       "        (norm1): LayerNorm((384,), eps=1e-05, elementwise_affine=True)\n",
       "        (attn): ShiftedWindowAttentionV2(\n",
       "          (qkv): Linear(in_features=384, out_features=1152, bias=True)\n",
       "          (proj): Linear(in_features=384, out_features=384, bias=True)\n",
       "          (cpb_mlp): Sequential(\n",
       "            (0): Linear(in_features=2, out_features=512, bias=True)\n",
       "            (1): ReLU(inplace=True)\n",
       "            (2): Linear(in_features=512, out_features=12, bias=False)\n",
       "          )\n",
       "        )\n",
       "        (stochastic_depth): StochasticDepth(p=0.10434782608695652, mode=row)\n",
       "        (norm2): LayerNorm((384,), eps=1e-05, elementwise_affine=True)\n",
       "        (mlp): MLP(\n",
       "          (0): Linear(in_features=384, out_features=1536, bias=True)\n",
       "          (1): GELU(approximate='none')\n",
       "          (2): Dropout(p=0.0, inplace=False)\n",
       "          (3): Linear(in_features=1536, out_features=384, bias=True)\n",
       "          (4): Dropout(p=0.0, inplace=False)\n",
       "        )\n",
       "      )\n",
       "      (5): SwinTransformerBlockV2(\n",
       "        (norm1): LayerNorm((384,), eps=1e-05, elementwise_affine=True)\n",
       "        (attn): ShiftedWindowAttentionV2(\n",
       "          (qkv): Linear(in_features=384, out_features=1152, bias=True)\n",
       "          (proj): Linear(in_features=384, out_features=384, bias=True)\n",
       "          (cpb_mlp): Sequential(\n",
       "            (0): Linear(in_features=2, out_features=512, bias=True)\n",
       "            (1): ReLU(inplace=True)\n",
       "            (2): Linear(in_features=512, out_features=12, bias=False)\n",
       "          )\n",
       "        )\n",
       "        (stochastic_depth): StochasticDepth(p=0.11739130434782608, mode=row)\n",
       "        (norm2): LayerNorm((384,), eps=1e-05, elementwise_affine=True)\n",
       "        (mlp): MLP(\n",
       "          (0): Linear(in_features=384, out_features=1536, bias=True)\n",
       "          (1): GELU(approximate='none')\n",
       "          (2): Dropout(p=0.0, inplace=False)\n",
       "          (3): Linear(in_features=1536, out_features=384, bias=True)\n",
       "          (4): Dropout(p=0.0, inplace=False)\n",
       "        )\n",
       "      )\n",
       "      (6): SwinTransformerBlockV2(\n",
       "        (norm1): LayerNorm((384,), eps=1e-05, elementwise_affine=True)\n",
       "        (attn): ShiftedWindowAttentionV2(\n",
       "          (qkv): Linear(in_features=384, out_features=1152, bias=True)\n",
       "          (proj): Linear(in_features=384, out_features=384, bias=True)\n",
       "          (cpb_mlp): Sequential(\n",
       "            (0): Linear(in_features=2, out_features=512, bias=True)\n",
       "            (1): ReLU(inplace=True)\n",
       "            (2): Linear(in_features=512, out_features=12, bias=False)\n",
       "          )\n",
       "        )\n",
       "        (stochastic_depth): StochasticDepth(p=0.13043478260869565, mode=row)\n",
       "        (norm2): LayerNorm((384,), eps=1e-05, elementwise_affine=True)\n",
       "        (mlp): MLP(\n",
       "          (0): Linear(in_features=384, out_features=1536, bias=True)\n",
       "          (1): GELU(approximate='none')\n",
       "          (2): Dropout(p=0.0, inplace=False)\n",
       "          (3): Linear(in_features=1536, out_features=384, bias=True)\n",
       "          (4): Dropout(p=0.0, inplace=False)\n",
       "        )\n",
       "      )\n",
       "      (7): SwinTransformerBlockV2(\n",
       "        (norm1): LayerNorm((384,), eps=1e-05, elementwise_affine=True)\n",
       "        (attn): ShiftedWindowAttentionV2(\n",
       "          (qkv): Linear(in_features=384, out_features=1152, bias=True)\n",
       "          (proj): Linear(in_features=384, out_features=384, bias=True)\n",
       "          (cpb_mlp): Sequential(\n",
       "            (0): Linear(in_features=2, out_features=512, bias=True)\n",
       "            (1): ReLU(inplace=True)\n",
       "            (2): Linear(in_features=512, out_features=12, bias=False)\n",
       "          )\n",
       "        )\n",
       "        (stochastic_depth): StochasticDepth(p=0.14347826086956522, mode=row)\n",
       "        (norm2): LayerNorm((384,), eps=1e-05, elementwise_affine=True)\n",
       "        (mlp): MLP(\n",
       "          (0): Linear(in_features=384, out_features=1536, bias=True)\n",
       "          (1): GELU(approximate='none')\n",
       "          (2): Dropout(p=0.0, inplace=False)\n",
       "          (3): Linear(in_features=1536, out_features=384, bias=True)\n",
       "          (4): Dropout(p=0.0, inplace=False)\n",
       "        )\n",
       "      )\n",
       "      (8): SwinTransformerBlockV2(\n",
       "        (norm1): LayerNorm((384,), eps=1e-05, elementwise_affine=True)\n",
       "        (attn): ShiftedWindowAttentionV2(\n",
       "          (qkv): Linear(in_features=384, out_features=1152, bias=True)\n",
       "          (proj): Linear(in_features=384, out_features=384, bias=True)\n",
       "          (cpb_mlp): Sequential(\n",
       "            (0): Linear(in_features=2, out_features=512, bias=True)\n",
       "            (1): ReLU(inplace=True)\n",
       "            (2): Linear(in_features=512, out_features=12, bias=False)\n",
       "          )\n",
       "        )\n",
       "        (stochastic_depth): StochasticDepth(p=0.15652173913043477, mode=row)\n",
       "        (norm2): LayerNorm((384,), eps=1e-05, elementwise_affine=True)\n",
       "        (mlp): MLP(\n",
       "          (0): Linear(in_features=384, out_features=1536, bias=True)\n",
       "          (1): GELU(approximate='none')\n",
       "          (2): Dropout(p=0.0, inplace=False)\n",
       "          (3): Linear(in_features=1536, out_features=384, bias=True)\n",
       "          (4): Dropout(p=0.0, inplace=False)\n",
       "        )\n",
       "      )\n",
       "      (9): SwinTransformerBlockV2(\n",
       "        (norm1): LayerNorm((384,), eps=1e-05, elementwise_affine=True)\n",
       "        (attn): ShiftedWindowAttentionV2(\n",
       "          (qkv): Linear(in_features=384, out_features=1152, bias=True)\n",
       "          (proj): Linear(in_features=384, out_features=384, bias=True)\n",
       "          (cpb_mlp): Sequential(\n",
       "            (0): Linear(in_features=2, out_features=512, bias=True)\n",
       "            (1): ReLU(inplace=True)\n",
       "            (2): Linear(in_features=512, out_features=12, bias=False)\n",
       "          )\n",
       "        )\n",
       "        (stochastic_depth): StochasticDepth(p=0.16956521739130434, mode=row)\n",
       "        (norm2): LayerNorm((384,), eps=1e-05, elementwise_affine=True)\n",
       "        (mlp): MLP(\n",
       "          (0): Linear(in_features=384, out_features=1536, bias=True)\n",
       "          (1): GELU(approximate='none')\n",
       "          (2): Dropout(p=0.0, inplace=False)\n",
       "          (3): Linear(in_features=1536, out_features=384, bias=True)\n",
       "          (4): Dropout(p=0.0, inplace=False)\n",
       "        )\n",
       "      )\n",
       "      (10): SwinTransformerBlockV2(\n",
       "        (norm1): LayerNorm((384,), eps=1e-05, elementwise_affine=True)\n",
       "        (attn): ShiftedWindowAttentionV2(\n",
       "          (qkv): Linear(in_features=384, out_features=1152, bias=True)\n",
       "          (proj): Linear(in_features=384, out_features=384, bias=True)\n",
       "          (cpb_mlp): Sequential(\n",
       "            (0): Linear(in_features=2, out_features=512, bias=True)\n",
       "            (1): ReLU(inplace=True)\n",
       "            (2): Linear(in_features=512, out_features=12, bias=False)\n",
       "          )\n",
       "        )\n",
       "        (stochastic_depth): StochasticDepth(p=0.1826086956521739, mode=row)\n",
       "        (norm2): LayerNorm((384,), eps=1e-05, elementwise_affine=True)\n",
       "        (mlp): MLP(\n",
       "          (0): Linear(in_features=384, out_features=1536, bias=True)\n",
       "          (1): GELU(approximate='none')\n",
       "          (2): Dropout(p=0.0, inplace=False)\n",
       "          (3): Linear(in_features=1536, out_features=384, bias=True)\n",
       "          (4): Dropout(p=0.0, inplace=False)\n",
       "        )\n",
       "      )\n",
       "      (11): SwinTransformerBlockV2(\n",
       "        (norm1): LayerNorm((384,), eps=1e-05, elementwise_affine=True)\n",
       "        (attn): ShiftedWindowAttentionV2(\n",
       "          (qkv): Linear(in_features=384, out_features=1152, bias=True)\n",
       "          (proj): Linear(in_features=384, out_features=384, bias=True)\n",
       "          (cpb_mlp): Sequential(\n",
       "            (0): Linear(in_features=2, out_features=512, bias=True)\n",
       "            (1): ReLU(inplace=True)\n",
       "            (2): Linear(in_features=512, out_features=12, bias=False)\n",
       "          )\n",
       "        )\n",
       "        (stochastic_depth): StochasticDepth(p=0.1956521739130435, mode=row)\n",
       "        (norm2): LayerNorm((384,), eps=1e-05, elementwise_affine=True)\n",
       "        (mlp): MLP(\n",
       "          (0): Linear(in_features=384, out_features=1536, bias=True)\n",
       "          (1): GELU(approximate='none')\n",
       "          (2): Dropout(p=0.0, inplace=False)\n",
       "          (3): Linear(in_features=1536, out_features=384, bias=True)\n",
       "          (4): Dropout(p=0.0, inplace=False)\n",
       "        )\n",
       "      )\n",
       "      (12): SwinTransformerBlockV2(\n",
       "        (norm1): LayerNorm((384,), eps=1e-05, elementwise_affine=True)\n",
       "        (attn): ShiftedWindowAttentionV2(\n",
       "          (qkv): Linear(in_features=384, out_features=1152, bias=True)\n",
       "          (proj): Linear(in_features=384, out_features=384, bias=True)\n",
       "          (cpb_mlp): Sequential(\n",
       "            (0): Linear(in_features=2, out_features=512, bias=True)\n",
       "            (1): ReLU(inplace=True)\n",
       "            (2): Linear(in_features=512, out_features=12, bias=False)\n",
       "          )\n",
       "        )\n",
       "        (stochastic_depth): StochasticDepth(p=0.20869565217391303, mode=row)\n",
       "        (norm2): LayerNorm((384,), eps=1e-05, elementwise_affine=True)\n",
       "        (mlp): MLP(\n",
       "          (0): Linear(in_features=384, out_features=1536, bias=True)\n",
       "          (1): GELU(approximate='none')\n",
       "          (2): Dropout(p=0.0, inplace=False)\n",
       "          (3): Linear(in_features=1536, out_features=384, bias=True)\n",
       "          (4): Dropout(p=0.0, inplace=False)\n",
       "        )\n",
       "      )\n",
       "      (13): SwinTransformerBlockV2(\n",
       "        (norm1): LayerNorm((384,), eps=1e-05, elementwise_affine=True)\n",
       "        (attn): ShiftedWindowAttentionV2(\n",
       "          (qkv): Linear(in_features=384, out_features=1152, bias=True)\n",
       "          (proj): Linear(in_features=384, out_features=384, bias=True)\n",
       "          (cpb_mlp): Sequential(\n",
       "            (0): Linear(in_features=2, out_features=512, bias=True)\n",
       "            (1): ReLU(inplace=True)\n",
       "            (2): Linear(in_features=512, out_features=12, bias=False)\n",
       "          )\n",
       "        )\n",
       "        (stochastic_depth): StochasticDepth(p=0.2217391304347826, mode=row)\n",
       "        (norm2): LayerNorm((384,), eps=1e-05, elementwise_affine=True)\n",
       "        (mlp): MLP(\n",
       "          (0): Linear(in_features=384, out_features=1536, bias=True)\n",
       "          (1): GELU(approximate='none')\n",
       "          (2): Dropout(p=0.0, inplace=False)\n",
       "          (3): Linear(in_features=1536, out_features=384, bias=True)\n",
       "          (4): Dropout(p=0.0, inplace=False)\n",
       "        )\n",
       "      )\n",
       "      (14): SwinTransformerBlockV2(\n",
       "        (norm1): LayerNorm((384,), eps=1e-05, elementwise_affine=True)\n",
       "        (attn): ShiftedWindowAttentionV2(\n",
       "          (qkv): Linear(in_features=384, out_features=1152, bias=True)\n",
       "          (proj): Linear(in_features=384, out_features=384, bias=True)\n",
       "          (cpb_mlp): Sequential(\n",
       "            (0): Linear(in_features=2, out_features=512, bias=True)\n",
       "            (1): ReLU(inplace=True)\n",
       "            (2): Linear(in_features=512, out_features=12, bias=False)\n",
       "          )\n",
       "        )\n",
       "        (stochastic_depth): StochasticDepth(p=0.23478260869565215, mode=row)\n",
       "        (norm2): LayerNorm((384,), eps=1e-05, elementwise_affine=True)\n",
       "        (mlp): MLP(\n",
       "          (0): Linear(in_features=384, out_features=1536, bias=True)\n",
       "          (1): GELU(approximate='none')\n",
       "          (2): Dropout(p=0.0, inplace=False)\n",
       "          (3): Linear(in_features=1536, out_features=384, bias=True)\n",
       "          (4): Dropout(p=0.0, inplace=False)\n",
       "        )\n",
       "      )\n",
       "      (15): SwinTransformerBlockV2(\n",
       "        (norm1): LayerNorm((384,), eps=1e-05, elementwise_affine=True)\n",
       "        (attn): ShiftedWindowAttentionV2(\n",
       "          (qkv): Linear(in_features=384, out_features=1152, bias=True)\n",
       "          (proj): Linear(in_features=384, out_features=384, bias=True)\n",
       "          (cpb_mlp): Sequential(\n",
       "            (0): Linear(in_features=2, out_features=512, bias=True)\n",
       "            (1): ReLU(inplace=True)\n",
       "            (2): Linear(in_features=512, out_features=12, bias=False)\n",
       "          )\n",
       "        )\n",
       "        (stochastic_depth): StochasticDepth(p=0.24782608695652175, mode=row)\n",
       "        (norm2): LayerNorm((384,), eps=1e-05, elementwise_affine=True)\n",
       "        (mlp): MLP(\n",
       "          (0): Linear(in_features=384, out_features=1536, bias=True)\n",
       "          (1): GELU(approximate='none')\n",
       "          (2): Dropout(p=0.0, inplace=False)\n",
       "          (3): Linear(in_features=1536, out_features=384, bias=True)\n",
       "          (4): Dropout(p=0.0, inplace=False)\n",
       "        )\n",
       "      )\n",
       "      (16): SwinTransformerBlockV2(\n",
       "        (norm1): LayerNorm((384,), eps=1e-05, elementwise_affine=True)\n",
       "        (attn): ShiftedWindowAttentionV2(\n",
       "          (qkv): Linear(in_features=384, out_features=1152, bias=True)\n",
       "          (proj): Linear(in_features=384, out_features=384, bias=True)\n",
       "          (cpb_mlp): Sequential(\n",
       "            (0): Linear(in_features=2, out_features=512, bias=True)\n",
       "            (1): ReLU(inplace=True)\n",
       "            (2): Linear(in_features=512, out_features=12, bias=False)\n",
       "          )\n",
       "        )\n",
       "        (stochastic_depth): StochasticDepth(p=0.2608695652173913, mode=row)\n",
       "        (norm2): LayerNorm((384,), eps=1e-05, elementwise_affine=True)\n",
       "        (mlp): MLP(\n",
       "          (0): Linear(in_features=384, out_features=1536, bias=True)\n",
       "          (1): GELU(approximate='none')\n",
       "          (2): Dropout(p=0.0, inplace=False)\n",
       "          (3): Linear(in_features=1536, out_features=384, bias=True)\n",
       "          (4): Dropout(p=0.0, inplace=False)\n",
       "        )\n",
       "      )\n",
       "      (17): SwinTransformerBlockV2(\n",
       "        (norm1): LayerNorm((384,), eps=1e-05, elementwise_affine=True)\n",
       "        (attn): ShiftedWindowAttentionV2(\n",
       "          (qkv): Linear(in_features=384, out_features=1152, bias=True)\n",
       "          (proj): Linear(in_features=384, out_features=384, bias=True)\n",
       "          (cpb_mlp): Sequential(\n",
       "            (0): Linear(in_features=2, out_features=512, bias=True)\n",
       "            (1): ReLU(inplace=True)\n",
       "            (2): Linear(in_features=512, out_features=12, bias=False)\n",
       "          )\n",
       "        )\n",
       "        (stochastic_depth): StochasticDepth(p=0.27391304347826084, mode=row)\n",
       "        (norm2): LayerNorm((384,), eps=1e-05, elementwise_affine=True)\n",
       "        (mlp): MLP(\n",
       "          (0): Linear(in_features=384, out_features=1536, bias=True)\n",
       "          (1): GELU(approximate='none')\n",
       "          (2): Dropout(p=0.0, inplace=False)\n",
       "          (3): Linear(in_features=1536, out_features=384, bias=True)\n",
       "          (4): Dropout(p=0.0, inplace=False)\n",
       "        )\n",
       "      )\n",
       "    )\n",
       "    (6): PatchMergingV2(\n",
       "      (reduction): Linear(in_features=1536, out_features=768, bias=False)\n",
       "      (norm): LayerNorm((768,), eps=1e-05, elementwise_affine=True)\n",
       "    )\n",
       "    (7): Sequential(\n",
       "      (0): SwinTransformerBlockV2(\n",
       "        (norm1): LayerNorm((768,), eps=1e-05, elementwise_affine=True)\n",
       "        (attn): ShiftedWindowAttentionV2(\n",
       "          (qkv): Linear(in_features=768, out_features=2304, bias=True)\n",
       "          (proj): Linear(in_features=768, out_features=768, bias=True)\n",
       "          (cpb_mlp): Sequential(\n",
       "            (0): Linear(in_features=2, out_features=512, bias=True)\n",
       "            (1): ReLU(inplace=True)\n",
       "            (2): Linear(in_features=512, out_features=24, bias=False)\n",
       "          )\n",
       "        )\n",
       "        (stochastic_depth): StochasticDepth(p=0.28695652173913044, mode=row)\n",
       "        (norm2): LayerNorm((768,), eps=1e-05, elementwise_affine=True)\n",
       "        (mlp): MLP(\n",
       "          (0): Linear(in_features=768, out_features=3072, bias=True)\n",
       "          (1): GELU(approximate='none')\n",
       "          (2): Dropout(p=0.0, inplace=False)\n",
       "          (3): Linear(in_features=3072, out_features=768, bias=True)\n",
       "          (4): Dropout(p=0.0, inplace=False)\n",
       "        )\n",
       "      )\n",
       "      (1): SwinTransformerBlockV2(\n",
       "        (norm1): LayerNorm((768,), eps=1e-05, elementwise_affine=True)\n",
       "        (attn): ShiftedWindowAttentionV2(\n",
       "          (qkv): Linear(in_features=768, out_features=2304, bias=True)\n",
       "          (proj): Linear(in_features=768, out_features=768, bias=True)\n",
       "          (cpb_mlp): Sequential(\n",
       "            (0): Linear(in_features=2, out_features=512, bias=True)\n",
       "            (1): ReLU(inplace=True)\n",
       "            (2): Linear(in_features=512, out_features=24, bias=False)\n",
       "          )\n",
       "        )\n",
       "        (stochastic_depth): StochasticDepth(p=0.3, mode=row)\n",
       "        (norm2): LayerNorm((768,), eps=1e-05, elementwise_affine=True)\n",
       "        (mlp): MLP(\n",
       "          (0): Linear(in_features=768, out_features=3072, bias=True)\n",
       "          (1): GELU(approximate='none')\n",
       "          (2): Dropout(p=0.0, inplace=False)\n",
       "          (3): Linear(in_features=3072, out_features=768, bias=True)\n",
       "          (4): Dropout(p=0.0, inplace=False)\n",
       "        )\n",
       "      )\n",
       "    )\n",
       "  )\n",
       "  (norm): LayerNorm((768,), eps=1e-05, elementwise_affine=True)\n",
       "  (permute): Permute()\n",
       "  (avgpool): AdaptiveAvgPool2d(output_size=1)\n",
       "  (flatten): Flatten(start_dim=1, end_dim=-1)\n",
       "  (head): Linear(in_features=768, out_features=1000, bias=True)\n",
       ")"
      ]
     },
     "execution_count": 19,
     "metadata": {},
     "output_type": "execute_result"
    }
   ],
   "source": [
    "SwinT = torchvision.models.swin_v2_s(weights=torchvision.models.Swin_V2_S_Weights.IMAGENET1K_V1)\n",
    "SwinT"
   ]
  },
  {
   "cell_type": "code",
   "execution_count": 20,
   "id": "66973573-70e8-42e3-ba82-18bf0ab50300",
   "metadata": {},
   "outputs": [
    {
     "name": "stdout",
     "output_type": "stream",
     "text": [
      "Linear(in_features=768, out_features=18, bias=True)\n"
     ]
    }
   ],
   "source": [
    "import math\n",
    "\n",
    "for param in SwinT.parameters():\n",
    "    param.requires_grad = False\n",
    "\n",
    "n_inputs = SwinT.head.in_features\n",
    "class_num = 18\n",
    "SwinT.head = nn.Linear(in_features=n_inputs, out_features=class_num, bias=True)\n",
    "nn.init.xavier_uniform_(SwinT.head.weight)\n",
    "stdv = 1. / math.sqrt(SwinT.head.weight.size(1))\n",
    "SwinT.head.bias.data.uniform_(-stdv, stdv)\n",
    "print(SwinT.head)"
   ]
  },
  {
   "cell_type": "code",
   "execution_count": 26,
   "id": "b7a12ee1-b57f-407a-82c9-e37136aaae3d",
   "metadata": {},
   "outputs": [
    {
     "name": "stdout",
     "output_type": "stream",
     "text": [
      "필요 입력 채널 개수 3\n",
      "네트워크 출력 채널 개수 18\n"
     ]
    }
   ],
   "source": [
    "print('필요 입력 채널 개수', SwinT.features[0][0].weight.shape[1])\n",
    "print('네트워크 출력 채널 개수', SwinT.head.weight.shape[0])"
   ]
  },
  {
   "cell_type": "code",
   "execution_count": 27,
   "id": "9a1a2262-f820-4294-8086-3a48a5e5d686",
   "metadata": {},
   "outputs": [
    {
     "name": "stdout",
     "output_type": "stream",
     "text": [
      "using cuda:0\n"
     ]
    }
   ],
   "source": [
    "device = torch.device(\"cuda:0\" if torch.cuda.is_available() else \"cpu\")\n",
    "print(f\"using {device}\")\n",
    "\n",
    "model = SwinT.to(device)\n",
    "\n",
    "LEARNING_RATE = 0.0001\n",
    "NUM_EPOCH = 50\n",
    "\n",
    "criterion = nn.CrossEntropyLoss()\n",
    "optimizer = torch.optim.Adam(model.parameters(), lr=LEARNING_RATE)"
   ]
  },
  {
   "cell_type": "code",
   "execution_count": 28,
   "id": "8c067d0e-38c9-4ab8-baba-88cf8dcb8c6c",
   "metadata": {},
   "outputs": [
    {
     "data": {
      "application/vnd.jupyter.widget-view+json": {
       "model_id": "85f766da624441f7ae7180637e951fb1",
       "version_major": 2,
       "version_minor": 0
      },
      "text/plain": [
       "HBox(children=(HTML(value=''), FloatProgress(value=0.0, max=60.0), HTML(value='')))"
      ]
     },
     "metadata": {},
     "output_type": "display_data"
    },
    {
     "name": "stdout",
     "output_type": "stream",
     "text": [
      "\n",
      "epoch[0/50] training loss 2.66538, training accuracy 0.15172\n"
     ]
    },
    {
     "data": {
      "application/vnd.jupyter.widget-view+json": {
       "model_id": "e9b76f8d940148428409a13d05b30ff3",
       "version_major": 2,
       "version_minor": 0
      },
      "text/plain": [
       "HBox(children=(HTML(value=''), FloatProgress(value=0.0, max=15.0), HTML(value='')))"
      ]
     },
     "metadata": {},
     "output_type": "display_data"
    },
    {
     "name": "stdout",
     "output_type": "stream",
     "text": [
      "\n",
      "[val] acc : 0.20688, loss : 2.41405\n",
      "best acc : 0.20688, best loss : 2.41405\n"
     ]
    },
    {
     "data": {
      "application/vnd.jupyter.widget-view+json": {
       "model_id": "3a78af60cf554f9e9d790735bf4a2a17",
       "version_major": 2,
       "version_minor": 0
      },
      "text/plain": [
       "HBox(children=(HTML(value=''), FloatProgress(value=0.0, max=60.0), HTML(value='')))"
      ]
     },
     "metadata": {},
     "output_type": "display_data"
    },
    {
     "name": "stdout",
     "output_type": "stream",
     "text": [
      "\n",
      "epoch[1/50] training loss 2.33554, training accuracy 0.19874\n"
     ]
    },
    {
     "data": {
      "application/vnd.jupyter.widget-view+json": {
       "model_id": "e2f0e0637e9b4c17907354cb2aac4f34",
       "version_major": 2,
       "version_minor": 0
      },
      "text/plain": [
       "HBox(children=(HTML(value=''), FloatProgress(value=0.0, max=15.0), HTML(value='')))"
      ]
     },
     "metadata": {},
     "output_type": "display_data"
    },
    {
     "name": "stdout",
     "output_type": "stream",
     "text": [
      "\n",
      "[val] acc : 0.22037, loss : 2.21528\n",
      "best acc : 0.22037, best loss : 2.21528\n"
     ]
    },
    {
     "data": {
      "application/vnd.jupyter.widget-view+json": {
       "model_id": "c91b02e713d4439c95d0da8533f837fa",
       "version_major": 2,
       "version_minor": 0
      },
      "text/plain": [
       "HBox(children=(HTML(value=''), FloatProgress(value=0.0, max=60.0), HTML(value='')))"
      ]
     },
     "metadata": {},
     "output_type": "display_data"
    },
    {
     "name": "stdout",
     "output_type": "stream",
     "text": [
      "\n",
      "epoch[2/50] training loss 2.17641, training accuracy 0.23181\n"
     ]
    },
    {
     "data": {
      "application/vnd.jupyter.widget-view+json": {
       "model_id": "1e585d4b965a4302b4e2d68cf02b3245",
       "version_major": 2,
       "version_minor": 0
      },
      "text/plain": [
       "HBox(children=(HTML(value=''), FloatProgress(value=0.0, max=15.0), HTML(value='')))"
      ]
     },
     "metadata": {},
     "output_type": "display_data"
    },
    {
     "name": "stdout",
     "output_type": "stream",
     "text": [
      "\n",
      "[val] acc : 0.25979, loss : 2.08771\n",
      "best acc : 0.25979, best loss : 2.08771\n"
     ]
    },
    {
     "data": {
      "application/vnd.jupyter.widget-view+json": {
       "model_id": "8c942e38ac164e2d8e0ec0f3490a0a3f",
       "version_major": 2,
       "version_minor": 0
      },
      "text/plain": [
       "HBox(children=(HTML(value=''), FloatProgress(value=0.0, max=60.0), HTML(value='')))"
      ]
     },
     "metadata": {},
     "output_type": "display_data"
    },
    {
     "name": "stdout",
     "output_type": "stream",
     "text": [
      "\n",
      "epoch[3/50] training loss 2.06119, training accuracy 0.28975\n"
     ]
    },
    {
     "data": {
      "application/vnd.jupyter.widget-view+json": {
       "model_id": "7b5081f626484b4593ef801aaae079af",
       "version_major": 2,
       "version_minor": 0
      },
      "text/plain": [
       "HBox(children=(HTML(value=''), FloatProgress(value=0.0, max=15.0), HTML(value='')))"
      ]
     },
     "metadata": {},
     "output_type": "display_data"
    },
    {
     "name": "stdout",
     "output_type": "stream",
     "text": [
      "\n",
      "[val] acc : 0.34392, loss : 1.98578\n",
      "best acc : 0.34392, best loss : 1.98578\n"
     ]
    },
    {
     "data": {
      "application/vnd.jupyter.widget-view+json": {
       "model_id": "f481645a4db9453dadc3327d18a94040",
       "version_major": 2,
       "version_minor": 0
      },
      "text/plain": [
       "HBox(children=(HTML(value=''), FloatProgress(value=0.0, max=60.0), HTML(value='')))"
      ]
     },
     "metadata": {},
     "output_type": "display_data"
    },
    {
     "name": "stdout",
     "output_type": "stream",
     "text": [
      "\n",
      "epoch[4/50] training loss 1.95552, training accuracy 0.36019\n"
     ]
    },
    {
     "data": {
      "application/vnd.jupyter.widget-view+json": {
       "model_id": "39da9e44028c443c8528dd842f444db8",
       "version_major": 2,
       "version_minor": 0
      },
      "text/plain": [
       "HBox(children=(HTML(value=''), FloatProgress(value=0.0, max=15.0), HTML(value='')))"
      ]
     },
     "metadata": {},
     "output_type": "display_data"
    },
    {
     "name": "stdout",
     "output_type": "stream",
     "text": [
      "\n",
      "[val] acc : 0.41667, loss : 1.89912\n",
      "best acc : 0.41667, best loss : 1.89912\n"
     ]
    },
    {
     "data": {
      "application/vnd.jupyter.widget-view+json": {
       "model_id": "242732c296ba46669ee4d6fc48a33abc",
       "version_major": 2,
       "version_minor": 0
      },
      "text/plain": [
       "HBox(children=(HTML(value=''), FloatProgress(value=0.0, max=60.0), HTML(value='')))"
      ]
     },
     "metadata": {},
     "output_type": "display_data"
    },
    {
     "name": "stdout",
     "output_type": "stream",
     "text": [
      "\n",
      "epoch[5/50] training loss 1.87795, training accuracy 0.40642\n"
     ]
    },
    {
     "data": {
      "application/vnd.jupyter.widget-view+json": {
       "model_id": "16c5f60e550b411c94276a39e2e5666e",
       "version_major": 2,
       "version_minor": 0
      },
      "text/plain": [
       "HBox(children=(HTML(value=''), FloatProgress(value=0.0, max=15.0), HTML(value='')))"
      ]
     },
     "metadata": {},
     "output_type": "display_data"
    },
    {
     "name": "stdout",
     "output_type": "stream",
     "text": [
      "\n",
      "[val] acc : 0.47275, loss : 1.82470\n",
      "best acc : 0.47275, best loss : 1.82470\n"
     ]
    },
    {
     "data": {
      "application/vnd.jupyter.widget-view+json": {
       "model_id": "477d7480aade4d54a8acf850301b12e5",
       "version_major": 2,
       "version_minor": 0
      },
      "text/plain": [
       "HBox(children=(HTML(value=''), FloatProgress(value=0.0, max=60.0), HTML(value='')))"
      ]
     },
     "metadata": {},
     "output_type": "display_data"
    },
    {
     "name": "stdout",
     "output_type": "stream",
     "text": [
      "\n",
      "epoch[6/50] training loss 1.79823, training accuracy 0.45708\n"
     ]
    },
    {
     "data": {
      "application/vnd.jupyter.widget-view+json": {
       "model_id": "834dd72984bb404dade539e923565272",
       "version_major": 2,
       "version_minor": 0
      },
      "text/plain": [
       "HBox(children=(HTML(value=''), FloatProgress(value=0.0, max=15.0), HTML(value='')))"
      ]
     },
     "metadata": {},
     "output_type": "display_data"
    },
    {
     "name": "stdout",
     "output_type": "stream",
     "text": [
      "\n",
      "[val] acc : 0.50556, loss : 1.75875\n",
      "best acc : 0.50556, best loss : 1.75875\n"
     ]
    },
    {
     "data": {
      "application/vnd.jupyter.widget-view+json": {
       "model_id": "fd3f53843fca4e21af742f32fd677dd5",
       "version_major": 2,
       "version_minor": 0
      },
      "text/plain": [
       "HBox(children=(HTML(value=''), FloatProgress(value=0.0, max=60.0), HTML(value='')))"
      ]
     },
     "metadata": {},
     "output_type": "display_data"
    },
    {
     "name": "stdout",
     "output_type": "stream",
     "text": [
      "\n",
      "epoch[7/50] training loss 1.72930, training accuracy 0.49504\n"
     ]
    },
    {
     "data": {
      "application/vnd.jupyter.widget-view+json": {
       "model_id": "374338929c48438582afe29822b0bd7f",
       "version_major": 2,
       "version_minor": 0
      },
      "text/plain": [
       "HBox(children=(HTML(value=''), FloatProgress(value=0.0, max=15.0), HTML(value='')))"
      ]
     },
     "metadata": {},
     "output_type": "display_data"
    },
    {
     "name": "stdout",
     "output_type": "stream",
     "text": [
      "\n",
      "[val] acc : 0.52593, loss : 1.69835\n",
      "best acc : 0.52593, best loss : 1.69835\n"
     ]
    },
    {
     "data": {
      "application/vnd.jupyter.widget-view+json": {
       "model_id": "f9a3453385da4df2bd251a25a1f0890d",
       "version_major": 2,
       "version_minor": 0
      },
      "text/plain": [
       "HBox(children=(HTML(value=''), FloatProgress(value=0.0, max=60.0), HTML(value='')))"
      ]
     },
     "metadata": {},
     "output_type": "display_data"
    },
    {
     "name": "stdout",
     "output_type": "stream",
     "text": [
      "\n",
      "epoch[8/50] training loss 1.67318, training accuracy 0.52368\n"
     ]
    },
    {
     "data": {
      "application/vnd.jupyter.widget-view+json": {
       "model_id": "f25adde8e32b4f3ea6c8cc966a068a0d",
       "version_major": 2,
       "version_minor": 0
      },
      "text/plain": [
       "HBox(children=(HTML(value=''), FloatProgress(value=0.0, max=15.0), HTML(value='')))"
      ]
     },
     "metadata": {},
     "output_type": "display_data"
    },
    {
     "name": "stdout",
     "output_type": "stream",
     "text": [
      "\n",
      "[val] acc : 0.55053, loss : 1.64798\n",
      "best acc : 0.55053, best loss : 1.64798\n"
     ]
    },
    {
     "data": {
      "application/vnd.jupyter.widget-view+json": {
       "model_id": "4ec94db7722b4be7bcd8c76f19307434",
       "version_major": 2,
       "version_minor": 0
      },
      "text/plain": [
       "HBox(children=(HTML(value=''), FloatProgress(value=0.0, max=60.0), HTML(value='')))"
      ]
     },
     "metadata": {},
     "output_type": "display_data"
    },
    {
     "name": "stdout",
     "output_type": "stream",
     "text": [
      "\n",
      "epoch[9/50] training loss 1.61623, training accuracy 0.54140\n"
     ]
    },
    {
     "data": {
      "application/vnd.jupyter.widget-view+json": {
       "model_id": "922afa86d0714f5caeb3ef8737206b9f",
       "version_major": 2,
       "version_minor": 0
      },
      "text/plain": [
       "HBox(children=(HTML(value=''), FloatProgress(value=0.0, max=15.0), HTML(value='')))"
      ]
     },
     "metadata": {},
     "output_type": "display_data"
    },
    {
     "name": "stdout",
     "output_type": "stream",
     "text": [
      "\n",
      "[val] acc : 0.56349, loss : 1.60054\n",
      "best acc : 0.56349, best loss : 1.60054\n"
     ]
    },
    {
     "data": {
      "application/vnd.jupyter.widget-view+json": {
       "model_id": "7a77ece826044e8d8bf2582b3c77a616",
       "version_major": 2,
       "version_minor": 0
      },
      "text/plain": [
       "HBox(children=(HTML(value=''), FloatProgress(value=0.0, max=60.0), HTML(value='')))"
      ]
     },
     "metadata": {},
     "output_type": "display_data"
    },
    {
     "name": "stdout",
     "output_type": "stream",
     "text": [
      "\n",
      "epoch[10/50] training loss 1.57100, training accuracy 0.56435\n"
     ]
    },
    {
     "data": {
      "application/vnd.jupyter.widget-view+json": {
       "model_id": "8c0979c506f646fa825b63c478e650b0",
       "version_major": 2,
       "version_minor": 0
      },
      "text/plain": [
       "HBox(children=(HTML(value=''), FloatProgress(value=0.0, max=15.0), HTML(value='')))"
      ]
     },
     "metadata": {},
     "output_type": "display_data"
    },
    {
     "name": "stdout",
     "output_type": "stream",
     "text": [
      "\n",
      "[val] acc : 0.57831, loss : 1.55625\n",
      "best acc : 0.57831, best loss : 1.55625\n"
     ]
    },
    {
     "data": {
      "application/vnd.jupyter.widget-view+json": {
       "model_id": "ba9b8cb5d0a245b0bc3537e176fc089f",
       "version_major": 2,
       "version_minor": 0
      },
      "text/plain": [
       "HBox(children=(HTML(value=''), FloatProgress(value=0.0, max=60.0), HTML(value='')))"
      ]
     },
     "metadata": {},
     "output_type": "display_data"
    },
    {
     "name": "stdout",
     "output_type": "stream",
     "text": [
      "\n",
      "epoch[11/50] training loss 1.52689, training accuracy 0.57573\n"
     ]
    },
    {
     "data": {
      "application/vnd.jupyter.widget-view+json": {
       "model_id": "c4aa1ade4d5842f8a130d8c07ad7bb00",
       "version_major": 2,
       "version_minor": 0
      },
      "text/plain": [
       "HBox(children=(HTML(value=''), FloatProgress(value=0.0, max=15.0), HTML(value='')))"
      ]
     },
     "metadata": {},
     "output_type": "display_data"
    },
    {
     "name": "stdout",
     "output_type": "stream",
     "text": [
      "\n",
      "[val] acc : 0.58413, loss : 1.51683\n",
      "best acc : 0.58413, best loss : 1.51683\n"
     ]
    },
    {
     "data": {
      "application/vnd.jupyter.widget-view+json": {
       "model_id": "a2abddce44e342f286cb05fb37340d63",
       "version_major": 2,
       "version_minor": 0
      },
      "text/plain": [
       "HBox(children=(HTML(value=''), FloatProgress(value=0.0, max=60.0), HTML(value='')))"
      ]
     },
     "metadata": {},
     "output_type": "display_data"
    },
    {
     "name": "stdout",
     "output_type": "stream",
     "text": [
      "\n",
      "epoch[12/50] training loss 1.48793, training accuracy 0.58697\n"
     ]
    },
    {
     "data": {
      "application/vnd.jupyter.widget-view+json": {
       "model_id": "b0ef2eff391d4c488eb72c3d0201b5c1",
       "version_major": 2,
       "version_minor": 0
      },
      "text/plain": [
       "HBox(children=(HTML(value=''), FloatProgress(value=0.0, max=15.0), HTML(value='')))"
      ]
     },
     "metadata": {},
     "output_type": "display_data"
    },
    {
     "name": "stdout",
     "output_type": "stream",
     "text": [
      "\n",
      "[val] acc : 0.59603, loss : 1.47993\n",
      "best acc : 0.59603, best loss : 1.47993\n"
     ]
    },
    {
     "data": {
      "application/vnd.jupyter.widget-view+json": {
       "model_id": "2d9522c8f71148ab8cb3fb84e9dc4fa3",
       "version_major": 2,
       "version_minor": 0
      },
      "text/plain": [
       "HBox(children=(HTML(value=''), FloatProgress(value=0.0, max=60.0), HTML(value='')))"
      ]
     },
     "metadata": {},
     "output_type": "display_data"
    },
    {
     "name": "stdout",
     "output_type": "stream",
     "text": [
      "\n",
      "epoch[13/50] training loss 1.44354, training accuracy 0.60344\n"
     ]
    },
    {
     "data": {
      "application/vnd.jupyter.widget-view+json": {
       "model_id": "205721c18f3c4296884835826fc15adf",
       "version_major": 2,
       "version_minor": 0
      },
      "text/plain": [
       "HBox(children=(HTML(value=''), FloatProgress(value=0.0, max=15.0), HTML(value='')))"
      ]
     },
     "metadata": {},
     "output_type": "display_data"
    },
    {
     "name": "stdout",
     "output_type": "stream",
     "text": [
      "\n",
      "[val] acc : 0.60185, loss : 1.44580\n",
      "best acc : 0.60185, best loss : 1.44580\n"
     ]
    },
    {
     "data": {
      "application/vnd.jupyter.widget-view+json": {
       "model_id": "e859446cb8754ad8855bd3663fc12061",
       "version_major": 2,
       "version_minor": 0
      },
      "text/plain": [
       "HBox(children=(HTML(value=''), FloatProgress(value=0.0, max=60.0), HTML(value='')))"
      ]
     },
     "metadata": {},
     "output_type": "display_data"
    },
    {
     "name": "stdout",
     "output_type": "stream",
     "text": [
      "\n",
      "epoch[14/50] training loss 1.41619, training accuracy 0.60992\n"
     ]
    },
    {
     "data": {
      "application/vnd.jupyter.widget-view+json": {
       "model_id": "abd104f157fb43ce9f553801cbdfdbfc",
       "version_major": 2,
       "version_minor": 0
      },
      "text/plain": [
       "HBox(children=(HTML(value=''), FloatProgress(value=0.0, max=15.0), HTML(value='')))"
      ]
     },
     "metadata": {},
     "output_type": "display_data"
    },
    {
     "name": "stdout",
     "output_type": "stream",
     "text": [
      "\n",
      "[val] acc : 0.61138, loss : 1.41662\n",
      "best acc : 0.61138, best loss : 1.41662\n"
     ]
    },
    {
     "data": {
      "application/vnd.jupyter.widget-view+json": {
       "model_id": "b3e48ea7fdc343d6b5cb33409b63821d",
       "version_major": 2,
       "version_minor": 0
      },
      "text/plain": [
       "HBox(children=(HTML(value=''), FloatProgress(value=0.0, max=60.0), HTML(value='')))"
      ]
     },
     "metadata": {},
     "output_type": "display_data"
    },
    {
     "name": "stdout",
     "output_type": "stream",
     "text": [
      "\n",
      "epoch[15/50] training loss 1.37616, training accuracy 0.62282\n"
     ]
    },
    {
     "data": {
      "application/vnd.jupyter.widget-view+json": {
       "model_id": "3864358085cc42f9b39d0d38ff1c81cb",
       "version_major": 2,
       "version_minor": 0
      },
      "text/plain": [
       "HBox(children=(HTML(value=''), FloatProgress(value=0.0, max=15.0), HTML(value='')))"
      ]
     },
     "metadata": {},
     "output_type": "display_data"
    },
    {
     "name": "stdout",
     "output_type": "stream",
     "text": [
      "\n",
      "[val] acc : 0.61508, loss : 1.38715\n",
      "best acc : 0.61508, best loss : 1.38715\n"
     ]
    },
    {
     "data": {
      "application/vnd.jupyter.widget-view+json": {
       "model_id": "bc039083fae74a2d8dfc8e8e2b75c5b7",
       "version_major": 2,
       "version_minor": 0
      },
      "text/plain": [
       "HBox(children=(HTML(value=''), FloatProgress(value=0.0, max=60.0), HTML(value='')))"
      ]
     },
     "metadata": {},
     "output_type": "display_data"
    },
    {
     "name": "stdout",
     "output_type": "stream",
     "text": [
      "\n",
      "epoch[16/50] training loss 1.35197, training accuracy 0.63241\n"
     ]
    },
    {
     "data": {
      "application/vnd.jupyter.widget-view+json": {
       "model_id": "6e9d6057e99741acab39743113bcfbce",
       "version_major": 2,
       "version_minor": 0
      },
      "text/plain": [
       "HBox(children=(HTML(value=''), FloatProgress(value=0.0, max=15.0), HTML(value='')))"
      ]
     },
     "metadata": {},
     "output_type": "display_data"
    },
    {
     "name": "stdout",
     "output_type": "stream",
     "text": [
      "\n",
      "[val] acc : 0.62090, loss : 1.35762\n",
      "best acc : 0.62090, best loss : 1.35762\n"
     ]
    },
    {
     "data": {
      "application/vnd.jupyter.widget-view+json": {
       "model_id": "9cd652d1b57c481c8143d5fe42b9e6b2",
       "version_major": 2,
       "version_minor": 0
      },
      "text/plain": [
       "HBox(children=(HTML(value=''), FloatProgress(value=0.0, max=60.0), HTML(value='')))"
      ]
     },
     "metadata": {},
     "output_type": "display_data"
    },
    {
     "name": "stdout",
     "output_type": "stream",
     "text": [
      "\n",
      "epoch[17/50] training loss 1.32021, training accuracy 0.63505\n"
     ]
    },
    {
     "data": {
      "application/vnd.jupyter.widget-view+json": {
       "model_id": "98ebe37bfb2445a9baad09e37e7fee6d",
       "version_major": 2,
       "version_minor": 0
      },
      "text/plain": [
       "HBox(children=(HTML(value=''), FloatProgress(value=0.0, max=15.0), HTML(value='')))"
      ]
     },
     "metadata": {},
     "output_type": "display_data"
    },
    {
     "name": "stdout",
     "output_type": "stream",
     "text": [
      "\n",
      "[val] acc : 0.62672, loss : 1.33556\n",
      "best acc : 0.62672, best loss : 1.33556\n"
     ]
    },
    {
     "data": {
      "application/vnd.jupyter.widget-view+json": {
       "model_id": "0c21da8188b64252ad5593d968e9a4e2",
       "version_major": 2,
       "version_minor": 0
      },
      "text/plain": [
       "HBox(children=(HTML(value=''), FloatProgress(value=0.0, max=60.0), HTML(value='')))"
      ]
     },
     "metadata": {},
     "output_type": "display_data"
    },
    {
     "name": "stdout",
     "output_type": "stream",
     "text": [
      "\n",
      "epoch[18/50] training loss 1.30161, training accuracy 0.63862\n"
     ]
    },
    {
     "data": {
      "application/vnd.jupyter.widget-view+json": {
       "model_id": "6bd4397cb3f94884b2b35b721525f656",
       "version_major": 2,
       "version_minor": 0
      },
      "text/plain": [
       "HBox(children=(HTML(value=''), FloatProgress(value=0.0, max=15.0), HTML(value='')))"
      ]
     },
     "metadata": {},
     "output_type": "display_data"
    },
    {
     "name": "stdout",
     "output_type": "stream",
     "text": [
      "\n",
      "[val] acc : 0.63201, loss : 1.30869\n",
      "best acc : 0.63201, best loss : 1.30869\n"
     ]
    },
    {
     "data": {
      "application/vnd.jupyter.widget-view+json": {
       "model_id": "c6b17a02538b4663b7ebbf6eb2012402",
       "version_major": 2,
       "version_minor": 0
      },
      "text/plain": [
       "HBox(children=(HTML(value=''), FloatProgress(value=0.0, max=60.0), HTML(value='')))"
      ]
     },
     "metadata": {},
     "output_type": "display_data"
    },
    {
     "name": "stdout",
     "output_type": "stream",
     "text": [
      "\n",
      "epoch[19/50] training loss 1.27510, training accuracy 0.64649\n"
     ]
    },
    {
     "data": {
      "application/vnd.jupyter.widget-view+json": {
       "model_id": "d5a7c19cb03f48a58212111791ff1bf9",
       "version_major": 2,
       "version_minor": 0
      },
      "text/plain": [
       "HBox(children=(HTML(value=''), FloatProgress(value=0.0, max=15.0), HTML(value='')))"
      ]
     },
     "metadata": {},
     "output_type": "display_data"
    },
    {
     "name": "stdout",
     "output_type": "stream",
     "text": [
      "\n",
      "[val] acc : 0.63677, loss : 1.28799\n",
      "best acc : 0.63677, best loss : 1.28799\n"
     ]
    },
    {
     "data": {
      "application/vnd.jupyter.widget-view+json": {
       "model_id": "51aa3222971b4a5baef34f3f2c57262f",
       "version_major": 2,
       "version_minor": 0
      },
      "text/plain": [
       "HBox(children=(HTML(value=''), FloatProgress(value=0.0, max=60.0), HTML(value='')))"
      ]
     },
     "metadata": {},
     "output_type": "display_data"
    },
    {
     "name": "stdout",
     "output_type": "stream",
     "text": [
      "\n",
      "epoch[20/50] training loss 1.25587, training accuracy 0.65549\n"
     ]
    },
    {
     "data": {
      "application/vnd.jupyter.widget-view+json": {
       "model_id": "ca638eae1b654227bfd4b60a21ba9935",
       "version_major": 2,
       "version_minor": 0
      },
      "text/plain": [
       "HBox(children=(HTML(value=''), FloatProgress(value=0.0, max=15.0), HTML(value='')))"
      ]
     },
     "metadata": {},
     "output_type": "display_data"
    },
    {
     "name": "stdout",
     "output_type": "stream",
     "text": [
      "\n",
      "[val] acc : 0.63942, loss : 1.26657\n",
      "best acc : 0.63942, best loss : 1.26657\n"
     ]
    },
    {
     "data": {
      "application/vnd.jupyter.widget-view+json": {
       "model_id": "1a5ac5b5c13d490d915ff9a1b904831a",
       "version_major": 2,
       "version_minor": 0
      },
      "text/plain": [
       "HBox(children=(HTML(value=''), FloatProgress(value=0.0, max=60.0), HTML(value='')))"
      ]
     },
     "metadata": {},
     "output_type": "display_data"
    },
    {
     "name": "stdout",
     "output_type": "stream",
     "text": [
      "\n",
      "epoch[21/50] training loss 1.23076, training accuracy 0.66058\n"
     ]
    },
    {
     "data": {
      "application/vnd.jupyter.widget-view+json": {
       "model_id": "46e75d383ceb40689eaf9a83a8df6c09",
       "version_major": 2,
       "version_minor": 0
      },
      "text/plain": [
       "HBox(children=(HTML(value=''), FloatProgress(value=0.0, max=15.0), HTML(value='')))"
      ]
     },
     "metadata": {},
     "output_type": "display_data"
    },
    {
     "name": "stdout",
     "output_type": "stream",
     "text": [
      "\n",
      "[val] acc : 0.64153, loss : 1.24858\n",
      "best acc : 0.64153, best loss : 1.24858\n"
     ]
    },
    {
     "data": {
      "application/vnd.jupyter.widget-view+json": {
       "model_id": "b7566457c48c49d6a6ca4a192cdcf271",
       "version_major": 2,
       "version_minor": 0
      },
      "text/plain": [
       "HBox(children=(HTML(value=''), FloatProgress(value=0.0, max=60.0), HTML(value='')))"
      ]
     },
     "metadata": {},
     "output_type": "display_data"
    },
    {
     "name": "stdout",
     "output_type": "stream",
     "text": [
      "\n",
      "epoch[22/50] training loss 1.21756, training accuracy 0.66098\n"
     ]
    },
    {
     "data": {
      "application/vnd.jupyter.widget-view+json": {
       "model_id": "af52f69543144122b7e4cff671010f3c",
       "version_major": 2,
       "version_minor": 0
      },
      "text/plain": [
       "HBox(children=(HTML(value=''), FloatProgress(value=0.0, max=15.0), HTML(value='')))"
      ]
     },
     "metadata": {},
     "output_type": "display_data"
    },
    {
     "name": "stdout",
     "output_type": "stream",
     "text": [
      "\n",
      "[val] acc : 0.64868, loss : 1.22813\n",
      "best acc : 0.64868, best loss : 1.22813\n"
     ]
    },
    {
     "data": {
      "application/vnd.jupyter.widget-view+json": {
       "model_id": "206a8c3173d74c5080c9bbebfe158994",
       "version_major": 2,
       "version_minor": 0
      },
      "text/plain": [
       "HBox(children=(HTML(value=''), FloatProgress(value=0.0, max=60.0), HTML(value='')))"
      ]
     },
     "metadata": {},
     "output_type": "display_data"
    },
    {
     "name": "stdout",
     "output_type": "stream",
     "text": [
      "\n",
      "epoch[23/50] training loss 1.19476, training accuracy 0.66819\n"
     ]
    },
    {
     "data": {
      "application/vnd.jupyter.widget-view+json": {
       "model_id": "5724f2ffe61f485c9be10ebc00c7271d",
       "version_major": 2,
       "version_minor": 0
      },
      "text/plain": [
       "HBox(children=(HTML(value=''), FloatProgress(value=0.0, max=15.0), HTML(value='')))"
      ]
     },
     "metadata": {},
     "output_type": "display_data"
    },
    {
     "name": "stdout",
     "output_type": "stream",
     "text": [
      "\n",
      "[val] acc : 0.65291, loss : 1.21144\n",
      "best acc : 0.65291, best loss : 1.21144\n"
     ]
    },
    {
     "data": {
      "application/vnd.jupyter.widget-view+json": {
       "model_id": "8ee196a140394cc2b2e0c30a49f37215",
       "version_major": 2,
       "version_minor": 0
      },
      "text/plain": [
       "HBox(children=(HTML(value=''), FloatProgress(value=0.0, max=60.0), HTML(value='')))"
      ]
     },
     "metadata": {},
     "output_type": "display_data"
    },
    {
     "name": "stdout",
     "output_type": "stream",
     "text": [
      "\n",
      "epoch[24/50] training loss 1.17334, training accuracy 0.66832\n"
     ]
    },
    {
     "data": {
      "application/vnd.jupyter.widget-view+json": {
       "model_id": "6da7e1bb827f4392a838ce5e54905471",
       "version_major": 2,
       "version_minor": 0
      },
      "text/plain": [
       "HBox(children=(HTML(value=''), FloatProgress(value=0.0, max=15.0), HTML(value='')))"
      ]
     },
     "metadata": {},
     "output_type": "display_data"
    },
    {
     "name": "stdout",
     "output_type": "stream",
     "text": [
      "\n",
      "[val] acc : 0.65608, loss : 1.19395\n",
      "best acc : 0.65608, best loss : 1.19395\n"
     ]
    },
    {
     "data": {
      "application/vnd.jupyter.widget-view+json": {
       "model_id": "737625e4ef0d4d5392800030f3c19266",
       "version_major": 2,
       "version_minor": 0
      },
      "text/plain": [
       "HBox(children=(HTML(value=''), FloatProgress(value=0.0, max=60.0), HTML(value='')))"
      ]
     },
     "metadata": {},
     "output_type": "display_data"
    },
    {
     "name": "stdout",
     "output_type": "stream",
     "text": [
      "\n",
      "epoch[25/50] training loss 1.16106, training accuracy 0.67698\n"
     ]
    },
    {
     "data": {
      "application/vnd.jupyter.widget-view+json": {
       "model_id": "2cb4b404d0ff46c28a90a30f61d66992",
       "version_major": 2,
       "version_minor": 0
      },
      "text/plain": [
       "HBox(children=(HTML(value=''), FloatProgress(value=0.0, max=15.0), HTML(value='')))"
      ]
     },
     "metadata": {},
     "output_type": "display_data"
    },
    {
     "name": "stdout",
     "output_type": "stream",
     "text": [
      "\n",
      "[val] acc : 0.65979, loss : 1.17776\n",
      "best acc : 0.65979, best loss : 1.17776\n"
     ]
    },
    {
     "data": {
      "application/vnd.jupyter.widget-view+json": {
       "model_id": "1591a9fb387444e6ae3fbc88bca6f873",
       "version_major": 2,
       "version_minor": 0
      },
      "text/plain": [
       "HBox(children=(HTML(value=''), FloatProgress(value=0.0, max=60.0), HTML(value='')))"
      ]
     },
     "metadata": {},
     "output_type": "display_data"
    },
    {
     "name": "stdout",
     "output_type": "stream",
     "text": [
      "\n",
      "epoch[26/50] training loss 1.13658, training accuracy 0.68036\n"
     ]
    },
    {
     "data": {
      "application/vnd.jupyter.widget-view+json": {
       "model_id": "e44f637d45384d4bb03df854720c482f",
       "version_major": 2,
       "version_minor": 0
      },
      "text/plain": [
       "HBox(children=(HTML(value=''), FloatProgress(value=0.0, max=15.0), HTML(value='')))"
      ]
     },
     "metadata": {},
     "output_type": "display_data"
    },
    {
     "name": "stdout",
     "output_type": "stream",
     "text": [
      "\n",
      "[val] acc : 0.66534, loss : 1.16121\n",
      "best acc : 0.66534, best loss : 1.16121\n"
     ]
    },
    {
     "data": {
      "application/vnd.jupyter.widget-view+json": {
       "model_id": "87cc59b1e3a84c5f8c22ea3881efded6",
       "version_major": 2,
       "version_minor": 0
      },
      "text/plain": [
       "HBox(children=(HTML(value=''), FloatProgress(value=0.0, max=60.0), HTML(value='')))"
      ]
     },
     "metadata": {},
     "output_type": "display_data"
    },
    {
     "name": "stdout",
     "output_type": "stream",
     "text": [
      "\n",
      "epoch[27/50] training loss 1.13027, training accuracy 0.68247\n"
     ]
    },
    {
     "data": {
      "application/vnd.jupyter.widget-view+json": {
       "model_id": "ae68d7198bd747debfe6344e1bc2a60a",
       "version_major": 2,
       "version_minor": 0
      },
      "text/plain": [
       "HBox(children=(HTML(value=''), FloatProgress(value=0.0, max=15.0), HTML(value='')))"
      ]
     },
     "metadata": {},
     "output_type": "display_data"
    },
    {
     "name": "stdout",
     "output_type": "stream",
     "text": [
      "\n",
      "[val] acc : 0.66825, loss : 1.14768\n",
      "best acc : 0.66825, best loss : 1.14768\n"
     ]
    },
    {
     "data": {
      "application/vnd.jupyter.widget-view+json": {
       "model_id": "e1e3ddd31cb740d5b601f3b820c7c230",
       "version_major": 2,
       "version_minor": 0
      },
      "text/plain": [
       "HBox(children=(HTML(value=''), FloatProgress(value=0.0, max=60.0), HTML(value='')))"
      ]
     },
     "metadata": {},
     "output_type": "display_data"
    },
    {
     "name": "stdout",
     "output_type": "stream",
     "text": [
      "\n",
      "epoch[28/50] training loss 1.10810, training accuracy 0.68631\n"
     ]
    },
    {
     "data": {
      "application/vnd.jupyter.widget-view+json": {
       "model_id": "796127730c2b43bd850caa84e22dc70c",
       "version_major": 2,
       "version_minor": 0
      },
      "text/plain": [
       "HBox(children=(HTML(value=''), FloatProgress(value=0.0, max=15.0), HTML(value='')))"
      ]
     },
     "metadata": {},
     "output_type": "display_data"
    },
    {
     "name": "stdout",
     "output_type": "stream",
     "text": [
      "\n",
      "[val] acc : 0.67116, loss : 1.13313\n",
      "best acc : 0.67116, best loss : 1.13313\n"
     ]
    },
    {
     "data": {
      "application/vnd.jupyter.widget-view+json": {
       "model_id": "cd4a8dd653db45d794ef193e29e0353d",
       "version_major": 2,
       "version_minor": 0
      },
      "text/plain": [
       "HBox(children=(HTML(value=''), FloatProgress(value=0.0, max=60.0), HTML(value='')))"
      ]
     },
     "metadata": {},
     "output_type": "display_data"
    },
    {
     "name": "stdout",
     "output_type": "stream",
     "text": [
      "\n",
      "epoch[29/50] training loss 1.09141, training accuracy 0.69081\n"
     ]
    },
    {
     "data": {
      "application/vnd.jupyter.widget-view+json": {
       "model_id": "d0749719fd9541dc992d5ba0f1dd15a9",
       "version_major": 2,
       "version_minor": 0
      },
      "text/plain": [
       "HBox(children=(HTML(value=''), FloatProgress(value=0.0, max=15.0), HTML(value='')))"
      ]
     },
     "metadata": {},
     "output_type": "display_data"
    },
    {
     "name": "stdout",
     "output_type": "stream",
     "text": [
      "\n",
      "[val] acc : 0.67407, loss : 1.11953\n",
      "best acc : 0.67407, best loss : 1.11953\n"
     ]
    },
    {
     "data": {
      "application/vnd.jupyter.widget-view+json": {
       "model_id": "5d40fe20b75742c69b20ad184de22d63",
       "version_major": 2,
       "version_minor": 0
      },
      "text/plain": [
       "HBox(children=(HTML(value=''), FloatProgress(value=0.0, max=60.0), HTML(value='')))"
      ]
     },
     "metadata": {},
     "output_type": "display_data"
    },
    {
     "name": "stdout",
     "output_type": "stream",
     "text": [
      "\n",
      "epoch[30/50] training loss 1.08759, training accuracy 0.69696\n"
     ]
    },
    {
     "data": {
      "application/vnd.jupyter.widget-view+json": {
       "model_id": "9e9f24db953f4bf383e1c9a09133c832",
       "version_major": 2,
       "version_minor": 0
      },
      "text/plain": [
       "HBox(children=(HTML(value=''), FloatProgress(value=0.0, max=15.0), HTML(value='')))"
      ]
     },
     "metadata": {},
     "output_type": "display_data"
    },
    {
     "name": "stdout",
     "output_type": "stream",
     "text": [
      "\n",
      "[val] acc : 0.67698, loss : 1.10821\n",
      "best acc : 0.67698, best loss : 1.10821\n"
     ]
    },
    {
     "data": {
      "application/vnd.jupyter.widget-view+json": {
       "model_id": "55e4e48c52244d6f81eee00bb2e802ad",
       "version_major": 2,
       "version_minor": 0
      },
      "text/plain": [
       "HBox(children=(HTML(value=''), FloatProgress(value=0.0, max=60.0), HTML(value='')))"
      ]
     },
     "metadata": {},
     "output_type": "display_data"
    },
    {
     "name": "stdout",
     "output_type": "stream",
     "text": [
      "\n",
      "epoch[31/50] training loss 1.07560, training accuracy 0.69001\n"
     ]
    },
    {
     "data": {
      "application/vnd.jupyter.widget-view+json": {
       "model_id": "6be127f2b57d4b2dacbfa010b86a2479",
       "version_major": 2,
       "version_minor": 0
      },
      "text/plain": [
       "HBox(children=(HTML(value=''), FloatProgress(value=0.0, max=15.0), HTML(value='')))"
      ]
     },
     "metadata": {},
     "output_type": "display_data"
    },
    {
     "name": "stdout",
     "output_type": "stream",
     "text": [
      "\n",
      "[val] acc : 0.68016, loss : 1.09477\n",
      "best acc : 0.68016, best loss : 1.09477\n"
     ]
    },
    {
     "data": {
      "application/vnd.jupyter.widget-view+json": {
       "model_id": "469d435399ab4413bb74f95171ff980b",
       "version_major": 2,
       "version_minor": 0
      },
      "text/plain": [
       "HBox(children=(HTML(value=''), FloatProgress(value=0.0, max=60.0), HTML(value='')))"
      ]
     },
     "metadata": {},
     "output_type": "display_data"
    },
    {
     "name": "stdout",
     "output_type": "stream",
     "text": [
      "\n",
      "epoch[32/50] training loss 1.06128, training accuracy 0.69478\n"
     ]
    },
    {
     "data": {
      "application/vnd.jupyter.widget-view+json": {
       "model_id": "458c43043f494f958f297bf8c5205cd0",
       "version_major": 2,
       "version_minor": 0
      },
      "text/plain": [
       "HBox(children=(HTML(value=''), FloatProgress(value=0.0, max=15.0), HTML(value='')))"
      ]
     },
     "metadata": {},
     "output_type": "display_data"
    },
    {
     "name": "stdout",
     "output_type": "stream",
     "text": [
      "\n",
      "[val] acc : 0.67963, loss : 1.08403\n",
      "best acc : 0.68016, best loss : 1.08403\n"
     ]
    },
    {
     "data": {
      "application/vnd.jupyter.widget-view+json": {
       "model_id": "402da52e32c7414fa4fb7820c8ffc134",
       "version_major": 2,
       "version_minor": 0
      },
      "text/plain": [
       "HBox(children=(HTML(value=''), FloatProgress(value=0.0, max=60.0), HTML(value='')))"
      ]
     },
     "metadata": {},
     "output_type": "display_data"
    },
    {
     "name": "stdout",
     "output_type": "stream",
     "text": [
      "\n",
      "epoch[33/50] training loss 1.04679, training accuracy 0.69828\n"
     ]
    },
    {
     "data": {
      "application/vnd.jupyter.widget-view+json": {
       "model_id": "a4cad7f9ea0d445da08650a83ba10049",
       "version_major": 2,
       "version_minor": 0
      },
      "text/plain": [
       "HBox(children=(HTML(value=''), FloatProgress(value=0.0, max=15.0), HTML(value='')))"
      ]
     },
     "metadata": {},
     "output_type": "display_data"
    },
    {
     "name": "stdout",
     "output_type": "stream",
     "text": [
      "\n",
      "[val] acc : 0.68333, loss : 1.07135\n",
      "best acc : 0.68333, best loss : 1.07135\n"
     ]
    },
    {
     "data": {
      "application/vnd.jupyter.widget-view+json": {
       "model_id": "aa356586928d48a6b23e6d211dfcff49",
       "version_major": 2,
       "version_minor": 0
      },
      "text/plain": [
       "HBox(children=(HTML(value=''), FloatProgress(value=0.0, max=60.0), HTML(value='')))"
      ]
     },
     "metadata": {},
     "output_type": "display_data"
    },
    {
     "name": "stdout",
     "output_type": "stream",
     "text": [
      "\n",
      "epoch[34/50] training loss 1.03364, training accuracy 0.70073\n"
     ]
    },
    {
     "data": {
      "application/vnd.jupyter.widget-view+json": {
       "model_id": "a50e87fa2f0e4b499e44818a2b2601af",
       "version_major": 2,
       "version_minor": 0
      },
      "text/plain": [
       "HBox(children=(HTML(value=''), FloatProgress(value=0.0, max=15.0), HTML(value='')))"
      ]
     },
     "metadata": {},
     "output_type": "display_data"
    },
    {
     "name": "stdout",
     "output_type": "stream",
     "text": [
      "\n",
      "[val] acc : 0.68783, loss : 1.06213\n",
      "best acc : 0.68783, best loss : 1.06213\n"
     ]
    },
    {
     "data": {
      "application/vnd.jupyter.widget-view+json": {
       "model_id": "9a1f478edc194e21951b0746baeba05c",
       "version_major": 2,
       "version_minor": 0
      },
      "text/plain": [
       "HBox(children=(HTML(value=''), FloatProgress(value=0.0, max=60.0), HTML(value='')))"
      ]
     },
     "metadata": {},
     "output_type": "display_data"
    },
    {
     "name": "stdout",
     "output_type": "stream",
     "text": [
      "\n",
      "epoch[35/50] training loss 1.02229, training accuracy 0.70728\n"
     ]
    },
    {
     "data": {
      "application/vnd.jupyter.widget-view+json": {
       "model_id": "54ee19c1eb7a47c6bfa831e3469ecde1",
       "version_major": 2,
       "version_minor": 0
      },
      "text/plain": [
       "HBox(children=(HTML(value=''), FloatProgress(value=0.0, max=15.0), HTML(value='')))"
      ]
     },
     "metadata": {},
     "output_type": "display_data"
    },
    {
     "name": "stdout",
     "output_type": "stream",
     "text": [
      "\n",
      "[val] acc : 0.68889, loss : 1.05003\n",
      "best acc : 0.68889, best loss : 1.05003\n"
     ]
    },
    {
     "data": {
      "application/vnd.jupyter.widget-view+json": {
       "model_id": "3e3c4b5077de4a94bb9dc7ce59721f18",
       "version_major": 2,
       "version_minor": 0
      },
      "text/plain": [
       "HBox(children=(HTML(value=''), FloatProgress(value=0.0, max=60.0), HTML(value='')))"
      ]
     },
     "metadata": {},
     "output_type": "display_data"
    },
    {
     "name": "stdout",
     "output_type": "stream",
     "text": [
      "\n",
      "epoch[36/50] training loss 1.01424, training accuracy 0.70813\n"
     ]
    },
    {
     "data": {
      "application/vnd.jupyter.widget-view+json": {
       "model_id": "e66f543c0d6e4319ae1bc04d8465130c",
       "version_major": 2,
       "version_minor": 0
      },
      "text/plain": [
       "HBox(children=(HTML(value=''), FloatProgress(value=0.0, max=15.0), HTML(value='')))"
      ]
     },
     "metadata": {},
     "output_type": "display_data"
    },
    {
     "name": "stdout",
     "output_type": "stream",
     "text": [
      "\n",
      "[val] acc : 0.69233, loss : 1.04108\n",
      "best acc : 0.69233, best loss : 1.04108\n"
     ]
    },
    {
     "data": {
      "application/vnd.jupyter.widget-view+json": {
       "model_id": "41ab7172b2034db3936c18a9c0f49d67",
       "version_major": 2,
       "version_minor": 0
      },
      "text/plain": [
       "HBox(children=(HTML(value=''), FloatProgress(value=0.0, max=60.0), HTML(value='')))"
      ]
     },
     "metadata": {},
     "output_type": "display_data"
    },
    {
     "name": "stdout",
     "output_type": "stream",
     "text": [
      "\n",
      "epoch[37/50] training loss 1.00780, training accuracy 0.70899\n"
     ]
    },
    {
     "data": {
      "application/vnd.jupyter.widget-view+json": {
       "model_id": "99cf5cae914548999a48e9210f1e5f24",
       "version_major": 2,
       "version_minor": 0
      },
      "text/plain": [
       "HBox(children=(HTML(value=''), FloatProgress(value=0.0, max=15.0), HTML(value='')))"
      ]
     },
     "metadata": {},
     "output_type": "display_data"
    },
    {
     "name": "stdout",
     "output_type": "stream",
     "text": [
      "\n",
      "[val] acc : 0.69497, loss : 1.03109\n",
      "best acc : 0.69497, best loss : 1.03109\n"
     ]
    },
    {
     "data": {
      "application/vnd.jupyter.widget-view+json": {
       "model_id": "2465e544e82b494292045bd93dda137e",
       "version_major": 2,
       "version_minor": 0
      },
      "text/plain": [
       "HBox(children=(HTML(value=''), FloatProgress(value=0.0, max=60.0), HTML(value='')))"
      ]
     },
     "metadata": {},
     "output_type": "display_data"
    },
    {
     "name": "stdout",
     "output_type": "stream",
     "text": [
      "\n",
      "epoch[38/50] training loss 0.99653, training accuracy 0.71243\n"
     ]
    },
    {
     "data": {
      "application/vnd.jupyter.widget-view+json": {
       "model_id": "28d4371043e84454929d80193144da22",
       "version_major": 2,
       "version_minor": 0
      },
      "text/plain": [
       "HBox(children=(HTML(value=''), FloatProgress(value=0.0, max=15.0), HTML(value='')))"
      ]
     },
     "metadata": {},
     "output_type": "display_data"
    },
    {
     "name": "stdout",
     "output_type": "stream",
     "text": [
      "\n",
      "[val] acc : 0.69735, loss : 1.02009\n",
      "best acc : 0.69735, best loss : 1.02009\n"
     ]
    },
    {
     "data": {
      "application/vnd.jupyter.widget-view+json": {
       "model_id": "c8d1207127d9449da01b30f5d88eac80",
       "version_major": 2,
       "version_minor": 0
      },
      "text/plain": [
       "HBox(children=(HTML(value=''), FloatProgress(value=0.0, max=60.0), HTML(value='')))"
      ]
     },
     "metadata": {},
     "output_type": "display_data"
    },
    {
     "name": "stdout",
     "output_type": "stream",
     "text": [
      "\n",
      "epoch[39/50] training loss 0.99204, training accuracy 0.71415\n"
     ]
    },
    {
     "data": {
      "application/vnd.jupyter.widget-view+json": {
       "model_id": "c06425897e2244b9ab7ced4c2c9557b4",
       "version_major": 2,
       "version_minor": 0
      },
      "text/plain": [
       "HBox(children=(HTML(value=''), FloatProgress(value=0.0, max=15.0), HTML(value='')))"
      ]
     },
     "metadata": {},
     "output_type": "display_data"
    },
    {
     "name": "stdout",
     "output_type": "stream",
     "text": [
      "\n",
      "[val] acc : 0.70000, loss : 1.01027\n",
      "best acc : 0.70000, best loss : 1.01027\n"
     ]
    },
    {
     "data": {
      "application/vnd.jupyter.widget-view+json": {
       "model_id": "85a5285a1f6c4672bdc2c06af514c612",
       "version_major": 2,
       "version_minor": 0
      },
      "text/plain": [
       "HBox(children=(HTML(value=''), FloatProgress(value=0.0, max=60.0), HTML(value='')))"
      ]
     },
     "metadata": {},
     "output_type": "display_data"
    },
    {
     "name": "stdout",
     "output_type": "stream",
     "text": [
      "\n",
      "epoch[40/50] training loss 0.97787, training accuracy 0.71680\n"
     ]
    },
    {
     "data": {
      "application/vnd.jupyter.widget-view+json": {
       "model_id": "b1250d5227904be8b5b1c4d483db7758",
       "version_major": 2,
       "version_minor": 0
      },
      "text/plain": [
       "HBox(children=(HTML(value=''), FloatProgress(value=0.0, max=15.0), HTML(value='')))"
      ]
     },
     "metadata": {},
     "output_type": "display_data"
    },
    {
     "name": "stdout",
     "output_type": "stream",
     "text": [
      "\n",
      "[val] acc : 0.70291, loss : 1.00512\n",
      "best acc : 0.70291, best loss : 1.00512\n"
     ]
    },
    {
     "data": {
      "application/vnd.jupyter.widget-view+json": {
       "model_id": "357786126e7a4568a67d146de03822db",
       "version_major": 2,
       "version_minor": 0
      },
      "text/plain": [
       "HBox(children=(HTML(value=''), FloatProgress(value=0.0, max=60.0), HTML(value='')))"
      ]
     },
     "metadata": {},
     "output_type": "display_data"
    },
    {
     "name": "stdout",
     "output_type": "stream",
     "text": [
      "\n",
      "epoch[41/50] training loss 0.97074, training accuracy 0.71620\n"
     ]
    },
    {
     "data": {
      "application/vnd.jupyter.widget-view+json": {
       "model_id": "943da4270fc54518a0e2ec4a344fe452",
       "version_major": 2,
       "version_minor": 0
      },
      "text/plain": [
       "HBox(children=(HTML(value=''), FloatProgress(value=0.0, max=15.0), HTML(value='')))"
      ]
     },
     "metadata": {},
     "output_type": "display_data"
    },
    {
     "name": "stdout",
     "output_type": "stream",
     "text": [
      "\n",
      "[val] acc : 0.70291, loss : 0.99647\n",
      "best acc : 0.70291, best loss : 0.99647\n"
     ]
    },
    {
     "data": {
      "application/vnd.jupyter.widget-view+json": {
       "model_id": "2a1e4a256412449c8771236bfc10340a",
       "version_major": 2,
       "version_minor": 0
      },
      "text/plain": [
       "HBox(children=(HTML(value=''), FloatProgress(value=0.0, max=60.0), HTML(value='')))"
      ]
     },
     "metadata": {},
     "output_type": "display_data"
    },
    {
     "name": "stdout",
     "output_type": "stream",
     "text": [
      "\n",
      "epoch[42/50] training loss 0.96124, training accuracy 0.71706\n"
     ]
    },
    {
     "data": {
      "application/vnd.jupyter.widget-view+json": {
       "model_id": "317aa7d53a29487eb764bba501206d13",
       "version_major": 2,
       "version_minor": 0
      },
      "text/plain": [
       "HBox(children=(HTML(value=''), FloatProgress(value=0.0, max=15.0), HTML(value='')))"
      ]
     },
     "metadata": {},
     "output_type": "display_data"
    },
    {
     "name": "stdout",
     "output_type": "stream",
     "text": [
      "\n",
      "[val] acc : 0.70635, loss : 0.98651\n",
      "best acc : 0.70635, best loss : 0.98651\n"
     ]
    },
    {
     "data": {
      "application/vnd.jupyter.widget-view+json": {
       "model_id": "ccd957e432d14a5481fb213e817f3fad",
       "version_major": 2,
       "version_minor": 0
      },
      "text/plain": [
       "HBox(children=(HTML(value=''), FloatProgress(value=0.0, max=60.0), HTML(value='')))"
      ]
     },
     "metadata": {},
     "output_type": "display_data"
    },
    {
     "name": "stdout",
     "output_type": "stream",
     "text": [
      "\n",
      "epoch[43/50] training loss 0.95226, training accuracy 0.72388\n"
     ]
    },
    {
     "data": {
      "application/vnd.jupyter.widget-view+json": {
       "model_id": "359fd51465f445dc88778c10bcf5ddbc",
       "version_major": 2,
       "version_minor": 0
      },
      "text/plain": [
       "HBox(children=(HTML(value=''), FloatProgress(value=0.0, max=15.0), HTML(value='')))"
      ]
     },
     "metadata": {},
     "output_type": "display_data"
    },
    {
     "name": "stdout",
     "output_type": "stream",
     "text": [
      "\n",
      "[val] acc : 0.70741, loss : 0.97834\n",
      "best acc : 0.70741, best loss : 0.97834\n"
     ]
    },
    {
     "data": {
      "application/vnd.jupyter.widget-view+json": {
       "model_id": "9692c7cbdf3b4cddb28ac34ee669b9c1",
       "version_major": 2,
       "version_minor": 0
      },
      "text/plain": [
       "HBox(children=(HTML(value=''), FloatProgress(value=0.0, max=60.0), HTML(value='')))"
      ]
     },
     "metadata": {},
     "output_type": "display_data"
    },
    {
     "name": "stdout",
     "output_type": "stream",
     "text": [
      "\n",
      "epoch[44/50] training loss 0.94842, training accuracy 0.72083\n"
     ]
    },
    {
     "data": {
      "application/vnd.jupyter.widget-view+json": {
       "model_id": "9c9b2f2e8c644062bae4c10b5ea05378",
       "version_major": 2,
       "version_minor": 0
      },
      "text/plain": [
       "HBox(children=(HTML(value=''), FloatProgress(value=0.0, max=15.0), HTML(value='')))"
      ]
     },
     "metadata": {},
     "output_type": "display_data"
    },
    {
     "name": "stdout",
     "output_type": "stream",
     "text": [
      "\n",
      "[val] acc : 0.70899, loss : 0.97103\n",
      "best acc : 0.70899, best loss : 0.97103\n"
     ]
    },
    {
     "data": {
      "application/vnd.jupyter.widget-view+json": {
       "model_id": "5f19bb3d686840d7bbf1e830601aad50",
       "version_major": 2,
       "version_minor": 0
      },
      "text/plain": [
       "HBox(children=(HTML(value=''), FloatProgress(value=0.0, max=60.0), HTML(value='')))"
      ]
     },
     "metadata": {},
     "output_type": "display_data"
    },
    {
     "name": "stdout",
     "output_type": "stream",
     "text": [
      "\n",
      "epoch[45/50] training loss 0.94492, training accuracy 0.72394\n"
     ]
    },
    {
     "data": {
      "application/vnd.jupyter.widget-view+json": {
       "model_id": "f23cb789b8c140a28d7e79f33c079158",
       "version_major": 2,
       "version_minor": 0
      },
      "text/plain": [
       "HBox(children=(HTML(value=''), FloatProgress(value=0.0, max=15.0), HTML(value='')))"
      ]
     },
     "metadata": {},
     "output_type": "display_data"
    },
    {
     "name": "stdout",
     "output_type": "stream",
     "text": [
      "\n",
      "[val] acc : 0.71323, loss : 0.96272\n",
      "best acc : 0.71323, best loss : 0.96272\n"
     ]
    },
    {
     "data": {
      "application/vnd.jupyter.widget-view+json": {
       "model_id": "494b96acea9d49b7a7cafa640cecf58d",
       "version_major": 2,
       "version_minor": 0
      },
      "text/plain": [
       "HBox(children=(HTML(value=''), FloatProgress(value=0.0, max=60.0), HTML(value='')))"
      ]
     },
     "metadata": {},
     "output_type": "display_data"
    },
    {
     "name": "stdout",
     "output_type": "stream",
     "text": [
      "\n",
      "epoch[46/50] training loss 0.92743, training accuracy 0.72725\n"
     ]
    },
    {
     "data": {
      "application/vnd.jupyter.widget-view+json": {
       "model_id": "88a4abfc91dc47338024e4b5606aead6",
       "version_major": 2,
       "version_minor": 0
      },
      "text/plain": [
       "HBox(children=(HTML(value=''), FloatProgress(value=0.0, max=15.0), HTML(value='')))"
      ]
     },
     "metadata": {},
     "output_type": "display_data"
    },
    {
     "name": "stdout",
     "output_type": "stream",
     "text": [
      "\n",
      "[val] acc : 0.71217, loss : 0.95784\n",
      "best acc : 0.71323, best loss : 0.95784\n"
     ]
    },
    {
     "data": {
      "application/vnd.jupyter.widget-view+json": {
       "model_id": "9d15fa95a803487ca056912ad13d3250",
       "version_major": 2,
       "version_minor": 0
      },
      "text/plain": [
       "HBox(children=(HTML(value=''), FloatProgress(value=0.0, max=60.0), HTML(value='')))"
      ]
     },
     "metadata": {},
     "output_type": "display_data"
    },
    {
     "name": "stdout",
     "output_type": "stream",
     "text": [
      "\n",
      "epoch[47/50] training loss 0.91853, training accuracy 0.72976\n"
     ]
    },
    {
     "data": {
      "application/vnd.jupyter.widget-view+json": {
       "model_id": "3da779fe0ae940b4b8746c21aacbd43b",
       "version_major": 2,
       "version_minor": 0
      },
      "text/plain": [
       "HBox(children=(HTML(value=''), FloatProgress(value=0.0, max=15.0), HTML(value='')))"
      ]
     },
     "metadata": {},
     "output_type": "display_data"
    },
    {
     "name": "stdout",
     "output_type": "stream",
     "text": [
      "\n",
      "[val] acc : 0.71296, loss : 0.95124\n",
      "best acc : 0.71323, best loss : 0.95124\n"
     ]
    },
    {
     "data": {
      "application/vnd.jupyter.widget-view+json": {
       "model_id": "91ad0a837ad04989821a2c3ef600403e",
       "version_major": 2,
       "version_minor": 0
      },
      "text/plain": [
       "HBox(children=(HTML(value=''), FloatProgress(value=0.0, max=60.0), HTML(value='')))"
      ]
     },
     "metadata": {},
     "output_type": "display_data"
    },
    {
     "name": "stdout",
     "output_type": "stream",
     "text": [
      "\n",
      "epoch[48/50] training loss 0.92167, training accuracy 0.72765\n"
     ]
    },
    {
     "data": {
      "application/vnd.jupyter.widget-view+json": {
       "model_id": "3a4fb51db23440ee8779ed15396dfda8",
       "version_major": 2,
       "version_minor": 0
      },
      "text/plain": [
       "HBox(children=(HTML(value=''), FloatProgress(value=0.0, max=15.0), HTML(value='')))"
      ]
     },
     "metadata": {},
     "output_type": "display_data"
    },
    {
     "name": "stdout",
     "output_type": "stream",
     "text": [
      "\n",
      "[val] acc : 0.71455, loss : 0.94300\n",
      "best acc : 0.71455, best loss : 0.94300\n"
     ]
    },
    {
     "data": {
      "application/vnd.jupyter.widget-view+json": {
       "model_id": "2d38029ce4814eba8c2d13557faeab04",
       "version_major": 2,
       "version_minor": 0
      },
      "text/plain": [
       "HBox(children=(HTML(value=''), FloatProgress(value=0.0, max=60.0), HTML(value='')))"
      ]
     },
     "metadata": {},
     "output_type": "display_data"
    },
    {
     "name": "stdout",
     "output_type": "stream",
     "text": [
      "\n",
      "epoch[49/50] training loss 0.91043, training accuracy 0.73128\n"
     ]
    },
    {
     "data": {
      "application/vnd.jupyter.widget-view+json": {
       "model_id": "a6225b3fc64041debb82cea4f08c4829",
       "version_major": 2,
       "version_minor": 0
      },
      "text/plain": [
       "HBox(children=(HTML(value=''), FloatProgress(value=0.0, max=15.0), HTML(value='')))"
      ]
     },
     "metadata": {},
     "output_type": "display_data"
    },
    {
     "name": "stdout",
     "output_type": "stream",
     "text": [
      "\n",
      "[val] acc : 0.71852, loss : 0.93582\n",
      "best acc : 0.71852, best loss : 0.93582\n"
     ]
    }
   ],
   "source": [
    "best_val_acc = 0\n",
    "best_val_loss = np.inf\n",
    "patience = 5\n",
    "cur_count = 0\n",
    "\n",
    "f1 = F1Score(num_classes=class_num, average='macro').to(device)\n",
    "best_f1_score = 0\n",
    "\n",
    "for epoch in range(NUM_EPOCH):\n",
    "    model.train()\n",
    "    loss_value = 0\n",
    "    matches = 0\n",
    "    for train_batch in tqdm(train_dataloader_mask):\n",
    "        inputs, labels = train_batch\n",
    "        inputs = inputs.to(device)\n",
    "        labels = labels.to(device)\n",
    "        \n",
    "        outs = model(inputs)\n",
    "        preds = torch.argmax(outs, dim=-1)\n",
    "        loss = criterion(outs, labels)\n",
    "        \n",
    "        optimizer.zero_grad()\n",
    "        loss.backward()\n",
    "        optimizer.step()\n",
    "        \n",
    "        if epoch % 10 == 0:\n",
    "            torch.save(model, '/opt/ml/checkpoint/swin_v2_s/checkpoint_ep_%d.pt'% epoch)\n",
    "        \n",
    "        loss_value += loss.item()\n",
    "        matches += (preds == labels).sum().item()\n",
    "        \n",
    "    train_loss = loss_value / len(train_dataloader_mask)\n",
    "    train_acc = matches / len(mask_train_set)\n",
    "    \n",
    "    print(f\"epoch[{epoch}/{NUM_EPOCH}] training loss {train_loss:.5f}, training accuracy {train_acc:.5f}\")\n",
    "    \n",
    "    with torch.no_grad():\n",
    "        model.eval()\n",
    "        val_loss_items = []\n",
    "        val_acc_items = []\n",
    "        for val_batch in tqdm(val_dataloader_mask):\n",
    "            inputs, labels = val_batch\n",
    "            inputs = inputs.to(device)\n",
    "            labels = labels.to(device)\n",
    "            \n",
    "            outs = model(inputs)\n",
    "            preds = torch.argmax(outs, dim=-1)\n",
    "            \n",
    "            loss_item = criterion(outs, labels).item()\n",
    "            acc_item = (labels==preds).sum().item()\n",
    "            val_loss_items.append(loss_item)\n",
    "            val_acc_items.append(acc_item)\n",
    "            \n",
    "        val_loss = np.sum(val_loss_items) / len(val_dataloader_mask)\n",
    "        val_acc = np.sum(val_acc_items) / len(mask_val_set)\n",
    "        \n",
    "        f1_score = f1(outs, labels)\n",
    "        \n",
    "        if val_loss < best_val_loss:\n",
    "            best_val_loss = val_loss\n",
    "            cur_count = 0\n",
    "            torch.save(model, '/opt/ml/checkpoint/swin_transfrmer_t_2/checkpoint_best.pt')\n",
    "\n",
    "        if val_acc > best_val_acc:\n",
    "            best_val_acc = val_acc\n",
    "        \n",
    "        if f1_score > best_f1_score:\n",
    "            best_f1_score = f1_score\n",
    "            cur_count = 0\n",
    "            torch.save(model, '/opt/ml/checkpoint/swin_v2_s/checkpoint_best.pt')\n",
    "        else:\n",
    "            cur_count += 1\n",
    "            if cur_count >= patience:\n",
    "                print(\"Early Stopping!\")\n",
    "                break\n",
    "                \n",
    "        print(f\"[val] acc : {val_acc:.5f}, loss : {val_loss:.5f}\")\n",
    "        print(f\"best acc : {best_val_acc:.5f}, best loss : {best_val_loss:.5f}\")"
   ]
  },
  {
   "cell_type": "code",
   "execution_count": 17,
   "id": "e560abc7-e70f-4381-946d-054e914f15d4",
   "metadata": {},
   "outputs": [],
   "source": [
    "import timm\n",
    "from timm.loss import LabelSmoothingCrossEntropy\n",
    "\n",
    "model = torch.load('/opt/ml/checkpoint/swin_v2_s/80+_checkpoint_new_best.pt')\n",
    "\n",
    "for param in model.parameters():\n",
    "    param.requires_grad = True"
   ]
  },
  {
   "cell_type": "code",
   "execution_count": 18,
   "id": "7ddb542f-6721-4820-8f75-d0dae66392d0",
   "metadata": {},
   "outputs": [
    {
     "name": "stdout",
     "output_type": "stream",
     "text": [
      "[0] name:[features.0.0.weight] shape:[(96, 3, 4, 4)].\n",
      "    val:[ 0.022 -0.027 -0.023 -0.03   0.013]\n",
      "[1] name:[features.0.0.bias] shape:[(96,)].\n",
      "    val:[ 0.158 -0.164  0.002 -0.001  0.056]\n",
      "[2] name:[features.0.2.weight] shape:[(96,)].\n",
      "    val:[1.37  1.187 4.375 5.708 4.715]\n",
      "[3] name:[features.0.2.bias] shape:[(96,)].\n",
      "    val:[-1.55   1.612  0.994  1.179 -0.708]\n",
      "[4] name:[features.1.0.norm1.weight] shape:[(96,)].\n",
      "    val:[1.005 0.475 1.347 1.499 1.295]\n",
      "[5] name:[features.1.0.norm1.bias] shape:[(96,)].\n",
      "    val:[-0.367 -0.722 -0.034 -0.099  0.043]\n",
      "[6] name:[features.1.0.attn.logit_scale] shape:[(3, 1, 1)].\n",
      "    val:[1.482 0.409 2.019]\n",
      "[7] name:[features.1.0.attn.qkv.weight] shape:[(288, 96)].\n",
      "    val:[-0.014 -0.028 -0.07   0.057 -0.032]\n",
      "[8] name:[features.1.0.attn.qkv.bias] shape:[(288,)].\n",
      "    val:[ 0.237  0.174 -0.218 -0.373 -0.035]\n",
      "[9] name:[features.1.0.attn.proj.weight] shape:[(96, 96)].\n",
      "    val:[-0.031  0.012 -0.019 -0.017  0.039]\n",
      "[10] name:[features.1.0.attn.proj.bias] shape:[(96,)].\n",
      "    val:[ 0.375  1.476 -0.004  0.061 -0.069]\n",
      "[11] name:[features.1.0.attn.cpb_mlp.0.weight] shape:[(512, 2)].\n",
      "    val:[-9.285e-02  1.209e-01 -9.667e-06  2.697e-06  1.482e-07]\n",
      "[12] name:[features.1.0.attn.cpb_mlp.0.bias] shape:[(512,)].\n",
      "    val:[ 9.253e-05 -6.976e-02 -3.880e-03 -2.206e-05 -2.164e-03]\n",
      "[13] name:[features.1.0.attn.cpb_mlp.2.weight] shape:[(3, 512)].\n",
      "    val:[ 1.392e-01  2.914e-06  1.883e-07  1.295e-01 -1.566e-07]\n",
      "[14] name:[features.1.0.norm2.weight] shape:[(96,)].\n",
      "    val:[1.817 1.416 2.064 2.087 1.742]\n",
      "[15] name:[features.1.0.norm2.bias] shape:[(96,)].\n",
      "    val:[-0.374  0.333  0.592  0.561 -0.352]\n",
      "[16] name:[features.1.0.mlp.0.weight] shape:[(384, 96)].\n",
      "    val:[ 0.071  0.052 -0.014  0.031  0.029]\n",
      "[17] name:[features.1.0.mlp.0.bias] shape:[(384,)].\n",
      "    val:[-0.23   0.263 -0.61  -0.938  0.078]\n",
      "[18] name:[features.1.0.mlp.3.weight] shape:[(96, 384)].\n",
      "    val:[-0.018  0.014  0.037 -0.03  -0.094]\n",
      "[19] name:[features.1.0.mlp.3.bias] shape:[(96,)].\n",
      "    val:[-0.182 -0.142  0.186 -0.057 -0.1  ]\n",
      "[20] name:[features.1.1.norm1.weight] shape:[(96,)].\n",
      "    val:[1.593 1.342 1.287 1.375 1.242]\n",
      "[21] name:[features.1.1.norm1.bias] shape:[(96,)].\n",
      "    val:[-0.514  0.469 -0.345  0.014  0.784]\n",
      "[22] name:[features.1.1.attn.logit_scale] shape:[(3, 1, 1)].\n",
      "    val:[1.31  0.973 0.903]\n",
      "[23] name:[features.1.1.attn.qkv.weight] shape:[(288, 96)].\n",
      "    val:[-0.01   0.002  0.013  0.028  0.024]\n",
      "[24] name:[features.1.1.attn.qkv.bias] shape:[(288,)].\n",
      "    val:[ 0.08  -0.185 -0.126  0.777 -0.095]\n",
      "[25] name:[features.1.1.attn.proj.weight] shape:[(96, 96)].\n",
      "    val:[-0.128 -0.048 -0.018  0.001  0.012]\n",
      "[26] name:[features.1.1.attn.proj.bias] shape:[(96,)].\n",
      "    val:[ 0.311 -0.479  0.239  0.018 -0.862]\n",
      "[27] name:[features.1.1.attn.cpb_mlp.0.weight] shape:[(512, 2)].\n",
      "    val:[ 1.267e-01  1.303e-01 -1.850e-01  2.905e-03 -2.075e-06]\n",
      "[28] name:[features.1.1.attn.cpb_mlp.0.bias] shape:[(512,)].\n",
      "    val:[-0.114 -0.068 -0.024 -0.01  -0.122]\n",
      "[29] name:[features.1.1.attn.cpb_mlp.2.weight] shape:[(3, 512)].\n",
      "    val:[-3.204e-01 -4.036e-02 -1.745e-06 -2.229e-07 -1.645e-05]\n",
      "[30] name:[features.1.1.norm2.weight] shape:[(96,)].\n",
      "    val:[1.415 0.319 2.299 1.757 1.499]\n",
      "[31] name:[features.1.1.norm2.bias] shape:[(96,)].\n",
      "    val:[-0.235 -0.397  0.22   0.311 -0.1  ]\n",
      "[32] name:[features.1.1.mlp.0.weight] shape:[(384, 96)].\n",
      "    val:[ 0.038 -0.017  0.037  0.009  0.055]\n",
      "[33] name:[features.1.1.mlp.0.bias] shape:[(384,)].\n",
      "    val:[-0.513 -0.53  -0.114 -0.744 -0.5  ]\n",
      "[34] name:[features.1.1.mlp.3.weight] shape:[(96, 384)].\n",
      "    val:[ 0.041  0.006  0.065  0.028 -0.039]\n",
      "[35] name:[features.1.1.mlp.3.bias] shape:[(96,)].\n",
      "    val:[-0.04  -0.356 -0.061 -0.207  0.323]\n",
      "[36] name:[features.2.reduction.weight] shape:[(192, 384)].\n",
      "    val:[-0.066  0.078  0.052  0.034  0.002]\n",
      "[37] name:[features.2.norm.weight] shape:[(192,)].\n",
      "    val:[0.602 0.999 0.694 0.826 0.719]\n",
      "[38] name:[features.2.norm.bias] shape:[(192,)].\n",
      "    val:[ 0.356  0.212 -0.268 -0.008  0.052]\n",
      "[39] name:[features.3.0.norm1.weight] shape:[(192,)].\n",
      "    val:[0.69  0.264 0.615 0.504 0.611]\n",
      "[40] name:[features.3.0.norm1.bias] shape:[(192,)].\n",
      "    val:[-0.334  0.056 -0.118  0.035  0.01 ]\n",
      "[41] name:[features.3.0.attn.logit_scale] shape:[(6, 1, 1)].\n",
      "    val:[1.157 1.387 1.052 1.383 1.129]\n",
      "[42] name:[features.3.0.attn.qkv.weight] shape:[(576, 192)].\n",
      "    val:[ 0.073 -0.057 -0.012  0.029  0.043]\n",
      "[43] name:[features.3.0.attn.qkv.bias] shape:[(576,)].\n",
      "    val:[ 0.366  0.67   0.326 -0.864 -0.469]\n",
      "[44] name:[features.3.0.attn.proj.weight] shape:[(192, 192)].\n",
      "    val:[ 0.041  0.071 -0.005  0.03   0.051]\n",
      "[45] name:[features.3.0.attn.proj.bias] shape:[(192,)].\n",
      "    val:[ 0.571 -0.954  0.181 -0.018 -0.074]\n",
      "[46] name:[features.3.0.attn.cpb_mlp.0.weight] shape:[(512, 2)].\n",
      "    val:[ 0.005  0.31  -0.155 -0.166 -0.138]\n",
      "[47] name:[features.3.0.attn.cpb_mlp.0.bias] shape:[(512,)].\n",
      "    val:[ 0.    -0.057 -0.052 -0.101 -0.003]\n",
      "[48] name:[features.3.0.attn.cpb_mlp.2.weight] shape:[(6, 512)].\n",
      "    val:[9.699e-02 9.802e-02 7.184e-02 2.294e-01 2.715e-06]\n",
      "[49] name:[features.3.0.norm2.weight] shape:[(192,)].\n",
      "    val:[0.553 0.28  0.841 1.039 1.027]\n",
      "[50] name:[features.3.0.norm2.bias] shape:[(192,)].\n",
      "    val:[ 0.368 -0.007 -0.469  0.153  0.048]\n",
      "[51] name:[features.3.0.mlp.0.weight] shape:[(768, 192)].\n",
      "    val:[-0.163  0.02  -0.063  0.057 -0.009]\n",
      "[52] name:[features.3.0.mlp.0.bias] shape:[(768,)].\n",
      "    val:[-0.468 -1.311 -0.737 -1.02  -0.812]\n",
      "[53] name:[features.3.0.mlp.3.weight] shape:[(192, 768)].\n",
      "    val:[ 0.086 -0.043 -0.008 -0.031 -0.05 ]\n",
      "[54] name:[features.3.0.mlp.3.bias] shape:[(192,)].\n",
      "    val:[-0.547  0.316  0.354 -0.031  0.13 ]\n",
      "[55] name:[features.3.1.norm1.weight] shape:[(192,)].\n",
      "    val:[0.708 0.366 0.619 0.663 0.635]\n",
      "[56] name:[features.3.1.norm1.bias] shape:[(192,)].\n",
      "    val:[ 0.381 -0.143 -0.034  0.083  0.074]\n",
      "[57] name:[features.3.1.attn.logit_scale] shape:[(6, 1, 1)].\n",
      "    val:[1.227 2.226 1.061 1.355 2.163]\n",
      "[58] name:[features.3.1.attn.qkv.weight] shape:[(576, 192)].\n",
      "    val:[-0.115  0.059  0.003 -0.049  0.059]\n",
      "[59] name:[features.3.1.attn.qkv.bias] shape:[(576,)].\n",
      "    val:[ 0.498 -0.242  0.625  0.269 -0.089]\n",
      "[60] name:[features.3.1.attn.proj.weight] shape:[(192, 192)].\n",
      "    val:[ 0.028 -0.023 -0.017  0.012 -0.08 ]\n",
      "[61] name:[features.3.1.attn.proj.bias] shape:[(192,)].\n",
      "    val:[-0.531 -0.177  0.021 -0.019  0.016]\n",
      "[62] name:[features.3.1.attn.cpb_mlp.0.weight] shape:[(512, 2)].\n",
      "    val:[ 0.192  0.01  -0.098 -0.16  -0.001]\n",
      "[63] name:[features.3.1.attn.cpb_mlp.0.bias] shape:[(512,)].\n",
      "    val:[-0.07  -0.091 -0.061 -0.07  -0.024]\n",
      "[64] name:[features.3.1.attn.cpb_mlp.2.weight] shape:[(6, 512)].\n",
      "    val:[-5.380e-01 -3.336e-01 -4.016e-01 -5.361e-01 -1.982e-06]\n",
      "[65] name:[features.3.1.norm2.weight] shape:[(192,)].\n",
      "    val:[0.53  0.791 1.441 1.814 1.439]\n",
      "[66] name:[features.3.1.norm2.bias] shape:[(192,)].\n",
      "    val:[ 0.219  0.065 -0.011  0.102  0.072]\n",
      "[67] name:[features.3.1.mlp.0.weight] shape:[(768, 192)].\n",
      "    val:[ 0.019  0.056  0.019 -0.006  0.058]\n",
      "[68] name:[features.3.1.mlp.0.bias] shape:[(768,)].\n",
      "    val:[-1.025 -0.916 -0.561 -1.163 -0.695]\n",
      "[69] name:[features.3.1.mlp.3.weight] shape:[(192, 768)].\n",
      "    val:[-0.003 -0.029 -0.036 -0.021 -0.033]\n",
      "[70] name:[features.3.1.mlp.3.bias] shape:[(192,)].\n",
      "    val:[-0.359  0.232 -0.209  0.009 -0.091]\n",
      "[71] name:[features.4.reduction.weight] shape:[(384, 768)].\n",
      "    val:[-0.03  -0.033 -0.094  0.034 -0.022]\n",
      "[72] name:[features.4.norm.weight] shape:[(384,)].\n",
      "    val:[0.389 0.77  0.662 1.854 1.071]\n",
      "[73] name:[features.4.norm.bias] shape:[(384,)].\n",
      "    val:[ 0.161 -0.612 -0.294 -0.503 -0.546]\n",
      "[74] name:[features.5.0.norm1.weight] shape:[(384,)].\n",
      "    val:[0.721 0.816 0.287 0.209 0.397]\n",
      "[75] name:[features.5.0.norm1.bias] shape:[(384,)].\n",
      "    val:[-0.18  -0.188 -0.18  -0.289 -0.201]\n",
      "[76] name:[features.5.0.attn.logit_scale] shape:[(12, 1, 1)].\n",
      "    val:[2.256 1.525 1.539 0.931 0.893]\n",
      "[77] name:[features.5.0.attn.qkv.weight] shape:[(1152, 384)].\n",
      "    val:[-0.05  -0.016 -0.088  0.035  0.074]\n",
      "[78] name:[features.5.0.attn.qkv.bias] shape:[(1152,)].\n",
      "    val:[-1.728  0.186  0.995  0.061  0.31 ]\n",
      "[79] name:[features.5.0.attn.proj.weight] shape:[(384, 384)].\n",
      "    val:[-0.055  0.031  0.086  0.006 -0.031]\n",
      "[80] name:[features.5.0.attn.proj.bias] shape:[(384,)].\n",
      "    val:[ 0.465  0.287  0.271 -0.026  0.222]\n",
      "[81] name:[features.5.0.attn.cpb_mlp.0.weight] shape:[(512, 2)].\n",
      "    val:[-2.258e-07  1.336e-07 -2.941e-01  1.266e-02 -4.032e-01]\n",
      "[82] name:[features.5.0.attn.cpb_mlp.0.bias] shape:[(512,)].\n",
      "    val:[-0.005 -0.107  0.001 -0.018 -0.016]\n",
      "[83] name:[features.5.0.attn.cpb_mlp.2.weight] shape:[(12, 512)].\n",
      "    val:[ 1.352e-06 -1.125e-01 -4.527e-03 -1.442e-06 -2.141e-05]\n",
      "[84] name:[features.5.0.norm2.weight] shape:[(384,)].\n",
      "    val:[0.489 0.496 0.657 0.509 0.426]\n",
      "[85] name:[features.5.0.norm2.bias] shape:[(384,)].\n",
      "    val:[ 0.043 -0.136  0.132 -0.064  0.017]\n",
      "[86] name:[features.5.0.mlp.0.weight] shape:[(1536, 384)].\n",
      "    val:[ 0.014  0.03   0.048  0.053 -0.016]\n",
      "[87] name:[features.5.0.mlp.0.bias] shape:[(1536,)].\n",
      "    val:[-1.423 -0.603 -0.281 -0.701 -0.177]\n",
      "[88] name:[features.5.0.mlp.3.weight] shape:[(384, 1536)].\n",
      "    val:[ 0.11  -0.005  0.07   0.051  0.018]\n",
      "[89] name:[features.5.0.mlp.3.bias] shape:[(384,)].\n",
      "    val:[ 0.381  0.43  -0.06  -0.432  0.229]\n",
      "[90] name:[features.5.1.norm1.weight] shape:[(384,)].\n",
      "    val:[0.437 0.528 0.251 0.123 0.207]\n",
      "[91] name:[features.5.1.norm1.bias] shape:[(384,)].\n",
      "    val:[ 0.025  0.001  0.052 -0.124 -0.023]\n",
      "[92] name:[features.5.1.attn.logit_scale] shape:[(12, 1, 1)].\n",
      "    val:[1.373 1.909 0.945 1.467 1.796]\n",
      "[93] name:[features.5.1.attn.qkv.weight] shape:[(1152, 384)].\n",
      "    val:[ 0.004  0.027 -0.072 -0.052  0.085]\n",
      "[94] name:[features.5.1.attn.qkv.bias] shape:[(1152,)].\n",
      "    val:[ 0.309  0.367 -0.023  0.017 -1.05 ]\n",
      "[95] name:[features.5.1.attn.proj.weight] shape:[(384, 384)].\n",
      "    val:[-0.031 -0.029  0.019 -0.038  0.014]\n",
      "[96] name:[features.5.1.attn.proj.bias] shape:[(384,)].\n",
      "    val:[ 0.044  0.164 -0.582 -0.109  0.004]\n",
      "[97] name:[features.5.1.attn.cpb_mlp.0.weight] shape:[(512, 2)].\n",
      "    val:[-8.657e-02  3.952e-01 -1.885e-01  7.771e-02  6.147e-05]\n",
      "[98] name:[features.5.1.attn.cpb_mlp.0.bias] shape:[(512,)].\n",
      "    val:[-0.144  0.069 -0.017 -0.016  0.444]\n",
      "[99] name:[features.5.1.attn.cpb_mlp.2.weight] shape:[(12, 512)].\n",
      "    val:[ 7.858e-02  5.648e-02  6.366e-04 -8.657e-08  1.334e-01]\n",
      "[100] name:[features.5.1.norm2.weight] shape:[(384,)].\n",
      "    val:[0.496 0.508 0.658 0.509 0.435]\n",
      "[101] name:[features.5.1.norm2.bias] shape:[(384,)].\n",
      "    val:[-0.137 -0.157  0.048 -0.058 -0.071]\n",
      "[102] name:[features.5.1.mlp.0.weight] shape:[(1536, 384)].\n",
      "    val:[-0.036  0.027 -0.01   0.078  0.063]\n",
      "[103] name:[features.5.1.mlp.0.bias] shape:[(1536,)].\n",
      "    val:[-1.014 -0.793 -0.26  -0.956 -0.802]\n",
      "[104] name:[features.5.1.mlp.3.weight] shape:[(384, 1536)].\n",
      "    val:[ 0.048  0.047 -0.022  0.032 -0.004]\n",
      "[105] name:[features.5.1.mlp.3.bias] shape:[(384,)].\n",
      "    val:[ 0.478  0.189  0.108 -0.292  0.258]\n",
      "[106] name:[features.5.2.norm1.weight] shape:[(384,)].\n",
      "    val:[0.629 0.732 0.332 0.185 0.299]\n",
      "[107] name:[features.5.2.norm1.bias] shape:[(384,)].\n",
      "    val:[-0.214 -0.104  0.033 -0.054 -0.097]\n",
      "[108] name:[features.5.2.attn.logit_scale] shape:[(12, 1, 1)].\n",
      "    val:[1.399 1.821 0.817 1.027 1.757]\n",
      "[109] name:[features.5.2.attn.qkv.weight] shape:[(1152, 384)].\n",
      "    val:[0.067 0.027 0.092 0.048 0.004]\n",
      "[110] name:[features.5.2.attn.qkv.bias] shape:[(1152,)].\n",
      "    val:[ 0.388 -0.116 -0.252  0.118  0.016]\n",
      "[111] name:[features.5.2.attn.proj.weight] shape:[(384, 384)].\n",
      "    val:[ 0.035  0.049 -0.021 -0.074 -0.073]\n",
      "[112] name:[features.5.2.attn.proj.bias] shape:[(384,)].\n",
      "    val:[ 0.612  0.21  -0.332  0.068  0.175]\n",
      "[113] name:[features.5.2.attn.cpb_mlp.0.weight] shape:[(512, 2)].\n",
      "    val:[ 0.035  0.275  0.256  0.159 -0.216]\n",
      "[114] name:[features.5.2.attn.cpb_mlp.0.bias] shape:[(512,)].\n",
      "    val:[ 0.003 -0.091 -0.021  0.004 -0.008]\n",
      "[115] name:[features.5.2.attn.cpb_mlp.2.weight] shape:[(12, 512)].\n",
      "    val:[ 1.742e-01 -5.269e-03  4.585e-02  1.957e-01  3.684e-05]\n",
      "[116] name:[features.5.2.norm2.weight] shape:[(384,)].\n",
      "    val:[0.547 0.526 0.606 0.518 0.436]\n",
      "[117] name:[features.5.2.norm2.bias] shape:[(384,)].\n",
      "    val:[-0.137 -0.217  0.13  -0.026 -0.036]\n",
      "[118] name:[features.5.2.mlp.0.weight] shape:[(1536, 384)].\n",
      "    val:[-0.077  0.037  0.051  0.032 -0.078]\n",
      "[119] name:[features.5.2.mlp.0.bias] shape:[(1536,)].\n",
      "    val:[-1.065 -0.786  0.192 -0.824 -0.935]\n",
      "[120] name:[features.5.2.mlp.3.weight] shape:[(384, 1536)].\n",
      "    val:[ 0.017 -0.04  -0.098 -0.017 -0.01 ]\n",
      "[121] name:[features.5.2.mlp.3.bias] shape:[(384,)].\n",
      "    val:[-0.156  0.113 -0.047 -0.375  0.106]\n",
      "[122] name:[features.5.3.norm1.weight] shape:[(384,)].\n",
      "    val:[0.473 0.565 0.28  0.16  0.242]\n",
      "[123] name:[features.5.3.norm1.bias] shape:[(384,)].\n",
      "    val:[-0.1    0.187  0.249  0.027 -0.019]\n",
      "[124] name:[features.5.3.attn.logit_scale] shape:[(12, 1, 1)].\n",
      "    val:[0.797 1.806 1.162 1.468 1.427]\n",
      "[125] name:[features.5.3.attn.qkv.weight] shape:[(1152, 384)].\n",
      "    val:[ 0.008 -0.022 -0.031 -0.033  0.057]\n",
      "[126] name:[features.5.3.attn.qkv.bias] shape:[(1152,)].\n",
      "    val:[-0.124 -0.673 -0.165  1.628 -0.558]\n",
      "[127] name:[features.5.3.attn.proj.weight] shape:[(384, 384)].\n",
      "    val:[ 0.078  0.066  0.007 -0.015 -0.016]\n",
      "[128] name:[features.5.3.attn.proj.bias] shape:[(384,)].\n",
      "    val:[ 0.047 -0.023 -1.047 -0.174 -0.137]\n",
      "[129] name:[features.5.3.attn.cpb_mlp.0.weight] shape:[(512, 2)].\n",
      "    val:[ 2.470e-06 -6.832e-07 -5.828e-03  2.436e-01  4.024e-06]\n",
      "[130] name:[features.5.3.attn.cpb_mlp.0.bias] shape:[(512,)].\n",
      "    val:[-0.022 -0.089 -0.027 -0.078 -0.11 ]\n",
      "[131] name:[features.5.3.attn.cpb_mlp.2.weight] shape:[(12, 512)].\n",
      "    val:[-4.020e-06  5.675e-02 -5.694e-06 -2.951e-02 -1.753e-01]\n",
      "[132] name:[features.5.3.norm2.weight] shape:[(384,)].\n",
      "    val:[0.573 0.509 0.73  0.631 0.564]\n",
      "[133] name:[features.5.3.norm2.bias] shape:[(384,)].\n",
      "    val:[-0.156 -0.178  0.172  0.056 -0.031]\n",
      "[134] name:[features.5.3.mlp.0.weight] shape:[(1536, 384)].\n",
      "    val:[ 0.138  0.066 -0.038  0.026  0.039]\n",
      "[135] name:[features.5.3.mlp.0.bias] shape:[(1536,)].\n",
      "    val:[-1.182 -0.789  1.955 -0.989 -0.823]\n",
      "[136] name:[features.5.3.mlp.3.weight] shape:[(384, 1536)].\n",
      "    val:[ 0.043  0.015 -0.02   0.018  0.037]\n",
      "[137] name:[features.5.3.mlp.3.bias] shape:[(384,)].\n",
      "    val:[ 0.396 -0.003 -0.113 -0.344  0.022]\n",
      "[138] name:[features.5.4.norm1.weight] shape:[(384,)].\n",
      "    val:[0.745 0.777 0.368 0.202 0.365]\n",
      "[139] name:[features.5.4.norm1.bias] shape:[(384,)].\n",
      "    val:[-0.185  0.087  0.167 -0.01  -0.132]\n",
      "[140] name:[features.5.4.attn.logit_scale] shape:[(12, 1, 1)].\n",
      "    val:[1.521 2.11  1.541 1.513 1.221]\n",
      "[141] name:[features.5.4.attn.qkv.weight] shape:[(1152, 384)].\n",
      "    val:[ 0.102  0.013 -0.071  0.015  0.026]\n",
      "[142] name:[features.5.4.attn.qkv.bias] shape:[(1152,)].\n",
      "    val:[-0.134 -0.132  0.233 -0.217  0.278]\n",
      "[143] name:[features.5.4.attn.proj.weight] shape:[(384, 384)].\n",
      "    val:[ 0.02  -0.049 -0.025 -0.047 -0.016]\n",
      "[144] name:[features.5.4.attn.proj.bias] shape:[(384,)].\n",
      "    val:[ 0.201  0.054 -0.529  0.056  0.264]\n",
      "[145] name:[features.5.4.attn.cpb_mlp.0.weight] shape:[(512, 2)].\n",
      "    val:[ 2.391e-01  1.371e-01  5.310e-03  3.321e-03 -3.161e-06]\n",
      "[146] name:[features.5.4.attn.cpb_mlp.0.bias] shape:[(512,)].\n",
      "    val:[-0.044  1.004 -0.01  -0.003  0.025]\n",
      "[147] name:[features.5.4.attn.cpb_mlp.2.weight] shape:[(12, 512)].\n",
      "    val:[-1.023e-02 -1.704e-01 -1.445e-05  1.116e-06 -8.749e-02]\n",
      "[148] name:[features.5.4.norm2.weight] shape:[(384,)].\n",
      "    val:[0.636 0.557 0.761 0.622 0.551]\n",
      "[149] name:[features.5.4.norm2.bias] shape:[(384,)].\n",
      "    val:[-0.133 -0.086  0.182  0.047 -0.003]\n",
      "[150] name:[features.5.4.mlp.0.weight] shape:[(1536, 384)].\n",
      "    val:[-0.012  0.015 -0.063  0.037  0.045]\n",
      "[151] name:[features.5.4.mlp.0.bias] shape:[(1536,)].\n",
      "    val:[-0.912 -0.797 -0.544 -1.031 -0.628]\n",
      "[152] name:[features.5.4.mlp.3.weight] shape:[(384, 1536)].\n",
      "    val:[ 0.045 -0.062  0.022 -0.04   0.092]\n",
      "[153] name:[features.5.4.mlp.3.bias] shape:[(384,)].\n",
      "    val:[ 0.341 -0.093 -0.208 -0.266  0.253]\n",
      "[154] name:[features.5.5.norm1.weight] shape:[(384,)].\n",
      "    val:[0.488 0.635 0.387 0.307 0.357]\n",
      "[155] name:[features.5.5.norm1.bias] shape:[(384,)].\n",
      "    val:[-0.124  0.084  0.252 -0.007 -0.09 ]\n",
      "[156] name:[features.5.5.attn.logit_scale] shape:[(12, 1, 1)].\n",
      "    val:[1.986 1.511 2.057 1.037 1.594]\n",
      "[157] name:[features.5.5.attn.qkv.weight] shape:[(1152, 384)].\n",
      "    val:[-0.091 -0.033  0.01   0.01   0.047]\n",
      "[158] name:[features.5.5.attn.qkv.bias] shape:[(1152,)].\n",
      "    val:[ 0.031  0.046 -0.152  0.384  0.108]\n",
      "[159] name:[features.5.5.attn.proj.weight] shape:[(384, 384)].\n",
      "    val:[-0.03   0.03  -0.003 -0.068  0.068]\n",
      "[160] name:[features.5.5.attn.proj.bias] shape:[(384,)].\n",
      "    val:[-0.137  0.198 -0.812 -0.107  0.057]\n",
      "[161] name:[features.5.5.attn.cpb_mlp.0.weight] shape:[(512, 2)].\n",
      "    val:[-8.026e-05  5.841e-05  5.415e-06 -2.359e-06  1.242e-04]\n",
      "[162] name:[features.5.5.attn.cpb_mlp.0.bias] shape:[(512,)].\n",
      "    val:[-0.014 -0.028 -0.097 -0.099 -0.09 ]\n",
      "[163] name:[features.5.5.attn.cpb_mlp.2.weight] shape:[(12, 512)].\n",
      "    val:[-2.072e-04 -6.152e-06  8.723e-05  3.868e-05  1.332e-01]\n",
      "[164] name:[features.5.5.norm2.weight] shape:[(384,)].\n",
      "    val:[0.57  0.608 0.744 0.53  0.517]\n",
      "[165] name:[features.5.5.norm2.bias] shape:[(384,)].\n",
      "    val:[-0.135 -0.006  0.268  0.058 -0.103]\n",
      "[166] name:[features.5.5.mlp.0.weight] shape:[(1536, 384)].\n",
      "    val:[-0.038  0.041  0.04  -0.053 -0.043]\n",
      "[167] name:[features.5.5.mlp.0.bias] shape:[(1536,)].\n",
      "    val:[-0.741 -0.903 -0.646 -0.799 -0.711]\n",
      "[168] name:[features.5.5.mlp.3.weight] shape:[(384, 1536)].\n",
      "    val:[ 0.011 -0.006 -0.018  0.056 -0.068]\n",
      "[169] name:[features.5.5.mlp.3.bias] shape:[(384,)].\n",
      "    val:[ 0.345 -0.193 -0.479 -0.163  0.454]\n",
      "[170] name:[features.5.6.norm1.weight] shape:[(384,)].\n",
      "    val:[0.993 0.981 0.582 0.252 0.516]\n",
      "[171] name:[features.5.6.norm1.bias] shape:[(384,)].\n",
      "    val:[-0.289  0.081  0.233  0.023 -0.116]\n",
      "[172] name:[features.5.6.attn.logit_scale] shape:[(12, 1, 1)].\n",
      "    val:[1.168 2.003 2.026 1.647 1.46 ]\n",
      "[173] name:[features.5.6.attn.qkv.weight] shape:[(1152, 384)].\n",
      "    val:[ 0.091  0.018 -0.017 -0.025  0.044]\n",
      "[174] name:[features.5.6.attn.qkv.bias] shape:[(1152,)].\n",
      "    val:[0.09  0.206 0.261 1.767 1.118]\n",
      "[175] name:[features.5.6.attn.proj.weight] shape:[(384, 384)].\n",
      "    val:[ 0.034 -0.021  0.092  0.014  0.07 ]\n",
      "[176] name:[features.5.6.attn.proj.bias] shape:[(384,)].\n",
      "    val:[ 0.174  0.276 -0.559 -0.02   0.351]\n",
      "[177] name:[features.5.6.attn.cpb_mlp.0.weight] shape:[(512, 2)].\n",
      "    val:[ 9.721e-08 -2.441e-06 -1.042e-01 -2.790e-01 -1.323e-06]\n",
      "[178] name:[features.5.6.attn.cpb_mlp.0.bias] shape:[(512,)].\n",
      "    val:[-1.870e-02 -1.960e-05 -1.320e-02 -2.184e-02 -1.156e-02]\n",
      "[179] name:[features.5.6.attn.cpb_mlp.2.weight] shape:[(12, 512)].\n",
      "    val:[-7.850e-06 -6.655e-03  2.252e-06  2.969e-06  1.488e-06]\n",
      "[180] name:[features.5.6.norm2.weight] shape:[(384,)].\n",
      "    val:[0.706 0.634 0.789 0.535 0.62 ]\n",
      "[181] name:[features.5.6.norm2.bias] shape:[(384,)].\n",
      "    val:[-0.24  -0.045  0.3    0.024  0.029]\n",
      "[182] name:[features.5.6.mlp.0.weight] shape:[(1536, 384)].\n",
      "    val:[ 0.059  0.01  -0.088  0.135 -0.051]\n",
      "[183] name:[features.5.6.mlp.0.bias] shape:[(1536,)].\n",
      "    val:[-0.819 -0.435 -0.785 -0.825 -0.847]\n",
      "[184] name:[features.5.6.mlp.3.weight] shape:[(384, 1536)].\n",
      "    val:[-0.006  0.053 -0.068  0.041  0.068]\n",
      "[185] name:[features.5.6.mlp.3.bias] shape:[(384,)].\n",
      "    val:[ 0.664 -0.108 -0.404  0.013  0.291]\n",
      "[186] name:[features.5.7.norm1.weight] shape:[(384,)].\n",
      "    val:[0.681 0.855 0.403 0.254 0.411]\n",
      "[187] name:[features.5.7.norm1.bias] shape:[(384,)].\n",
      "    val:[-0.141  0.138  0.16   0.027 -0.1  ]\n",
      "[188] name:[features.5.7.attn.logit_scale] shape:[(12, 1, 1)].\n",
      "    val:[2.334 1.675 1.742 1.773 1.964]\n",
      "[189] name:[features.5.7.attn.qkv.weight] shape:[(1152, 384)].\n",
      "    val:[-0.004  0.035  0.046 -0.003  0.02 ]\n",
      "[190] name:[features.5.7.attn.qkv.bias] shape:[(1152,)].\n",
      "    val:[ 0.078  0.331  0.231 -0.174 -0.154]\n",
      "[191] name:[features.5.7.attn.proj.weight] shape:[(384, 384)].\n",
      "    val:[ 0.004 -0.038 -0.025 -0.008  0.047]\n",
      "[192] name:[features.5.7.attn.proj.bias] shape:[(384,)].\n",
      "    val:[-0.149 -0.108 -0.757 -0.105  0.267]\n",
      "[193] name:[features.5.7.attn.cpb_mlp.0.weight] shape:[(512, 2)].\n",
      "    val:[ 0.087  0.153 -0.136 -0.053 -0.177]\n",
      "[194] name:[features.5.7.attn.cpb_mlp.0.bias] shape:[(512,)].\n",
      "    val:[-0.086 -0.051 -0.044 -0.052 -0.048]\n",
      "[195] name:[features.5.7.attn.cpb_mlp.2.weight] shape:[(12, 512)].\n",
      "    val:[-0.207 -0.047  0.157 -0.046 -0.042]\n",
      "[196] name:[features.5.7.norm2.weight] shape:[(384,)].\n",
      "    val:[0.939 0.824 1.005 0.613 0.762]\n",
      "[197] name:[features.5.7.norm2.bias] shape:[(384,)].\n",
      "    val:[ 0.035 -0.011  0.359  0.043 -0.068]\n",
      "[198] name:[features.5.7.mlp.0.weight] shape:[(1536, 384)].\n",
      "    val:[-0.032 -0.014  0.014  0.011 -0.025]\n",
      "[199] name:[features.5.7.mlp.0.bias] shape:[(1536,)].\n",
      "    val:[-0.986 -0.991 -1.071 -0.715 -1.119]\n",
      "[200] name:[features.5.7.mlp.3.weight] shape:[(384, 1536)].\n",
      "    val:[ 0.039 -0.026 -0.063  0.032 -0.088]\n",
      "[201] name:[features.5.7.mlp.3.bias] shape:[(384,)].\n",
      "    val:[ 0.325 -0.085 -0.509 -0.001  0.587]\n",
      "[202] name:[features.5.8.norm1.weight] shape:[(384,)].\n",
      "    val:[1.027 0.854 0.596 0.271 0.54 ]\n",
      "[203] name:[features.5.8.norm1.bias] shape:[(384,)].\n",
      "    val:[-0.203  0.066  0.165  0.001  0.009]\n",
      "[204] name:[features.5.8.attn.logit_scale] shape:[(12, 1, 1)].\n",
      "    val:[1.991 1.517 2.083 1.678 1.815]\n",
      "[205] name:[features.5.8.attn.qkv.weight] shape:[(1152, 384)].\n",
      "    val:[ 0.037  0.105  0.015 -0.007 -0.006]\n",
      "[206] name:[features.5.8.attn.qkv.bias] shape:[(1152,)].\n",
      "    val:[-0.409  0.032 -0.379 -0.024 -0.253]\n",
      "[207] name:[features.5.8.attn.proj.weight] shape:[(384, 384)].\n",
      "    val:[ 0.077 -0.025  0.069 -0.165 -0.012]\n",
      "[208] name:[features.5.8.attn.proj.bias] shape:[(384,)].\n",
      "    val:[-0.142  0.236 -0.588  0.037  0.202]\n",
      "[209] name:[features.5.8.attn.cpb_mlp.0.weight] shape:[(512, 2)].\n",
      "    val:[ 1.167e-05  1.080e-05 -5.232e-02  1.556e-01  1.251e-01]\n",
      "[210] name:[features.5.8.attn.cpb_mlp.0.bias] shape:[(512,)].\n",
      "    val:[-0.13  -0.064 -0.05  -0.048 -0.113]\n",
      "[211] name:[features.5.8.attn.cpb_mlp.2.weight] shape:[(12, 512)].\n",
      "    val:[-1.448e-05 -5.539e-02 -1.246e-01 -1.177e-01 -8.434e-06]\n",
      "[212] name:[features.5.8.norm2.weight] shape:[(384,)].\n",
      "    val:[0.969 0.78  1.009 0.593 0.849]\n",
      "[213] name:[features.5.8.norm2.bias] shape:[(384,)].\n",
      "    val:[-0.215  0.025  0.315  0.071 -0.003]\n",
      "[214] name:[features.5.8.mlp.0.weight] shape:[(1536, 384)].\n",
      "    val:[-0.013  0.003 -0.06   0.02  -0.022]\n",
      "[215] name:[features.5.8.mlp.0.bias] shape:[(1536,)].\n",
      "    val:[-0.775 -0.81  -0.941 -0.681 -0.686]\n",
      "[216] name:[features.5.8.mlp.3.weight] shape:[(384, 1536)].\n",
      "    val:[-0.075  0.004 -0.021 -0.052 -0.034]\n",
      "[217] name:[features.5.8.mlp.3.bias] shape:[(384,)].\n",
      "    val:[ 0.858 -0.12  -0.483 -0.013  0.454]\n",
      "[218] name:[features.5.9.norm1.weight] shape:[(384,)].\n",
      "    val:[0.743 0.725 0.466 0.206 0.552]\n",
      "[219] name:[features.5.9.norm1.bias] shape:[(384,)].\n",
      "    val:[-0.175  0.097  0.218  0.025  0.003]\n",
      "[220] name:[features.5.9.attn.logit_scale] shape:[(12, 1, 1)].\n",
      "    val:[2.2   1.753 1.804 1.642 2.282]\n",
      "[221] name:[features.5.9.attn.qkv.weight] shape:[(1152, 384)].\n",
      "    val:[-0.03  -0.06   0.031  0.058  0.043]\n",
      "[222] name:[features.5.9.attn.qkv.bias] shape:[(1152,)].\n",
      "    val:[ 0.159 -0.125  0.535  0.11  -0.193]\n",
      "[223] name:[features.5.9.attn.proj.weight] shape:[(384, 384)].\n",
      "    val:[ 0.011 -0.021 -0.001  0.013 -0.049]\n",
      "[224] name:[features.5.9.attn.proj.bias] shape:[(384,)].\n",
      "    val:[-0.234 -0.007 -0.707 -0.186  0.063]\n",
      "[225] name:[features.5.9.attn.cpb_mlp.0.weight] shape:[(512, 2)].\n",
      "    val:[ 0.12  -0.002  0.132 -0.006  0.002]\n",
      "[226] name:[features.5.9.attn.cpb_mlp.0.bias] shape:[(512,)].\n",
      "    val:[-4.471e-02 -5.056e-02 -5.780e-02 -4.264e-04  7.419e-01]\n",
      "[227] name:[features.5.9.attn.cpb_mlp.2.weight] shape:[(12, 512)].\n",
      "    val:[-0.071 -0.075 -0.09   0.024 -0.01 ]\n",
      "[228] name:[features.5.9.norm2.weight] shape:[(384,)].\n",
      "    val:[0.956 0.958 1.175 0.707 0.924]\n",
      "[229] name:[features.5.9.norm2.bias] shape:[(384,)].\n",
      "    val:[-0.245 -0.051  0.281  0.085 -0.021]\n",
      "[230] name:[features.5.9.mlp.0.weight] shape:[(1536, 384)].\n",
      "    val:[ 0.115  0.068 -0.026  0.038  0.022]\n",
      "[231] name:[features.5.9.mlp.0.bias] shape:[(1536,)].\n",
      "    val:[-0.915 -0.946 -0.656 -0.701 -0.956]\n",
      "[232] name:[features.5.9.mlp.3.weight] shape:[(384, 1536)].\n",
      "    val:[-0.068 -0.119 -0.067  0.033 -0.042]\n",
      "[233] name:[features.5.9.mlp.3.bias] shape:[(384,)].\n",
      "    val:[ 0.829 -0.001 -0.554  0.077  0.384]\n",
      "[234] name:[features.5.10.norm1.weight] shape:[(384,)].\n",
      "    val:[1.451 0.951 0.709 0.297 0.736]\n",
      "[235] name:[features.5.10.norm1.bias] shape:[(384,)].\n",
      "    val:[-0.365  0.112  0.278  0.035  0.003]\n",
      "[236] name:[features.5.10.attn.logit_scale] shape:[(12, 1, 1)].\n",
      "    val:[1.867 1.969 1.575 1.656 1.996]\n",
      "[237] name:[features.5.10.attn.qkv.weight] shape:[(1152, 384)].\n",
      "    val:[ 0.024  0.004  0.057 -0.017  0.024]\n",
      "[238] name:[features.5.10.attn.qkv.bias] shape:[(1152,)].\n",
      "    val:[-0.048 -0.099 -0.054 -0.129  0.681]\n",
      "[239] name:[features.5.10.attn.proj.weight] shape:[(384, 384)].\n",
      "    val:[-0.057 -0.006 -0.031 -0.018 -0.011]\n",
      "[240] name:[features.5.10.attn.proj.bias] shape:[(384,)].\n",
      "    val:[-0.147  0.348 -0.391 -0.281  0.073]\n",
      "[241] name:[features.5.10.attn.cpb_mlp.0.weight] shape:[(512, 2)].\n",
      "    val:[ 9.441e-06  2.239e-06 -2.342e-06 -1.163e-07 -1.363e-01]\n",
      "[242] name:[features.5.10.attn.cpb_mlp.0.bias] shape:[(512,)].\n",
      "    val:[-0.034 -0.01  -0.05   1.139  1.068]\n",
      "[243] name:[features.5.10.attn.cpb_mlp.2.weight] shape:[(12, 512)].\n",
      "    val:[-2.531e-05 -7.096e-06 -1.986e-02  1.862e-03  1.274e-03]\n",
      "[244] name:[features.5.10.norm2.weight] shape:[(384,)].\n",
      "    val:[1.268 0.946 1.299 0.622 1.014]\n",
      "[245] name:[features.5.10.norm2.bias] shape:[(384,)].\n",
      "    val:[-0.18   0.037  0.538  0.092 -0.171]\n",
      "[246] name:[features.5.10.mlp.0.weight] shape:[(1536, 384)].\n",
      "    val:[ 0.017 -0.043 -0.052  0.088  0.026]\n",
      "[247] name:[features.5.10.mlp.0.bias] shape:[(1536,)].\n",
      "    val:[-0.86  -0.858 -0.791 -0.886 -0.791]\n",
      "[248] name:[features.5.10.mlp.3.weight] shape:[(384, 1536)].\n",
      "    val:[ 0.051 -0.048  0.01   0.014  0.083]\n",
      "[249] name:[features.5.10.mlp.3.bias] shape:[(384,)].\n",
      "    val:[ 0.512 -0.02  -0.858  0.145  0.55 ]\n",
      "[250] name:[features.5.11.norm1.weight] shape:[(384,)].\n",
      "    val:[0.995 0.805 0.584 0.214 0.563]\n",
      "[251] name:[features.5.11.norm1.bias] shape:[(384,)].\n",
      "    val:[-0.173  0.128  0.298  0.004 -0.008]\n",
      "[252] name:[features.5.11.attn.logit_scale] shape:[(12, 1, 1)].\n",
      "    val:[1.675 1.323 1.994 1.609 1.91 ]\n",
      "[253] name:[features.5.11.attn.qkv.weight] shape:[(1152, 384)].\n",
      "    val:[ 0.048  0.032 -0.067 -0.009  0.077]\n",
      "[254] name:[features.5.11.attn.qkv.bias] shape:[(1152,)].\n",
      "    val:[-1.285 -0.334  0.875  0.033  0.586]\n",
      "[255] name:[features.5.11.attn.proj.weight] shape:[(384, 384)].\n",
      "    val:[-0.017  0.042  0.02   0.021  0.002]\n",
      "[256] name:[features.5.11.attn.proj.bias] shape:[(384,)].\n",
      "    val:[ 0.048 -0.13  -0.497 -0.192  0.303]\n",
      "[257] name:[features.5.11.attn.cpb_mlp.0.weight] shape:[(512, 2)].\n",
      "    val:[-6.363e-06 -4.361e-07  4.304e-03  1.689e-01  1.021e-01]\n",
      "[258] name:[features.5.11.attn.cpb_mlp.0.bias] shape:[(512,)].\n",
      "    val:[-0.051 -0.097 -0.036 -0.053 -0.003]\n",
      "[259] name:[features.5.11.attn.cpb_mlp.2.weight] shape:[(12, 512)].\n",
      "    val:[ 4.090e-06  1.208e-01  3.113e-03  1.714e-02 -1.147e-06]\n",
      "[260] name:[features.5.11.norm2.weight] shape:[(384,)].\n",
      "    val:[1.353 1.    1.198 0.775 1.182]\n",
      "[261] name:[features.5.11.norm2.bias] shape:[(384,)].\n",
      "    val:[-0.137 -0.031  0.501  0.151 -0.065]\n",
      "[262] name:[features.5.11.mlp.0.weight] shape:[(1536, 384)].\n",
      "    val:[ 0.045  0.036 -0.044 -0.01   0.038]\n",
      "[263] name:[features.5.11.mlp.0.bias] shape:[(1536,)].\n",
      "    val:[-0.822 -0.901 -0.737  0.04  -0.889]\n",
      "[264] name:[features.5.11.mlp.3.weight] shape:[(384, 1536)].\n",
      "    val:[-0.149 -0.048  0.008 -0.064 -0.049]\n",
      "[265] name:[features.5.11.mlp.3.bias] shape:[(384,)].\n",
      "    val:[ 0.632 -0.039 -0.926  0.11   0.298]\n",
      "[266] name:[features.5.12.norm1.weight] shape:[(384,)].\n",
      "    val:[1.338 0.794 0.603 0.263 0.697]\n",
      "[267] name:[features.5.12.norm1.bias] shape:[(384,)].\n",
      "    val:[-0.29   0.123  0.285 -0.034  0.013]\n",
      "[268] name:[features.5.12.attn.logit_scale] shape:[(12, 1, 1)].\n",
      "    val:[1.761 1.684 1.665 1.703 1.833]\n",
      "[269] name:[features.5.12.attn.qkv.weight] shape:[(1152, 384)].\n",
      "    val:[ 0.011  0.021  0.064 -0.102 -0.021]\n",
      "[270] name:[features.5.12.attn.qkv.bias] shape:[(1152,)].\n",
      "    val:[ 0.074  0.695 -0.387 -0.181 -0.024]\n",
      "[271] name:[features.5.12.attn.proj.weight] shape:[(384, 384)].\n",
      "    val:[ 0.051 -0.043  0.013  0.012 -0.002]\n",
      "[272] name:[features.5.12.attn.proj.bias] shape:[(384,)].\n",
      "    val:[-0.046  0.241 -0.394  0.011  0.144]\n",
      "[273] name:[features.5.12.attn.cpb_mlp.0.weight] shape:[(512, 2)].\n",
      "    val:[-8.707e-06  9.879e-07  1.236e-01 -3.906e-02 -8.338e-07]\n",
      "[274] name:[features.5.12.attn.cpb_mlp.0.bias] shape:[(512,)].\n",
      "    val:[-0.035 -0.07  -0.126 -0.085 -0.016]\n",
      "[275] name:[features.5.12.attn.cpb_mlp.2.weight] shape:[(12, 512)].\n",
      "    val:[-1.419e-05 -4.350e-02 -1.956e-05 -2.163e-05 -2.023e-06]\n",
      "[276] name:[features.5.12.norm2.weight] shape:[(384,)].\n",
      "    val:[1.504 1.068 1.242 0.815 1.248]\n",
      "[277] name:[features.5.12.norm2.bias] shape:[(384,)].\n",
      "    val:[-0.151  0.09   0.666  0.137 -0.03 ]\n",
      "[278] name:[features.5.12.mlp.0.weight] shape:[(1536, 384)].\n",
      "    val:[0.045 0.056 0.036 0.026 0.029]\n",
      "[279] name:[features.5.12.mlp.0.bias] shape:[(1536,)].\n",
      "    val:[-0.857 -0.734 -0.635 -0.848 -0.657]\n",
      "[280] name:[features.5.12.mlp.3.weight] shape:[(384, 1536)].\n",
      "    val:[ 0.06  -0.037 -0.054 -0.044  0.015]\n",
      "[281] name:[features.5.12.mlp.3.bias] shape:[(384,)].\n",
      "    val:[ 0.513 -0.297 -1.122  0.164  0.155]\n",
      "[282] name:[features.5.13.norm1.weight] shape:[(384,)].\n",
      "    val:[1.22  0.822 0.697 0.191 0.658]\n",
      "[283] name:[features.5.13.norm1.bias] shape:[(384,)].\n",
      "    val:[-0.234  0.035  0.118  0.018  0.087]\n",
      "[284] name:[features.5.13.attn.logit_scale] shape:[(12, 1, 1)].\n",
      "    val:[1.855 2.04  1.301 1.303 1.975]\n",
      "[285] name:[features.5.13.attn.qkv.weight] shape:[(1152, 384)].\n",
      "    val:[-0.003 -0.13  -0.024  0.025  0.062]\n",
      "[286] name:[features.5.13.attn.qkv.bias] shape:[(1152,)].\n",
      "    val:[-0.006 -0.212  0.477 -0.508  0.518]\n",
      "[287] name:[features.5.13.attn.proj.weight] shape:[(384, 384)].\n",
      "    val:[-0.028  0.015 -0.013 -0.018 -0.082]\n",
      "[288] name:[features.5.13.attn.proj.bias] shape:[(384,)].\n",
      "    val:[-0.263  0.024 -0.242 -0.21   0.135]\n",
      "[289] name:[features.5.13.attn.cpb_mlp.0.weight] shape:[(512, 2)].\n",
      "    val:[ 0.004  0.175 -0.005  0.166 -0.001]\n",
      "[290] name:[features.5.13.attn.cpb_mlp.0.bias] shape:[(512,)].\n",
      "    val:[-0.064 -0.06  -0.046 -0.032 -0.05 ]\n",
      "[291] name:[features.5.13.attn.cpb_mlp.2.weight] shape:[(12, 512)].\n",
      "    val:[-4.099e-02 -3.786e-02 -6.925e-04 -4.611e-04 -3.214e-07]\n",
      "[292] name:[features.5.13.norm2.weight] shape:[(384,)].\n",
      "    val:[1.579 1.155 1.384 0.673 1.267]\n",
      "[293] name:[features.5.13.norm2.bias] shape:[(384,)].\n",
      "    val:[-0.125  0.044  0.57   0.105  0.005]\n",
      "[294] name:[features.5.13.mlp.0.weight] shape:[(1536, 384)].\n",
      "    val:[-0.051 -0.033  0.005  0.014 -0.07 ]\n",
      "[295] name:[features.5.13.mlp.0.bias] shape:[(1536,)].\n",
      "    val:[-0.971 -0.864 -0.532 -0.704 -0.895]\n",
      "[296] name:[features.5.13.mlp.3.weight] shape:[(384, 1536)].\n",
      "    val:[ 0.014 -0.021 -0.025  0.062 -0.087]\n",
      "[297] name:[features.5.13.mlp.3.bias] shape:[(384,)].\n",
      "    val:[ 0.228 -0.057 -0.911  0.286 -0.094]\n",
      "[298] name:[features.5.14.norm1.weight] shape:[(384,)].\n",
      "    val:[1.558 0.866 0.703 0.368 0.874]\n",
      "[299] name:[features.5.14.norm1.bias] shape:[(384,)].\n",
      "    val:[-0.292  0.069  0.211 -0.053  0.043]\n",
      "[300] name:[features.5.14.attn.logit_scale] shape:[(12, 1, 1)].\n",
      "    val:[1.433 1.857 1.664 1.47  1.845]\n",
      "[301] name:[features.5.14.attn.qkv.weight] shape:[(1152, 384)].\n",
      "    val:[-0.055  0.033 -0.023 -0.03  -0.087]\n",
      "[302] name:[features.5.14.attn.qkv.bias] shape:[(1152,)].\n",
      "    val:[ 0.337  0.031 -0.074 -0.108 -1.176]\n",
      "[303] name:[features.5.14.attn.proj.weight] shape:[(384, 384)].\n",
      "    val:[-0.096 -0.004 -0.003  0.014 -0.135]\n",
      "[304] name:[features.5.14.attn.proj.bias] shape:[(384,)].\n",
      "    val:[-0.304  0.137 -0.022 -0.245  0.096]\n",
      "[305] name:[features.5.14.attn.cpb_mlp.0.weight] shape:[(512, 2)].\n",
      "    val:[ 1.245e-02  1.952e-01  1.853e-01 -1.069e-02 -4.281e-08]\n",
      "[306] name:[features.5.14.attn.cpb_mlp.0.bias] shape:[(512,)].\n",
      "    val:[-0.068 -0.064 -0.003 -0.07  -0.068]\n",
      "[307] name:[features.5.14.attn.cpb_mlp.2.weight] shape:[(12, 512)].\n",
      "    val:[ 2.389e-01  2.311e-01 -7.641e-08  2.385e-01  2.394e-01]\n",
      "[308] name:[features.5.14.norm2.weight] shape:[(384,)].\n",
      "    val:[1.77  1.382 1.492 0.788 1.411]\n",
      "[309] name:[features.5.14.norm2.bias] shape:[(384,)].\n",
      "    val:[-0.324  0.149  0.571  0.101  0.111]\n",
      "[310] name:[features.5.14.mlp.0.weight] shape:[(1536, 384)].\n",
      "    val:[-0.009 -0.058 -0.011  0.003 -0.015]\n",
      "[311] name:[features.5.14.mlp.0.bias] shape:[(1536,)].\n",
      "    val:[-0.719 -0.728 -0.835 -0.801 -0.621]\n",
      "[312] name:[features.5.14.mlp.3.weight] shape:[(384, 1536)].\n",
      "    val:[-0.167 -0.058 -0.079 -0.038 -0.064]\n",
      "[313] name:[features.5.14.mlp.3.bias] shape:[(384,)].\n",
      "    val:[ 0.452 -0.143 -0.753  0.203 -0.246]\n",
      "[314] name:[features.5.15.norm1.weight] shape:[(384,)].\n",
      "    val:[1.389 0.856 0.788 0.283 0.849]\n",
      "[315] name:[features.5.15.norm1.bias] shape:[(384,)].\n",
      "    val:[-0.229  0.064  0.242 -0.017  0.15 ]\n",
      "[316] name:[features.5.15.attn.logit_scale] shape:[(12, 1, 1)].\n",
      "    val:[1.335 1.996 1.906 1.819 1.917]\n",
      "[317] name:[features.5.15.attn.qkv.weight] shape:[(1152, 384)].\n",
      "    val:[-0.128  0.015  0.009  0.014 -0.012]\n",
      "[318] name:[features.5.15.attn.qkv.bias] shape:[(1152,)].\n",
      "    val:[ 0.426 -0.36  -0.304  0.204  0.827]\n",
      "[319] name:[features.5.15.attn.proj.weight] shape:[(384, 384)].\n",
      "    val:[-0.079 -0.008  0.     0.061  0.099]\n",
      "[320] name:[features.5.15.attn.proj.bias] shape:[(384,)].\n",
      "    val:[-0.4   -0.056 -0.279 -0.296  0.01 ]\n",
      "[321] name:[features.5.15.attn.cpb_mlp.0.weight] shape:[(512, 2)].\n",
      "    val:[-0.006 -0.193 -0.166  0.002 -0.001]\n",
      "[322] name:[features.5.15.attn.cpb_mlp.0.bias] shape:[(512,)].\n",
      "    val:[-6.899e-02 -6.179e-02  5.870e-01  2.390e-05 -7.048e-02]\n",
      "[323] name:[features.5.15.attn.cpb_mlp.2.weight] shape:[(12, 512)].\n",
      "    val:[ 0.024  0.021  0.006 -0.135  0.021]\n",
      "[324] name:[features.5.15.norm2.weight] shape:[(384,)].\n",
      "    val:[1.856 1.338 1.485 0.665 1.225]\n",
      "[325] name:[features.5.15.norm2.bias] shape:[(384,)].\n",
      "    val:[-0.52   0.07   0.826  0.025  0.016]\n",
      "[326] name:[features.5.15.mlp.0.weight] shape:[(1536, 384)].\n",
      "    val:[-0.018 -0.039 -0.029 -0.016 -0.042]\n",
      "[327] name:[features.5.15.mlp.0.bias] shape:[(1536,)].\n",
      "    val:[-0.892 -1.024 -0.837 -0.896 -1.031]\n",
      "[328] name:[features.5.15.mlp.3.weight] shape:[(384, 1536)].\n",
      "    val:[-0.036 -0.016 -0.019  0.069 -0.024]\n",
      "[329] name:[features.5.15.mlp.3.bias] shape:[(384,)].\n",
      "    val:[ 0.556 -0.155 -0.912  0.165 -0.399]\n",
      "[330] name:[features.5.16.norm1.weight] shape:[(384,)].\n",
      "    val:[ 1.574  0.972  1.098 -0.097  1.168]\n",
      "[331] name:[features.5.16.norm1.bias] shape:[(384,)].\n",
      "    val:[-0.397  0.037  0.32  -0.057 -0.052]\n",
      "[332] name:[features.5.16.attn.logit_scale] shape:[(12, 1, 1)].\n",
      "    val:[1.797 1.334 1.071 2.093 1.923]\n",
      "[333] name:[features.5.16.attn.qkv.weight] shape:[(1152, 384)].\n",
      "    val:[-0.05   0.003 -0.134 -0.02   0.02 ]\n",
      "[334] name:[features.5.16.attn.qkv.bias] shape:[(1152,)].\n",
      "    val:[ 0.361  0.226 -1.293  0.079 -0.215]\n",
      "[335] name:[features.5.16.attn.proj.weight] shape:[(384, 384)].\n",
      "    val:[-0.004  0.02   0.019  0.024 -0.012]\n",
      "[336] name:[features.5.16.attn.proj.bias] shape:[(384,)].\n",
      "    val:[ 0.074  0.138  0.004  0.14  -0.017]\n",
      "[337] name:[features.5.16.attn.cpb_mlp.0.weight] shape:[(512, 2)].\n",
      "    val:[ 2.972e-02  2.464e-01  8.973e-05  7.202e-04 -2.222e-01]\n",
      "[338] name:[features.5.16.attn.cpb_mlp.0.bias] shape:[(512,)].\n",
      "    val:[-7.950e-02  6.848e-01  3.233e-05 -9.422e-05 -5.913e-02]\n",
      "[339] name:[features.5.16.attn.cpb_mlp.2.weight] shape:[(12, 512)].\n",
      "    val:[-0.04   0.093 -0.019 -0.009 -0.024]\n",
      "[340] name:[features.5.16.norm2.weight] shape:[(384,)].\n",
      "    val:[1.66  1.297 1.838 0.61  1.198]\n",
      "[341] name:[features.5.16.norm2.bias] shape:[(384,)].\n",
      "    val:[-0.412  0.048  0.663 -0.004 -0.234]\n",
      "[342] name:[features.5.16.mlp.0.weight] shape:[(1536, 384)].\n",
      "    val:[ 0.005 -0.013 -0.03  -0.037  0.003]\n",
      "[343] name:[features.5.16.mlp.0.bias] shape:[(1536,)].\n",
      "    val:[-1.376 -0.928 -0.774 -0.846 -0.764]\n",
      "[344] name:[features.5.16.mlp.3.weight] shape:[(384, 1536)].\n",
      "    val:[ 0.038  0.104 -0.069 -0.119 -0.08 ]\n",
      "[345] name:[features.5.16.mlp.3.bias] shape:[(384,)].\n",
      "    val:[ 0.688 -0.036 -0.567  0.188 -0.325]\n",
      "[346] name:[features.5.17.norm1.weight] shape:[(384,)].\n",
      "    val:[1.385 0.778 0.813 0.37  0.94 ]\n",
      "[347] name:[features.5.17.norm1.bias] shape:[(384,)].\n",
      "    val:[-0.196  0.096  0.38  -0.052 -0.094]\n",
      "[348] name:[features.5.17.attn.logit_scale] shape:[(12, 1, 1)].\n",
      "    val:[1.381 1.309 1.474 0.997 2.335]\n",
      "[349] name:[features.5.17.attn.qkv.weight] shape:[(1152, 384)].\n",
      "    val:[ 0.018  0.007  0.006 -0.067  0.036]\n",
      "[350] name:[features.5.17.attn.qkv.bias] shape:[(1152,)].\n",
      "    val:[ 0.321 -2.094 -1.059  0.008  0.284]\n",
      "[351] name:[features.5.17.attn.proj.weight] shape:[(384, 384)].\n",
      "    val:[ 0.006 -0.111 -0.013 -0.051  0.03 ]\n",
      "[352] name:[features.5.17.attn.proj.bias] shape:[(384,)].\n",
      "    val:[ 0.394 -0.154  0.24  -0.159  0.006]\n",
      "[353] name:[features.5.17.attn.cpb_mlp.0.weight] shape:[(512, 2)].\n",
      "    val:[-0.121  0.001 -0.119  0.001 -0.121]\n",
      "[354] name:[features.5.17.attn.cpb_mlp.0.bias] shape:[(512,)].\n",
      "    val:[-0.069 -0.068 -0.069 -0.05  -0.041]\n",
      "[355] name:[features.5.17.attn.cpb_mlp.2.weight] shape:[(12, 512)].\n",
      "    val:[1.291e-01 1.315e-01 1.278e-01 6.511e-02 3.389e-06]\n",
      "[356] name:[features.5.17.norm2.weight] shape:[(384,)].\n",
      "    val:[1.812 1.228 1.846 0.066 1.322]\n",
      "[357] name:[features.5.17.norm2.bias] shape:[(384,)].\n",
      "    val:[ 0.784 -0.052  0.094 -0.075 -0.7  ]\n",
      "[358] name:[features.5.17.mlp.0.weight] shape:[(1536, 384)].\n",
      "    val:[ 0.044 -0.048  0.057  0.035 -0.034]\n",
      "[359] name:[features.5.17.mlp.0.bias] shape:[(1536,)].\n",
      "    val:[-1.038 -1.064 -0.835 -1.125 -0.894]\n",
      "[360] name:[features.5.17.mlp.3.weight] shape:[(384, 1536)].\n",
      "    val:[ 0.057 -0.007 -0.045  0.034 -0.011]\n",
      "[361] name:[features.5.17.mlp.3.bias] shape:[(384,)].\n",
      "    val:[ 1.076  0.073 -1.024  0.836 -0.38 ]\n",
      "[362] name:[features.6.reduction.weight] shape:[(768, 1536)].\n",
      "    val:[ 0.003 -0.081  0.042 -0.026 -0.06 ]\n",
      "[363] name:[features.6.norm.weight] shape:[(768,)].\n",
      "    val:[0.778 0.454 0.306 0.557 1.033]\n",
      "[364] name:[features.6.norm.bias] shape:[(768,)].\n",
      "    val:[-0.245  0.019 -0.017  0.306  0.473]\n",
      "[365] name:[features.7.0.norm1.weight] shape:[(768,)].\n",
      "    val:[0.117 0.33  0.511 0.39  0.277]\n",
      "[366] name:[features.7.0.norm1.bias] shape:[(768,)].\n",
      "    val:[-0.008  0.042 -0.004  0.076  0.17 ]\n",
      "[367] name:[features.7.0.attn.logit_scale] shape:[(24, 1, 1)].\n",
      "    val:[0.447 2.12  2.126 1.729 1.865]\n",
      "[368] name:[features.7.0.attn.qkv.weight] shape:[(2304, 768)].\n",
      "    val:[ 0.008  0.021 -0.068  0.03   0.026]\n",
      "[369] name:[features.7.0.attn.qkv.bias] shape:[(2304,)].\n",
      "    val:[-0.257  0.134  0.085 -0.182 -0.374]\n",
      "[370] name:[features.7.0.attn.proj.weight] shape:[(768, 768)].\n",
      "    val:[ 0.01  -0.004  0.019 -0.002 -0.05 ]\n",
      "[371] name:[features.7.0.attn.proj.bias] shape:[(768,)].\n",
      "    val:[ 0.239 -0.097 -0.382 -0.143  0.902]\n",
      "[372] name:[features.7.0.attn.cpb_mlp.0.weight] shape:[(512, 2)].\n",
      "    val:[ 7.959e-03  2.504e-01 -6.050e-02 -2.317e-01  8.741e-06]\n",
      "[373] name:[features.7.0.attn.cpb_mlp.0.bias] shape:[(512,)].\n",
      "    val:[ 9.128e-05  1.427e-04 -1.541e-02  1.156e-04  4.864e-05]\n",
      "[374] name:[features.7.0.attn.cpb_mlp.2.weight] shape:[(24, 512)].\n",
      "    val:[2.977e-01 3.106e-01 1.718e-05 3.480e-01 2.543e-01]\n",
      "[375] name:[features.7.0.norm2.weight] shape:[(768,)].\n",
      "    val:[0.389 0.559 0.467 0.504 0.09 ]\n",
      "[376] name:[features.7.0.norm2.bias] shape:[(768,)].\n",
      "    val:[-0.301 -0.045  0.528  0.401 -0.07 ]\n",
      "[377] name:[features.7.0.mlp.0.weight] shape:[(3072, 768)].\n",
      "    val:[-0.049 -0.03  -0.08  -0.043  0.032]\n",
      "[378] name:[features.7.0.mlp.0.bias] shape:[(3072,)].\n",
      "    val:[-1.125 -0.777 -0.914 -0.855 -1.076]\n",
      "[379] name:[features.7.0.mlp.3.weight] shape:[(768, 3072)].\n",
      "    val:[-0.054 -0.038  0.017 -0.002 -0.097]\n",
      "[380] name:[features.7.0.mlp.3.bias] shape:[(768,)].\n",
      "    val:[ 0.43  -0.037 -0.927 -0.882 -0.069]\n",
      "[381] name:[features.7.1.norm1.weight] shape:[(768,)].\n",
      "    val:[0.15  0.253 0.41  0.316 0.186]\n",
      "[382] name:[features.7.1.norm1.bias] shape:[(768,)].\n",
      "    val:[ 0.012  0.024 -0.036  0.005  0.019]\n",
      "[383] name:[features.7.1.attn.logit_scale] shape:[(24, 1, 1)].\n",
      "    val:[1.572 1.928 1.772 1.773 1.994]\n",
      "[384] name:[features.7.1.attn.qkv.weight] shape:[(2304, 768)].\n",
      "    val:[ 0.05  -0.006 -0.031 -0.032  0.069]\n",
      "[385] name:[features.7.1.attn.qkv.bias] shape:[(2304,)].\n",
      "    val:[-0.566  0.055 -1.611  0.211  0.237]\n",
      "[386] name:[features.7.1.attn.proj.weight] shape:[(768, 768)].\n",
      "    val:[-0.032  0.03  -0.039  0.047  0.022]\n",
      "[387] name:[features.7.1.attn.proj.bias] shape:[(768,)].\n",
      "    val:[-0.034 -0.097 -0.131 -0.019  0.388]\n",
      "[388] name:[features.7.1.attn.cpb_mlp.0.weight] shape:[(512, 2)].\n",
      "    val:[-8.758e-06 -4.459e-05 -3.222e-06 -3.172e-06 -2.429e-07]\n",
      "[389] name:[features.7.1.attn.cpb_mlp.0.bias] shape:[(512,)].\n",
      "    val:[-0.016 -0.017 -0.118 -0.075 -0.135]\n",
      "[390] name:[features.7.1.attn.cpb_mlp.2.weight] shape:[(24, 512)].\n",
      "    val:[-1.053e-04 -1.098e-05  2.995e-05 -4.168e-05  2.506e-05]\n",
      "[391] name:[features.7.1.norm2.weight] shape:[(768,)].\n",
      "    val:[0.362 0.528 0.646 0.559 0.305]\n",
      "[392] name:[features.7.1.norm2.bias] shape:[(768,)].\n",
      "    val:[ 0.017  0.045  0.084  0.021 -0.203]\n",
      "[393] name:[features.7.1.mlp.0.weight] shape:[(3072, 768)].\n",
      "    val:[ 0.06   0.018  0.03  -0.127 -0.072]\n",
      "[394] name:[features.7.1.mlp.0.bias] shape:[(3072,)].\n",
      "    val:[-0.909 -0.867 -0.707 -0.848 -0.708]\n",
      "[395] name:[features.7.1.mlp.3.weight] shape:[(768, 3072)].\n",
      "    val:[ 0.017 -0.089  0.032 -0.026  0.023]\n",
      "[396] name:[features.7.1.mlp.3.bias] shape:[(768,)].\n",
      "    val:[-0.007 -0.053 -0.004 -0.081  0.036]\n",
      "[397] name:[norm.weight] shape:[(768,)].\n",
      "    val:[3.067 2.638 1.55  1.844 2.307]\n",
      "[398] name:[norm.bias] shape:[(768,)].\n",
      "    val:[ 0.124 -0.06  -0.006 -0.063 -0.428]\n",
      "[399] name:[head.weight] shape:[(18, 768)].\n",
      "    val:[-0.334  0.443 -0.094  0.815 -0.284]\n",
      "[400] name:[head.bias] shape:[(18,)].\n",
      "    val:[ 0.053  0.031 -0.005  0.065  0.039]\n",
      "Total number of parameters:[48,982,284].\n"
     ]
    }
   ],
   "source": [
    "np.set_printoptions(precision=3)\n",
    "n_param = 0\n",
    "for p_idx, (param_name, param) in enumerate(model.named_parameters()):\n",
    "    if param.requires_grad:\n",
    "        param_numpy = param.detach().cpu().numpy()\n",
    "        n_param += len(param_numpy.reshape(-1))\n",
    "        print (\"[%d] name:[%s] shape:[%s].\"%(p_idx,param_name,param_numpy.shape))\n",
    "        print (\"    val:%s\"%(param_numpy.reshape(-1)[:5]))\n",
    "print (\"Total number of parameters:[%s].\"%(format(n_param,',d')))"
   ]
  },
  {
   "cell_type": "code",
   "execution_count": 19,
   "id": "09de26bb-7d98-4ebe-9410-fcb95a59b80a",
   "metadata": {},
   "outputs": [
    {
     "name": "stdout",
     "output_type": "stream",
     "text": [
      "using cuda:0\n"
     ]
    }
   ],
   "source": [
    "device = torch.device(\"cuda:0\" if torch.cuda.is_available() else \"cpu\")\n",
    "print(f\"using {device}\")\n",
    "\n",
    "model = model.to(device)\n",
    "\n",
    "LEARNING_RATE = 0.001\n",
    "NUM_EPOCH = 200\n",
    "class_num = 18\n",
    "\n",
    "criterion = nn.CrossEntropyLoss()\n",
    "optimizer = torch.optim.AdamW(model.parameters(), lr=LEARNING_RATE)\n",
    "\n",
    "scheduler = torch.optim.lr_scheduler.StepLR(optimizer, step_size=3, gamma=0.97)"
   ]
  },
  {
   "cell_type": "code",
   "execution_count": 20,
   "id": "f63b87ae-d675-49c2-8c8c-0a2939f26e3c",
   "metadata": {},
   "outputs": [
    {
     "data": {
      "application/vnd.jupyter.widget-view+json": {
       "model_id": "a71c579c1fbb416181c47746b738af4e",
       "version_major": 2,
       "version_minor": 0
      },
      "text/plain": [
       "HBox(children=(HTML(value=''), FloatProgress(value=0.0, max=473.0), HTML(value='')))"
      ]
     },
     "metadata": {},
     "output_type": "display_data"
    },
    {
     "name": "stdout",
     "output_type": "stream",
     "text": [
      "\n",
      "epoch[0/200] training loss 2.68546, training accuracy 0.18657\n"
     ]
    },
    {
     "data": {
      "application/vnd.jupyter.widget-view+json": {
       "model_id": "7a14a663e18446aa8b12b92558b89b4a",
       "version_major": 2,
       "version_minor": 0
      },
      "text/plain": [
       "HBox(children=(HTML(value=''), FloatProgress(value=0.0, max=119.0), HTML(value='')))"
      ]
     },
     "metadata": {},
     "output_type": "display_data"
    },
    {
     "name": "stdout",
     "output_type": "stream",
     "text": [
      "\n",
      "[val] acc : 0.22751, loss : 2.47286, f1 score : 0.22222\n",
      "best acc : 0.22751, best loss : 2.47286, best f1 : 0.22222\n"
     ]
    },
    {
     "data": {
      "application/vnd.jupyter.widget-view+json": {
       "model_id": "5c62c1c70b6b4966a4ef7e82a75aecf6",
       "version_major": 2,
       "version_minor": 0
      },
      "text/plain": [
       "HBox(children=(HTML(value=''), FloatProgress(value=0.0, max=473.0), HTML(value='')))"
      ]
     },
     "metadata": {},
     "output_type": "display_data"
    },
    {
     "name": "stdout",
     "output_type": "stream",
     "text": [
      "\n",
      "epoch[1/200] training loss 2.43199, training accuracy 0.20013\n"
     ]
    },
    {
     "data": {
      "application/vnd.jupyter.widget-view+json": {
       "model_id": "29a85762896743448741c50a29b29768",
       "version_major": 2,
       "version_minor": 0
      },
      "text/plain": [
       "HBox(children=(HTML(value=''), FloatProgress(value=0.0, max=119.0), HTML(value='')))"
      ]
     },
     "metadata": {},
     "output_type": "display_data"
    },
    {
     "name": "stdout",
     "output_type": "stream",
     "text": [
      "\n",
      "[val] acc : 0.27328, loss : 2.29444, f1 score : 0.00000\n",
      "best acc : 0.27328, best loss : 2.29444, best f1 : 0.22222\n"
     ]
    },
    {
     "data": {
      "application/vnd.jupyter.widget-view+json": {
       "model_id": "2cdc8b0b94604bef82adc88061c81303",
       "version_major": 2,
       "version_minor": 0
      },
      "text/plain": [
       "HBox(children=(HTML(value=''), FloatProgress(value=0.0, max=473.0), HTML(value='')))"
      ]
     },
     "metadata": {},
     "output_type": "display_data"
    },
    {
     "name": "stdout",
     "output_type": "stream",
     "text": [
      "\n",
      "epoch[2/200] training loss 2.33824, training accuracy 0.23896\n"
     ]
    },
    {
     "data": {
      "application/vnd.jupyter.widget-view+json": {
       "model_id": "b97b53702afd4f0692d8e8bea0f6c7f1",
       "version_major": 2,
       "version_minor": 0
      },
      "text/plain": [
       "HBox(children=(HTML(value=''), FloatProgress(value=0.0, max=119.0), HTML(value='')))"
      ]
     },
     "metadata": {},
     "output_type": "display_data"
    },
    {
     "name": "stdout",
     "output_type": "stream",
     "text": [
      "\n",
      "[val] acc : 0.21190, loss : 2.35987, f1 score : 0.00000\n",
      "best acc : 0.27328, best loss : 2.29444, best f1 : 0.22222\n"
     ]
    },
    {
     "data": {
      "application/vnd.jupyter.widget-view+json": {
       "model_id": "3b5b7dc152784672a1f0a47bb77b16f4",
       "version_major": 2,
       "version_minor": 0
      },
      "text/plain": [
       "HBox(children=(HTML(value=''), FloatProgress(value=0.0, max=473.0), HTML(value='')))"
      ]
     },
     "metadata": {},
     "output_type": "display_data"
    },
    {
     "name": "stdout",
     "output_type": "stream",
     "text": [
      "\n",
      "epoch[3/200] training loss 2.40992, training accuracy 0.19597\n"
     ]
    },
    {
     "data": {
      "application/vnd.jupyter.widget-view+json": {
       "model_id": "882119632612496a95d428ce69d367ae",
       "version_major": 2,
       "version_minor": 0
      },
      "text/plain": [
       "HBox(children=(HTML(value=''), FloatProgress(value=0.0, max=119.0), HTML(value='')))"
      ]
     },
     "metadata": {},
     "output_type": "display_data"
    },
    {
     "name": "stdout",
     "output_type": "stream",
     "text": [
      "\n",
      "[val] acc : 0.22751, loss : 2.36033, f1 score : 0.00000\n",
      "best acc : 0.27328, best loss : 2.29444, best f1 : 0.22222\n"
     ]
    },
    {
     "data": {
      "application/vnd.jupyter.widget-view+json": {
       "model_id": "ef8dc959c29d441aab0a1b3aaee4758c",
       "version_major": 2,
       "version_minor": 0
      },
      "text/plain": [
       "HBox(children=(HTML(value=''), FloatProgress(value=0.0, max=473.0), HTML(value='')))"
      ]
     },
     "metadata": {},
     "output_type": "display_data"
    },
    {
     "name": "stdout",
     "output_type": "stream",
     "text": [
      "\n",
      "epoch[4/200] training loss 2.40715, training accuracy 0.18962\n"
     ]
    },
    {
     "data": {
      "application/vnd.jupyter.widget-view+json": {
       "model_id": "ac36e18ba67e4f5f91c678df755d13ef",
       "version_major": 2,
       "version_minor": 0
      },
      "text/plain": [
       "HBox(children=(HTML(value=''), FloatProgress(value=0.0, max=119.0), HTML(value='')))"
      ]
     },
     "metadata": {},
     "output_type": "display_data"
    },
    {
     "name": "stdout",
     "output_type": "stream",
     "text": [
      "\n",
      "[val] acc : 0.21296, loss : 2.36359, f1 score : 0.00000\n",
      "best acc : 0.27328, best loss : 2.29444, best f1 : 0.22222\n"
     ]
    },
    {
     "data": {
      "application/vnd.jupyter.widget-view+json": {
       "model_id": "df74c536da844f28adaa62d5986249b6",
       "version_major": 2,
       "version_minor": 0
      },
      "text/plain": [
       "HBox(children=(HTML(value=''), FloatProgress(value=0.0, max=473.0), HTML(value='')))"
      ]
     },
     "metadata": {},
     "output_type": "display_data"
    },
    {
     "name": "stdout",
     "output_type": "stream",
     "text": [
      "\n",
      "epoch[5/200] training loss 2.40087, training accuracy 0.19755\n"
     ]
    },
    {
     "data": {
      "application/vnd.jupyter.widget-view+json": {
       "model_id": "2b09f5ec4a6642ae96016fc0fb6ecb6c",
       "version_major": 2,
       "version_minor": 0
      },
      "text/plain": [
       "HBox(children=(HTML(value=''), FloatProgress(value=0.0, max=119.0), HTML(value='')))"
      ]
     },
     "metadata": {},
     "output_type": "display_data"
    },
    {
     "name": "stdout",
     "output_type": "stream",
     "text": [
      "\n",
      "[val] acc : 0.22751, loss : 2.35294, f1 score : 0.13333\n",
      "best acc : 0.27328, best loss : 2.29444, best f1 : 0.22222\n"
     ]
    },
    {
     "data": {
      "application/vnd.jupyter.widget-view+json": {
       "model_id": "6096a1cf1c104e0bb78d0edf24e5ddce",
       "version_major": 2,
       "version_minor": 0
      },
      "text/plain": [
       "HBox(children=(HTML(value=''), FloatProgress(value=0.0, max=473.0), HTML(value='')))"
      ]
     },
     "metadata": {},
     "output_type": "display_data"
    },
    {
     "name": "stdout",
     "output_type": "stream",
     "text": [
      "\n",
      "epoch[6/200] training loss 2.39194, training accuracy 0.19835\n"
     ]
    },
    {
     "data": {
      "application/vnd.jupyter.widget-view+json": {
       "model_id": "efab5be031184c6bbf760d8e862d9135",
       "version_major": 2,
       "version_minor": 0
      },
      "text/plain": [
       "HBox(children=(HTML(value=''), FloatProgress(value=0.0, max=119.0), HTML(value='')))"
      ]
     },
     "metadata": {},
     "output_type": "display_data"
    },
    {
     "name": "stdout",
     "output_type": "stream",
     "text": [
      "\n",
      "[val] acc : 0.12566, loss : 2.38795, f1 score : 0.10000\n",
      "best acc : 0.27328, best loss : 2.29444, best f1 : 0.22222\n"
     ]
    },
    {
     "data": {
      "application/vnd.jupyter.widget-view+json": {
       "model_id": "d1c7334a5763482c91b004aa6d23a529",
       "version_major": 2,
       "version_minor": 0
      },
      "text/plain": [
       "HBox(children=(HTML(value=''), FloatProgress(value=0.0, max=473.0), HTML(value='')))"
      ]
     },
     "metadata": {},
     "output_type": "display_data"
    },
    {
     "name": "stdout",
     "output_type": "stream",
     "text": [
      "\n",
      "epoch[7/200] training loss 2.39464, training accuracy 0.19431\n"
     ]
    },
    {
     "data": {
      "application/vnd.jupyter.widget-view+json": {
       "model_id": "ad29e8b217b142cc8784c06eb7697864",
       "version_major": 2,
       "version_minor": 0
      },
      "text/plain": [
       "HBox(children=(HTML(value=''), FloatProgress(value=0.0, max=119.0), HTML(value='')))"
      ]
     },
     "metadata": {},
     "output_type": "display_data"
    },
    {
     "name": "stdout",
     "output_type": "stream",
     "text": [
      "\n",
      "[val] acc : 0.22751, loss : 2.36846, f1 score : 0.10000\n",
      "best acc : 0.27328, best loss : 2.29444, best f1 : 0.22222\n"
     ]
    },
    {
     "data": {
      "application/vnd.jupyter.widget-view+json": {
       "model_id": "a281078f4ded40e8a6723596b434030d",
       "version_major": 2,
       "version_minor": 0
      },
      "text/plain": [
       "HBox(children=(HTML(value=''), FloatProgress(value=0.0, max=473.0), HTML(value='')))"
      ]
     },
     "metadata": {},
     "output_type": "display_data"
    },
    {
     "name": "stdout",
     "output_type": "stream",
     "text": [
      "\n",
      "epoch[8/200] training loss 2.38956, training accuracy 0.20152\n"
     ]
    },
    {
     "data": {
      "application/vnd.jupyter.widget-view+json": {
       "model_id": "d9a69f9adf124db7bf4187d76fcc3fa8",
       "version_major": 2,
       "version_minor": 0
      },
      "text/plain": [
       "HBox(children=(HTML(value=''), FloatProgress(value=0.0, max=119.0), HTML(value='')))"
      ]
     },
     "metadata": {},
     "output_type": "display_data"
    },
    {
     "name": "stdout",
     "output_type": "stream",
     "text": [
      "\n",
      "[val] acc : 0.22751, loss : 2.35100, f1 score : 0.00000\n",
      "best acc : 0.27328, best loss : 2.29444, best f1 : 0.22222\n"
     ]
    },
    {
     "data": {
      "application/vnd.jupyter.widget-view+json": {
       "model_id": "33bc460846374034a2bf498dc5cc6b47",
       "version_major": 2,
       "version_minor": 0
      },
      "text/plain": [
       "HBox(children=(HTML(value=''), FloatProgress(value=0.0, max=473.0), HTML(value='')))"
      ]
     },
     "metadata": {},
     "output_type": "display_data"
    },
    {
     "name": "stdout",
     "output_type": "stream",
     "text": [
      "\n",
      "epoch[9/200] training loss 2.38419, training accuracy 0.20324\n"
     ]
    },
    {
     "data": {
      "application/vnd.jupyter.widget-view+json": {
       "model_id": "54966b1481a8452ab872f37cb3f94142",
       "version_major": 2,
       "version_minor": 0
      },
      "text/plain": [
       "HBox(children=(HTML(value=''), FloatProgress(value=0.0, max=119.0), HTML(value='')))"
      ]
     },
     "metadata": {},
     "output_type": "display_data"
    },
    {
     "name": "stdout",
     "output_type": "stream",
     "text": [
      "\n",
      "[val] acc : 0.22751, loss : 2.36138, f1 score : 0.00000\n",
      "best acc : 0.27328, best loss : 2.29444, best f1 : 0.22222\n"
     ]
    },
    {
     "data": {
      "application/vnd.jupyter.widget-view+json": {
       "model_id": "870cb59a6ce544bdb6742c780626a654",
       "version_major": 2,
       "version_minor": 0
      },
      "text/plain": [
       "HBox(children=(HTML(value=''), FloatProgress(value=0.0, max=473.0), HTML(value='')))"
      ]
     },
     "metadata": {},
     "output_type": "display_data"
    },
    {
     "name": "stdout",
     "output_type": "stream",
     "text": [
      "\n",
      "epoch[10/200] training loss 2.38256, training accuracy 0.20298\n"
     ]
    },
    {
     "data": {
      "application/vnd.jupyter.widget-view+json": {
       "model_id": "7d249b8fbdd24fafbb0a9be44305d77f",
       "version_major": 2,
       "version_minor": 0
      },
      "text/plain": [
       "HBox(children=(HTML(value=''), FloatProgress(value=0.0, max=119.0), HTML(value='')))"
      ]
     },
     "metadata": {},
     "output_type": "display_data"
    },
    {
     "name": "stdout",
     "output_type": "stream",
     "text": [
      "\n",
      "[val] acc : 0.21296, loss : 2.36040, f1 score : 0.10000\n",
      "best acc : 0.27328, best loss : 2.29444, best f1 : 0.22222\n"
     ]
    },
    {
     "data": {
      "application/vnd.jupyter.widget-view+json": {
       "model_id": "04dbd1f95c3a435f9393594c478e8981",
       "version_major": 2,
       "version_minor": 0
      },
      "text/plain": [
       "HBox(children=(HTML(value=''), FloatProgress(value=0.0, max=473.0), HTML(value='')))"
      ]
     },
     "metadata": {},
     "output_type": "display_data"
    },
    {
     "name": "stdout",
     "output_type": "stream",
     "text": [
      "\n",
      "epoch[11/200] training loss 2.38184, training accuracy 0.20033\n"
     ]
    },
    {
     "data": {
      "application/vnd.jupyter.widget-view+json": {
       "model_id": "5ab96569dbd44a7f89f6e7fd0ed718b7",
       "version_major": 2,
       "version_minor": 0
      },
      "text/plain": [
       "HBox(children=(HTML(value=''), FloatProgress(value=0.0, max=119.0), HTML(value='')))"
      ]
     },
     "metadata": {},
     "output_type": "display_data"
    },
    {
     "name": "stdout",
     "output_type": "stream",
     "text": [
      "\n",
      "[val] acc : 0.22751, loss : 2.36121, f1 score : 0.33333\n",
      "best acc : 0.27328, best loss : 2.29444, best f1 : 0.33333\n"
     ]
    },
    {
     "data": {
      "application/vnd.jupyter.widget-view+json": {
       "model_id": "a383b5fccdab4506a92f73c9f22a5104",
       "version_major": 2,
       "version_minor": 0
      },
      "text/plain": [
       "HBox(children=(HTML(value=''), FloatProgress(value=0.0, max=473.0), HTML(value='')))"
      ]
     },
     "metadata": {},
     "output_type": "display_data"
    },
    {
     "name": "stdout",
     "output_type": "stream",
     "text": [
      "\n",
      "epoch[12/200] training loss 2.37861, training accuracy 0.20172\n"
     ]
    },
    {
     "data": {
      "application/vnd.jupyter.widget-view+json": {
       "model_id": "ce1c2e994bbd457ab142c0b902d5ddfc",
       "version_major": 2,
       "version_minor": 0
      },
      "text/plain": [
       "HBox(children=(HTML(value=''), FloatProgress(value=0.0, max=119.0), HTML(value='')))"
      ]
     },
     "metadata": {},
     "output_type": "display_data"
    },
    {
     "name": "stdout",
     "output_type": "stream",
     "text": [
      "\n",
      "[val] acc : 0.21296, loss : 2.36441, f1 score : 0.42857\n",
      "best acc : 0.27328, best loss : 2.29444, best f1 : 0.42857\n"
     ]
    },
    {
     "data": {
      "application/vnd.jupyter.widget-view+json": {
       "model_id": "7334457a443947ebbfa22d731be53820",
       "version_major": 2,
       "version_minor": 0
      },
      "text/plain": [
       "HBox(children=(HTML(value=''), FloatProgress(value=0.0, max=473.0), HTML(value='')))"
      ]
     },
     "metadata": {},
     "output_type": "display_data"
    },
    {
     "name": "stdout",
     "output_type": "stream",
     "text": [
      "\n",
      "epoch[13/200] training loss 2.37727, training accuracy 0.20337\n"
     ]
    },
    {
     "data": {
      "application/vnd.jupyter.widget-view+json": {
       "model_id": "8b41b517449b458b8a9328f32ff2a949",
       "version_major": 2,
       "version_minor": 0
      },
      "text/plain": [
       "HBox(children=(HTML(value=''), FloatProgress(value=0.0, max=119.0), HTML(value='')))"
      ]
     },
     "metadata": {},
     "output_type": "display_data"
    },
    {
     "name": "stdout",
     "output_type": "stream",
     "text": [
      "\n",
      "[val] acc : 0.22751, loss : 2.34782, f1 score : 1.00000\n",
      "best acc : 0.27328, best loss : 2.29444, best f1 : 1.00000\n"
     ]
    },
    {
     "data": {
      "application/vnd.jupyter.widget-view+json": {
       "model_id": "fb764f18d71542a3b8dff3824bb7f7f3",
       "version_major": 2,
       "version_minor": 0
      },
      "text/plain": [
       "HBox(children=(HTML(value=''), FloatProgress(value=0.0, max=473.0), HTML(value='')))"
      ]
     },
     "metadata": {},
     "output_type": "display_data"
    },
    {
     "name": "stdout",
     "output_type": "stream",
     "text": [
      "\n",
      "epoch[14/200] training loss 2.37827, training accuracy 0.20351\n"
     ]
    },
    {
     "data": {
      "application/vnd.jupyter.widget-view+json": {
       "model_id": "567b388d91704ca090d71e80e94014aa",
       "version_major": 2,
       "version_minor": 0
      },
      "text/plain": [
       "HBox(children=(HTML(value=''), FloatProgress(value=0.0, max=119.0), HTML(value='')))"
      ]
     },
     "metadata": {},
     "output_type": "display_data"
    },
    {
     "name": "stdout",
     "output_type": "stream",
     "text": [
      "\n",
      "[val] acc : 0.22751, loss : 2.35504, f1 score : 0.10000\n",
      "best acc : 0.27328, best loss : 2.29444, best f1 : 1.00000\n"
     ]
    },
    {
     "data": {
      "application/vnd.jupyter.widget-view+json": {
       "model_id": "511edcb42f2541ac8212e822e8890cb9",
       "version_major": 2,
       "version_minor": 0
      },
      "text/plain": [
       "HBox(children=(HTML(value=''), FloatProgress(value=0.0, max=473.0), HTML(value='')))"
      ]
     },
     "metadata": {},
     "output_type": "display_data"
    },
    {
     "name": "stdout",
     "output_type": "stream",
     "text": [
      "\n",
      "epoch[15/200] training loss 2.39019, training accuracy 0.20172\n"
     ]
    },
    {
     "data": {
      "application/vnd.jupyter.widget-view+json": {
       "model_id": "9fd37270a57040d8a479b2f8325cb5dd",
       "version_major": 2,
       "version_minor": 0
      },
      "text/plain": [
       "HBox(children=(HTML(value=''), FloatProgress(value=0.0, max=119.0), HTML(value='')))"
      ]
     },
     "metadata": {},
     "output_type": "display_data"
    },
    {
     "name": "stdout",
     "output_type": "stream",
     "text": [
      "\n",
      "[val] acc : 0.21296, loss : 2.34488, f1 score : 0.22222\n",
      "best acc : 0.27328, best loss : 2.29444, best f1 : 1.00000\n"
     ]
    },
    {
     "data": {
      "application/vnd.jupyter.widget-view+json": {
       "model_id": "771a0117caf448698da263e941ed2cce",
       "version_major": 2,
       "version_minor": 0
      },
      "text/plain": [
       "HBox(children=(HTML(value=''), FloatProgress(value=0.0, max=473.0), HTML(value='')))"
      ]
     },
     "metadata": {},
     "output_type": "display_data"
    },
    {
     "name": "stdout",
     "output_type": "stream",
     "text": [
      "\n",
      "epoch[16/200] training loss 2.37593, training accuracy 0.20000\n"
     ]
    },
    {
     "data": {
      "application/vnd.jupyter.widget-view+json": {
       "model_id": "e24c3149d0fd4a3092cc4b62a2b1f6f0",
       "version_major": 2,
       "version_minor": 0
      },
      "text/plain": [
       "HBox(children=(HTML(value=''), FloatProgress(value=0.0, max=119.0), HTML(value='')))"
      ]
     },
     "metadata": {},
     "output_type": "display_data"
    },
    {
     "name": "stdout",
     "output_type": "stream",
     "text": [
      "\n",
      "[val] acc : 0.21296, loss : 2.35819, f1 score : 0.10000\n",
      "best acc : 0.27328, best loss : 2.29444, best f1 : 1.00000\n"
     ]
    },
    {
     "data": {
      "application/vnd.jupyter.widget-view+json": {
       "model_id": "cc45fed6b9f04defa0d2cdb24688306d",
       "version_major": 2,
       "version_minor": 0
      },
      "text/plain": [
       "HBox(children=(HTML(value=''), FloatProgress(value=0.0, max=473.0), HTML(value='')))"
      ]
     },
     "metadata": {},
     "output_type": "display_data"
    },
    {
     "name": "stdout",
     "output_type": "stream",
     "text": [
      "\n",
      "epoch[17/200] training loss 2.37347, training accuracy 0.20562\n"
     ]
    },
    {
     "data": {
      "application/vnd.jupyter.widget-view+json": {
       "model_id": "3e7e7c577f7c42a8a2b1bd80ede99190",
       "version_major": 2,
       "version_minor": 0
      },
      "text/plain": [
       "HBox(children=(HTML(value=''), FloatProgress(value=0.0, max=119.0), HTML(value='')))"
      ]
     },
     "metadata": {},
     "output_type": "display_data"
    },
    {
     "name": "stdout",
     "output_type": "stream",
     "text": [
      "\n",
      "[val] acc : 0.22751, loss : 2.34463, f1 score : 0.00000\n",
      "best acc : 0.27328, best loss : 2.29444, best f1 : 1.00000\n"
     ]
    },
    {
     "data": {
      "application/vnd.jupyter.widget-view+json": {
       "model_id": "b96223e7acc14b3f9420fbbd0c0450d2",
       "version_major": 2,
       "version_minor": 0
      },
      "text/plain": [
       "HBox(children=(HTML(value=''), FloatProgress(value=0.0, max=473.0), HTML(value='')))"
      ]
     },
     "metadata": {},
     "output_type": "display_data"
    },
    {
     "name": "stdout",
     "output_type": "stream",
     "text": [
      "\n",
      "epoch[18/200] training loss 2.37355, training accuracy 0.20589\n"
     ]
    },
    {
     "data": {
      "application/vnd.jupyter.widget-view+json": {
       "model_id": "898485f739914993a3f953021a4a0cb7",
       "version_major": 2,
       "version_minor": 0
      },
      "text/plain": [
       "HBox(children=(HTML(value=''), FloatProgress(value=0.0, max=119.0), HTML(value='')))"
      ]
     },
     "metadata": {},
     "output_type": "display_data"
    },
    {
     "name": "stdout",
     "output_type": "stream",
     "text": [
      "\n",
      "[val] acc : 0.22751, loss : 2.35273, f1 score : 0.33333\n",
      "best acc : 0.27328, best loss : 2.29444, best f1 : 1.00000\n"
     ]
    },
    {
     "data": {
      "application/vnd.jupyter.widget-view+json": {
       "model_id": "5158f9e8532f44798f06ce8b4861cbc2",
       "version_major": 2,
       "version_minor": 0
      },
      "text/plain": [
       "HBox(children=(HTML(value=''), FloatProgress(value=0.0, max=473.0), HTML(value='')))"
      ]
     },
     "metadata": {},
     "output_type": "display_data"
    },
    {
     "name": "stdout",
     "output_type": "stream",
     "text": [
      "\n",
      "epoch[19/200] training loss 2.37265, training accuracy 0.20681\n"
     ]
    },
    {
     "data": {
      "application/vnd.jupyter.widget-view+json": {
       "model_id": "4f225c0a66b94d8db824ef9962ce09cf",
       "version_major": 2,
       "version_minor": 0
      },
      "text/plain": [
       "HBox(children=(HTML(value=''), FloatProgress(value=0.0, max=119.0), HTML(value='')))"
      ]
     },
     "metadata": {},
     "output_type": "display_data"
    },
    {
     "name": "stdout",
     "output_type": "stream",
     "text": [
      "\n",
      "[val] acc : 0.22751, loss : 2.34093, f1 score : 0.00000\n",
      "best acc : 0.27328, best loss : 2.29444, best f1 : 1.00000\n"
     ]
    },
    {
     "data": {
      "application/vnd.jupyter.widget-view+json": {
       "model_id": "bfd83f923f724c69ae73340c50cd25eb",
       "version_major": 2,
       "version_minor": 0
      },
      "text/plain": [
       "HBox(children=(HTML(value=''), FloatProgress(value=0.0, max=473.0), HTML(value='')))"
      ]
     },
     "metadata": {},
     "output_type": "display_data"
    },
    {
     "name": "stdout",
     "output_type": "stream",
     "text": [
      "\n",
      "epoch[20/200] training loss 2.37239, training accuracy 0.21025\n"
     ]
    },
    {
     "data": {
      "application/vnd.jupyter.widget-view+json": {
       "model_id": "7b406fa1476f440394b4ddf8412fc8fc",
       "version_major": 2,
       "version_minor": 0
      },
      "text/plain": [
       "HBox(children=(HTML(value=''), FloatProgress(value=0.0, max=119.0), HTML(value='')))"
      ]
     },
     "metadata": {},
     "output_type": "display_data"
    },
    {
     "name": "stdout",
     "output_type": "stream",
     "text": [
      "\n",
      "[val] acc : 0.22751, loss : 2.36844, f1 score : 0.13333\n",
      "best acc : 0.27328, best loss : 2.29444, best f1 : 1.00000\n"
     ]
    },
    {
     "data": {
      "application/vnd.jupyter.widget-view+json": {
       "model_id": "335fe298f3dc4ffeb6d136db233ba184",
       "version_major": 2,
       "version_minor": 0
      },
      "text/plain": [
       "HBox(children=(HTML(value=''), FloatProgress(value=0.0, max=473.0), HTML(value='')))"
      ]
     },
     "metadata": {},
     "output_type": "display_data"
    },
    {
     "name": "stdout",
     "output_type": "stream",
     "text": [
      "\n",
      "epoch[21/200] training loss 2.37163, training accuracy 0.20853\n"
     ]
    },
    {
     "data": {
      "application/vnd.jupyter.widget-view+json": {
       "model_id": "65b87e9aba204a298f948cceed142cd5",
       "version_major": 2,
       "version_minor": 0
      },
      "text/plain": [
       "HBox(children=(HTML(value=''), FloatProgress(value=0.0, max=119.0), HTML(value='')))"
      ]
     },
     "metadata": {},
     "output_type": "display_data"
    },
    {
     "name": "stdout",
     "output_type": "stream",
     "text": [
      "\n",
      "[val] acc : 0.22751, loss : 2.35051, f1 score : 0.42857\n",
      "best acc : 0.27328, best loss : 2.29444, best f1 : 1.00000\n"
     ]
    },
    {
     "data": {
      "application/vnd.jupyter.widget-view+json": {
       "model_id": "784f3d1fcece4b91a8324f4d3556ddb7",
       "version_major": 2,
       "version_minor": 0
      },
      "text/plain": [
       "HBox(children=(HTML(value=''), FloatProgress(value=0.0, max=473.0), HTML(value='')))"
      ]
     },
     "metadata": {},
     "output_type": "display_data"
    },
    {
     "name": "stdout",
     "output_type": "stream",
     "text": [
      "\n",
      "epoch[22/200] training loss 2.37120, training accuracy 0.20847\n"
     ]
    },
    {
     "data": {
      "application/vnd.jupyter.widget-view+json": {
       "model_id": "be9940a1736a41af8250c869f465e160",
       "version_major": 2,
       "version_minor": 0
      },
      "text/plain": [
       "HBox(children=(HTML(value=''), FloatProgress(value=0.0, max=119.0), HTML(value='')))"
      ]
     },
     "metadata": {},
     "output_type": "display_data"
    },
    {
     "name": "stdout",
     "output_type": "stream",
     "text": [
      "\n",
      "[val] acc : 0.21296, loss : 2.34648, f1 score : 0.00000\n",
      "best acc : 0.27328, best loss : 2.29444, best f1 : 1.00000\n"
     ]
    },
    {
     "data": {
      "application/vnd.jupyter.widget-view+json": {
       "model_id": "3bc0c7fb8c0548798bf2c872242ad37c",
       "version_major": 2,
       "version_minor": 0
      },
      "text/plain": [
       "HBox(children=(HTML(value=''), FloatProgress(value=0.0, max=473.0), HTML(value='')))"
      ]
     },
     "metadata": {},
     "output_type": "display_data"
    },
    {
     "name": "stdout",
     "output_type": "stream",
     "text": [
      "\n",
      "epoch[23/200] training loss 2.37257, training accuracy 0.20655\n"
     ]
    },
    {
     "data": {
      "application/vnd.jupyter.widget-view+json": {
       "model_id": "44e412e343a74a79a8d3d5e7f926814c",
       "version_major": 2,
       "version_minor": 0
      },
      "text/plain": [
       "HBox(children=(HTML(value=''), FloatProgress(value=0.0, max=119.0), HTML(value='')))"
      ]
     },
     "metadata": {},
     "output_type": "display_data"
    },
    {
     "name": "stdout",
     "output_type": "stream",
     "text": [
      "\n",
      "[val] acc : 0.22751, loss : 2.34789, f1 score : 0.00000\n",
      "best acc : 0.27328, best loss : 2.29444, best f1 : 1.00000\n"
     ]
    },
    {
     "data": {
      "application/vnd.jupyter.widget-view+json": {
       "model_id": "37e012478d7548d1aee2dc2e269e734d",
       "version_major": 2,
       "version_minor": 0
      },
      "text/plain": [
       "HBox(children=(HTML(value=''), FloatProgress(value=0.0, max=473.0), HTML(value='')))"
      ]
     },
     "metadata": {},
     "output_type": "display_data"
    },
    {
     "name": "stdout",
     "output_type": "stream",
     "text": [
      "\n",
      "epoch[24/200] training loss 2.36898, training accuracy 0.20807\n"
     ]
    },
    {
     "data": {
      "application/vnd.jupyter.widget-view+json": {
       "model_id": "053417a963044ec4ae1cb34c8d565746",
       "version_major": 2,
       "version_minor": 0
      },
      "text/plain": [
       "HBox(children=(HTML(value=''), FloatProgress(value=0.0, max=119.0), HTML(value='')))"
      ]
     },
     "metadata": {},
     "output_type": "display_data"
    },
    {
     "name": "stdout",
     "output_type": "stream",
     "text": [
      "\n",
      "[val] acc : 0.22751, loss : 2.33915, f1 score : 0.10000\n",
      "best acc : 0.27328, best loss : 2.29444, best f1 : 1.00000\n"
     ]
    },
    {
     "data": {
      "application/vnd.jupyter.widget-view+json": {
       "model_id": "08e86d6a448a4f338691d848d4378fe0",
       "version_major": 2,
       "version_minor": 0
      },
      "text/plain": [
       "HBox(children=(HTML(value=''), FloatProgress(value=0.0, max=473.0), HTML(value='')))"
      ]
     },
     "metadata": {},
     "output_type": "display_data"
    },
    {
     "name": "stdout",
     "output_type": "stream",
     "text": [
      "\n",
      "epoch[25/200] training loss 2.37078, training accuracy 0.20767\n"
     ]
    },
    {
     "data": {
      "application/vnd.jupyter.widget-view+json": {
       "model_id": "ac1a045363f94d449531e8d804f709b0",
       "version_major": 2,
       "version_minor": 0
      },
      "text/plain": [
       "HBox(children=(HTML(value=''), FloatProgress(value=0.0, max=119.0), HTML(value='')))"
      ]
     },
     "metadata": {},
     "output_type": "display_data"
    },
    {
     "name": "stdout",
     "output_type": "stream",
     "text": [
      "\n",
      "[val] acc : 0.22751, loss : 2.35649, f1 score : 0.10000\n",
      "best acc : 0.27328, best loss : 2.29444, best f1 : 1.00000\n"
     ]
    },
    {
     "data": {
      "application/vnd.jupyter.widget-view+json": {
       "model_id": "085200ed8fdb43e48215fc7d2d2d752f",
       "version_major": 2,
       "version_minor": 0
      },
      "text/plain": [
       "HBox(children=(HTML(value=''), FloatProgress(value=0.0, max=473.0), HTML(value='')))"
      ]
     },
     "metadata": {},
     "output_type": "display_data"
    },
    {
     "name": "stdout",
     "output_type": "stream",
     "text": [
      "\n",
      "epoch[26/200] training loss 2.36874, training accuracy 0.20853\n"
     ]
    },
    {
     "data": {
      "application/vnd.jupyter.widget-view+json": {
       "model_id": "5eba7cc2b9af403bbdbc285bdd6edf10",
       "version_major": 2,
       "version_minor": 0
      },
      "text/plain": [
       "HBox(children=(HTML(value=''), FloatProgress(value=0.0, max=119.0), HTML(value='')))"
      ]
     },
     "metadata": {},
     "output_type": "display_data"
    },
    {
     "name": "stdout",
     "output_type": "stream",
     "text": [
      "\n",
      "[val] acc : 0.22751, loss : 2.35185, f1 score : 0.00000\n",
      "best acc : 0.27328, best loss : 2.29444, best f1 : 1.00000\n"
     ]
    },
    {
     "data": {
      "application/vnd.jupyter.widget-view+json": {
       "model_id": "929d6967e85d4f16b9261be9f933bc7e",
       "version_major": 2,
       "version_minor": 0
      },
      "text/plain": [
       "HBox(children=(HTML(value=''), FloatProgress(value=0.0, max=473.0), HTML(value='')))"
      ]
     },
     "metadata": {},
     "output_type": "display_data"
    },
    {
     "name": "stdout",
     "output_type": "stream",
     "text": [
      "\n",
      "epoch[27/200] training loss 2.36824, training accuracy 0.21157\n"
     ]
    },
    {
     "data": {
      "application/vnd.jupyter.widget-view+json": {
       "model_id": "746808a23f344c6badcdc166aa64ee71",
       "version_major": 2,
       "version_minor": 0
      },
      "text/plain": [
       "HBox(children=(HTML(value=''), FloatProgress(value=0.0, max=119.0), HTML(value='')))"
      ]
     },
     "metadata": {},
     "output_type": "display_data"
    },
    {
     "name": "stdout",
     "output_type": "stream",
     "text": [
      "\n",
      "[val] acc : 0.22751, loss : 2.34713, f1 score : 0.33333\n",
      "best acc : 0.27328, best loss : 2.29444, best f1 : 1.00000\n"
     ]
    },
    {
     "data": {
      "application/vnd.jupyter.widget-view+json": {
       "model_id": "03f8950da860465582d3517bb495045a",
       "version_major": 2,
       "version_minor": 0
      },
      "text/plain": [
       "HBox(children=(HTML(value=''), FloatProgress(value=0.0, max=473.0), HTML(value='')))"
      ]
     },
     "metadata": {},
     "output_type": "display_data"
    },
    {
     "name": "stdout",
     "output_type": "stream",
     "text": [
      "\n",
      "epoch[28/200] training loss 2.36879, training accuracy 0.21005\n"
     ]
    },
    {
     "data": {
      "application/vnd.jupyter.widget-view+json": {
       "model_id": "0c75440dfa3d4c38b80a87a46d0797cd",
       "version_major": 2,
       "version_minor": 0
      },
      "text/plain": [
       "HBox(children=(HTML(value=''), FloatProgress(value=0.0, max=119.0), HTML(value='')))"
      ]
     },
     "metadata": {},
     "output_type": "display_data"
    },
    {
     "name": "stdout",
     "output_type": "stream",
     "text": [
      "\n",
      "[val] acc : 0.21296, loss : 2.35034, f1 score : 0.13333\n",
      "best acc : 0.27328, best loss : 2.29444, best f1 : 1.00000\n"
     ]
    },
    {
     "data": {
      "application/vnd.jupyter.widget-view+json": {
       "model_id": "89aa294580cd48d492dd3a0abbe576a9",
       "version_major": 2,
       "version_minor": 0
      },
      "text/plain": [
       "HBox(children=(HTML(value=''), FloatProgress(value=0.0, max=473.0), HTML(value='')))"
      ]
     },
     "metadata": {},
     "output_type": "display_data"
    },
    {
     "name": "stdout",
     "output_type": "stream",
     "text": [
      "\n",
      "epoch[29/200] training loss 2.36830, training accuracy 0.20886\n"
     ]
    },
    {
     "data": {
      "application/vnd.jupyter.widget-view+json": {
       "model_id": "9b73eee1b9204c68a3e2006b124edca8",
       "version_major": 2,
       "version_minor": 0
      },
      "text/plain": [
       "HBox(children=(HTML(value=''), FloatProgress(value=0.0, max=119.0), HTML(value='')))"
      ]
     },
     "metadata": {},
     "output_type": "display_data"
    },
    {
     "name": "stdout",
     "output_type": "stream",
     "text": [
      "\n",
      "[val] acc : 0.21296, loss : 2.34352, f1 score : 0.00000\n",
      "best acc : 0.27328, best loss : 2.29444, best f1 : 1.00000\n"
     ]
    },
    {
     "data": {
      "application/vnd.jupyter.widget-view+json": {
       "model_id": "768fea2c816e4879b7af0eaed871cf2e",
       "version_major": 2,
       "version_minor": 0
      },
      "text/plain": [
       "HBox(children=(HTML(value=''), FloatProgress(value=0.0, max=473.0), HTML(value='')))"
      ]
     },
     "metadata": {},
     "output_type": "display_data"
    },
    {
     "name": "stdout",
     "output_type": "stream",
     "text": [
      "\n",
      "epoch[30/200] training loss 2.36867, training accuracy 0.21025\n"
     ]
    },
    {
     "data": {
      "application/vnd.jupyter.widget-view+json": {
       "model_id": "9830233c48c4483e9f6fe0bfc90d3358",
       "version_major": 2,
       "version_minor": 0
      },
      "text/plain": [
       "HBox(children=(HTML(value=''), FloatProgress(value=0.0, max=119.0), HTML(value='')))"
      ]
     },
     "metadata": {},
     "output_type": "display_data"
    },
    {
     "name": "stdout",
     "output_type": "stream",
     "text": [
      "\n",
      "[val] acc : 0.22751, loss : 2.34823, f1 score : 0.10000\n",
      "best acc : 0.27328, best loss : 2.29444, best f1 : 1.00000\n"
     ]
    },
    {
     "data": {
      "application/vnd.jupyter.widget-view+json": {
       "model_id": "d956499fa83442a2a191d006a6e518f4",
       "version_major": 2,
       "version_minor": 0
      },
      "text/plain": [
       "HBox(children=(HTML(value=''), FloatProgress(value=0.0, max=473.0), HTML(value='')))"
      ]
     },
     "metadata": {},
     "output_type": "display_data"
    },
    {
     "name": "stdout",
     "output_type": "stream",
     "text": [
      "\n",
      "epoch[31/200] training loss 2.36773, training accuracy 0.20833\n"
     ]
    },
    {
     "data": {
      "application/vnd.jupyter.widget-view+json": {
       "model_id": "55dc247dbd314dcc98cf477b9e4e28f3",
       "version_major": 2,
       "version_minor": 0
      },
      "text/plain": [
       "HBox(children=(HTML(value=''), FloatProgress(value=0.0, max=119.0), HTML(value='')))"
      ]
     },
     "metadata": {},
     "output_type": "display_data"
    },
    {
     "name": "stdout",
     "output_type": "stream",
     "text": [
      "\n",
      "[val] acc : 0.22751, loss : 2.34678, f1 score : 0.22222\n",
      "best acc : 0.27328, best loss : 2.29444, best f1 : 1.00000\n"
     ]
    },
    {
     "data": {
      "application/vnd.jupyter.widget-view+json": {
       "model_id": "624503e8ca7d46238383c4295abd3b85",
       "version_major": 2,
       "version_minor": 0
      },
      "text/plain": [
       "HBox(children=(HTML(value=''), FloatProgress(value=0.0, max=473.0), HTML(value='')))"
      ]
     },
     "metadata": {},
     "output_type": "display_data"
    },
    {
     "name": "stdout",
     "output_type": "stream",
     "text": [
      "\n",
      "epoch[32/200] training loss 2.36695, training accuracy 0.20979\n"
     ]
    },
    {
     "data": {
      "application/vnd.jupyter.widget-view+json": {
       "model_id": "41d1623ac2ec451387b8290ff57d446e",
       "version_major": 2,
       "version_minor": 0
      },
      "text/plain": [
       "HBox(children=(HTML(value=''), FloatProgress(value=0.0, max=119.0), HTML(value='')))"
      ]
     },
     "metadata": {},
     "output_type": "display_data"
    },
    {
     "name": "stdout",
     "output_type": "stream",
     "text": [
      "\n",
      "[val] acc : 0.22751, loss : 2.33919, f1 score : 0.13333\n",
      "best acc : 0.27328, best loss : 2.29444, best f1 : 1.00000\n"
     ]
    },
    {
     "data": {
      "application/vnd.jupyter.widget-view+json": {
       "model_id": "f65caa86657f40a09418a3b714756ddd",
       "version_major": 2,
       "version_minor": 0
      },
      "text/plain": [
       "HBox(children=(HTML(value=''), FloatProgress(value=0.0, max=473.0), HTML(value='')))"
      ]
     },
     "metadata": {},
     "output_type": "display_data"
    },
    {
     "name": "stdout",
     "output_type": "stream",
     "text": [
      "\n",
      "epoch[33/200] training loss 2.36732, training accuracy 0.20840\n"
     ]
    },
    {
     "data": {
      "application/vnd.jupyter.widget-view+json": {
       "model_id": "7f9ab0989c144e279768606a48a9197c",
       "version_major": 2,
       "version_minor": 0
      },
      "text/plain": [
       "HBox(children=(HTML(value=''), FloatProgress(value=0.0, max=119.0), HTML(value='')))"
      ]
     },
     "metadata": {},
     "output_type": "display_data"
    },
    {
     "name": "stdout",
     "output_type": "stream",
     "text": [
      "\n",
      "[val] acc : 0.22751, loss : 2.34422, f1 score : 0.10000\n",
      "best acc : 0.27328, best loss : 2.29444, best f1 : 1.00000\n"
     ]
    },
    {
     "data": {
      "application/vnd.jupyter.widget-view+json": {
       "model_id": "2ea160124c56422c93288b570e56ad40",
       "version_major": 2,
       "version_minor": 0
      },
      "text/plain": [
       "HBox(children=(HTML(value=''), FloatProgress(value=0.0, max=473.0), HTML(value='')))"
      ]
     },
     "metadata": {},
     "output_type": "display_data"
    },
    {
     "name": "stdout",
     "output_type": "stream",
     "text": [
      "\n",
      "epoch[34/200] training loss 2.36695, training accuracy 0.21197\n"
     ]
    },
    {
     "data": {
      "application/vnd.jupyter.widget-view+json": {
       "model_id": "a2cdb0f279614cedaa25fbf4303657b2",
       "version_major": 2,
       "version_minor": 0
      },
      "text/plain": [
       "HBox(children=(HTML(value=''), FloatProgress(value=0.0, max=119.0), HTML(value='')))"
      ]
     },
     "metadata": {},
     "output_type": "display_data"
    },
    {
     "name": "stdout",
     "output_type": "stream",
     "text": [
      "\n",
      "[val] acc : 0.21296, loss : 2.35058, f1 score : 0.00000\n",
      "best acc : 0.27328, best loss : 2.29444, best f1 : 1.00000\n"
     ]
    },
    {
     "data": {
      "application/vnd.jupyter.widget-view+json": {
       "model_id": "ad6d7ce8b6b24f7c86a852db6507e8a6",
       "version_major": 2,
       "version_minor": 0
      },
      "text/plain": [
       "HBox(children=(HTML(value=''), FloatProgress(value=0.0, max=473.0), HTML(value='')))"
      ]
     },
     "metadata": {},
     "output_type": "display_data"
    },
    {
     "name": "stdout",
     "output_type": "stream",
     "text": [
      "\n",
      "epoch[35/200] training loss 2.36703, training accuracy 0.20780\n"
     ]
    },
    {
     "data": {
      "application/vnd.jupyter.widget-view+json": {
       "model_id": "b60552fe69f74a389433a2ab89c75d75",
       "version_major": 2,
       "version_minor": 0
      },
      "text/plain": [
       "HBox(children=(HTML(value=''), FloatProgress(value=0.0, max=119.0), HTML(value='')))"
      ]
     },
     "metadata": {},
     "output_type": "display_data"
    },
    {
     "name": "stdout",
     "output_type": "stream",
     "text": [
      "\n",
      "[val] acc : 0.22751, loss : 2.34402, f1 score : 0.10000\n",
      "best acc : 0.27328, best loss : 2.29444, best f1 : 1.00000\n"
     ]
    },
    {
     "data": {
      "application/vnd.jupyter.widget-view+json": {
       "model_id": "91fa3b7e0c1248bca32031a076119923",
       "version_major": 2,
       "version_minor": 0
      },
      "text/plain": [
       "HBox(children=(HTML(value=''), FloatProgress(value=0.0, max=473.0), HTML(value='')))"
      ]
     },
     "metadata": {},
     "output_type": "display_data"
    },
    {
     "name": "stdout",
     "output_type": "stream",
     "text": [
      "\n",
      "epoch[36/200] training loss 2.36739, training accuracy 0.21124\n"
     ]
    },
    {
     "data": {
      "application/vnd.jupyter.widget-view+json": {
       "model_id": "3e78402fb7f04f7eb7c2a123eaeb61d8",
       "version_major": 2,
       "version_minor": 0
      },
      "text/plain": [
       "HBox(children=(HTML(value=''), FloatProgress(value=0.0, max=119.0), HTML(value='')))"
      ]
     },
     "metadata": {},
     "output_type": "display_data"
    },
    {
     "name": "stdout",
     "output_type": "stream",
     "text": [
      "\n",
      "[val] acc : 0.22751, loss : 2.34679, f1 score : 0.00000\n",
      "best acc : 0.27328, best loss : 2.29444, best f1 : 1.00000\n"
     ]
    },
    {
     "data": {
      "application/vnd.jupyter.widget-view+json": {
       "model_id": "92b584dfc274449fa239c5285df4f80e",
       "version_major": 2,
       "version_minor": 0
      },
      "text/plain": [
       "HBox(children=(HTML(value=''), FloatProgress(value=0.0, max=473.0), HTML(value='')))"
      ]
     },
     "metadata": {},
     "output_type": "display_data"
    },
    {
     "name": "stdout",
     "output_type": "stream",
     "text": [
      "\n",
      "epoch[37/200] training loss 2.36678, training accuracy 0.20873\n"
     ]
    },
    {
     "data": {
      "application/vnd.jupyter.widget-view+json": {
       "model_id": "48bc025b7c744cb79bdd4290daf3316c",
       "version_major": 2,
       "version_minor": 0
      },
      "text/plain": [
       "HBox(children=(HTML(value=''), FloatProgress(value=0.0, max=119.0), HTML(value='')))"
      ]
     },
     "metadata": {},
     "output_type": "display_data"
    },
    {
     "name": "stdout",
     "output_type": "stream",
     "text": [
      "\n",
      "[val] acc : 0.22751, loss : 2.34135, f1 score : 0.00000\n",
      "best acc : 0.27328, best loss : 2.29444, best f1 : 1.00000\n"
     ]
    },
    {
     "data": {
      "application/vnd.jupyter.widget-view+json": {
       "model_id": "91404768fecd4a949b02382f86dc889a",
       "version_major": 2,
       "version_minor": 0
      },
      "text/plain": [
       "HBox(children=(HTML(value=''), FloatProgress(value=0.0, max=473.0), HTML(value='')))"
      ]
     },
     "metadata": {},
     "output_type": "display_data"
    },
    {
     "name": "stdout",
     "output_type": "stream",
     "text": [
      "\n",
      "epoch[38/200] training loss 2.36669, training accuracy 0.21078\n"
     ]
    },
    {
     "data": {
      "application/vnd.jupyter.widget-view+json": {
       "model_id": "8ce369beb6bb4ecf978651a453fcf854",
       "version_major": 2,
       "version_minor": 0
      },
      "text/plain": [
       "HBox(children=(HTML(value=''), FloatProgress(value=0.0, max=119.0), HTML(value='')))"
      ]
     },
     "metadata": {},
     "output_type": "display_data"
    },
    {
     "name": "stdout",
     "output_type": "stream",
     "text": [
      "\n",
      "[val] acc : 0.22751, loss : 2.35374, f1 score : 0.13333\n",
      "best acc : 0.27328, best loss : 2.29444, best f1 : 1.00000\n"
     ]
    },
    {
     "data": {
      "application/vnd.jupyter.widget-view+json": {
       "model_id": "eb404d14d3fd4baa8ff25c6e98ab4d4e",
       "version_major": 2,
       "version_minor": 0
      },
      "text/plain": [
       "HBox(children=(HTML(value=''), FloatProgress(value=0.0, max=473.0), HTML(value='')))"
      ]
     },
     "metadata": {},
     "output_type": "display_data"
    },
    {
     "name": "stdout",
     "output_type": "stream",
     "text": [
      "\n",
      "epoch[39/200] training loss 2.36682, training accuracy 0.21157\n"
     ]
    },
    {
     "data": {
      "application/vnd.jupyter.widget-view+json": {
       "model_id": "f76024763b8e43a688b7e59bd34ad76d",
       "version_major": 2,
       "version_minor": 0
      },
      "text/plain": [
       "HBox(children=(HTML(value=''), FloatProgress(value=0.0, max=119.0), HTML(value='')))"
      ]
     },
     "metadata": {},
     "output_type": "display_data"
    },
    {
     "name": "stdout",
     "output_type": "stream",
     "text": [
      "\n",
      "[val] acc : 0.22751, loss : 2.34758, f1 score : 0.00000\n",
      "best acc : 0.27328, best loss : 2.29444, best f1 : 1.00000\n"
     ]
    },
    {
     "data": {
      "application/vnd.jupyter.widget-view+json": {
       "model_id": "e3b7cd54e21d4132b0dcc9d15c55626e",
       "version_major": 2,
       "version_minor": 0
      },
      "text/plain": [
       "HBox(children=(HTML(value=''), FloatProgress(value=0.0, max=473.0), HTML(value='')))"
      ]
     },
     "metadata": {},
     "output_type": "display_data"
    },
    {
     "name": "stdout",
     "output_type": "stream",
     "text": [
      "\n",
      "epoch[40/200] training loss 2.36608, training accuracy 0.21190\n"
     ]
    },
    {
     "data": {
      "application/vnd.jupyter.widget-view+json": {
       "model_id": "0521232e622d4393809889e876002e15",
       "version_major": 2,
       "version_minor": 0
      },
      "text/plain": [
       "HBox(children=(HTML(value=''), FloatProgress(value=0.0, max=119.0), HTML(value='')))"
      ]
     },
     "metadata": {},
     "output_type": "display_data"
    },
    {
     "name": "stdout",
     "output_type": "stream",
     "text": [
      "\n",
      "[val] acc : 0.22751, loss : 2.34403, f1 score : 0.10000\n",
      "best acc : 0.27328, best loss : 2.29444, best f1 : 1.00000\n"
     ]
    },
    {
     "data": {
      "application/vnd.jupyter.widget-view+json": {
       "model_id": "70434688b9f649c0b466b88afbd6c647",
       "version_major": 2,
       "version_minor": 0
      },
      "text/plain": [
       "HBox(children=(HTML(value=''), FloatProgress(value=0.0, max=473.0), HTML(value='')))"
      ]
     },
     "metadata": {},
     "output_type": "display_data"
    },
    {
     "name": "stdout",
     "output_type": "stream",
     "text": [
      "\n",
      "epoch[41/200] training loss 2.36685, training accuracy 0.21197\n"
     ]
    },
    {
     "data": {
      "application/vnd.jupyter.widget-view+json": {
       "model_id": "8287b9ef0cae46288125286116649424",
       "version_major": 2,
       "version_minor": 0
      },
      "text/plain": [
       "HBox(children=(HTML(value=''), FloatProgress(value=0.0, max=119.0), HTML(value='')))"
      ]
     },
     "metadata": {},
     "output_type": "display_data"
    },
    {
     "name": "stdout",
     "output_type": "stream",
     "text": [
      "\n",
      "[val] acc : 0.22751, loss : 2.34715, f1 score : 0.10000\n",
      "best acc : 0.27328, best loss : 2.29444, best f1 : 1.00000\n"
     ]
    },
    {
     "data": {
      "application/vnd.jupyter.widget-view+json": {
       "model_id": "34c6f3e5195342198b729565cf2ceed0",
       "version_major": 2,
       "version_minor": 0
      },
      "text/plain": [
       "HBox(children=(HTML(value=''), FloatProgress(value=0.0, max=473.0), HTML(value='')))"
      ]
     },
     "metadata": {},
     "output_type": "display_data"
    },
    {
     "name": "stdout",
     "output_type": "stream",
     "text": [
      "\n",
      "epoch[42/200] training loss 2.36569, training accuracy 0.21290\n"
     ]
    },
    {
     "data": {
      "application/vnd.jupyter.widget-view+json": {
       "model_id": "4689206cdd22436a92c2ebd7e3ee463c",
       "version_major": 2,
       "version_minor": 0
      },
      "text/plain": [
       "HBox(children=(HTML(value=''), FloatProgress(value=0.0, max=119.0), HTML(value='')))"
      ]
     },
     "metadata": {},
     "output_type": "display_data"
    },
    {
     "name": "stdout",
     "output_type": "stream",
     "text": [
      "\n",
      "[val] acc : 0.22751, loss : 2.34174, f1 score : 0.10000\n",
      "best acc : 0.27328, best loss : 2.29444, best f1 : 1.00000\n"
     ]
    },
    {
     "data": {
      "application/vnd.jupyter.widget-view+json": {
       "model_id": "f138e99503364fd0be4f3d03917b53e8",
       "version_major": 2,
       "version_minor": 0
      },
      "text/plain": [
       "HBox(children=(HTML(value=''), FloatProgress(value=0.0, max=473.0), HTML(value='')))"
      ]
     },
     "metadata": {},
     "output_type": "display_data"
    },
    {
     "name": "stdout",
     "output_type": "stream",
     "text": [
      "\n",
      "epoch[43/200] training loss 2.36620, training accuracy 0.20899\n"
     ]
    },
    {
     "data": {
      "application/vnd.jupyter.widget-view+json": {
       "model_id": "8e9d63d9cab14b0190cd151b6e011187",
       "version_major": 2,
       "version_minor": 0
      },
      "text/plain": [
       "HBox(children=(HTML(value=''), FloatProgress(value=0.0, max=119.0), HTML(value='')))"
      ]
     },
     "metadata": {},
     "output_type": "display_data"
    },
    {
     "name": "stdout",
     "output_type": "stream",
     "text": [
      "\n",
      "[val] acc : 0.22751, loss : 2.34998, f1 score : 0.00000\n",
      "best acc : 0.27328, best loss : 2.29444, best f1 : 1.00000\n"
     ]
    },
    {
     "data": {
      "application/vnd.jupyter.widget-view+json": {
       "model_id": "eae6bfe69ac1415f86ebaff4b24f3ec5",
       "version_major": 2,
       "version_minor": 0
      },
      "text/plain": [
       "HBox(children=(HTML(value=''), FloatProgress(value=0.0, max=473.0), HTML(value='')))"
      ]
     },
     "metadata": {},
     "output_type": "display_data"
    },
    {
     "name": "stdout",
     "output_type": "stream",
     "text": [
      "\n",
      "epoch[44/200] training loss 2.36591, training accuracy 0.21071\n"
     ]
    },
    {
     "data": {
      "application/vnd.jupyter.widget-view+json": {
       "model_id": "117de8bbdfe547248d6903fc8ff8cca4",
       "version_major": 2,
       "version_minor": 0
      },
      "text/plain": [
       "HBox(children=(HTML(value=''), FloatProgress(value=0.0, max=119.0), HTML(value='')))"
      ]
     },
     "metadata": {},
     "output_type": "display_data"
    },
    {
     "name": "stdout",
     "output_type": "stream",
     "text": [
      "\n",
      "[val] acc : 0.22751, loss : 2.34471, f1 score : 0.13333\n",
      "best acc : 0.27328, best loss : 2.29444, best f1 : 1.00000\n"
     ]
    },
    {
     "data": {
      "application/vnd.jupyter.widget-view+json": {
       "model_id": "e63450a9f8ca4b269afe27c2e7915d31",
       "version_major": 2,
       "version_minor": 0
      },
      "text/plain": [
       "HBox(children=(HTML(value=''), FloatProgress(value=0.0, max=473.0), HTML(value='')))"
      ]
     },
     "metadata": {},
     "output_type": "display_data"
    },
    {
     "name": "stdout",
     "output_type": "stream",
     "text": [
      "\n",
      "epoch[45/200] training loss 2.36589, training accuracy 0.21157\n"
     ]
    },
    {
     "data": {
      "application/vnd.jupyter.widget-view+json": {
       "model_id": "5b06672d8a0a4ba7983ee8f7391cfdf5",
       "version_major": 2,
       "version_minor": 0
      },
      "text/plain": [
       "HBox(children=(HTML(value=''), FloatProgress(value=0.0, max=119.0), HTML(value='')))"
      ]
     },
     "metadata": {},
     "output_type": "display_data"
    },
    {
     "name": "stdout",
     "output_type": "stream",
     "text": [
      "\n",
      "[val] acc : 0.22751, loss : 2.34043, f1 score : 0.10000\n",
      "best acc : 0.27328, best loss : 2.29444, best f1 : 1.00000\n"
     ]
    },
    {
     "data": {
      "application/vnd.jupyter.widget-view+json": {
       "model_id": "9c993c4b03ff4d57b1800ce3d9807001",
       "version_major": 2,
       "version_minor": 0
      },
      "text/plain": [
       "HBox(children=(HTML(value=''), FloatProgress(value=0.0, max=473.0), HTML(value='')))"
      ]
     },
     "metadata": {},
     "output_type": "display_data"
    },
    {
     "name": "stdout",
     "output_type": "stream",
     "text": [
      "\n",
      "epoch[46/200] training loss 2.36593, training accuracy 0.21250\n"
     ]
    },
    {
     "data": {
      "application/vnd.jupyter.widget-view+json": {
       "model_id": "592b03e10b32463195cf05ac596e3174",
       "version_major": 2,
       "version_minor": 0
      },
      "text/plain": [
       "HBox(children=(HTML(value=''), FloatProgress(value=0.0, max=119.0), HTML(value='')))"
      ]
     },
     "metadata": {},
     "output_type": "display_data"
    },
    {
     "name": "stdout",
     "output_type": "stream",
     "text": [
      "\n",
      "[val] acc : 0.22751, loss : 2.33791, f1 score : 0.13333\n",
      "best acc : 0.27328, best loss : 2.29444, best f1 : 1.00000\n"
     ]
    },
    {
     "data": {
      "application/vnd.jupyter.widget-view+json": {
       "model_id": "b17f7eb908a446d6ae12ec4f340e6dc1",
       "version_major": 2,
       "version_minor": 0
      },
      "text/plain": [
       "HBox(children=(HTML(value=''), FloatProgress(value=0.0, max=473.0), HTML(value='')))"
      ]
     },
     "metadata": {},
     "output_type": "display_data"
    },
    {
     "name": "stdout",
     "output_type": "stream",
     "text": [
      "\n",
      "epoch[47/200] training loss 2.36531, training accuracy 0.21091\n"
     ]
    },
    {
     "data": {
      "application/vnd.jupyter.widget-view+json": {
       "model_id": "6e45b45528c84a50873587212a6d1e36",
       "version_major": 2,
       "version_minor": 0
      },
      "text/plain": [
       "HBox(children=(HTML(value=''), FloatProgress(value=0.0, max=119.0), HTML(value='')))"
      ]
     },
     "metadata": {},
     "output_type": "display_data"
    },
    {
     "name": "stdout",
     "output_type": "stream",
     "text": [
      "\n",
      "[val] acc : 0.22751, loss : 2.34642, f1 score : 0.00000\n",
      "best acc : 0.27328, best loss : 2.29444, best f1 : 1.00000\n"
     ]
    },
    {
     "data": {
      "application/vnd.jupyter.widget-view+json": {
       "model_id": "f4d1a10e465e475090bf839f62f25452",
       "version_major": 2,
       "version_minor": 0
      },
      "text/plain": [
       "HBox(children=(HTML(value=''), FloatProgress(value=0.0, max=473.0), HTML(value='')))"
      ]
     },
     "metadata": {},
     "output_type": "display_data"
    },
    {
     "name": "stdout",
     "output_type": "stream",
     "text": [
      "\n",
      "epoch[48/200] training loss 2.36595, training accuracy 0.21197\n"
     ]
    },
    {
     "data": {
      "application/vnd.jupyter.widget-view+json": {
       "model_id": "997c3f04c7a74ac1bf0e654e0c3cde0b",
       "version_major": 2,
       "version_minor": 0
      },
      "text/plain": [
       "HBox(children=(HTML(value=''), FloatProgress(value=0.0, max=119.0), HTML(value='')))"
      ]
     },
     "metadata": {},
     "output_type": "display_data"
    },
    {
     "name": "stdout",
     "output_type": "stream",
     "text": [
      "\n",
      "[val] acc : 0.22751, loss : 2.34476, f1 score : 0.00000\n",
      "best acc : 0.27328, best loss : 2.29444, best f1 : 1.00000\n"
     ]
    },
    {
     "data": {
      "application/vnd.jupyter.widget-view+json": {
       "model_id": "1e5153a0ab06479698207a41542ad096",
       "version_major": 2,
       "version_minor": 0
      },
      "text/plain": [
       "HBox(children=(HTML(value=''), FloatProgress(value=0.0, max=473.0), HTML(value='')))"
      ]
     },
     "metadata": {},
     "output_type": "display_data"
    },
    {
     "name": "stdout",
     "output_type": "stream",
     "text": [
      "\n",
      "epoch[49/200] training loss 2.36552, training accuracy 0.21250\n"
     ]
    },
    {
     "data": {
      "application/vnd.jupyter.widget-view+json": {
       "model_id": "52168270517e401890f37bf42ad22ea0",
       "version_major": 2,
       "version_minor": 0
      },
      "text/plain": [
       "HBox(children=(HTML(value=''), FloatProgress(value=0.0, max=119.0), HTML(value='')))"
      ]
     },
     "metadata": {},
     "output_type": "display_data"
    },
    {
     "name": "stdout",
     "output_type": "stream",
     "text": [
      "\n",
      "[val] acc : 0.22751, loss : 2.35670, f1 score : 0.10000\n",
      "best acc : 0.27328, best loss : 2.29444, best f1 : 1.00000\n"
     ]
    },
    {
     "data": {
      "application/vnd.jupyter.widget-view+json": {
       "model_id": "5715a4f2e16c4ff98afbece41a035dc6",
       "version_major": 2,
       "version_minor": 0
      },
      "text/plain": [
       "HBox(children=(HTML(value=''), FloatProgress(value=0.0, max=473.0), HTML(value='')))"
      ]
     },
     "metadata": {},
     "output_type": "display_data"
    },
    {
     "name": "stdout",
     "output_type": "stream",
     "text": [
      "\n",
      "epoch[50/200] training loss 2.36554, training accuracy 0.21250\n"
     ]
    },
    {
     "data": {
      "application/vnd.jupyter.widget-view+json": {
       "model_id": "05691a67edd74b99b15dbd2fb2daa65b",
       "version_major": 2,
       "version_minor": 0
      },
      "text/plain": [
       "HBox(children=(HTML(value=''), FloatProgress(value=0.0, max=119.0), HTML(value='')))"
      ]
     },
     "metadata": {},
     "output_type": "display_data"
    },
    {
     "name": "stdout",
     "output_type": "stream",
     "text": [
      "\n",
      "[val] acc : 0.22751, loss : 2.34318, f1 score : 0.42857\n",
      "best acc : 0.27328, best loss : 2.29444, best f1 : 1.00000\n"
     ]
    },
    {
     "data": {
      "application/vnd.jupyter.widget-view+json": {
       "model_id": "493def9ebf444615bf067557f4248491",
       "version_major": 2,
       "version_minor": 0
      },
      "text/plain": [
       "HBox(children=(HTML(value=''), FloatProgress(value=0.0, max=473.0), HTML(value='')))"
      ]
     },
     "metadata": {},
     "output_type": "display_data"
    },
    {
     "name": "stdout",
     "output_type": "stream",
     "text": [
      "\n",
      "epoch[51/200] training loss 2.36517, training accuracy 0.21349\n"
     ]
    },
    {
     "data": {
      "application/vnd.jupyter.widget-view+json": {
       "model_id": "0255f68180a44689aeddeec5a884378c",
       "version_major": 2,
       "version_minor": 0
      },
      "text/plain": [
       "HBox(children=(HTML(value=''), FloatProgress(value=0.0, max=119.0), HTML(value='')))"
      ]
     },
     "metadata": {},
     "output_type": "display_data"
    },
    {
     "name": "stdout",
     "output_type": "stream",
     "text": [
      "\n",
      "[val] acc : 0.22751, loss : 2.34792, f1 score : 0.00000\n",
      "best acc : 0.27328, best loss : 2.29444, best f1 : 1.00000\n"
     ]
    },
    {
     "data": {
      "application/vnd.jupyter.widget-view+json": {
       "model_id": "8baa1fea447a4aec8e648dcfc70d922e",
       "version_major": 2,
       "version_minor": 0
      },
      "text/plain": [
       "HBox(children=(HTML(value=''), FloatProgress(value=0.0, max=473.0), HTML(value='')))"
      ]
     },
     "metadata": {},
     "output_type": "display_data"
    },
    {
     "name": "stdout",
     "output_type": "stream",
     "text": [
      "\n",
      "epoch[52/200] training loss 2.36496, training accuracy 0.21164\n"
     ]
    },
    {
     "data": {
      "application/vnd.jupyter.widget-view+json": {
       "model_id": "e8205b7eebd94589a70440423e2af140",
       "version_major": 2,
       "version_minor": 0
      },
      "text/plain": [
       "HBox(children=(HTML(value=''), FloatProgress(value=0.0, max=119.0), HTML(value='')))"
      ]
     },
     "metadata": {},
     "output_type": "display_data"
    },
    {
     "name": "stdout",
     "output_type": "stream",
     "text": [
      "\n",
      "[val] acc : 0.22751, loss : 2.34551, f1 score : 0.00000\n",
      "best acc : 0.27328, best loss : 2.29444, best f1 : 1.00000\n"
     ]
    },
    {
     "data": {
      "application/vnd.jupyter.widget-view+json": {
       "model_id": "f21ca778de0243e691685727c06a5fad",
       "version_major": 2,
       "version_minor": 0
      },
      "text/plain": [
       "HBox(children=(HTML(value=''), FloatProgress(value=0.0, max=473.0), HTML(value='')))"
      ]
     },
     "metadata": {},
     "output_type": "display_data"
    },
    {
     "name": "stdout",
     "output_type": "stream",
     "text": [
      "\n",
      "epoch[53/200] training loss 2.36458, training accuracy 0.21290\n"
     ]
    },
    {
     "data": {
      "application/vnd.jupyter.widget-view+json": {
       "model_id": "142dda3307734e99a2fbc15cb60b41d3",
       "version_major": 2,
       "version_minor": 0
      },
      "text/plain": [
       "HBox(children=(HTML(value=''), FloatProgress(value=0.0, max=119.0), HTML(value='')))"
      ]
     },
     "metadata": {},
     "output_type": "display_data"
    },
    {
     "name": "stdout",
     "output_type": "stream",
     "text": [
      "\n",
      "[val] acc : 0.22751, loss : 2.35339, f1 score : 0.22222\n",
      "best acc : 0.27328, best loss : 2.29444, best f1 : 1.00000\n"
     ]
    },
    {
     "data": {
      "application/vnd.jupyter.widget-view+json": {
       "model_id": "43e68b5aa10b44b38f17a01673c61939",
       "version_major": 2,
       "version_minor": 0
      },
      "text/plain": [
       "HBox(children=(HTML(value=''), FloatProgress(value=0.0, max=473.0), HTML(value='')))"
      ]
     },
     "metadata": {},
     "output_type": "display_data"
    },
    {
     "name": "stdout",
     "output_type": "stream",
     "text": [
      "\n",
      "epoch[54/200] training loss 2.36495, training accuracy 0.21190\n"
     ]
    },
    {
     "data": {
      "application/vnd.jupyter.widget-view+json": {
       "model_id": "46673aa979094789b48b08a3bfe94427",
       "version_major": 2,
       "version_minor": 0
      },
      "text/plain": [
       "HBox(children=(HTML(value=''), FloatProgress(value=0.0, max=119.0), HTML(value='')))"
      ]
     },
     "metadata": {},
     "output_type": "display_data"
    },
    {
     "name": "stdout",
     "output_type": "stream",
     "text": [
      "\n",
      "[val] acc : 0.22751, loss : 2.35224, f1 score : 0.22222\n",
      "best acc : 0.27328, best loss : 2.29444, best f1 : 1.00000\n"
     ]
    },
    {
     "data": {
      "application/vnd.jupyter.widget-view+json": {
       "model_id": "bf9f33d8d957480f963fa5068c43f283",
       "version_major": 2,
       "version_minor": 0
      },
      "text/plain": [
       "HBox(children=(HTML(value=''), FloatProgress(value=0.0, max=473.0), HTML(value='')))"
      ]
     },
     "metadata": {},
     "output_type": "display_data"
    },
    {
     "name": "stdout",
     "output_type": "stream",
     "text": [
      "\n",
      "epoch[55/200] training loss 2.36550, training accuracy 0.21184\n"
     ]
    },
    {
     "data": {
      "application/vnd.jupyter.widget-view+json": {
       "model_id": "6269a99e49d64699b3d1849a8c5f09d6",
       "version_major": 2,
       "version_minor": 0
      },
      "text/plain": [
       "HBox(children=(HTML(value=''), FloatProgress(value=0.0, max=119.0), HTML(value='')))"
      ]
     },
     "metadata": {},
     "output_type": "display_data"
    },
    {
     "name": "stdout",
     "output_type": "stream",
     "text": [
      "\n",
      "[val] acc : 0.22751, loss : 2.34872, f1 score : 0.10000\n",
      "best acc : 0.27328, best loss : 2.29444, best f1 : 1.00000\n"
     ]
    },
    {
     "data": {
      "application/vnd.jupyter.widget-view+json": {
       "model_id": "7161aaca527b48bdbd5280f31ceec921",
       "version_major": 2,
       "version_minor": 0
      },
      "text/plain": [
       "HBox(children=(HTML(value=''), FloatProgress(value=0.0, max=473.0), HTML(value='')))"
      ]
     },
     "metadata": {},
     "output_type": "display_data"
    },
    {
     "name": "stdout",
     "output_type": "stream",
     "text": [
      "\n",
      "epoch[56/200] training loss 2.36550, training accuracy 0.21336\n"
     ]
    },
    {
     "data": {
      "application/vnd.jupyter.widget-view+json": {
       "model_id": "2e0c0c29ec6246d4812f8d626beaff5d",
       "version_major": 2,
       "version_minor": 0
      },
      "text/plain": [
       "HBox(children=(HTML(value=''), FloatProgress(value=0.0, max=119.0), HTML(value='')))"
      ]
     },
     "metadata": {},
     "output_type": "display_data"
    },
    {
     "name": "stdout",
     "output_type": "stream",
     "text": [
      "\n",
      "[val] acc : 0.22751, loss : 2.35205, f1 score : 0.10000\n",
      "best acc : 0.27328, best loss : 2.29444, best f1 : 1.00000\n"
     ]
    },
    {
     "data": {
      "application/vnd.jupyter.widget-view+json": {
       "model_id": "46bbe5d1ade840eaa9bf640d924e807e",
       "version_major": 2,
       "version_minor": 0
      },
      "text/plain": [
       "HBox(children=(HTML(value=''), FloatProgress(value=0.0, max=473.0), HTML(value='')))"
      ]
     },
     "metadata": {},
     "output_type": "display_data"
    },
    {
     "name": "stdout",
     "output_type": "stream",
     "text": [
      "\n",
      "epoch[57/200] training loss 2.37950, training accuracy 0.20933\n"
     ]
    },
    {
     "data": {
      "application/vnd.jupyter.widget-view+json": {
       "model_id": "ee1ac711ba824fd18ab44b3d21dc2665",
       "version_major": 2,
       "version_minor": 0
      },
      "text/plain": [
       "HBox(children=(HTML(value=''), FloatProgress(value=0.0, max=119.0), HTML(value='')))"
      ]
     },
     "metadata": {},
     "output_type": "display_data"
    },
    {
     "name": "stdout",
     "output_type": "stream",
     "text": [
      "\n",
      "[val] acc : 0.22751, loss : 2.36620, f1 score : 0.10000\n",
      "best acc : 0.27328, best loss : 2.29444, best f1 : 1.00000\n"
     ]
    },
    {
     "data": {
      "application/vnd.jupyter.widget-view+json": {
       "model_id": "c44c50d9b758468c8959350cd9aff618",
       "version_major": 2,
       "version_minor": 0
      },
      "text/plain": [
       "HBox(children=(HTML(value=''), FloatProgress(value=0.0, max=473.0), HTML(value='')))"
      ]
     },
     "metadata": {},
     "output_type": "display_data"
    },
    {
     "name": "stdout",
     "output_type": "stream",
     "text": [
      "\n",
      "epoch[58/200] training loss 2.37067, training accuracy 0.20734\n"
     ]
    },
    {
     "data": {
      "application/vnd.jupyter.widget-view+json": {
       "model_id": "368771652e94415a969c470f68dd0ddb",
       "version_major": 2,
       "version_minor": 0
      },
      "text/plain": [
       "HBox(children=(HTML(value=''), FloatProgress(value=0.0, max=119.0), HTML(value='')))"
      ]
     },
     "metadata": {},
     "output_type": "display_data"
    },
    {
     "name": "stdout",
     "output_type": "stream",
     "text": [
      "\n",
      "[val] acc : 0.22751, loss : 2.33899, f1 score : 0.13333\n",
      "best acc : 0.27328, best loss : 2.29444, best f1 : 1.00000\n"
     ]
    },
    {
     "data": {
      "application/vnd.jupyter.widget-view+json": {
       "model_id": "e70a36d01172455b8f98ff9609accc5d",
       "version_major": 2,
       "version_minor": 0
      },
      "text/plain": [
       "HBox(children=(HTML(value=''), FloatProgress(value=0.0, max=473.0), HTML(value='')))"
      ]
     },
     "metadata": {},
     "output_type": "display_data"
    },
    {
     "name": "stdout",
     "output_type": "stream",
     "text": [
      "\n",
      "epoch[59/200] training loss 2.36777, training accuracy 0.21164\n"
     ]
    },
    {
     "data": {
      "application/vnd.jupyter.widget-view+json": {
       "model_id": "47d2ebafb2534ec4aae28e044c300de9",
       "version_major": 2,
       "version_minor": 0
      },
      "text/plain": [
       "HBox(children=(HTML(value=''), FloatProgress(value=0.0, max=119.0), HTML(value='')))"
      ]
     },
     "metadata": {},
     "output_type": "display_data"
    },
    {
     "name": "stdout",
     "output_type": "stream",
     "text": [
      "\n",
      "[val] acc : 0.21296, loss : 2.33965, f1 score : 0.22222\n",
      "best acc : 0.27328, best loss : 2.29444, best f1 : 1.00000\n"
     ]
    },
    {
     "data": {
      "application/vnd.jupyter.widget-view+json": {
       "model_id": "d520d24d958a49118e7b2d21a5866c98",
       "version_major": 2,
       "version_minor": 0
      },
      "text/plain": [
       "HBox(children=(HTML(value=''), FloatProgress(value=0.0, max=473.0), HTML(value='')))"
      ]
     },
     "metadata": {},
     "output_type": "display_data"
    },
    {
     "name": "stdout",
     "output_type": "stream",
     "text": [
      "\n",
      "epoch[60/200] training loss 2.36661, training accuracy 0.21058\n"
     ]
    },
    {
     "data": {
      "application/vnd.jupyter.widget-view+json": {
       "model_id": "aaf37f9ef5024d11af6a3d1f4d93b2b1",
       "version_major": 2,
       "version_minor": 0
      },
      "text/plain": [
       "HBox(children=(HTML(value=''), FloatProgress(value=0.0, max=119.0), HTML(value='')))"
      ]
     },
     "metadata": {},
     "output_type": "display_data"
    },
    {
     "name": "stdout",
     "output_type": "stream",
     "text": [
      "\n",
      "[val] acc : 0.22751, loss : 2.35242, f1 score : 0.10000\n",
      "best acc : 0.27328, best loss : 2.29444, best f1 : 1.00000\n"
     ]
    },
    {
     "data": {
      "application/vnd.jupyter.widget-view+json": {
       "model_id": "0f7424376feb4572a6800f4b2ec85ca8",
       "version_major": 2,
       "version_minor": 0
      },
      "text/plain": [
       "HBox(children=(HTML(value=''), FloatProgress(value=0.0, max=473.0), HTML(value='')))"
      ]
     },
     "metadata": {},
     "output_type": "display_data"
    },
    {
     "name": "stdout",
     "output_type": "stream",
     "text": [
      "\n",
      "epoch[61/200] training loss 2.36682, training accuracy 0.21111\n"
     ]
    },
    {
     "data": {
      "application/vnd.jupyter.widget-view+json": {
       "model_id": "4a96b6569f0b46989c0ca8c1ac172776",
       "version_major": 2,
       "version_minor": 0
      },
      "text/plain": [
       "HBox(children=(HTML(value=''), FloatProgress(value=0.0, max=119.0), HTML(value='')))"
      ]
     },
     "metadata": {},
     "output_type": "display_data"
    },
    {
     "name": "stdout",
     "output_type": "stream",
     "text": [
      "\n",
      "[val] acc : 0.22751, loss : 2.34742, f1 score : 0.00000\n",
      "best acc : 0.27328, best loss : 2.29444, best f1 : 1.00000\n"
     ]
    },
    {
     "data": {
      "application/vnd.jupyter.widget-view+json": {
       "model_id": "125f5642ecf840408b52590291a52e6e",
       "version_major": 2,
       "version_minor": 0
      },
      "text/plain": [
       "HBox(children=(HTML(value=''), FloatProgress(value=0.0, max=473.0), HTML(value='')))"
      ]
     },
     "metadata": {},
     "output_type": "display_data"
    },
    {
     "name": "stdout",
     "output_type": "stream",
     "text": [
      "\n",
      "epoch[62/200] training loss 2.36842, training accuracy 0.21078\n"
     ]
    },
    {
     "data": {
      "application/vnd.jupyter.widget-view+json": {
       "model_id": "07f467deb4df4f3e8164b9014247e20c",
       "version_major": 2,
       "version_minor": 0
      },
      "text/plain": [
       "HBox(children=(HTML(value=''), FloatProgress(value=0.0, max=119.0), HTML(value='')))"
      ]
     },
     "metadata": {},
     "output_type": "display_data"
    },
    {
     "name": "stdout",
     "output_type": "stream",
     "text": [
      "\n",
      "[val] acc : 0.22751, loss : 2.34373, f1 score : 0.22222\n",
      "best acc : 0.27328, best loss : 2.29444, best f1 : 1.00000\n"
     ]
    },
    {
     "data": {
      "application/vnd.jupyter.widget-view+json": {
       "model_id": "891054ab6bc34932842771b3d3e1e9ce",
       "version_major": 2,
       "version_minor": 0
      },
      "text/plain": [
       "HBox(children=(HTML(value=''), FloatProgress(value=0.0, max=473.0), HTML(value='')))"
      ]
     },
     "metadata": {},
     "output_type": "display_data"
    },
    {
     "name": "stdout",
     "output_type": "stream",
     "text": [
      "\n",
      "epoch[63/200] training loss 2.36561, training accuracy 0.21250\n"
     ]
    },
    {
     "data": {
      "application/vnd.jupyter.widget-view+json": {
       "model_id": "4efb5ff4dcbc49aea9c26a0dbc4d9f10",
       "version_major": 2,
       "version_minor": 0
      },
      "text/plain": [
       "HBox(children=(HTML(value=''), FloatProgress(value=0.0, max=119.0), HTML(value='')))"
      ]
     },
     "metadata": {},
     "output_type": "display_data"
    },
    {
     "name": "stdout",
     "output_type": "stream",
     "text": [
      "\n",
      "[val] acc : 0.22751, loss : 2.34426, f1 score : 0.00000\n",
      "best acc : 0.27328, best loss : 2.29444, best f1 : 1.00000\n"
     ]
    },
    {
     "data": {
      "application/vnd.jupyter.widget-view+json": {
       "model_id": "9f4978f08a4c4e6d8655970849a9338c",
       "version_major": 2,
       "version_minor": 0
      },
      "text/plain": [
       "HBox(children=(HTML(value=''), FloatProgress(value=0.0, max=473.0), HTML(value='')))"
      ]
     },
     "metadata": {},
     "output_type": "display_data"
    },
    {
     "name": "stdout",
     "output_type": "stream",
     "text": [
      "\n",
      "epoch[64/200] training loss 2.36540, training accuracy 0.21098\n"
     ]
    },
    {
     "data": {
      "application/vnd.jupyter.widget-view+json": {
       "model_id": "f81789c7761041a7a0855beb3a1f675c",
       "version_major": 2,
       "version_minor": 0
      },
      "text/plain": [
       "HBox(children=(HTML(value=''), FloatProgress(value=0.0, max=119.0), HTML(value='')))"
      ]
     },
     "metadata": {},
     "output_type": "display_data"
    },
    {
     "name": "stdout",
     "output_type": "stream",
     "text": [
      "\n",
      "[val] acc : 0.22751, loss : 2.34450, f1 score : 0.42857\n",
      "best acc : 0.27328, best loss : 2.29444, best f1 : 1.00000\n"
     ]
    },
    {
     "data": {
      "application/vnd.jupyter.widget-view+json": {
       "model_id": "18b613dc7876453697e6511e4ca21aeb",
       "version_major": 2,
       "version_minor": 0
      },
      "text/plain": [
       "HBox(children=(HTML(value=''), FloatProgress(value=0.0, max=473.0), HTML(value='')))"
      ]
     },
     "metadata": {},
     "output_type": "display_data"
    },
    {
     "name": "stdout",
     "output_type": "stream",
     "text": [
      "\n",
      "epoch[65/200] training loss 2.36498, training accuracy 0.21296\n"
     ]
    },
    {
     "data": {
      "application/vnd.jupyter.widget-view+json": {
       "model_id": "d5b83aafb25e47609f5c28df0c464b89",
       "version_major": 2,
       "version_minor": 0
      },
      "text/plain": [
       "HBox(children=(HTML(value=''), FloatProgress(value=0.0, max=119.0), HTML(value='')))"
      ]
     },
     "metadata": {},
     "output_type": "display_data"
    },
    {
     "name": "stdout",
     "output_type": "stream",
     "text": [
      "\n",
      "[val] acc : 0.22751, loss : 2.34997, f1 score : 0.00000\n",
      "best acc : 0.27328, best loss : 2.29444, best f1 : 1.00000\n"
     ]
    },
    {
     "data": {
      "application/vnd.jupyter.widget-view+json": {
       "model_id": "e74bc3cde4534228a111d336f838b0de",
       "version_major": 2,
       "version_minor": 0
      },
      "text/plain": [
       "HBox(children=(HTML(value=''), FloatProgress(value=0.0, max=473.0), HTML(value='')))"
      ]
     },
     "metadata": {},
     "output_type": "display_data"
    },
    {
     "name": "stdout",
     "output_type": "stream",
     "text": [
      "\n",
      "epoch[66/200] training loss 2.36531, training accuracy 0.21343\n"
     ]
    },
    {
     "data": {
      "application/vnd.jupyter.widget-view+json": {
       "model_id": "9b012ddf014d46b88be7d0b5f87ec1df",
       "version_major": 2,
       "version_minor": 0
      },
      "text/plain": [
       "HBox(children=(HTML(value=''), FloatProgress(value=0.0, max=119.0), HTML(value='')))"
      ]
     },
     "metadata": {},
     "output_type": "display_data"
    },
    {
     "name": "stdout",
     "output_type": "stream",
     "text": [
      "\n",
      "[val] acc : 0.22751, loss : 2.34800, f1 score : 0.00000\n",
      "best acc : 0.27328, best loss : 2.29444, best f1 : 1.00000\n"
     ]
    },
    {
     "data": {
      "application/vnd.jupyter.widget-view+json": {
       "model_id": "2fbc8dd021604f3bb187ab936fe37c24",
       "version_major": 2,
       "version_minor": 0
      },
      "text/plain": [
       "HBox(children=(HTML(value=''), FloatProgress(value=0.0, max=473.0), HTML(value='')))"
      ]
     },
     "metadata": {},
     "output_type": "display_data"
    },
    {
     "name": "stdout",
     "output_type": "stream",
     "text": [
      "\n",
      "epoch[67/200] training loss 2.36514, training accuracy 0.21296\n"
     ]
    },
    {
     "data": {
      "application/vnd.jupyter.widget-view+json": {
       "model_id": "c89131a575c34682adef719c69b0d47b",
       "version_major": 2,
       "version_minor": 0
      },
      "text/plain": [
       "HBox(children=(HTML(value=''), FloatProgress(value=0.0, max=119.0), HTML(value='')))"
      ]
     },
     "metadata": {},
     "output_type": "display_data"
    },
    {
     "name": "stdout",
     "output_type": "stream",
     "text": [
      "\n",
      "[val] acc : 0.22751, loss : 2.34539, f1 score : 0.10000\n",
      "best acc : 0.27328, best loss : 2.29444, best f1 : 1.00000\n"
     ]
    },
    {
     "data": {
      "application/vnd.jupyter.widget-view+json": {
       "model_id": "e2ff981616914b7c96d56a36063bd82c",
       "version_major": 2,
       "version_minor": 0
      },
      "text/plain": [
       "HBox(children=(HTML(value=''), FloatProgress(value=0.0, max=473.0), HTML(value='')))"
      ]
     },
     "metadata": {},
     "output_type": "display_data"
    },
    {
     "name": "stdout",
     "output_type": "stream",
     "text": [
      "\n",
      "epoch[68/200] training loss 2.36497, training accuracy 0.21316\n"
     ]
    },
    {
     "data": {
      "application/vnd.jupyter.widget-view+json": {
       "model_id": "1fe02e55ea7a403fa33a581b6306a2a5",
       "version_major": 2,
       "version_minor": 0
      },
      "text/plain": [
       "HBox(children=(HTML(value=''), FloatProgress(value=0.0, max=119.0), HTML(value='')))"
      ]
     },
     "metadata": {},
     "output_type": "display_data"
    },
    {
     "name": "stdout",
     "output_type": "stream",
     "text": [
      "\n",
      "[val] acc : 0.22751, loss : 2.34673, f1 score : 0.00000\n",
      "best acc : 0.27328, best loss : 2.29444, best f1 : 1.00000\n"
     ]
    },
    {
     "data": {
      "application/vnd.jupyter.widget-view+json": {
       "model_id": "ce69ee34da984f77b4ab1cc309733584",
       "version_major": 2,
       "version_minor": 0
      },
      "text/plain": [
       "HBox(children=(HTML(value=''), FloatProgress(value=0.0, max=473.0), HTML(value='')))"
      ]
     },
     "metadata": {},
     "output_type": "display_data"
    },
    {
     "name": "stdout",
     "output_type": "stream",
     "text": [
      "\n",
      "epoch[69/200] training loss 2.36569, training accuracy 0.21250\n"
     ]
    },
    {
     "data": {
      "application/vnd.jupyter.widget-view+json": {
       "model_id": "5ec16e2bdc7843caa4ddb6ec86643920",
       "version_major": 2,
       "version_minor": 0
      },
      "text/plain": [
       "HBox(children=(HTML(value=''), FloatProgress(value=0.0, max=119.0), HTML(value='')))"
      ]
     },
     "metadata": {},
     "output_type": "display_data"
    },
    {
     "name": "stdout",
     "output_type": "stream",
     "text": [
      "\n",
      "[val] acc : 0.22751, loss : 2.34110, f1 score : 0.20000\n",
      "best acc : 0.27328, best loss : 2.29444, best f1 : 1.00000\n"
     ]
    },
    {
     "data": {
      "application/vnd.jupyter.widget-view+json": {
       "model_id": "f6acb134862d4494bfe56cadfffaaad5",
       "version_major": 2,
       "version_minor": 0
      },
      "text/plain": [
       "HBox(children=(HTML(value=''), FloatProgress(value=0.0, max=473.0), HTML(value='')))"
      ]
     },
     "metadata": {},
     "output_type": "display_data"
    },
    {
     "name": "stdout",
     "output_type": "stream",
     "text": [
      "\n",
      "epoch[70/200] training loss 2.36509, training accuracy 0.21171\n"
     ]
    },
    {
     "data": {
      "application/vnd.jupyter.widget-view+json": {
       "model_id": "d918d37e7de64293933e6e57f9aaf391",
       "version_major": 2,
       "version_minor": 0
      },
      "text/plain": [
       "HBox(children=(HTML(value=''), FloatProgress(value=0.0, max=119.0), HTML(value='')))"
      ]
     },
     "metadata": {},
     "output_type": "display_data"
    },
    {
     "name": "stdout",
     "output_type": "stream",
     "text": [
      "\n",
      "[val] acc : 0.22751, loss : 2.34603, f1 score : 0.10000\n",
      "best acc : 0.27328, best loss : 2.29444, best f1 : 1.00000\n"
     ]
    },
    {
     "data": {
      "application/vnd.jupyter.widget-view+json": {
       "model_id": "810fcce166c2410d84afd7bd719397bc",
       "version_major": 2,
       "version_minor": 0
      },
      "text/plain": [
       "HBox(children=(HTML(value=''), FloatProgress(value=0.0, max=473.0), HTML(value='')))"
      ]
     },
     "metadata": {},
     "output_type": "display_data"
    },
    {
     "name": "stdout",
     "output_type": "stream",
     "text": [
      "\n",
      "epoch[71/200] training loss 2.36447, training accuracy 0.21303\n"
     ]
    },
    {
     "data": {
      "application/vnd.jupyter.widget-view+json": {
       "model_id": "ba9d496b77214627aba1db37f6d8b9d5",
       "version_major": 2,
       "version_minor": 0
      },
      "text/plain": [
       "HBox(children=(HTML(value=''), FloatProgress(value=0.0, max=119.0), HTML(value='')))"
      ]
     },
     "metadata": {},
     "output_type": "display_data"
    },
    {
     "name": "stdout",
     "output_type": "stream",
     "text": [
      "\n",
      "[val] acc : 0.22751, loss : 2.34360, f1 score : 0.10000\n",
      "best acc : 0.27328, best loss : 2.29444, best f1 : 1.00000\n"
     ]
    },
    {
     "data": {
      "application/vnd.jupyter.widget-view+json": {
       "model_id": "95dc066263f04e27906e633d6659a69b",
       "version_major": 2,
       "version_minor": 0
      },
      "text/plain": [
       "HBox(children=(HTML(value=''), FloatProgress(value=0.0, max=473.0), HTML(value='')))"
      ]
     },
     "metadata": {},
     "output_type": "display_data"
    },
    {
     "name": "stdout",
     "output_type": "stream",
     "text": [
      "\n",
      "epoch[72/200] training loss 2.36517, training accuracy 0.21190\n"
     ]
    },
    {
     "data": {
      "application/vnd.jupyter.widget-view+json": {
       "model_id": "be1a35db6d4a4bbf870552c31f64e00b",
       "version_major": 2,
       "version_minor": 0
      },
      "text/plain": [
       "HBox(children=(HTML(value=''), FloatProgress(value=0.0, max=119.0), HTML(value='')))"
      ]
     },
     "metadata": {},
     "output_type": "display_data"
    },
    {
     "name": "stdout",
     "output_type": "stream",
     "text": [
      "\n",
      "[val] acc : 0.22751, loss : 2.33916, f1 score : 0.20000\n",
      "best acc : 0.27328, best loss : 2.29444, best f1 : 1.00000\n"
     ]
    },
    {
     "data": {
      "application/vnd.jupyter.widget-view+json": {
       "model_id": "1b67d2cf8a10422eb79638744062c3e0",
       "version_major": 2,
       "version_minor": 0
      },
      "text/plain": [
       "HBox(children=(HTML(value=''), FloatProgress(value=0.0, max=473.0), HTML(value='')))"
      ]
     },
     "metadata": {},
     "output_type": "display_data"
    },
    {
     "name": "stdout",
     "output_type": "stream",
     "text": [
      "\n",
      "epoch[73/200] training loss 2.36427, training accuracy 0.21323\n"
     ]
    },
    {
     "data": {
      "application/vnd.jupyter.widget-view+json": {
       "model_id": "2a2e35d1245d4961a1be8e9f39909484",
       "version_major": 2,
       "version_minor": 0
      },
      "text/plain": [
       "HBox(children=(HTML(value=''), FloatProgress(value=0.0, max=119.0), HTML(value='')))"
      ]
     },
     "metadata": {},
     "output_type": "display_data"
    },
    {
     "name": "stdout",
     "output_type": "stream",
     "text": [
      "\n",
      "[val] acc : 0.22751, loss : 2.34010, f1 score : 0.22222\n",
      "best acc : 0.27328, best loss : 2.29444, best f1 : 1.00000\n"
     ]
    },
    {
     "data": {
      "application/vnd.jupyter.widget-view+json": {
       "model_id": "465cfc57071c45cba46dde45b1f2132f",
       "version_major": 2,
       "version_minor": 0
      },
      "text/plain": [
       "HBox(children=(HTML(value=''), FloatProgress(value=0.0, max=473.0), HTML(value='')))"
      ]
     },
     "metadata": {},
     "output_type": "display_data"
    },
    {
     "name": "stdout",
     "output_type": "stream",
     "text": [
      "\n",
      "epoch[74/200] training loss 2.36516, training accuracy 0.21310\n"
     ]
    },
    {
     "data": {
      "application/vnd.jupyter.widget-view+json": {
       "model_id": "0c680d67f46249d88a99eb05df6996ad",
       "version_major": 2,
       "version_minor": 0
      },
      "text/plain": [
       "HBox(children=(HTML(value=''), FloatProgress(value=0.0, max=119.0), HTML(value='')))"
      ]
     },
     "metadata": {},
     "output_type": "display_data"
    },
    {
     "name": "stdout",
     "output_type": "stream",
     "text": [
      "\n",
      "[val] acc : 0.22751, loss : 2.34764, f1 score : 0.10000\n",
      "best acc : 0.27328, best loss : 2.29444, best f1 : 1.00000\n"
     ]
    },
    {
     "data": {
      "application/vnd.jupyter.widget-view+json": {
       "model_id": "ebb31efad82f44069ef27acf33f12c11",
       "version_major": 2,
       "version_minor": 0
      },
      "text/plain": [
       "HBox(children=(HTML(value=''), FloatProgress(value=0.0, max=473.0), HTML(value='')))"
      ]
     },
     "metadata": {},
     "output_type": "display_data"
    },
    {
     "name": "stdout",
     "output_type": "stream",
     "text": [
      "\n",
      "epoch[75/200] training loss 2.36468, training accuracy 0.21396\n"
     ]
    },
    {
     "data": {
      "application/vnd.jupyter.widget-view+json": {
       "model_id": "2baee53ccb964d9abae1f19c06c2d817",
       "version_major": 2,
       "version_minor": 0
      },
      "text/plain": [
       "HBox(children=(HTML(value=''), FloatProgress(value=0.0, max=119.0), HTML(value='')))"
      ]
     },
     "metadata": {},
     "output_type": "display_data"
    },
    {
     "name": "stdout",
     "output_type": "stream",
     "text": [
      "\n",
      "[val] acc : 0.22751, loss : 2.34714, f1 score : 0.22222\n",
      "best acc : 0.27328, best loss : 2.29444, best f1 : 1.00000\n"
     ]
    },
    {
     "data": {
      "application/vnd.jupyter.widget-view+json": {
       "model_id": "a62e914f9d5d4184a80d41550dfeac6d",
       "version_major": 2,
       "version_minor": 0
      },
      "text/plain": [
       "HBox(children=(HTML(value=''), FloatProgress(value=0.0, max=473.0), HTML(value='')))"
      ]
     },
     "metadata": {},
     "output_type": "display_data"
    },
    {
     "name": "stdout",
     "output_type": "stream",
     "text": [
      "\n",
      "epoch[76/200] training loss 2.36470, training accuracy 0.21157\n"
     ]
    },
    {
     "data": {
      "application/vnd.jupyter.widget-view+json": {
       "model_id": "51d1dcbcff4c4faa8e9620d65651e4e5",
       "version_major": 2,
       "version_minor": 0
      },
      "text/plain": [
       "HBox(children=(HTML(value=''), FloatProgress(value=0.0, max=119.0), HTML(value='')))"
      ]
     },
     "metadata": {},
     "output_type": "display_data"
    },
    {
     "name": "stdout",
     "output_type": "stream",
     "text": [
      "\n",
      "[val] acc : 0.22751, loss : 2.34294, f1 score : 0.00000\n",
      "best acc : 0.27328, best loss : 2.29444, best f1 : 1.00000\n"
     ]
    },
    {
     "data": {
      "application/vnd.jupyter.widget-view+json": {
       "model_id": "108ad2017f9440349083b1c17e16bbdb",
       "version_major": 2,
       "version_minor": 0
      },
      "text/plain": [
       "HBox(children=(HTML(value=''), FloatProgress(value=0.0, max=473.0), HTML(value='')))"
      ]
     },
     "metadata": {},
     "output_type": "display_data"
    },
    {
     "name": "stdout",
     "output_type": "stream",
     "text": [
      "\n",
      "epoch[77/200] training loss 2.36458, training accuracy 0.21171\n"
     ]
    },
    {
     "data": {
      "application/vnd.jupyter.widget-view+json": {
       "model_id": "a935280177484c6d9cf70386cac8774c",
       "version_major": 2,
       "version_minor": 0
      },
      "text/plain": [
       "HBox(children=(HTML(value=''), FloatProgress(value=0.0, max=119.0), HTML(value='')))"
      ]
     },
     "metadata": {},
     "output_type": "display_data"
    },
    {
     "name": "stdout",
     "output_type": "stream",
     "text": [
      "\n",
      "[val] acc : 0.22751, loss : 2.34891, f1 score : 0.00000\n",
      "best acc : 0.27328, best loss : 2.29444, best f1 : 1.00000\n"
     ]
    },
    {
     "data": {
      "application/vnd.jupyter.widget-view+json": {
       "model_id": "df2756051faa4d66a5118455425d4864",
       "version_major": 2,
       "version_minor": 0
      },
      "text/plain": [
       "HBox(children=(HTML(value=''), FloatProgress(value=0.0, max=473.0), HTML(value='')))"
      ]
     },
     "metadata": {},
     "output_type": "display_data"
    },
    {
     "name": "stdout",
     "output_type": "stream",
     "text": [
      "\n",
      "epoch[78/200] training loss 2.36445, training accuracy 0.21323\n"
     ]
    },
    {
     "data": {
      "application/vnd.jupyter.widget-view+json": {
       "model_id": "5b310c2b4a644051b3b0a6eae7b3a60a",
       "version_major": 2,
       "version_minor": 0
      },
      "text/plain": [
       "HBox(children=(HTML(value=''), FloatProgress(value=0.0, max=119.0), HTML(value='')))"
      ]
     },
     "metadata": {},
     "output_type": "display_data"
    },
    {
     "name": "stdout",
     "output_type": "stream",
     "text": [
      "\n",
      "[val] acc : 0.22751, loss : 2.34373, f1 score : 0.22222\n",
      "best acc : 0.27328, best loss : 2.29444, best f1 : 1.00000\n"
     ]
    },
    {
     "data": {
      "application/vnd.jupyter.widget-view+json": {
       "model_id": "c0193d7452ef40b4b0564ca6e4e1dc3a",
       "version_major": 2,
       "version_minor": 0
      },
      "text/plain": [
       "HBox(children=(HTML(value=''), FloatProgress(value=0.0, max=473.0), HTML(value='')))"
      ]
     },
     "metadata": {},
     "output_type": "display_data"
    },
    {
     "name": "stdout",
     "output_type": "stream",
     "text": [
      "\n"
     ]
    },
    {
     "ename": "KeyboardInterrupt",
     "evalue": "",
     "output_type": "error",
     "traceback": [
      "\u001b[0;31m---------------------------------------------------------------------------\u001b[0m",
      "\u001b[0;31mKeyboardInterrupt\u001b[0m                         Traceback (most recent call last)",
      "\u001b[0;32m<ipython-input-20-15a50987e617>\u001b[0m in \u001b[0;36m<module>\u001b[0;34m\u001b[0m\n\u001b[1;32m     21\u001b[0m \u001b[0;34m\u001b[0m\u001b[0m\n\u001b[1;32m     22\u001b[0m         \u001b[0moptimizer\u001b[0m\u001b[0;34m.\u001b[0m\u001b[0mzero_grad\u001b[0m\u001b[0;34m(\u001b[0m\u001b[0;34m)\u001b[0m\u001b[0;34m\u001b[0m\u001b[0;34m\u001b[0m\u001b[0m\n\u001b[0;32m---> 23\u001b[0;31m         \u001b[0mloss\u001b[0m\u001b[0;34m.\u001b[0m\u001b[0mbackward\u001b[0m\u001b[0;34m(\u001b[0m\u001b[0;34m)\u001b[0m\u001b[0;34m\u001b[0m\u001b[0;34m\u001b[0m\u001b[0m\n\u001b[0m\u001b[1;32m     24\u001b[0m         \u001b[0moptimizer\u001b[0m\u001b[0;34m.\u001b[0m\u001b[0mstep\u001b[0m\u001b[0;34m(\u001b[0m\u001b[0;34m)\u001b[0m\u001b[0;34m\u001b[0m\u001b[0;34m\u001b[0m\u001b[0m\n\u001b[1;32m     25\u001b[0m \u001b[0;34m\u001b[0m\u001b[0m\n",
      "\u001b[0;32m/opt/conda/lib/python3.8/site-packages/torch/_tensor.py\u001b[0m in \u001b[0;36mbackward\u001b[0;34m(self, gradient, retain_graph, create_graph, inputs)\u001b[0m\n\u001b[1;32m    485\u001b[0m                 \u001b[0minputs\u001b[0m\u001b[0;34m=\u001b[0m\u001b[0minputs\u001b[0m\u001b[0;34m,\u001b[0m\u001b[0;34m\u001b[0m\u001b[0;34m\u001b[0m\u001b[0m\n\u001b[1;32m    486\u001b[0m             )\n\u001b[0;32m--> 487\u001b[0;31m         torch.autograd.backward(\n\u001b[0m\u001b[1;32m    488\u001b[0m             \u001b[0mself\u001b[0m\u001b[0;34m,\u001b[0m \u001b[0mgradient\u001b[0m\u001b[0;34m,\u001b[0m \u001b[0mretain_graph\u001b[0m\u001b[0;34m,\u001b[0m \u001b[0mcreate_graph\u001b[0m\u001b[0;34m,\u001b[0m \u001b[0minputs\u001b[0m\u001b[0;34m=\u001b[0m\u001b[0minputs\u001b[0m\u001b[0;34m\u001b[0m\u001b[0;34m\u001b[0m\u001b[0m\n\u001b[1;32m    489\u001b[0m         )\n",
      "\u001b[0;32m/opt/conda/lib/python3.8/site-packages/torch/autograd/__init__.py\u001b[0m in \u001b[0;36mbackward\u001b[0;34m(tensors, grad_tensors, retain_graph, create_graph, grad_variables, inputs)\u001b[0m\n\u001b[1;32m    195\u001b[0m     \u001b[0;31m# some Python versions print out the first line of a multi-line function\u001b[0m\u001b[0;34m\u001b[0m\u001b[0;34m\u001b[0m\u001b[0;34m\u001b[0m\u001b[0m\n\u001b[1;32m    196\u001b[0m     \u001b[0;31m# calls in the traceback and some print out the last line\u001b[0m\u001b[0;34m\u001b[0m\u001b[0;34m\u001b[0m\u001b[0;34m\u001b[0m\u001b[0m\n\u001b[0;32m--> 197\u001b[0;31m     Variable._execution_engine.run_backward(  # Calls into the C++ engine to run the backward pass\n\u001b[0m\u001b[1;32m    198\u001b[0m         \u001b[0mtensors\u001b[0m\u001b[0;34m,\u001b[0m \u001b[0mgrad_tensors_\u001b[0m\u001b[0;34m,\u001b[0m \u001b[0mretain_graph\u001b[0m\u001b[0;34m,\u001b[0m \u001b[0mcreate_graph\u001b[0m\u001b[0;34m,\u001b[0m \u001b[0minputs\u001b[0m\u001b[0;34m,\u001b[0m\u001b[0;34m\u001b[0m\u001b[0;34m\u001b[0m\u001b[0m\n\u001b[1;32m    199\u001b[0m         allow_unreachable=True, accumulate_grad=True)  # Calls into the C++ engine to run the backward pass\n",
      "\u001b[0;31mKeyboardInterrupt\u001b[0m: "
     ]
    }
   ],
   "source": [
    "best_val_acc = 0\n",
    "best_val_loss = np.inf\n",
    "# patience = 5\n",
    "# cur_count = 0\n",
    "\n",
    "f1 = F1Score(num_classes=class_num, average='macro').to(device)\n",
    "best_f1_score = 0\n",
    "\n",
    "for epoch in range(NUM_EPOCH):\n",
    "    model.train()\n",
    "    loss_value = 0\n",
    "    matches = 0\n",
    "    for train_batch in tqdm(train_dataloader_mask):\n",
    "        inputs, labels = train_batch\n",
    "        inputs = inputs.to(device)\n",
    "        labels = labels.to(device)\n",
    "        \n",
    "        outs = model(inputs)\n",
    "        preds = torch.argmax(outs, dim=-1)\n",
    "        loss = criterion(outs, labels)\n",
    "        \n",
    "        optimizer.zero_grad()\n",
    "        loss.backward()\n",
    "        optimizer.step()\n",
    "        \n",
    "        if epoch % 10 == 0:\n",
    "            torch.save(model, f'/opt/ml/checkpoint/swin_v2_s/nonfreeze_checkpoint_ep_{epoch}.pt')\n",
    "        \n",
    "        loss_value += loss.item()\n",
    "        matches += (preds == labels).sum().item()\n",
    "        \n",
    "    train_loss = loss_value / len(train_dataloader_mask)\n",
    "    train_acc = matches / len(mask_train_set)\n",
    "    \n",
    "    scheduler.step()\n",
    "    \n",
    "    print(f\"epoch[{epoch}/{NUM_EPOCH}] training loss {train_loss:.5f}, training accuracy {train_acc:.5f}\")\n",
    "    \n",
    "    with torch.no_grad():\n",
    "        model.eval()\n",
    "        val_loss_items = []\n",
    "        val_acc_items = []\n",
    "        for val_batch in tqdm(val_dataloader_mask):\n",
    "            inputs, labels = val_batch\n",
    "            inputs = inputs.to(device)\n",
    "            labels = labels.to(device)\n",
    "            \n",
    "            outs = model(inputs)\n",
    "            preds = torch.argmax(outs, dim=-1)\n",
    "            \n",
    "            loss_item = criterion(outs, labels).item()\n",
    "            acc_item = (labels==preds).sum().item()\n",
    "            val_loss_items.append(loss_item)\n",
    "            val_acc_items.append(acc_item)\n",
    "            \n",
    "        val_loss = np.sum(val_loss_items) / len(val_dataloader_mask)\n",
    "        val_acc = np.sum(val_acc_items) / len(mask_val_set)\n",
    "        \n",
    "        f1_score = f1(outs, labels)\n",
    "        \n",
    "        if val_loss < best_val_loss:\n",
    "            best_val_loss = val_loss\n",
    "#             cur_count = 0\n",
    "#             torch.save(model, '/opt/ml/checkpoint/swin_v2_s/nonfreeze_checkpoint_new_best.pt')                     \n",
    "#         else:\n",
    "#             cur_count += 1\n",
    "#             if cur_count >= patience:\n",
    "#                 print(\"Early Stopping!\")\n",
    "#                 break\n",
    "                \n",
    "        if val_acc > best_val_acc:\n",
    "            best_val_acc = val_acc\n",
    "        \n",
    "        if f1_score > best_f1_score:\n",
    "            best_f1_score = f1_score\n",
    "\n",
    "                \n",
    "        print(f\"[val] acc : {val_acc:.5f}, loss : {val_loss:.5f}, f1 score : {f1_score:.5f}\")\n",
    "        print(f\"best acc : {best_val_acc:.5f}, best loss : {best_val_loss:.5f}, best f1 : {best_f1_score:.5f}\")"
   ]
  },
  {
   "cell_type": "code",
   "execution_count": 20,
   "id": "afda23d0-6ad9-408b-99c9-705ae5fd8347",
   "metadata": {},
   "outputs": [
    {
     "data": {
      "text/html": [
       "<div>\n",
       "<style scoped>\n",
       "    .dataframe tbody tr th:only-of-type {\n",
       "        vertical-align: middle;\n",
       "    }\n",
       "\n",
       "    .dataframe tbody tr th {\n",
       "        vertical-align: top;\n",
       "    }\n",
       "\n",
       "    .dataframe thead th {\n",
       "        text-align: right;\n",
       "    }\n",
       "</style>\n",
       "<table border=\"1\" class=\"dataframe\">\n",
       "  <thead>\n",
       "    <tr style=\"text-align: right;\">\n",
       "      <th></th>\n",
       "      <th>ImageID</th>\n",
       "      <th>ans</th>\n",
       "    </tr>\n",
       "  </thead>\n",
       "  <tbody>\n",
       "    <tr>\n",
       "      <th>0</th>\n",
       "      <td>cbc5c6e168e63498590db46022617123f1fe1268.jpg</td>\n",
       "      <td>0</td>\n",
       "    </tr>\n",
       "    <tr>\n",
       "      <th>1</th>\n",
       "      <td>0e72482bf56b3581c081f7da2a6180b8792c7089.jpg</td>\n",
       "      <td>0</td>\n",
       "    </tr>\n",
       "    <tr>\n",
       "      <th>2</th>\n",
       "      <td>b549040c49190cedc41327748aeb197c1670f14d.jpg</td>\n",
       "      <td>0</td>\n",
       "    </tr>\n",
       "    <tr>\n",
       "      <th>3</th>\n",
       "      <td>4f9cb2a045c6d5b9e50ad3459ea7b791eb6e18bc.jpg</td>\n",
       "      <td>0</td>\n",
       "    </tr>\n",
       "    <tr>\n",
       "      <th>4</th>\n",
       "      <td>248428d9a4a5b6229a7081c32851b90cb8d38d0c.jpg</td>\n",
       "      <td>0</td>\n",
       "    </tr>\n",
       "  </tbody>\n",
       "</table>\n",
       "</div>"
      ],
      "text/plain": [
       "                                        ImageID  ans\n",
       "0  cbc5c6e168e63498590db46022617123f1fe1268.jpg    0\n",
       "1  0e72482bf56b3581c081f7da2a6180b8792c7089.jpg    0\n",
       "2  b549040c49190cedc41327748aeb197c1670f14d.jpg    0\n",
       "3  4f9cb2a045c6d5b9e50ad3459ea7b791eb6e18bc.jpg    0\n",
       "4  248428d9a4a5b6229a7081c32851b90cb8d38d0c.jpg    0"
      ]
     },
     "execution_count": 20,
     "metadata": {},
     "output_type": "execute_result"
    }
   ],
   "source": [
    "# meta 데이터와 이미지 경로를 불러옵니다.\n",
    "test_dir_path = '/opt/ml/input/data/eval/'\n",
    "test_image_path = '/opt/ml/input/data/eval/images/'\n",
    "\n",
    "best_model = torch.load('/opt/ml/checkpoint/swin_v2_s/new_checkpoint_ep_10.pt')\n",
    "submission = pd.read_csv(test_dir_path+'info.csv')\n",
    "submission.head()"
   ]
  },
  {
   "cell_type": "code",
   "execution_count": 21,
   "id": "566c2df1-a083-4e27-a655-f2c73d15f762",
   "metadata": {},
   "outputs": [],
   "source": [
    "image_paths = [os.path.join(test_image_path, img_id) for img_id in submission.ImageID]\n",
    "test_image = pd.Series(image_paths)"
   ]
  },
  {
   "cell_type": "code",
   "execution_count": 22,
   "id": "a9c14322-45a8-40a5-aded-f335204484b1",
   "metadata": {},
   "outputs": [],
   "source": [
    "class Test_Dataset(Dataset):\n",
    "    def __init__(self, midcrop=True, transform=None):\n",
    "        self.midcrop = midcrop\n",
    "        self.data = test_image\n",
    "        self.transform = transform\n",
    "        \n",
    "    def __len__(self):\n",
    "        return len(test_image)\n",
    "    \n",
    "    def __getitem__(self, idx):\n",
    "        img = cv2.cvtColor(cv2.imread(self.data[idx]), cv2.COLOR_BGR2RGB)\n",
    "        \n",
    "        if self.midcrop:\n",
    "            img = img[70:420, 17:367]\n",
    "            \n",
    "        if self.transform:\n",
    "            img = self.transform(img)\n",
    "            \n",
    "        return img"
   ]
  },
  {
   "cell_type": "code",
   "execution_count": 23,
   "id": "138db932-cc09-4f85-89d8-e7485659f7cd",
   "metadata": {},
   "outputs": [
    {
     "name": "stdout",
     "output_type": "stream",
     "text": [
      "test inference is done!\n"
     ]
    }
   ],
   "source": [
    "dataset = Test_Dataset(transform = transforms.Compose([\n",
    "                            transforms.ToTensor()\n",
    "                        ]))\n",
    "\n",
    "loader = DataLoader(\n",
    "    dataset,\n",
    "    batch_size=batch_size,\n",
    "    shuffle=False,\n",
    "    num_workers=2\n",
    ")\n",
    "\n",
    "# 모델을 정의합니다. (학습한 모델이 있다면 torch.load로 모델을 불러주세요!)\n",
    "device = torch.device('cuda')\n",
    "model = best_model.to(device)\n",
    "model.eval()\n",
    "\n",
    "# 모델이 테스트 데이터셋을 예측하고 결과를 저장합니다.\n",
    "all_predictions = []\n",
    "for images in loader:\n",
    "    with torch.no_grad():\n",
    "        images = images.to(device)\n",
    "        pred = model(images)\n",
    "        pred = pred.argmax(dim=-1)\n",
    "        all_predictions.extend(pred.cpu().numpy())\n",
    "submission['ans'] = all_predictions\n",
    "\n",
    "# 제출할 파일을 저장합니다.\n",
    "submission.to_csv(os.path.join(test_dir_path, 'submission_swin_v2_s_ep81.csv'), index=False)\n",
    "print('test inference is done!')"
   ]
  },
  {
   "cell_type": "code",
   "execution_count": null,
   "id": "2fd05b0a-17a2-47b4-b10d-de6e4344e098",
   "metadata": {},
   "outputs": [],
   "source": [
    "/opt/ml/checkpoint/swin_transfrmer_t_2/"
   ]
  }
 ],
 "metadata": {
  "kernelspec": {
   "display_name": "Python 3",
   "language": "python",
   "name": "python3"
  },
  "language_info": {
   "codemirror_mode": {
    "name": "ipython",
    "version": 3
   },
   "file_extension": ".py",
   "mimetype": "text/x-python",
   "name": "python",
   "nbconvert_exporter": "python",
   "pygments_lexer": "ipython3",
   "version": "3.8.5"
  },
  "vscode": {
   "interpreter": {
    "hash": "31f2aee4e71d21fbe5cf8b01ff0e069b9275f58929596ceb00d14d90e3e16cd6"
   }
  }
 },
 "nbformat": 4,
 "nbformat_minor": 5
}
