{
 "cells": [
  {
   "cell_type": "code",
   "execution_count": 1,
   "id": "1531288b-3caa-4cb1-b15c-7334747a5a9f",
   "metadata": {},
   "outputs": [],
   "source": [
    "import torch, gc\n",
    "gc.collect()\n",
    "torch.cuda.empty_cache()"
   ]
  },
  {
   "cell_type": "code",
   "execution_count": 2,
   "id": "69bc6ad5-8c6e-47b0-b625-46f66dc71d30",
   "metadata": {},
   "outputs": [
    {
     "name": "stdout",
     "output_type": "stream",
     "text": [
      "| ID | GPU | MEM |\n",
      "------------------\n",
      "|  0 |  7% |  0% |\n"
     ]
    }
   ],
   "source": [
    "import GPUtil\n",
    "GPUtil.showUtilization()"
   ]
  },
  {
   "cell_type": "code",
   "execution_count": 3,
   "id": "0b1d65a3-78de-4b01-a862-e6bd4c7ef135",
   "metadata": {},
   "outputs": [],
   "source": [
    "import torch\n",
    "import torch.nn as nn\n",
    "import torchvision\n",
    "from torchvision import transforms\n",
    "from torch.utils.data import Dataset, DataLoader\n",
    "from sklearn.model_selection import train_test_split\n",
    "\n",
    "import numpy as np\n",
    "import pandas as pd\n",
    "import cv2\n",
    "from PIL import Image\n",
    "import matplotlib.pyplot as plt\n",
    "from tqdm.notebook import tqdm\n",
    "import random\n",
    "import os\n",
    "from torchmetrics import F1Score"
   ]
  },
  {
   "cell_type": "code",
   "execution_count": 4,
   "id": "fa8d19de-5a8e-454f-a22b-129e94792395",
   "metadata": {},
   "outputs": [],
   "source": [
    "random_seed = 12\n",
    "torch.manual_seed(random_seed)\n",
    "torch.cuda.manual_seed(random_seed)\n",
    "torch.cuda.manual_seed_all(random_seed) # if use multi-GPU\n",
    "torch.backends.cudnn.deterministic = True\n",
    "torch.backends.cudnn.benchmark = False\n",
    "np.random.seed(random_seed)\n",
    "random.seed(random_seed)"
   ]
  },
  {
   "cell_type": "code",
   "execution_count": 5,
   "id": "6f69f93c-5675-433f-8a88-7bf8e411d51c",
   "metadata": {},
   "outputs": [
    {
     "data": {
      "text/html": [
       "<div>\n",
       "<style scoped>\n",
       "    .dataframe tbody tr th:only-of-type {\n",
       "        vertical-align: middle;\n",
       "    }\n",
       "\n",
       "    .dataframe tbody tr th {\n",
       "        vertical-align: top;\n",
       "    }\n",
       "\n",
       "    .dataframe thead th {\n",
       "        text-align: right;\n",
       "    }\n",
       "</style>\n",
       "<table border=\"1\" class=\"dataframe\">\n",
       "  <thead>\n",
       "    <tr style=\"text-align: right;\">\n",
       "      <th></th>\n",
       "      <th>id</th>\n",
       "      <th>gender</th>\n",
       "      <th>race</th>\n",
       "      <th>age</th>\n",
       "      <th>path</th>\n",
       "    </tr>\n",
       "  </thead>\n",
       "  <tbody>\n",
       "    <tr>\n",
       "      <th>0</th>\n",
       "      <td>000001</td>\n",
       "      <td>female</td>\n",
       "      <td>Asian</td>\n",
       "      <td>45</td>\n",
       "      <td>000001_female_Asian_45</td>\n",
       "    </tr>\n",
       "    <tr>\n",
       "      <th>1</th>\n",
       "      <td>000002</td>\n",
       "      <td>female</td>\n",
       "      <td>Asian</td>\n",
       "      <td>52</td>\n",
       "      <td>000002_female_Asian_52</td>\n",
       "    </tr>\n",
       "    <tr>\n",
       "      <th>2</th>\n",
       "      <td>000004</td>\n",
       "      <td>male</td>\n",
       "      <td>Asian</td>\n",
       "      <td>54</td>\n",
       "      <td>000004_male_Asian_54</td>\n",
       "    </tr>\n",
       "    <tr>\n",
       "      <th>3</th>\n",
       "      <td>000005</td>\n",
       "      <td>female</td>\n",
       "      <td>Asian</td>\n",
       "      <td>58</td>\n",
       "      <td>000005_female_Asian_58</td>\n",
       "    </tr>\n",
       "    <tr>\n",
       "      <th>4</th>\n",
       "      <td>000006</td>\n",
       "      <td>female</td>\n",
       "      <td>Asian</td>\n",
       "      <td>59</td>\n",
       "      <td>000006_female_Asian_59</td>\n",
       "    </tr>\n",
       "    <tr>\n",
       "      <th>...</th>\n",
       "      <td>...</td>\n",
       "      <td>...</td>\n",
       "      <td>...</td>\n",
       "      <td>...</td>\n",
       "      <td>...</td>\n",
       "    </tr>\n",
       "    <tr>\n",
       "      <th>2695</th>\n",
       "      <td>006954</td>\n",
       "      <td>male</td>\n",
       "      <td>Asian</td>\n",
       "      <td>19</td>\n",
       "      <td>006954_male_Asian_19</td>\n",
       "    </tr>\n",
       "    <tr>\n",
       "      <th>2696</th>\n",
       "      <td>006955</td>\n",
       "      <td>male</td>\n",
       "      <td>Asian</td>\n",
       "      <td>19</td>\n",
       "      <td>006955_male_Asian_19</td>\n",
       "    </tr>\n",
       "    <tr>\n",
       "      <th>2697</th>\n",
       "      <td>006956</td>\n",
       "      <td>male</td>\n",
       "      <td>Asian</td>\n",
       "      <td>19</td>\n",
       "      <td>006956_male_Asian_19</td>\n",
       "    </tr>\n",
       "    <tr>\n",
       "      <th>2698</th>\n",
       "      <td>006957</td>\n",
       "      <td>male</td>\n",
       "      <td>Asian</td>\n",
       "      <td>20</td>\n",
       "      <td>006957_male_Asian_20</td>\n",
       "    </tr>\n",
       "    <tr>\n",
       "      <th>2699</th>\n",
       "      <td>006959</td>\n",
       "      <td>male</td>\n",
       "      <td>Asian</td>\n",
       "      <td>19</td>\n",
       "      <td>006959_male_Asian_19</td>\n",
       "    </tr>\n",
       "  </tbody>\n",
       "</table>\n",
       "<p>2700 rows × 5 columns</p>\n",
       "</div>"
      ],
      "text/plain": [
       "          id  gender   race  age                    path\n",
       "0     000001  female  Asian   45  000001_female_Asian_45\n",
       "1     000002  female  Asian   52  000002_female_Asian_52\n",
       "2     000004    male  Asian   54    000004_male_Asian_54\n",
       "3     000005  female  Asian   58  000005_female_Asian_58\n",
       "4     000006  female  Asian   59  000006_female_Asian_59\n",
       "...      ...     ...    ...  ...                     ...\n",
       "2695  006954    male  Asian   19    006954_male_Asian_19\n",
       "2696  006955    male  Asian   19    006955_male_Asian_19\n",
       "2697  006956    male  Asian   19    006956_male_Asian_19\n",
       "2698  006957    male  Asian   20    006957_male_Asian_20\n",
       "2699  006959    male  Asian   19    006959_male_Asian_19\n",
       "\n",
       "[2700 rows x 5 columns]"
      ]
     },
     "execution_count": 5,
     "metadata": {},
     "output_type": "execute_result"
    }
   ],
   "source": [
    "train_dir_path = '/opt/ml/input/data/train/'\n",
    "train_image_path = '/opt/ml/input/data/train/images/'\n",
    "\n",
    "dt_train = pd.read_csv(train_dir_path+'train.csv')\n",
    "dt_train"
   ]
  },
  {
   "cell_type": "code",
   "execution_count": 6,
   "id": "e02f6e90-56db-4610-84c0-bd91ce51b7ab",
   "metadata": {},
   "outputs": [],
   "source": [
    "def get_age_range(age):\n",
    "    if age < 30:\n",
    "        return 0\n",
    "    elif 30 <= age < 60:\n",
    "        return 1\n",
    "    else:\n",
    "        return 2"
   ]
  },
  {
   "cell_type": "code",
   "execution_count": 7,
   "id": "a727ed75-06f7-4828-be29-55e7cbdddfcc",
   "metadata": {},
   "outputs": [],
   "source": [
    "dt_train['age_range'] = dt_train['age'].apply(lambda x : get_age_range(x))"
   ]
  },
  {
   "cell_type": "code",
   "execution_count": 8,
   "id": "053dd987-184c-4528-97c0-954a568e626c",
   "metadata": {},
   "outputs": [
    {
     "data": {
      "text/html": [
       "<div>\n",
       "<style scoped>\n",
       "    .dataframe tbody tr th:only-of-type {\n",
       "        vertical-align: middle;\n",
       "    }\n",
       "\n",
       "    .dataframe tbody tr th {\n",
       "        vertical-align: top;\n",
       "    }\n",
       "\n",
       "    .dataframe thead th {\n",
       "        text-align: right;\n",
       "    }\n",
       "</style>\n",
       "<table border=\"1\" class=\"dataframe\">\n",
       "  <thead>\n",
       "    <tr style=\"text-align: right;\">\n",
       "      <th></th>\n",
       "      <th>id</th>\n",
       "      <th>gender</th>\n",
       "      <th>race</th>\n",
       "      <th>age</th>\n",
       "      <th>path</th>\n",
       "      <th>age_range</th>\n",
       "    </tr>\n",
       "  </thead>\n",
       "  <tbody>\n",
       "    <tr>\n",
       "      <th>0</th>\n",
       "      <td>000001</td>\n",
       "      <td>female</td>\n",
       "      <td>Asian</td>\n",
       "      <td>45</td>\n",
       "      <td>000001_female_Asian_45</td>\n",
       "      <td>1</td>\n",
       "    </tr>\n",
       "    <tr>\n",
       "      <th>1</th>\n",
       "      <td>000002</td>\n",
       "      <td>female</td>\n",
       "      <td>Asian</td>\n",
       "      <td>52</td>\n",
       "      <td>000002_female_Asian_52</td>\n",
       "      <td>1</td>\n",
       "    </tr>\n",
       "    <tr>\n",
       "      <th>2</th>\n",
       "      <td>000004</td>\n",
       "      <td>male</td>\n",
       "      <td>Asian</td>\n",
       "      <td>54</td>\n",
       "      <td>000004_male_Asian_54</td>\n",
       "      <td>1</td>\n",
       "    </tr>\n",
       "    <tr>\n",
       "      <th>3</th>\n",
       "      <td>000005</td>\n",
       "      <td>female</td>\n",
       "      <td>Asian</td>\n",
       "      <td>58</td>\n",
       "      <td>000005_female_Asian_58</td>\n",
       "      <td>1</td>\n",
       "    </tr>\n",
       "    <tr>\n",
       "      <th>4</th>\n",
       "      <td>000006</td>\n",
       "      <td>female</td>\n",
       "      <td>Asian</td>\n",
       "      <td>59</td>\n",
       "      <td>000006_female_Asian_59</td>\n",
       "      <td>1</td>\n",
       "    </tr>\n",
       "    <tr>\n",
       "      <th>...</th>\n",
       "      <td>...</td>\n",
       "      <td>...</td>\n",
       "      <td>...</td>\n",
       "      <td>...</td>\n",
       "      <td>...</td>\n",
       "      <td>...</td>\n",
       "    </tr>\n",
       "    <tr>\n",
       "      <th>2695</th>\n",
       "      <td>006954</td>\n",
       "      <td>male</td>\n",
       "      <td>Asian</td>\n",
       "      <td>19</td>\n",
       "      <td>006954_male_Asian_19</td>\n",
       "      <td>0</td>\n",
       "    </tr>\n",
       "    <tr>\n",
       "      <th>2696</th>\n",
       "      <td>006955</td>\n",
       "      <td>male</td>\n",
       "      <td>Asian</td>\n",
       "      <td>19</td>\n",
       "      <td>006955_male_Asian_19</td>\n",
       "      <td>0</td>\n",
       "    </tr>\n",
       "    <tr>\n",
       "      <th>2697</th>\n",
       "      <td>006956</td>\n",
       "      <td>male</td>\n",
       "      <td>Asian</td>\n",
       "      <td>19</td>\n",
       "      <td>006956_male_Asian_19</td>\n",
       "      <td>0</td>\n",
       "    </tr>\n",
       "    <tr>\n",
       "      <th>2698</th>\n",
       "      <td>006957</td>\n",
       "      <td>male</td>\n",
       "      <td>Asian</td>\n",
       "      <td>20</td>\n",
       "      <td>006957_male_Asian_20</td>\n",
       "      <td>0</td>\n",
       "    </tr>\n",
       "    <tr>\n",
       "      <th>2699</th>\n",
       "      <td>006959</td>\n",
       "      <td>male</td>\n",
       "      <td>Asian</td>\n",
       "      <td>19</td>\n",
       "      <td>006959_male_Asian_19</td>\n",
       "      <td>0</td>\n",
       "    </tr>\n",
       "  </tbody>\n",
       "</table>\n",
       "<p>2700 rows × 6 columns</p>\n",
       "</div>"
      ],
      "text/plain": [
       "          id  gender   race  age                    path  age_range\n",
       "0     000001  female  Asian   45  000001_female_Asian_45          1\n",
       "1     000002  female  Asian   52  000002_female_Asian_52          1\n",
       "2     000004    male  Asian   54    000004_male_Asian_54          1\n",
       "3     000005  female  Asian   58  000005_female_Asian_58          1\n",
       "4     000006  female  Asian   59  000006_female_Asian_59          1\n",
       "...      ...     ...    ...  ...                     ...        ...\n",
       "2695  006954    male  Asian   19    006954_male_Asian_19          0\n",
       "2696  006955    male  Asian   19    006955_male_Asian_19          0\n",
       "2697  006956    male  Asian   19    006956_male_Asian_19          0\n",
       "2698  006957    male  Asian   20    006957_male_Asian_20          0\n",
       "2699  006959    male  Asian   19    006959_male_Asian_19          0\n",
       "\n",
       "[2700 rows x 6 columns]"
      ]
     },
     "execution_count": 8,
     "metadata": {},
     "output_type": "execute_result"
    }
   ],
   "source": [
    "dt_train"
   ]
  },
  {
   "cell_type": "code",
   "execution_count": 9,
   "id": "2e1db9ec-22a0-4b6a-a099-346389defb1c",
   "metadata": {},
   "outputs": [],
   "source": [
    "train_idx, valid_idx = train_test_split(np.arange(len(dt_train)),\n",
    "                                       test_size=0.2,\n",
    "                                       shuffle=True,\n",
    "                                       stratify=dt_train['age_range'])"
   ]
  },
  {
   "cell_type": "code",
   "execution_count": 10,
   "id": "5b99a768-861d-43ad-ab2d-d62ac76311d6",
   "metadata": {},
   "outputs": [],
   "source": [
    "train_image = []\n",
    "train_label = []\n",
    "\n",
    "for idx in train_idx:\n",
    "    path = dt_train.iloc[idx]['path']\n",
    "    for file_name in [i for i in os.listdir(train_image_path+path) if i[0] != '.']:\n",
    "        train_image.append(train_image_path+path+'/'+file_name)\n",
    "        train_label.append((path.split('_')[1], path.split('_')[3], file_name.split('.')[0]))                            "
   ]
  },
  {
   "cell_type": "code",
   "execution_count": 11,
   "id": "ef44b512-3028-4fca-b4d9-edceabd7d2d9",
   "metadata": {},
   "outputs": [],
   "source": [
    "valid_image = []\n",
    "valid_label = []\n",
    "\n",
    "for idx in valid_idx:\n",
    "    path = dt_train.iloc[idx]['path']\n",
    "    for file_name in [i for i in os.listdir(train_image_path+path) if i[0] != '.']:\n",
    "        valid_image.append(train_image_path+path+'/'+file_name)\n",
    "        valid_label.append((path.split('_')[1], path.split('_')[3], file_name.split('.')[0]))              "
   ]
  },
  {
   "cell_type": "code",
   "execution_count": 12,
   "id": "98de1eb4-55d4-41ba-8541-70fff9bb011e",
   "metadata": {},
   "outputs": [],
   "source": [
    "def onehot_enc(x):\n",
    "    def gender(i):\n",
    "        if i == 'male':\n",
    "            return 0\n",
    "        elif i == 'female':\n",
    "            return 3\n",
    "    def age(j):\n",
    "        j = int(j)\n",
    "        if j < 30:\n",
    "            return 0\n",
    "        elif j >= 30 and j < 60:\n",
    "            return 1\n",
    "        elif j >= 60:\n",
    "            return 2\n",
    "    def mask(k):\n",
    "        if k == 'normal':\n",
    "            return 12\n",
    "        elif 'incorrect' in k:\n",
    "            return 6\n",
    "        else:\n",
    "            return 0\n",
    "    return gender(x[0]) + age(x[1]) + mask(x[2])"
   ]
  },
  {
   "cell_type": "code",
   "execution_count": 13,
   "id": "694474c7-7175-40e6-b071-e50218629f1a",
   "metadata": {},
   "outputs": [],
   "source": [
    "train_data = pd.Series(train_image)\n",
    "train_label = pd.Series(train_label)\n",
    "\n",
    "valid_data = pd.Series(valid_image)\n",
    "valid_label = pd.Series(valid_label)"
   ]
  },
  {
   "cell_type": "code",
   "execution_count": 14,
   "id": "e2cd7b29-5f03-444e-b781-902ca74f2085",
   "metadata": {},
   "outputs": [],
   "source": [
    "class Dataset_Mask(Dataset):\n",
    "    def __init__(self, data, label, encoding=True, midcrop=True, transform1=None, transform2=None):\n",
    "        self.encoding = encoding\n",
    "        self.midcrop = midcrop\n",
    "        self.data = data\n",
    "        self.label = label\n",
    "        self.transform1 = transform1\n",
    "        self.transform2 = transform2\n",
    "        \n",
    "        if encoding:\n",
    "            self.label = self.label.apply(onehot_enc)\n",
    "        \n",
    "    def __len__(self):\n",
    "        return len(self.data)\n",
    "    \n",
    "    def __getitem__(self, idx):\n",
    "        X = cv2.cvtColor(cv2.imread(self.data[idx]), cv2.COLOR_BGR2RGB)\n",
    "        y = self.label[idx]\n",
    "        \n",
    "        if self.midcrop:\n",
    "            X = X[70:420, 17:367]\n",
    "        \n",
    "        if y % 3 == 2:\n",
    "            return self.transform2(X), y\n",
    "        else:\n",
    "            return self.transform1(X), y"
   ]
  },
  {
   "cell_type": "code",
   "execution_count": 15,
   "id": "c3726edd-b228-4850-9ecf-99f9efbb2558",
   "metadata": {},
   "outputs": [],
   "source": [
    "transform1 = transforms.Compose([\n",
    "    transforms.ToPILImage(),\n",
    "    transforms.ToTensor(),\n",
    "    transforms.Normalize(mean=(0.485, 0.456, 0.406), std=(0.229, 0.224, 0.225)),\n",
    "])\n",
    "transform2 = transforms.Compose([\n",
    "    transforms.ToPILImage(),\n",
    "    transforms.RandomHorizontalFlip(), \n",
    "    transforms.ToTensor(),\n",
    "    transforms.Normalize(mean=(0.485, 0.456, 0.406), std=(0.229, 0.224, 0.225)),\n",
    "])"
   ]
  },
  {
   "cell_type": "code",
   "execution_count": 16,
   "id": "e2a22aff-e634-4f15-877c-752d450d01da",
   "metadata": {},
   "outputs": [],
   "source": [
    "mask_train_set = Dataset_Mask(data=train_data, label=train_label, transform1=transform1, transform2=transform2)\n",
    "mask_val_set = Dataset_Mask(data=valid_data, label=valid_label, transform1=transform1, transform2=transform1)"
   ]
  },
  {
   "cell_type": "code",
   "execution_count": 17,
   "id": "37b1ced0-1e34-4d50-b2b2-dcdff8fd33f4",
   "metadata": {},
   "outputs": [],
   "source": [
    "batch_size = 256\n",
    "train_dataloader_mask = DataLoader(dataset = mask_train_set, batch_size=batch_size, shuffle=True, num_workers=2)\n",
    "val_dataloader_mask = DataLoader(dataset = mask_val_set, batch_size=batch_size, shuffle=True, num_workers=2)"
   ]
  },
  {
   "cell_type": "code",
   "execution_count": 18,
   "id": "af71a4ef-a137-47b0-af94-eebedaa36014",
   "metadata": {},
   "outputs": [
    {
     "name": "stderr",
     "output_type": "stream",
     "text": [
      "/opt/conda/lib/python3.8/site-packages/torchvision/models/_utils.py:223: UserWarning: Arguments other than a weight enum or `None` for 'weights' are deprecated since 0.13 and may be removed in the future. The current behavior is equivalent to passing `weights=Swin_V2_T_Weights.IMAGENET1K_V1`. You can also use `weights=Swin_V2_T_Weights.DEFAULT` to get the most up-to-date weights.\n",
      "  warnings.warn(msg)\n"
     ]
    },
    {
     "data": {
      "text/plain": [
       "SwinTransformer(\n",
       "  (features): Sequential(\n",
       "    (0): Sequential(\n",
       "      (0): Conv2d(3, 96, kernel_size=(4, 4), stride=(4, 4))\n",
       "      (1): Permute()\n",
       "      (2): LayerNorm((96,), eps=1e-05, elementwise_affine=True)\n",
       "    )\n",
       "    (1): Sequential(\n",
       "      (0): SwinTransformerBlockV2(\n",
       "        (norm1): LayerNorm((96,), eps=1e-05, elementwise_affine=True)\n",
       "        (attn): ShiftedWindowAttentionV2(\n",
       "          (qkv): Linear(in_features=96, out_features=288, bias=True)\n",
       "          (proj): Linear(in_features=96, out_features=96, bias=True)\n",
       "          (cpb_mlp): Sequential(\n",
       "            (0): Linear(in_features=2, out_features=512, bias=True)\n",
       "            (1): ReLU(inplace=True)\n",
       "            (2): Linear(in_features=512, out_features=3, bias=False)\n",
       "          )\n",
       "        )\n",
       "        (stochastic_depth): StochasticDepth(p=0.0, mode=row)\n",
       "        (norm2): LayerNorm((96,), eps=1e-05, elementwise_affine=True)\n",
       "        (mlp): MLP(\n",
       "          (0): Linear(in_features=96, out_features=384, bias=True)\n",
       "          (1): GELU(approximate='none')\n",
       "          (2): Dropout(p=0.0, inplace=False)\n",
       "          (3): Linear(in_features=384, out_features=96, bias=True)\n",
       "          (4): Dropout(p=0.0, inplace=False)\n",
       "        )\n",
       "      )\n",
       "      (1): SwinTransformerBlockV2(\n",
       "        (norm1): LayerNorm((96,), eps=1e-05, elementwise_affine=True)\n",
       "        (attn): ShiftedWindowAttentionV2(\n",
       "          (qkv): Linear(in_features=96, out_features=288, bias=True)\n",
       "          (proj): Linear(in_features=96, out_features=96, bias=True)\n",
       "          (cpb_mlp): Sequential(\n",
       "            (0): Linear(in_features=2, out_features=512, bias=True)\n",
       "            (1): ReLU(inplace=True)\n",
       "            (2): Linear(in_features=512, out_features=3, bias=False)\n",
       "          )\n",
       "        )\n",
       "        (stochastic_depth): StochasticDepth(p=0.018181818181818184, mode=row)\n",
       "        (norm2): LayerNorm((96,), eps=1e-05, elementwise_affine=True)\n",
       "        (mlp): MLP(\n",
       "          (0): Linear(in_features=96, out_features=384, bias=True)\n",
       "          (1): GELU(approximate='none')\n",
       "          (2): Dropout(p=0.0, inplace=False)\n",
       "          (3): Linear(in_features=384, out_features=96, bias=True)\n",
       "          (4): Dropout(p=0.0, inplace=False)\n",
       "        )\n",
       "      )\n",
       "    )\n",
       "    (2): PatchMergingV2(\n",
       "      (reduction): Linear(in_features=384, out_features=192, bias=False)\n",
       "      (norm): LayerNorm((192,), eps=1e-05, elementwise_affine=True)\n",
       "    )\n",
       "    (3): Sequential(\n",
       "      (0): SwinTransformerBlockV2(\n",
       "        (norm1): LayerNorm((192,), eps=1e-05, elementwise_affine=True)\n",
       "        (attn): ShiftedWindowAttentionV2(\n",
       "          (qkv): Linear(in_features=192, out_features=576, bias=True)\n",
       "          (proj): Linear(in_features=192, out_features=192, bias=True)\n",
       "          (cpb_mlp): Sequential(\n",
       "            (0): Linear(in_features=2, out_features=512, bias=True)\n",
       "            (1): ReLU(inplace=True)\n",
       "            (2): Linear(in_features=512, out_features=6, bias=False)\n",
       "          )\n",
       "        )\n",
       "        (stochastic_depth): StochasticDepth(p=0.03636363636363637, mode=row)\n",
       "        (norm2): LayerNorm((192,), eps=1e-05, elementwise_affine=True)\n",
       "        (mlp): MLP(\n",
       "          (0): Linear(in_features=192, out_features=768, bias=True)\n",
       "          (1): GELU(approximate='none')\n",
       "          (2): Dropout(p=0.0, inplace=False)\n",
       "          (3): Linear(in_features=768, out_features=192, bias=True)\n",
       "          (4): Dropout(p=0.0, inplace=False)\n",
       "        )\n",
       "      )\n",
       "      (1): SwinTransformerBlockV2(\n",
       "        (norm1): LayerNorm((192,), eps=1e-05, elementwise_affine=True)\n",
       "        (attn): ShiftedWindowAttentionV2(\n",
       "          (qkv): Linear(in_features=192, out_features=576, bias=True)\n",
       "          (proj): Linear(in_features=192, out_features=192, bias=True)\n",
       "          (cpb_mlp): Sequential(\n",
       "            (0): Linear(in_features=2, out_features=512, bias=True)\n",
       "            (1): ReLU(inplace=True)\n",
       "            (2): Linear(in_features=512, out_features=6, bias=False)\n",
       "          )\n",
       "        )\n",
       "        (stochastic_depth): StochasticDepth(p=0.05454545454545456, mode=row)\n",
       "        (norm2): LayerNorm((192,), eps=1e-05, elementwise_affine=True)\n",
       "        (mlp): MLP(\n",
       "          (0): Linear(in_features=192, out_features=768, bias=True)\n",
       "          (1): GELU(approximate='none')\n",
       "          (2): Dropout(p=0.0, inplace=False)\n",
       "          (3): Linear(in_features=768, out_features=192, bias=True)\n",
       "          (4): Dropout(p=0.0, inplace=False)\n",
       "        )\n",
       "      )\n",
       "    )\n",
       "    (4): PatchMergingV2(\n",
       "      (reduction): Linear(in_features=768, out_features=384, bias=False)\n",
       "      (norm): LayerNorm((384,), eps=1e-05, elementwise_affine=True)\n",
       "    )\n",
       "    (5): Sequential(\n",
       "      (0): SwinTransformerBlockV2(\n",
       "        (norm1): LayerNorm((384,), eps=1e-05, elementwise_affine=True)\n",
       "        (attn): ShiftedWindowAttentionV2(\n",
       "          (qkv): Linear(in_features=384, out_features=1152, bias=True)\n",
       "          (proj): Linear(in_features=384, out_features=384, bias=True)\n",
       "          (cpb_mlp): Sequential(\n",
       "            (0): Linear(in_features=2, out_features=512, bias=True)\n",
       "            (1): ReLU(inplace=True)\n",
       "            (2): Linear(in_features=512, out_features=12, bias=False)\n",
       "          )\n",
       "        )\n",
       "        (stochastic_depth): StochasticDepth(p=0.07272727272727274, mode=row)\n",
       "        (norm2): LayerNorm((384,), eps=1e-05, elementwise_affine=True)\n",
       "        (mlp): MLP(\n",
       "          (0): Linear(in_features=384, out_features=1536, bias=True)\n",
       "          (1): GELU(approximate='none')\n",
       "          (2): Dropout(p=0.0, inplace=False)\n",
       "          (3): Linear(in_features=1536, out_features=384, bias=True)\n",
       "          (4): Dropout(p=0.0, inplace=False)\n",
       "        )\n",
       "      )\n",
       "      (1): SwinTransformerBlockV2(\n",
       "        (norm1): LayerNorm((384,), eps=1e-05, elementwise_affine=True)\n",
       "        (attn): ShiftedWindowAttentionV2(\n",
       "          (qkv): Linear(in_features=384, out_features=1152, bias=True)\n",
       "          (proj): Linear(in_features=384, out_features=384, bias=True)\n",
       "          (cpb_mlp): Sequential(\n",
       "            (0): Linear(in_features=2, out_features=512, bias=True)\n",
       "            (1): ReLU(inplace=True)\n",
       "            (2): Linear(in_features=512, out_features=12, bias=False)\n",
       "          )\n",
       "        )\n",
       "        (stochastic_depth): StochasticDepth(p=0.09090909090909091, mode=row)\n",
       "        (norm2): LayerNorm((384,), eps=1e-05, elementwise_affine=True)\n",
       "        (mlp): MLP(\n",
       "          (0): Linear(in_features=384, out_features=1536, bias=True)\n",
       "          (1): GELU(approximate='none')\n",
       "          (2): Dropout(p=0.0, inplace=False)\n",
       "          (3): Linear(in_features=1536, out_features=384, bias=True)\n",
       "          (4): Dropout(p=0.0, inplace=False)\n",
       "        )\n",
       "      )\n",
       "      (2): SwinTransformerBlockV2(\n",
       "        (norm1): LayerNorm((384,), eps=1e-05, elementwise_affine=True)\n",
       "        (attn): ShiftedWindowAttentionV2(\n",
       "          (qkv): Linear(in_features=384, out_features=1152, bias=True)\n",
       "          (proj): Linear(in_features=384, out_features=384, bias=True)\n",
       "          (cpb_mlp): Sequential(\n",
       "            (0): Linear(in_features=2, out_features=512, bias=True)\n",
       "            (1): ReLU(inplace=True)\n",
       "            (2): Linear(in_features=512, out_features=12, bias=False)\n",
       "          )\n",
       "        )\n",
       "        (stochastic_depth): StochasticDepth(p=0.10909090909090911, mode=row)\n",
       "        (norm2): LayerNorm((384,), eps=1e-05, elementwise_affine=True)\n",
       "        (mlp): MLP(\n",
       "          (0): Linear(in_features=384, out_features=1536, bias=True)\n",
       "          (1): GELU(approximate='none')\n",
       "          (2): Dropout(p=0.0, inplace=False)\n",
       "          (3): Linear(in_features=1536, out_features=384, bias=True)\n",
       "          (4): Dropout(p=0.0, inplace=False)\n",
       "        )\n",
       "      )\n",
       "      (3): SwinTransformerBlockV2(\n",
       "        (norm1): LayerNorm((384,), eps=1e-05, elementwise_affine=True)\n",
       "        (attn): ShiftedWindowAttentionV2(\n",
       "          (qkv): Linear(in_features=384, out_features=1152, bias=True)\n",
       "          (proj): Linear(in_features=384, out_features=384, bias=True)\n",
       "          (cpb_mlp): Sequential(\n",
       "            (0): Linear(in_features=2, out_features=512, bias=True)\n",
       "            (1): ReLU(inplace=True)\n",
       "            (2): Linear(in_features=512, out_features=12, bias=False)\n",
       "          )\n",
       "        )\n",
       "        (stochastic_depth): StochasticDepth(p=0.1272727272727273, mode=row)\n",
       "        (norm2): LayerNorm((384,), eps=1e-05, elementwise_affine=True)\n",
       "        (mlp): MLP(\n",
       "          (0): Linear(in_features=384, out_features=1536, bias=True)\n",
       "          (1): GELU(approximate='none')\n",
       "          (2): Dropout(p=0.0, inplace=False)\n",
       "          (3): Linear(in_features=1536, out_features=384, bias=True)\n",
       "          (4): Dropout(p=0.0, inplace=False)\n",
       "        )\n",
       "      )\n",
       "      (4): SwinTransformerBlockV2(\n",
       "        (norm1): LayerNorm((384,), eps=1e-05, elementwise_affine=True)\n",
       "        (attn): ShiftedWindowAttentionV2(\n",
       "          (qkv): Linear(in_features=384, out_features=1152, bias=True)\n",
       "          (proj): Linear(in_features=384, out_features=384, bias=True)\n",
       "          (cpb_mlp): Sequential(\n",
       "            (0): Linear(in_features=2, out_features=512, bias=True)\n",
       "            (1): ReLU(inplace=True)\n",
       "            (2): Linear(in_features=512, out_features=12, bias=False)\n",
       "          )\n",
       "        )\n",
       "        (stochastic_depth): StochasticDepth(p=0.14545454545454548, mode=row)\n",
       "        (norm2): LayerNorm((384,), eps=1e-05, elementwise_affine=True)\n",
       "        (mlp): MLP(\n",
       "          (0): Linear(in_features=384, out_features=1536, bias=True)\n",
       "          (1): GELU(approximate='none')\n",
       "          (2): Dropout(p=0.0, inplace=False)\n",
       "          (3): Linear(in_features=1536, out_features=384, bias=True)\n",
       "          (4): Dropout(p=0.0, inplace=False)\n",
       "        )\n",
       "      )\n",
       "      (5): SwinTransformerBlockV2(\n",
       "        (norm1): LayerNorm((384,), eps=1e-05, elementwise_affine=True)\n",
       "        (attn): ShiftedWindowAttentionV2(\n",
       "          (qkv): Linear(in_features=384, out_features=1152, bias=True)\n",
       "          (proj): Linear(in_features=384, out_features=384, bias=True)\n",
       "          (cpb_mlp): Sequential(\n",
       "            (0): Linear(in_features=2, out_features=512, bias=True)\n",
       "            (1): ReLU(inplace=True)\n",
       "            (2): Linear(in_features=512, out_features=12, bias=False)\n",
       "          )\n",
       "        )\n",
       "        (stochastic_depth): StochasticDepth(p=0.16363636363636364, mode=row)\n",
       "        (norm2): LayerNorm((384,), eps=1e-05, elementwise_affine=True)\n",
       "        (mlp): MLP(\n",
       "          (0): Linear(in_features=384, out_features=1536, bias=True)\n",
       "          (1): GELU(approximate='none')\n",
       "          (2): Dropout(p=0.0, inplace=False)\n",
       "          (3): Linear(in_features=1536, out_features=384, bias=True)\n",
       "          (4): Dropout(p=0.0, inplace=False)\n",
       "        )\n",
       "      )\n",
       "    )\n",
       "    (6): PatchMergingV2(\n",
       "      (reduction): Linear(in_features=1536, out_features=768, bias=False)\n",
       "      (norm): LayerNorm((768,), eps=1e-05, elementwise_affine=True)\n",
       "    )\n",
       "    (7): Sequential(\n",
       "      (0): SwinTransformerBlockV2(\n",
       "        (norm1): LayerNorm((768,), eps=1e-05, elementwise_affine=True)\n",
       "        (attn): ShiftedWindowAttentionV2(\n",
       "          (qkv): Linear(in_features=768, out_features=2304, bias=True)\n",
       "          (proj): Linear(in_features=768, out_features=768, bias=True)\n",
       "          (cpb_mlp): Sequential(\n",
       "            (0): Linear(in_features=2, out_features=512, bias=True)\n",
       "            (1): ReLU(inplace=True)\n",
       "            (2): Linear(in_features=512, out_features=24, bias=False)\n",
       "          )\n",
       "        )\n",
       "        (stochastic_depth): StochasticDepth(p=0.18181818181818182, mode=row)\n",
       "        (norm2): LayerNorm((768,), eps=1e-05, elementwise_affine=True)\n",
       "        (mlp): MLP(\n",
       "          (0): Linear(in_features=768, out_features=3072, bias=True)\n",
       "          (1): GELU(approximate='none')\n",
       "          (2): Dropout(p=0.0, inplace=False)\n",
       "          (3): Linear(in_features=3072, out_features=768, bias=True)\n",
       "          (4): Dropout(p=0.0, inplace=False)\n",
       "        )\n",
       "      )\n",
       "      (1): SwinTransformerBlockV2(\n",
       "        (norm1): LayerNorm((768,), eps=1e-05, elementwise_affine=True)\n",
       "        (attn): ShiftedWindowAttentionV2(\n",
       "          (qkv): Linear(in_features=768, out_features=2304, bias=True)\n",
       "          (proj): Linear(in_features=768, out_features=768, bias=True)\n",
       "          (cpb_mlp): Sequential(\n",
       "            (0): Linear(in_features=2, out_features=512, bias=True)\n",
       "            (1): ReLU(inplace=True)\n",
       "            (2): Linear(in_features=512, out_features=24, bias=False)\n",
       "          )\n",
       "        )\n",
       "        (stochastic_depth): StochasticDepth(p=0.2, mode=row)\n",
       "        (norm2): LayerNorm((768,), eps=1e-05, elementwise_affine=True)\n",
       "        (mlp): MLP(\n",
       "          (0): Linear(in_features=768, out_features=3072, bias=True)\n",
       "          (1): GELU(approximate='none')\n",
       "          (2): Dropout(p=0.0, inplace=False)\n",
       "          (3): Linear(in_features=3072, out_features=768, bias=True)\n",
       "          (4): Dropout(p=0.0, inplace=False)\n",
       "        )\n",
       "      )\n",
       "    )\n",
       "  )\n",
       "  (norm): LayerNorm((768,), eps=1e-05, elementwise_affine=True)\n",
       "  (permute): Permute()\n",
       "  (avgpool): AdaptiveAvgPool2d(output_size=1)\n",
       "  (flatten): Flatten(start_dim=1, end_dim=-1)\n",
       "  (head): Linear(in_features=768, out_features=1000, bias=True)\n",
       ")"
      ]
     },
     "execution_count": 18,
     "metadata": {},
     "output_type": "execute_result"
    }
   ],
   "source": [
    "swinT = torchvision.models.swin_v2_t(weights=torchvision.models.Swin_V2_T_Weights)\n",
    "swinT"
   ]
  },
  {
   "cell_type": "code",
   "execution_count": 19,
   "id": "66973573-70e8-42e3-ba82-18bf0ab50300",
   "metadata": {},
   "outputs": [
    {
     "name": "stdout",
     "output_type": "stream",
     "text": [
      "Linear(in_features=768, out_features=18, bias=True)\n"
     ]
    }
   ],
   "source": [
    "import math\n",
    "\n",
    "for param in swinT.parameters():\n",
    "    param.requires_grad = False\n",
    "\n",
    "class_num = 18\n",
    "swinT.head = nn.Linear(in_features=768, out_features=18, bias=True)\n",
    "nn.init.xavier_uniform_(swinT.head.weight)\n",
    "stdv = 1. / math.sqrt(swinT.head.weight.size(1))\n",
    "swinT.head.bias.data.uniform_(-stdv, stdv)\n",
    "nn.init.xavier_uniform_(swinT.head.weight)\n",
    "stdv = 1. / math.sqrt(swinT.head.weight.size(1))\n",
    "swinT.head.bias.data.uniform_(-stdv, stdv)\n",
    "print(swinT.head)"
   ]
  },
  {
   "cell_type": "code",
   "execution_count": 20,
   "id": "b7a12ee1-b57f-407a-82c9-e37136aaae3d",
   "metadata": {},
   "outputs": [
    {
     "name": "stdout",
     "output_type": "stream",
     "text": [
      "필요 입력 채널 개수 3\n",
      "네트워크 출력 채널 개수 18\n"
     ]
    }
   ],
   "source": [
    "print('필요 입력 채널 개수', swinT.features[0][0].weight.shape[1])\n",
    "print('네트워크 출력 채널 개수', swinT.head.weight.shape[0])"
   ]
  },
  {
   "cell_type": "code",
   "execution_count": 21,
   "id": "9a1a2262-f820-4294-8086-3a48a5e5d686",
   "metadata": {},
   "outputs": [
    {
     "name": "stdout",
     "output_type": "stream",
     "text": [
      "using cuda:0\n"
     ]
    }
   ],
   "source": [
    "device = torch.device(\"cuda:0\" if torch.cuda.is_available() else \"cpu\")\n",
    "print(f\"using {device}\")\n",
    "\n",
    "model = swinT.to(device)\n",
    "\n",
    "LEARNING_RATE = 0.0001\n",
    "NUM_EPOCH = 200\n",
    "\n",
    "criterion = nn.CrossEntropyLoss()\n",
    "optimizer = torch.optim.Adam(model.parameters(), lr=LEARNING_RATE)"
   ]
  },
  {
   "cell_type": "code",
   "execution_count": 23,
   "id": "8c067d0e-38c9-4ab8-baba-88cf8dcb8c6c",
   "metadata": {},
   "outputs": [
    {
     "data": {
      "application/vnd.jupyter.widget-view+json": {
       "model_id": "3947e7c4844e4017829efec53a20c05c",
       "version_major": 2,
       "version_minor": 0
      },
      "text/plain": [
       "HBox(children=(HTML(value=''), FloatProgress(value=0.0, max=60.0), HTML(value='')))"
      ]
     },
     "metadata": {},
     "output_type": "display_data"
    },
    {
     "name": "stdout",
     "output_type": "stream",
     "text": [
      "\n",
      "epoch[200/400] training loss 0.39373, training accuracy 0.87546\n"
     ]
    },
    {
     "data": {
      "application/vnd.jupyter.widget-view+json": {
       "model_id": "7e93e9c013ae4811a72e3aab0a29551e",
       "version_major": 2,
       "version_minor": 0
      },
      "text/plain": [
       "HBox(children=(HTML(value=''), FloatProgress(value=0.0, max=15.0), HTML(value='')))"
      ]
     },
     "metadata": {},
     "output_type": "display_data"
    },
    {
     "name": "stdout",
     "output_type": "stream",
     "text": [
      "\n",
      "[val] acc : 0.84392, loss : 0.46556, f1 score : 0.71534\n",
      "best acc : 0.84497, best loss : 0.46535, best f1 : 0.73343\n"
     ]
    },
    {
     "data": {
      "application/vnd.jupyter.widget-view+json": {
       "model_id": "5b7a5f544f3b44158a7e24bdc4fddda9",
       "version_major": 2,
       "version_minor": 0
      },
      "text/plain": [
       "HBox(children=(HTML(value=''), FloatProgress(value=0.0, max=60.0), HTML(value='')))"
      ]
     },
     "metadata": {},
     "output_type": "display_data"
    },
    {
     "name": "stdout",
     "output_type": "stream",
     "text": [
      "\n",
      "epoch[201/400] training loss 0.40092, training accuracy 0.87414\n"
     ]
    },
    {
     "data": {
      "application/vnd.jupyter.widget-view+json": {
       "model_id": "e0bfab7c964041f3b89eb0ca8ac1eee9",
       "version_major": 2,
       "version_minor": 0
      },
      "text/plain": [
       "HBox(children=(HTML(value=''), FloatProgress(value=0.0, max=15.0), HTML(value='')))"
      ]
     },
     "metadata": {},
     "output_type": "display_data"
    },
    {
     "name": "stdout",
     "output_type": "stream",
     "text": [
      "\n",
      "[val] acc : 0.84444, loss : 0.46570, f1 score : 0.72335\n",
      "best acc : 0.84497, best loss : 0.46535, best f1 : 0.73343\n"
     ]
    },
    {
     "data": {
      "application/vnd.jupyter.widget-view+json": {
       "model_id": "f6bb32327ba9418680288488c9593606",
       "version_major": 2,
       "version_minor": 0
      },
      "text/plain": [
       "HBox(children=(HTML(value=''), FloatProgress(value=0.0, max=60.0), HTML(value='')))"
      ]
     },
     "metadata": {},
     "output_type": "display_data"
    },
    {
     "name": "stdout",
     "output_type": "stream",
     "text": [
      "\n",
      "epoch[202/400] training loss 0.39120, training accuracy 0.87546\n"
     ]
    },
    {
     "data": {
      "application/vnd.jupyter.widget-view+json": {
       "model_id": "8bb3308d62d84590a0b6736d920dac0b",
       "version_major": 2,
       "version_minor": 0
      },
      "text/plain": [
       "HBox(children=(HTML(value=''), FloatProgress(value=0.0, max=15.0), HTML(value='')))"
      ]
     },
     "metadata": {},
     "output_type": "display_data"
    },
    {
     "name": "stdout",
     "output_type": "stream",
     "text": [
      "\n",
      "best checkpoint saved!\n",
      "[val] acc : 0.84656, loss : 0.46516, f1 score : 0.72115\n",
      "best acc : 0.84656, best loss : 0.46516, best f1 : 0.73343\n"
     ]
    },
    {
     "data": {
      "application/vnd.jupyter.widget-view+json": {
       "model_id": "aaa5b517519349d3bb0df503d0660142",
       "version_major": 2,
       "version_minor": 0
      },
      "text/plain": [
       "HBox(children=(HTML(value=''), FloatProgress(value=0.0, max=60.0), HTML(value='')))"
      ]
     },
     "metadata": {},
     "output_type": "display_data"
    },
    {
     "name": "stdout",
     "output_type": "stream",
     "text": [
      "\n",
      "epoch[203/400] training loss 0.39097, training accuracy 0.87831\n"
     ]
    },
    {
     "data": {
      "application/vnd.jupyter.widget-view+json": {
       "model_id": "37911a3521ad4648afb1a1a372c91c14",
       "version_major": 2,
       "version_minor": 0
      },
      "text/plain": [
       "HBox(children=(HTML(value=''), FloatProgress(value=0.0, max=15.0), HTML(value='')))"
      ]
     },
     "metadata": {},
     "output_type": "display_data"
    },
    {
     "name": "stdout",
     "output_type": "stream",
     "text": [
      "\n",
      "[val] acc : 0.84656, loss : 0.46659, f1 score : 0.72455\n",
      "best acc : 0.84656, best loss : 0.46516, best f1 : 0.73343\n"
     ]
    },
    {
     "data": {
      "application/vnd.jupyter.widget-view+json": {
       "model_id": "790361827ef043b3856de51e46b445bb",
       "version_major": 2,
       "version_minor": 0
      },
      "text/plain": [
       "HBox(children=(HTML(value=''), FloatProgress(value=0.0, max=60.0), HTML(value='')))"
      ]
     },
     "metadata": {},
     "output_type": "display_data"
    },
    {
     "name": "stdout",
     "output_type": "stream",
     "text": [
      "\n",
      "epoch[204/400] training loss 0.39471, training accuracy 0.87586\n"
     ]
    },
    {
     "data": {
      "application/vnd.jupyter.widget-view+json": {
       "model_id": "90bd798f6ebd4096bdc9adebb0f443c3",
       "version_major": 2,
       "version_minor": 0
      },
      "text/plain": [
       "HBox(children=(HTML(value=''), FloatProgress(value=0.0, max=15.0), HTML(value='')))"
      ]
     },
     "metadata": {},
     "output_type": "display_data"
    },
    {
     "name": "stdout",
     "output_type": "stream",
     "text": [
      "\n",
      "[val] acc : 0.84471, loss : 0.46421, f1 score : 0.71784\n",
      "best acc : 0.84656, best loss : 0.46421, best f1 : 0.73343\n"
     ]
    },
    {
     "data": {
      "application/vnd.jupyter.widget-view+json": {
       "model_id": "f1a5a61918ec488ea3d1fa0ec7ef9d97",
       "version_major": 2,
       "version_minor": 0
      },
      "text/plain": [
       "HBox(children=(HTML(value=''), FloatProgress(value=0.0, max=60.0), HTML(value='')))"
      ]
     },
     "metadata": {},
     "output_type": "display_data"
    },
    {
     "name": "stdout",
     "output_type": "stream",
     "text": [
      "\n",
      "epoch[205/400] training loss 0.38569, training accuracy 0.87725\n"
     ]
    },
    {
     "data": {
      "application/vnd.jupyter.widget-view+json": {
       "model_id": "5fa70b594bf84d7ab6754c8504a925a0",
       "version_major": 2,
       "version_minor": 0
      },
      "text/plain": [
       "HBox(children=(HTML(value=''), FloatProgress(value=0.0, max=15.0), HTML(value='')))"
      ]
     },
     "metadata": {},
     "output_type": "display_data"
    },
    {
     "name": "stdout",
     "output_type": "stream",
     "text": [
      "\n",
      "[val] acc : 0.84471, loss : 0.46208, f1 score : 0.71296\n",
      "best acc : 0.84656, best loss : 0.46208, best f1 : 0.73343\n"
     ]
    },
    {
     "data": {
      "application/vnd.jupyter.widget-view+json": {
       "model_id": "9cd28c287396469faec4a29c0082ab2d",
       "version_major": 2,
       "version_minor": 0
      },
      "text/plain": [
       "HBox(children=(HTML(value=''), FloatProgress(value=0.0, max=60.0), HTML(value='')))"
      ]
     },
     "metadata": {},
     "output_type": "display_data"
    },
    {
     "name": "stdout",
     "output_type": "stream",
     "text": [
      "\n",
      "epoch[206/400] training loss 0.38979, training accuracy 0.87870\n"
     ]
    },
    {
     "data": {
      "application/vnd.jupyter.widget-view+json": {
       "model_id": "c466a18ce80a4cfba612022902ff181b",
       "version_major": 2,
       "version_minor": 0
      },
      "text/plain": [
       "HBox(children=(HTML(value=''), FloatProgress(value=0.0, max=15.0), HTML(value='')))"
      ]
     },
     "metadata": {},
     "output_type": "display_data"
    },
    {
     "name": "stdout",
     "output_type": "stream",
     "text": [
      "\n",
      "[val] acc : 0.84603, loss : 0.46497, f1 score : 0.72158\n",
      "best acc : 0.84656, best loss : 0.46208, best f1 : 0.73343\n"
     ]
    },
    {
     "data": {
      "application/vnd.jupyter.widget-view+json": {
       "model_id": "986f5464680e4fe4892ef8486aede6d1",
       "version_major": 2,
       "version_minor": 0
      },
      "text/plain": [
       "HBox(children=(HTML(value=''), FloatProgress(value=0.0, max=60.0), HTML(value='')))"
      ]
     },
     "metadata": {},
     "output_type": "display_data"
    },
    {
     "name": "stdout",
     "output_type": "stream",
     "text": [
      "\n",
      "epoch[207/400] training loss 0.38507, training accuracy 0.87837\n"
     ]
    },
    {
     "data": {
      "application/vnd.jupyter.widget-view+json": {
       "model_id": "4b250c9ad2d94edca8cc07c771111661",
       "version_major": 2,
       "version_minor": 0
      },
      "text/plain": [
       "HBox(children=(HTML(value=''), FloatProgress(value=0.0, max=15.0), HTML(value='')))"
      ]
     },
     "metadata": {},
     "output_type": "display_data"
    },
    {
     "name": "stdout",
     "output_type": "stream",
     "text": [
      "\n",
      "[val] acc : 0.84418, loss : 0.46316, f1 score : 0.71803\n",
      "best acc : 0.84656, best loss : 0.46208, best f1 : 0.73343\n"
     ]
    },
    {
     "data": {
      "application/vnd.jupyter.widget-view+json": {
       "model_id": "7cac2d352e324245b02b7a1de7ff3249",
       "version_major": 2,
       "version_minor": 0
      },
      "text/plain": [
       "HBox(children=(HTML(value=''), FloatProgress(value=0.0, max=60.0), HTML(value='')))"
      ]
     },
     "metadata": {},
     "output_type": "display_data"
    },
    {
     "name": "stdout",
     "output_type": "stream",
     "text": [
      "\n",
      "epoch[208/400] training loss 0.38705, training accuracy 0.87778\n"
     ]
    },
    {
     "data": {
      "application/vnd.jupyter.widget-view+json": {
       "model_id": "c4fbe0f71f4e4796b7b1806e72b92ce3",
       "version_major": 2,
       "version_minor": 0
      },
      "text/plain": [
       "HBox(children=(HTML(value=''), FloatProgress(value=0.0, max=15.0), HTML(value='')))"
      ]
     },
     "metadata": {},
     "output_type": "display_data"
    },
    {
     "name": "stdout",
     "output_type": "stream",
     "text": [
      "\n",
      "[val] acc : 0.84365, loss : 0.46146, f1 score : 0.72662\n",
      "best acc : 0.84656, best loss : 0.46146, best f1 : 0.73343\n"
     ]
    },
    {
     "data": {
      "application/vnd.jupyter.widget-view+json": {
       "model_id": "ed1d9589a2de4260a202a89910894fa7",
       "version_major": 2,
       "version_minor": 0
      },
      "text/plain": [
       "HBox(children=(HTML(value=''), FloatProgress(value=0.0, max=60.0), HTML(value='')))"
      ]
     },
     "metadata": {},
     "output_type": "display_data"
    },
    {
     "name": "stdout",
     "output_type": "stream",
     "text": [
      "\n",
      "epoch[209/400] training loss 0.38538, training accuracy 0.87725\n"
     ]
    },
    {
     "data": {
      "application/vnd.jupyter.widget-view+json": {
       "model_id": "9f129313b0e34104ae5631181df77889",
       "version_major": 2,
       "version_minor": 0
      },
      "text/plain": [
       "HBox(children=(HTML(value=''), FloatProgress(value=0.0, max=15.0), HTML(value='')))"
      ]
     },
     "metadata": {},
     "output_type": "display_data"
    },
    {
     "name": "stdout",
     "output_type": "stream",
     "text": [
      "\n",
      "[val] acc : 0.84630, loss : 0.46226, f1 score : 0.71817\n",
      "best acc : 0.84656, best loss : 0.46146, best f1 : 0.73343\n"
     ]
    },
    {
     "data": {
      "application/vnd.jupyter.widget-view+json": {
       "model_id": "c7ce710c5a844ad0bf55fd29e6d94483",
       "version_major": 2,
       "version_minor": 0
      },
      "text/plain": [
       "HBox(children=(HTML(value=''), FloatProgress(value=0.0, max=60.0), HTML(value='')))"
      ]
     },
     "metadata": {},
     "output_type": "display_data"
    },
    {
     "name": "stdout",
     "output_type": "stream",
     "text": [
      "\n",
      "epoch[210/400] training loss 0.38661, training accuracy 0.87758\n"
     ]
    },
    {
     "data": {
      "application/vnd.jupyter.widget-view+json": {
       "model_id": "add669335a48460091a3efd6194021a0",
       "version_major": 2,
       "version_minor": 0
      },
      "text/plain": [
       "HBox(children=(HTML(value=''), FloatProgress(value=0.0, max=15.0), HTML(value='')))"
      ]
     },
     "metadata": {},
     "output_type": "display_data"
    },
    {
     "name": "stdout",
     "output_type": "stream",
     "text": [
      "\n",
      "[val] acc : 0.84630, loss : 0.46325, f1 score : 0.72644\n",
      "best acc : 0.84656, best loss : 0.46146, best f1 : 0.73343\n"
     ]
    },
    {
     "data": {
      "application/vnd.jupyter.widget-view+json": {
       "model_id": "fd5413d8a502431188f707cb550c602a",
       "version_major": 2,
       "version_minor": 0
      },
      "text/plain": [
       "HBox(children=(HTML(value=''), FloatProgress(value=0.0, max=60.0), HTML(value='')))"
      ]
     },
     "metadata": {},
     "output_type": "display_data"
    },
    {
     "name": "stdout",
     "output_type": "stream",
     "text": [
      "\n",
      "epoch[211/400] training loss 0.38947, training accuracy 0.88003\n"
     ]
    },
    {
     "data": {
      "application/vnd.jupyter.widget-view+json": {
       "model_id": "b7afb6968065472bb1e6b1c29a35b95d",
       "version_major": 2,
       "version_minor": 0
      },
      "text/plain": [
       "HBox(children=(HTML(value=''), FloatProgress(value=0.0, max=15.0), HTML(value='')))"
      ]
     },
     "metadata": {},
     "output_type": "display_data"
    },
    {
     "name": "stdout",
     "output_type": "stream",
     "text": [
      "\n",
      "[val] acc : 0.84603, loss : 0.46352, f1 score : 0.71939\n",
      "best acc : 0.84656, best loss : 0.46146, best f1 : 0.73343\n"
     ]
    },
    {
     "data": {
      "application/vnd.jupyter.widget-view+json": {
       "model_id": "1b81308f5e414bc2bb774f961467c006",
       "version_major": 2,
       "version_minor": 0
      },
      "text/plain": [
       "HBox(children=(HTML(value=''), FloatProgress(value=0.0, max=60.0), HTML(value='')))"
      ]
     },
     "metadata": {},
     "output_type": "display_data"
    },
    {
     "name": "stdout",
     "output_type": "stream",
     "text": [
      "\n",
      "epoch[212/400] training loss 0.38782, training accuracy 0.87798\n"
     ]
    },
    {
     "data": {
      "application/vnd.jupyter.widget-view+json": {
       "model_id": "84a67be382e040cbb6f335fd23e47625",
       "version_major": 2,
       "version_minor": 0
      },
      "text/plain": [
       "HBox(children=(HTML(value=''), FloatProgress(value=0.0, max=15.0), HTML(value='')))"
      ]
     },
     "metadata": {},
     "output_type": "display_data"
    },
    {
     "name": "stdout",
     "output_type": "stream",
     "text": [
      "\n",
      "Early Stopping!\n"
     ]
    }
   ],
   "source": [
    "best_val_acc = 0.84497\n",
    "best_val_loss = 0.46535\n",
    "patience = 10\n",
    "cur_count = 0\n",
    "\n",
    "f1 = F1Score(num_classes=class_num, average='macro').to(device)\n",
    "best_f1_score = 0.73343\n",
    "\n",
    "for epoch in range(NUM_EPOCH):\n",
    "    model.train()\n",
    "    loss_value = 0\n",
    "    matches = 0\n",
    "    for train_batch in tqdm(train_dataloader_mask):\n",
    "        inputs, labels = train_batch\n",
    "        inputs = inputs.to(device)\n",
    "        labels = labels.to(device)\n",
    "        \n",
    "        outs = model(inputs)\n",
    "        preds = torch.argmax(outs, dim=-1)\n",
    "        loss = criterion(outs, labels)\n",
    "        \n",
    "        optimizer.zero_grad()\n",
    "        loss.backward()\n",
    "        optimizer.step()\n",
    "        \n",
    "        if epoch % 10 == 0:\n",
    "            torch.save({\n",
    "                'model_state_dict': model.state_dict(),\n",
    "                'optimizer_state_dict': optimizer.state_dict(),\n",
    "                'epoch' : epoch\n",
    "                }, f'/opt/ml/checkpoint/swin_v2_t/checkpoint_ep_{epoch+200}.tar')\n",
    "        \n",
    "        loss_value += loss.item()\n",
    "        matches += (preds == labels).sum().item()\n",
    "        \n",
    "    train_loss = loss_value / len(train_dataloader_mask)\n",
    "    train_acc = matches / len(mask_train_set)\n",
    "    \n",
    "    print(f\"epoch[{epoch+200}/{NUM_EPOCH+200}] training loss {train_loss:.5f}, training accuracy {train_acc:.5f}\")\n",
    "    \n",
    "    with torch.no_grad():\n",
    "        model.eval()\n",
    "        val_loss_items = []\n",
    "        val_acc_items = []\n",
    "        f1_score = 0\n",
    "        for val_batch in tqdm(val_dataloader_mask):\n",
    "            inputs, labels = val_batch\n",
    "            inputs = inputs.to(device)\n",
    "            labels = labels.to(device)\n",
    "            \n",
    "            outs = model(inputs)\n",
    "            preds = torch.argmax(outs, dim=-1)\n",
    "            \n",
    "            loss_item = criterion(outs, labels).item()\n",
    "            acc_item = (labels==preds).sum().item()\n",
    "            val_loss_items.append(loss_item)\n",
    "            val_acc_items.append(acc_item)\n",
    "            f1_score += f1(outs, labels)\n",
    "            \n",
    "        val_loss = np.sum(val_loss_items) / len(val_dataloader_mask)\n",
    "        val_acc = np.sum(val_acc_items) / len(mask_val_set)\n",
    "        \n",
    "        f1_score /= len(val_dataloader_mask)\n",
    "        \n",
    "        if val_loss < best_val_loss:\n",
    "            best_val_loss = val_loss\n",
    "                \n",
    "        if val_acc > best_val_acc:\n",
    "            best_val_acc = val_acc\n",
    "            cur_count = 0\n",
    "            torch.save({\n",
    "                'model_state_dict': model.state_dict(),\n",
    "                'optimizer_state_dict': optimizer.state_dict(),\n",
    "                'epoch' : epoch\n",
    "                }, '/opt/ml/checkpoint/swin_v2_t/best_checkpoint.tar')\n",
    "            print('best checkpoint saved!')\n",
    "        else:\n",
    "            cur_count += 1\n",
    "            if cur_count >= patience:\n",
    "                print(\"Early Stopping!\")\n",
    "                break\n",
    "                \n",
    "        if f1_score > best_f1_score:\n",
    "            best_f1_score = f1_score    \n",
    "                \n",
    "        print(f\"[val] acc : {val_acc:.5f}, loss : {val_loss:.5f}, f1 score : {f1_score:.5f}\")\n",
    "        print(f\"best acc : {best_val_acc:.5f}, best loss : {best_val_loss:.5f}, best f1 : {best_f1_score:.5f}\")"
   ]
  },
  {
   "cell_type": "code",
   "execution_count": 24,
   "id": "af738504-4a12-42c0-bb49-ed1e91ee3f4a",
   "metadata": {},
   "outputs": [],
   "source": [
    "batch_size = 32\n",
    "train_dataloader_mask = DataLoader(dataset = mask_train_set, batch_size=batch_size, shuffle=True, num_workers=2)\n",
    "val_dataloader_mask = DataLoader(dataset = mask_val_set, batch_size=batch_size, shuffle=True, num_workers=2)"
   ]
  },
  {
   "cell_type": "code",
   "execution_count": 25,
   "id": "72148dbc-d9ee-4a88-bc18-27a1a4e24148",
   "metadata": {},
   "outputs": [
    {
     "name": "stdout",
     "output_type": "stream",
     "text": [
      "using cuda:0\n"
     ]
    }
   ],
   "source": [
    "device = torch.device(\"cuda:0\" if torch.cuda.is_available() else \"cpu\")\n",
    "print(f\"using {device}\")\n",
    "\n",
    "NUM_EPOCH = 200\n",
    "class_num = 18\n",
    "\n",
    "model = torchvision.models.swin_v2_t(weights=torchvision.models.Swin_V2_T_Weights)\n",
    "model.head = nn.Linear(in_features=768, out_features=18, bias=True)\n",
    "model = model.to(device)\n",
    "\n",
    "LEARNING_RATE = 0.0001\n",
    "criterion = nn.CrossEntropyLoss()\n",
    "optimizer = torch.optim.Adam(model.parameters(), lr=LEARNING_RATE)"
   ]
  },
  {
   "cell_type": "code",
   "execution_count": 26,
   "id": "bbbf4432-9bdb-4d53-aba6-b57804f30f47",
   "metadata": {},
   "outputs": [],
   "source": [
    "checkpoint = torch.load('/opt/ml/checkpoint/swin_v2_t/best_checkpoint.tar')\n",
    "\n",
    "model.load_state_dict(checkpoint['model_state_dict'])\n",
    "optimizer.load_state_dict(checkpoint['optimizer_state_dict'])\n",
    "checkpoint_epoch = checkpoint['epoch']"
   ]
  },
  {
   "cell_type": "code",
   "execution_count": 27,
   "id": "e560abc7-e70f-4381-946d-054e914f15d4",
   "metadata": {},
   "outputs": [],
   "source": [
    "for param in model.parameters():\n",
    "    param.requires_grad = True"
   ]
  },
  {
   "cell_type": "code",
   "execution_count": 28,
   "id": "7ddb542f-6721-4820-8f75-d0dae66392d0",
   "metadata": {},
   "outputs": [
    {
     "name": "stdout",
     "output_type": "stream",
     "text": [
      "[0] name:[features.0.0.weight] shape:[(96, 3, 4, 4)].\n",
      "    val:[0.037 0.017 0.005 0.003 0.001]\n",
      "[1] name:[features.0.0.bias] shape:[(96,)].\n",
      "    val:[ 0.052 -0.001  0.017 -0.007 -0.007]\n",
      "[2] name:[features.0.2.weight] shape:[(96,)].\n",
      "    val:[0.836 0.107 1.536 0.249 2.655]\n",
      "[3] name:[features.0.2.bias] shape:[(96,)].\n",
      "    val:[-0.351 -0.012 -0.086  0.003  0.192]\n",
      "[4] name:[features.1.0.norm1.weight] shape:[(96,)].\n",
      "    val:[1.033 1.113 0.773 0.409 0.972]\n",
      "[5] name:[features.1.0.norm1.bias] shape:[(96,)].\n",
      "    val:[ 0.696 -0.159  0.547 -0.195  0.454]\n",
      "[6] name:[features.1.0.attn.logit_scale] shape:[(3, 1, 1)].\n",
      "    val:[1.392 2.095 0.833]\n",
      "[7] name:[features.1.0.attn.qkv.weight] shape:[(288, 96)].\n",
      "    val:[ 0.073 -0.053 -0.012 -0.1    0.07 ]\n",
      "[8] name:[features.1.0.attn.qkv.bias] shape:[(288,)].\n",
      "    val:[ 6.235e-04  5.828e-02 -3.332e-01 -9.310e-01  7.587e-01]\n",
      "[9] name:[features.1.0.attn.proj.weight] shape:[(96, 96)].\n",
      "    val:[ 0.034 -0.053  0.059 -0.045  0.007]\n",
      "[10] name:[features.1.0.attn.proj.bias] shape:[(96,)].\n",
      "    val:[-0.45   0.12  -0.566  0.352 -0.353]\n",
      "[11] name:[features.1.0.attn.cpb_mlp.0.weight] shape:[(512, 2)].\n",
      "    val:[-1.012e-01 -1.074e-01  7.992e-07 -1.318e-07 -5.030e-06]\n",
      "[12] name:[features.1.0.attn.cpb_mlp.0.bias] shape:[(512,)].\n",
      "    val:[-0.056 -0.007 -0.044 -0.009 -0.04 ]\n",
      "[13] name:[features.1.0.attn.cpb_mlp.2.weight] shape:[(3, 512)].\n",
      "    val:[-1.308e-01  2.855e-07 -1.590e-07  8.624e-07 -1.858e-02]\n",
      "[14] name:[features.1.0.norm2.weight] shape:[(96,)].\n",
      "    val:[1.902 1.559 1.707 1.65  2.053]\n",
      "[15] name:[features.1.0.norm2.bias] shape:[(96,)].\n",
      "    val:[-0.137  0.665 -0.492 -0.489 -0.282]\n",
      "[16] name:[features.1.0.mlp.0.weight] shape:[(384, 96)].\n",
      "    val:[-0.051 -0.041  0.053 -0.004 -0.006]\n",
      "[17] name:[features.1.0.mlp.0.bias] shape:[(384,)].\n",
      "    val:[-0.113 -0.101 -0.146 -0.158 -0.309]\n",
      "[18] name:[features.1.0.mlp.3.weight] shape:[(96, 384)].\n",
      "    val:[ 0.049 -0.048 -0.008  0.051  0.01 ]\n",
      "[19] name:[features.1.0.mlp.3.bias] shape:[(96,)].\n",
      "    val:[ 0.072 -0.14   0.302  0.036 -0.078]\n",
      "[20] name:[features.1.1.norm1.weight] shape:[(96,)].\n",
      "    val:[1.533 1.777 1.615 0.923 1.274]\n",
      "[21] name:[features.1.1.norm1.bias] shape:[(96,)].\n",
      "    val:[ 0.26  -0.117 -0.628 -0.08  -0.35 ]\n",
      "[22] name:[features.1.1.attn.logit_scale] shape:[(3, 1, 1)].\n",
      "    val:[0.948 1.748 0.991]\n",
      "[23] name:[features.1.1.attn.qkv.weight] shape:[(288, 96)].\n",
      "    val:[ 0.04  -0.113 -0.053 -0.056  0.028]\n",
      "[24] name:[features.1.1.attn.qkv.bias] shape:[(288,)].\n",
      "    val:[ 0.135 -0.078  0.016 -0.255  0.562]\n",
      "[25] name:[features.1.1.attn.proj.weight] shape:[(96, 96)].\n",
      "    val:[ 0.013 -0.115 -0.019 -0.067 -0.005]\n",
      "[26] name:[features.1.1.attn.proj.bias] shape:[(96,)].\n",
      "    val:[-0.193 -0.037  0.384  0.177  0.227]\n",
      "[27] name:[features.1.1.attn.cpb_mlp.0.weight] shape:[(512, 2)].\n",
      "    val:[-1.716e-01 -8.798e-02 -1.473e-01  4.280e-06 -5.655e-06]\n",
      "[28] name:[features.1.1.attn.cpb_mlp.0.bias] shape:[(512,)].\n",
      "    val:[-0.063 -0.054 -0.027 -0.019 -0.062]\n",
      "[29] name:[features.1.1.attn.cpb_mlp.2.weight] shape:[(3, 512)].\n",
      "    val:[ 1.592e-02  7.406e-02 -1.295e-06 -1.530e-07  4.650e-02]\n",
      "[30] name:[features.1.1.norm2.weight] shape:[(96,)].\n",
      "    val:[1.955 1.457 1.299 1.745 2.29 ]\n",
      "[31] name:[features.1.1.norm2.bias] shape:[(96,)].\n",
      "    val:[ 0.142  0.193 -0.117 -0.052  0.106]\n",
      "[32] name:[features.1.1.mlp.0.weight] shape:[(384, 96)].\n",
      "    val:[-0.004 -0.056 -0.077  0.011 -0.071]\n",
      "[33] name:[features.1.1.mlp.0.bias] shape:[(384,)].\n",
      "    val:[-1.395 -1.05  -0.583 -0.37  -1.008]\n",
      "[34] name:[features.1.1.mlp.3.weight] shape:[(96, 384)].\n",
      "    val:[-0.043  0.072  0.013 -0.013 -0.067]\n",
      "[35] name:[features.1.1.mlp.3.bias] shape:[(96,)].\n",
      "    val:[ 0.005 -0.07   0.103  0.007 -0.009]\n",
      "[36] name:[features.2.reduction.weight] shape:[(192, 384)].\n",
      "    val:[-0.027  0.062 -0.072  0.028  0.002]\n",
      "[37] name:[features.2.norm.weight] shape:[(192,)].\n",
      "    val:[1.004 0.973 0.806 0.892 0.767]\n",
      "[38] name:[features.2.norm.bias] shape:[(192,)].\n",
      "    val:[ 0.275  0.182  0.121  0.24  -0.129]\n",
      "[39] name:[features.3.0.norm1.weight] shape:[(192,)].\n",
      "    val:[0.738 0.571 0.666 0.6   0.544]\n",
      "[40] name:[features.3.0.norm1.bias] shape:[(192,)].\n",
      "    val:[-0.016  0.053 -0.167 -0.174 -0.081]\n",
      "[41] name:[features.3.0.attn.logit_scale] shape:[(6, 1, 1)].\n",
      "    val:[1.371 1.361 1.465 1.259 1.414]\n",
      "[42] name:[features.3.0.attn.qkv.weight] shape:[(576, 192)].\n",
      "    val:[-0.054 -0.061  0.048  0.067 -0.071]\n",
      "[43] name:[features.3.0.attn.qkv.bias] shape:[(576,)].\n",
      "    val:[ 0.559 -0.376 -0.193  0.026 -0.68 ]\n",
      "[44] name:[features.3.0.attn.proj.weight] shape:[(192, 192)].\n",
      "    val:[-0.003  0.004 -0.089 -0.02  -0.052]\n",
      "[45] name:[features.3.0.attn.proj.bias] shape:[(192,)].\n",
      "    val:[-0.203 -0.133  0.275  0.196  0.039]\n",
      "[46] name:[features.3.0.attn.cpb_mlp.0.weight] shape:[(512, 2)].\n",
      "    val:[-5.261e-02 -1.356e-01  1.920e-03 -1.248e-01  7.307e-07]\n",
      "[47] name:[features.3.0.attn.cpb_mlp.0.bias] shape:[(512,)].\n",
      "    val:[-0.049 -0.086 -0.012 -0.083 -0.136]\n",
      "[48] name:[features.3.0.attn.cpb_mlp.2.weight] shape:[(6, 512)].\n",
      "    val:[-1.873e-01  4.549e-01  2.373e-08 -3.215e-01 -4.968e-01]\n",
      "[49] name:[features.3.0.norm2.weight] shape:[(192,)].\n",
      "    val:[0.787 0.977 0.989 0.916 1.259]\n",
      "[50] name:[features.3.0.norm2.bias] shape:[(192,)].\n",
      "    val:[ 0.139  0.331 -0.008 -0.174 -0.161]\n",
      "[51] name:[features.3.0.mlp.0.weight] shape:[(768, 192)].\n",
      "    val:[ 0.029 -0.063 -0.021 -0.025 -0.053]\n",
      "[52] name:[features.3.0.mlp.0.bias] shape:[(768,)].\n",
      "    val:[-1.279 -0.807 -1.255 -0.416 -0.717]\n",
      "[53] name:[features.3.0.mlp.3.weight] shape:[(192, 768)].\n",
      "    val:[-0.004 -0.033 -0.105  0.042  0.029]\n",
      "[54] name:[features.3.0.mlp.3.bias] shape:[(192,)].\n",
      "    val:[-0.113 -0.311 -0.192  0.034  0.074]\n",
      "[55] name:[features.3.1.norm1.weight] shape:[(192,)].\n",
      "    val:[0.616 0.548 0.595 0.693 0.67 ]\n",
      "[56] name:[features.3.1.norm1.bias] shape:[(192,)].\n",
      "    val:[ 0.023  0.121  0.011 -0.483 -0.042]\n",
      "[57] name:[features.3.1.attn.logit_scale] shape:[(6, 1, 1)].\n",
      "    val:[1.208 1.928 2.185 1.958 2.22 ]\n",
      "[58] name:[features.3.1.attn.qkv.weight] shape:[(576, 192)].\n",
      "    val:[-0.008  0.062  0.027 -0.037  0.009]\n",
      "[59] name:[features.3.1.attn.qkv.bias] shape:[(576,)].\n",
      "    val:[-0.041 -3.046  0.126  0.164  0.16 ]\n",
      "[60] name:[features.3.1.attn.proj.weight] shape:[(192, 192)].\n",
      "    val:[-0.006 -0.009 -0.02  -0.049 -0.034]\n",
      "[61] name:[features.3.1.attn.proj.bias] shape:[(192,)].\n",
      "    val:[-0.086 -0.178  0.195  0.485  0.027]\n",
      "[62] name:[features.3.1.attn.cpb_mlp.0.weight] shape:[(512, 2)].\n",
      "    val:[-5.626e-06  1.984e-07 -1.774e-01  1.221e-04  1.251e-01]\n",
      "[63] name:[features.3.1.attn.cpb_mlp.0.bias] shape:[(512,)].\n",
      "    val:[-0.016 -0.065 -0.046 -0.071 -0.018]\n",
      "[64] name:[features.3.1.attn.cpb_mlp.2.weight] shape:[(6, 512)].\n",
      "    val:[-3.808e-06 -4.975e-01 -2.498e-01 -4.532e-01  1.650e-06]\n",
      "[65] name:[features.3.1.norm2.weight] shape:[(192,)].\n",
      "    val:[1.215 1.53  1.763 1.543 2.178]\n",
      "[66] name:[features.3.1.norm2.bias] shape:[(192,)].\n",
      "    val:[0.096 0.177 0.102 0.016 0.087]\n",
      "[67] name:[features.3.1.mlp.0.weight] shape:[(768, 192)].\n",
      "    val:[-0.059  0.032  0.006 -0.064  0.031]\n",
      "[68] name:[features.3.1.mlp.0.bias] shape:[(768,)].\n",
      "    val:[-0.368 -0.662 -1.261 -1.032 -0.505]\n",
      "[69] name:[features.3.1.mlp.3.weight] shape:[(192, 768)].\n",
      "    val:[-0.035  0.     0.067  0.049  0.04 ]\n",
      "[70] name:[features.3.1.mlp.3.bias] shape:[(192,)].\n",
      "    val:[ 0.053 -0.084 -0.09  -0.071 -0.042]\n",
      "[71] name:[features.4.reduction.weight] shape:[(384, 768)].\n",
      "    val:[ 0.019  0.075 -0.001  0.01   0.051]\n",
      "[72] name:[features.4.norm.weight] shape:[(384,)].\n",
      "    val:[0.509 0.432 0.576 0.61  0.387]\n",
      "[73] name:[features.4.norm.bias] shape:[(384,)].\n",
      "    val:[ 0.074  0.489 -0.027  0.377  0.108]\n",
      "[74] name:[features.5.0.norm1.weight] shape:[(384,)].\n",
      "    val:[0.254 0.618 0.141 0.459 0.516]\n",
      "[75] name:[features.5.0.norm1.bias] shape:[(384,)].\n",
      "    val:[0.158 0.221 0.008 0.14  0.125]\n",
      "[76] name:[features.5.0.attn.logit_scale] shape:[(12, 1, 1)].\n",
      "    val:[2.257 2.244 1.803 1.105 1.82 ]\n",
      "[77] name:[features.5.0.attn.qkv.weight] shape:[(1152, 384)].\n",
      "    val:[ 0.022  0.028  0.054  0.073 -0.004]\n",
      "[78] name:[features.5.0.attn.qkv.bias] shape:[(1152,)].\n",
      "    val:[ 0.109 -0.489  0.66   0.213  0.31 ]\n",
      "[79] name:[features.5.0.attn.proj.weight] shape:[(384, 384)].\n",
      "    val:[-0.035  0.014 -0.055  0.015 -0.05 ]\n",
      "[80] name:[features.5.0.attn.proj.bias] shape:[(384,)].\n",
      "    val:[ 0.161  0.294  0.511 -0.372 -0.343]\n",
      "[81] name:[features.5.0.attn.cpb_mlp.0.weight] shape:[(512, 2)].\n",
      "    val:[ 2.284e-06 -9.108e-07  1.405e-06  1.444e-06  1.336e-01]\n",
      "[82] name:[features.5.0.attn.cpb_mlp.0.bias] shape:[(512,)].\n",
      "    val:[-0.018 -0.01  -0.086  0.    -0.007]\n",
      "[83] name:[features.5.0.attn.cpb_mlp.2.weight] shape:[(12, 512)].\n",
      "    val:[-1.478e-06 -1.843e-08 -1.335e-01  3.168e-02 -4.218e-07]\n",
      "[84] name:[features.5.0.norm2.weight] shape:[(384,)].\n",
      "    val:[0.415 0.446 0.435 0.479 0.403]\n",
      "[85] name:[features.5.0.norm2.bias] shape:[(384,)].\n",
      "    val:[-0.007  0.206 -0.001  0.169  0.22 ]\n",
      "[86] name:[features.5.0.mlp.0.weight] shape:[(1536, 384)].\n",
      "    val:[-0.042 -0.078  0.048 -0.051  0.007]\n",
      "[87] name:[features.5.0.mlp.0.bias] shape:[(1536,)].\n",
      "    val:[-0.755 -1.051 -0.996 -1.15  -0.855]\n",
      "[88] name:[features.5.0.mlp.3.weight] shape:[(384, 1536)].\n",
      "    val:[ 0.131  0.036  0.01  -0.115 -0.04 ]\n",
      "[89] name:[features.5.0.mlp.3.bias] shape:[(384,)].\n",
      "    val:[-0.253 -0.729 -0.393 -0.121 -0.254]\n",
      "[90] name:[features.5.1.norm1.weight] shape:[(384,)].\n",
      "    val:[0.234 0.534 0.127 0.433 0.375]\n",
      "[91] name:[features.5.1.norm1.bias] shape:[(384,)].\n",
      "    val:[ 0.057  0.306 -0.022  0.102 -0.039]\n",
      "[92] name:[features.5.1.attn.logit_scale] shape:[(12, 1, 1)].\n",
      "    val:[1.534 2.178 1.51  1.989 1.202]\n",
      "[93] name:[features.5.1.attn.qkv.weight] shape:[(1152, 384)].\n",
      "    val:[-0.058  0.114 -0.007 -0.026  0.026]\n",
      "[94] name:[features.5.1.attn.qkv.bias] shape:[(1152,)].\n",
      "    val:[-0.213 -0.004  0.358 -0.393 -0.03 ]\n",
      "[95] name:[features.5.1.attn.proj.weight] shape:[(384, 384)].\n",
      "    val:[-0.034  0.05   0.066  0.019 -0.001]\n",
      "[96] name:[features.5.1.attn.proj.bias] shape:[(384,)].\n",
      "    val:[ 0.099 -0.576  0.201 -0.155  0.349]\n",
      "[97] name:[features.5.1.attn.cpb_mlp.0.weight] shape:[(512, 2)].\n",
      "    val:[-1.120e-05  3.479e-05 -1.623e-05  9.649e-06 -1.697e-01]\n",
      "[98] name:[features.5.1.attn.cpb_mlp.0.bias] shape:[(512,)].\n",
      "    val:[-0.047 -0.007  0.063 -0.054  0.   ]\n",
      "[99] name:[features.5.1.attn.cpb_mlp.2.weight] shape:[(12, 512)].\n",
      "    val:[-2.730e-05 -4.123e-05 -2.836e-02 -6.676e-06 -4.018e-02]\n",
      "[100] name:[features.5.1.norm2.weight] shape:[(384,)].\n",
      "    val:[0.511 0.396 0.545 0.507 0.457]\n",
      "[101] name:[features.5.1.norm2.bias] shape:[(384,)].\n",
      "    val:[ 0.005  0.327 -0.071  0.262  0.261]\n",
      "[102] name:[features.5.1.mlp.0.weight] shape:[(1536, 384)].\n",
      "    val:[ 0.03   0.026 -0.026  0.043  0.006]\n",
      "[103] name:[features.5.1.mlp.0.bias] shape:[(1536,)].\n",
      "    val:[-0.895 -0.664 -0.905 -0.825 -0.64 ]\n",
      "[104] name:[features.5.1.mlp.3.weight] shape:[(384, 1536)].\n",
      "    val:[-0.048 -0.052 -0.063  0.008  0.049]\n",
      "[105] name:[features.5.1.mlp.3.bias] shape:[(384,)].\n",
      "    val:[-0.174 -0.999 -0.165 -0.306 -0.387]\n",
      "[106] name:[features.5.2.norm1.weight] shape:[(384,)].\n",
      "    val:[0.297 0.71  0.224 0.581 0.57 ]\n",
      "[107] name:[features.5.2.norm1.bias] shape:[(384,)].\n",
      "    val:[ 0.194  0.294 -0.033  0.086 -0.056]\n",
      "[108] name:[features.5.2.attn.logit_scale] shape:[(12, 1, 1)].\n",
      "    val:[2.019 2.213 1.798 1.723 1.616]\n",
      "[109] name:[features.5.2.attn.qkv.weight] shape:[(1152, 384)].\n",
      "    val:[ 0.075  0.013 -0.054 -0.004 -0.061]\n",
      "[110] name:[features.5.2.attn.qkv.bias] shape:[(1152,)].\n",
      "    val:[ 0.081 -0.026 -0.225  0.273  0.192]\n",
      "[111] name:[features.5.2.attn.proj.weight] shape:[(384, 384)].\n",
      "    val:[-0.06  -0.014  0.036  0.021 -0.006]\n",
      "[112] name:[features.5.2.attn.proj.bias] shape:[(384,)].\n",
      "    val:[-0.186 -0.202  0.387 -0.186 -0.204]\n",
      "[113] name:[features.5.2.attn.cpb_mlp.0.weight] shape:[(512, 2)].\n",
      "    val:[-8.804e-03 -1.080e-03 -6.166e-04 -7.621e-04  8.731e-07]\n",
      "[114] name:[features.5.2.attn.cpb_mlp.0.bias] shape:[(512,)].\n",
      "    val:[-0.03  -0.034 -0.006 -0.042  0.003]\n",
      "[115] name:[features.5.2.attn.cpb_mlp.2.weight] shape:[(12, 512)].\n",
      "    val:[ 2.873e-02  1.594e-03 -3.865e-06  4.110e-07  2.634e-01]\n",
      "[116] name:[features.5.2.norm2.weight] shape:[(384,)].\n",
      "    val:[0.618 0.485 0.618 0.609 0.601]\n",
      "[117] name:[features.5.2.norm2.bias] shape:[(384,)].\n",
      "    val:[0.091 0.27  0.012 0.484 0.318]\n",
      "[118] name:[features.5.2.mlp.0.weight] shape:[(1536, 384)].\n",
      "    val:[ 0.013 -0.04   0.108 -0.047  0.046]\n",
      "[119] name:[features.5.2.mlp.0.bias] shape:[(1536,)].\n",
      "    val:[-0.713 -0.991 -0.77  -1.019 -0.735]\n",
      "[120] name:[features.5.2.mlp.3.weight] shape:[(384, 1536)].\n",
      "    val:[ 0.002 -0.034 -0.055 -0.042  0.024]\n",
      "[121] name:[features.5.2.mlp.3.bias] shape:[(384,)].\n",
      "    val:[-0.296 -0.713 -0.156 -0.507 -0.16 ]\n",
      "[122] name:[features.5.3.norm1.weight] shape:[(384,)].\n",
      "    val:[0.25  0.59  0.175 0.534 0.455]\n",
      "[123] name:[features.5.3.norm1.bias] shape:[(384,)].\n",
      "    val:[0.159 0.163 0.018 0.136 0.017]\n",
      "[124] name:[features.5.3.attn.logit_scale] shape:[(12, 1, 1)].\n",
      "    val:[1.334 1.589 2.103 2.126 2.18 ]\n",
      "[125] name:[features.5.3.attn.qkv.weight] shape:[(1152, 384)].\n",
      "    val:[-0.004  0.044  0.013  0.074  0.02 ]\n",
      "[126] name:[features.5.3.attn.qkv.bias] shape:[(1152,)].\n",
      "    val:[ 0.093 -0.184 -0.025 -0.011  0.064]\n",
      "[127] name:[features.5.3.attn.proj.weight] shape:[(384, 384)].\n",
      "    val:[-0.061 -0.009  0.02   0.064 -0.049]\n",
      "[128] name:[features.5.3.attn.proj.bias] shape:[(384,)].\n",
      "    val:[ 0.107 -0.3    0.37  -0.257  0.184]\n",
      "[129] name:[features.5.3.attn.cpb_mlp.0.weight] shape:[(512, 2)].\n",
      "    val:[ 3.649e-06 -1.638e-07  2.321e-01 -2.310e-01 -1.449e-06]\n",
      "[130] name:[features.5.3.attn.cpb_mlp.0.bias] shape:[(512,)].\n",
      "    val:[-0.016 -0.191 -0.012 -0.031 -0.01 ]\n",
      "[131] name:[features.5.3.attn.cpb_mlp.2.weight] shape:[(12, 512)].\n",
      "    val:[2.069e-05 3.129e-02 1.644e-06 7.758e-06 1.571e-06]\n",
      "[132] name:[features.5.3.norm2.weight] shape:[(384,)].\n",
      "    val:[0.757 0.699 0.756 0.89  0.794]\n",
      "[133] name:[features.5.3.norm2.bias] shape:[(384,)].\n",
      "    val:[ 0.047  0.259 -0.062  0.486  0.354]\n",
      "[134] name:[features.5.3.mlp.0.weight] shape:[(1536, 384)].\n",
      "    val:[-0.04  -0.06   0.016 -0.057  0.067]\n",
      "[135] name:[features.5.3.mlp.0.bias] shape:[(1536,)].\n",
      "    val:[-0.811 -1.05  -0.687 -0.814 -0.934]\n",
      "[136] name:[features.5.3.mlp.3.weight] shape:[(384, 1536)].\n",
      "    val:[ 0.01   0.001 -0.021 -0.027  0.157]\n",
      "[137] name:[features.5.3.mlp.3.bias] shape:[(384,)].\n",
      "    val:[-0.307 -0.493  0.036 -0.393 -0.374]\n",
      "[138] name:[features.5.4.norm1.weight] shape:[(384,)].\n",
      "    val:[0.442 0.702 0.006 0.769 0.754]\n",
      "[139] name:[features.5.4.norm1.bias] shape:[(384,)].\n",
      "    val:[ 0.162  0.078 -0.002  0.244  0.095]\n",
      "[140] name:[features.5.4.attn.logit_scale] shape:[(12, 1, 1)].\n",
      "    val:[1.629 1.875 1.912 1.746 1.99 ]\n",
      "[141] name:[features.5.4.attn.qkv.weight] shape:[(1152, 384)].\n",
      "    val:[ 0.012  0.037  0.024  0.001 -0.033]\n",
      "[142] name:[features.5.4.attn.qkv.bias] shape:[(1152,)].\n",
      "    val:[ 0.086  0.042  0.378  0.026 -0.07 ]\n",
      "[143] name:[features.5.4.attn.proj.weight] shape:[(384, 384)].\n",
      "    val:[-0.009 -0.013  0.021 -0.041 -0.036]\n",
      "[144] name:[features.5.4.attn.proj.bias] shape:[(384,)].\n",
      "    val:[-0.128  0.056  8.67  -0.265 -0.044]\n",
      "[145] name:[features.5.4.attn.cpb_mlp.0.weight] shape:[(512, 2)].\n",
      "    val:[ 7.735e-03 -1.647e-05  7.119e-07 -3.894e-07  7.689e-03]\n",
      "[146] name:[features.5.4.attn.cpb_mlp.0.bias] shape:[(512,)].\n",
      "    val:[ 0.746 -0.015  0.744 -0.003 -0.046]\n",
      "[147] name:[features.5.4.attn.cpb_mlp.2.weight] shape:[(12, 512)].\n",
      "    val:[ 8.345e-02 -2.746e-07  8.344e-02  6.112e-06 -4.636e-06]\n",
      "[148] name:[features.5.4.norm2.weight] shape:[(384,)].\n",
      "    val:[0.905 0.978 0.674 0.888 1.002]\n",
      "[149] name:[features.5.4.norm2.bias] shape:[(384,)].\n",
      "    val:[4.298e-02 2.683e-01 2.604e-04 8.645e-01 2.802e-01]\n",
      "[150] name:[features.5.4.mlp.0.weight] shape:[(1536, 384)].\n",
      "    val:[-0.027 -0.019 -0.055  0.002  0.037]\n",
      "[151] name:[features.5.4.mlp.0.bias] shape:[(1536,)].\n",
      "    val:[-0.868 -0.86  -0.471 -0.361 -0.856]\n",
      "[152] name:[features.5.4.mlp.3.weight] shape:[(384, 1536)].\n",
      "    val:[-0.044 -0.026 -0.019 -0.025 -0.078]\n",
      "[153] name:[features.5.4.mlp.3.bias] shape:[(384,)].\n",
      "    val:[-0.27  -0.541  0.035 -1.085 -0.456]\n",
      "[154] name:[features.5.5.norm1.weight] shape:[(384,)].\n",
      "    val:[ 0.542  0.753 -0.022  0.748  0.757]\n",
      "[155] name:[features.5.5.norm1.bias] shape:[(384,)].\n",
      "    val:[ 0.103  0.095 -0.017  0.216  0.049]\n",
      "[156] name:[features.5.5.attn.logit_scale] shape:[(12, 1, 1)].\n",
      "    val:[2.075 1.586 2.172 2.226 1.899]\n",
      "[157] name:[features.5.5.attn.qkv.weight] shape:[(1152, 384)].\n",
      "    val:[ 0.011 -0.04   0.049 -0.021 -0.011]\n",
      "[158] name:[features.5.5.attn.qkv.bias] shape:[(1152,)].\n",
      "    val:[ 1.475 -0.012  0.25  -0.122 -0.274]\n",
      "[159] name:[features.5.5.attn.proj.weight] shape:[(384, 384)].\n",
      "    val:[ 0.019  0.001 -0.006 -0.002 -0.01 ]\n",
      "[160] name:[features.5.5.attn.proj.bias] shape:[(384,)].\n",
      "    val:[ -0.307  -0.105 -11.405  -0.282  -0.076]\n",
      "[161] name:[features.5.5.attn.cpb_mlp.0.weight] shape:[(512, 2)].\n",
      "    val:[ 0.096 -0.123 -0.15   0.023  0.096]\n",
      "[162] name:[features.5.5.attn.cpb_mlp.0.bias] shape:[(512,)].\n",
      "    val:[-0.09  -0.054 -0.093 -0.098 -0.08 ]\n",
      "[163] name:[features.5.5.attn.cpb_mlp.2.weight] shape:[(12, 512)].\n",
      "    val:[-0.078 -0.142 -0.078 -0.139 -0.065]\n",
      "[164] name:[features.5.5.norm2.weight] shape:[(384,)].\n",
      "    val:[1.066 1.609 0.412 1.027 1.439]\n",
      "[165] name:[features.5.5.norm2.bias] shape:[(384,)].\n",
      "    val:[ 0.084  0.195 -0.322  0.469  0.218]\n",
      "[166] name:[features.5.5.mlp.0.weight] shape:[(1536, 384)].\n",
      "    val:[-0.011 -0.009  0.009 -0.061 -0.069]\n",
      "[167] name:[features.5.5.mlp.0.bias] shape:[(1536,)].\n",
      "    val:[-0.816 -1.174 -1.07  -0.7   -0.769]\n",
      "[168] name:[features.5.5.mlp.3.weight] shape:[(384, 1536)].\n",
      "    val:[-0.033 -0.081  0.09   0.041 -0.025]\n",
      "[169] name:[features.5.5.mlp.3.bias] shape:[(384,)].\n",
      "    val:[-0.138 -0.117  0.155 -0.903 -0.248]\n",
      "[170] name:[features.6.reduction.weight] shape:[(768, 1536)].\n",
      "    val:[-0.023 -0.04  -0.016  0.044 -0.07 ]\n",
      "[171] name:[features.6.norm.weight] shape:[(768,)].\n",
      "    val:[0.479 0.375 0.488 0.5   0.407]\n",
      "[172] name:[features.6.norm.bias] shape:[(768,)].\n",
      "    val:[0.227 0.006 0.084 0.073 0.008]\n",
      "[173] name:[features.7.0.norm1.weight] shape:[(768,)].\n",
      "    val:[0.33  0.289 0.466 0.204 0.436]\n",
      "[174] name:[features.7.0.norm1.bias] shape:[(768,)].\n",
      "    val:[ 0.166 -0.001  0.064  0.013 -0.025]\n",
      "[175] name:[features.7.0.attn.logit_scale] shape:[(24, 1, 1)].\n",
      "    val:[2.246 1.983 2.048 2.092 2.279]\n",
      "[176] name:[features.7.0.attn.qkv.weight] shape:[(2304, 768)].\n",
      "    val:[ 0.028  0.062 -0.028 -0.007  0.001]\n",
      "[177] name:[features.7.0.attn.qkv.bias] shape:[(2304,)].\n",
      "    val:[ 0.377  0.197  0.262 -0.543 -0.208]\n",
      "[178] name:[features.7.0.attn.proj.weight] shape:[(768, 768)].\n",
      "    val:[ 0.031  0.063 -0.03   0.058  0.012]\n",
      "[179] name:[features.7.0.attn.proj.bias] shape:[(768,)].\n",
      "    val:[-0.389 -0.235 -0.076 -0.314  0.187]\n",
      "[180] name:[features.7.0.attn.cpb_mlp.0.weight] shape:[(512, 2)].\n",
      "    val:[-1.649e-01  1.652e-01 -4.013e-07  1.753e-06  6.304e-02]\n",
      "[181] name:[features.7.0.attn.cpb_mlp.0.bias] shape:[(512,)].\n",
      "    val:[-0.118 -0.013 -0.098 -0.054 -0.109]\n",
      "[182] name:[features.7.0.attn.cpb_mlp.2.weight] shape:[(24, 512)].\n",
      "    val:[-1.391e-01  5.959e-07 -1.448e-01 -1.253e-02 -1.613e-01]\n",
      "[183] name:[features.7.0.norm2.weight] shape:[(768,)].\n",
      "    val:[0.64  0.769 0.587 0.775 0.738]\n",
      "[184] name:[features.7.0.norm2.bias] shape:[(768,)].\n",
      "    val:[ 0.481  0.006  0.185  0.734 -0.774]\n",
      "[185] name:[features.7.0.mlp.0.weight] shape:[(3072, 768)].\n",
      "    val:[-0.047 -0.021  0.054 -0.033  0.001]\n",
      "[186] name:[features.7.0.mlp.0.bias] shape:[(3072,)].\n",
      "    val:[-0.883 -0.988 -0.933 -0.949 -0.773]\n",
      "[187] name:[features.7.0.mlp.3.weight] shape:[(768, 3072)].\n",
      "    val:[ 0.041  0.025 -0.043  0.082  0.05 ]\n",
      "[188] name:[features.7.0.mlp.3.bias] shape:[(768,)].\n",
      "    val:[-0.707 -0.041 -0.273 -0.626  0.567]\n",
      "[189] name:[features.7.1.norm1.weight] shape:[(768,)].\n",
      "    val:[0.431 0.334 0.487 0.32  0.426]\n",
      "[190] name:[features.7.1.norm1.bias] shape:[(768,)].\n",
      "    val:[ 0.154  0.008  0.115 -0.035 -0.004]\n",
      "[191] name:[features.7.1.attn.logit_scale] shape:[(24, 1, 1)].\n",
      "    val:[2.071 1.934 1.948 2.082 1.925]\n",
      "[192] name:[features.7.1.attn.qkv.weight] shape:[(2304, 768)].\n",
      "    val:[ 0.009 -0.001 -0.001 -0.019  0.038]\n",
      "[193] name:[features.7.1.attn.qkv.bias] shape:[(2304,)].\n",
      "    val:[-0.196  0.487 -0.324  0.243  0.351]\n",
      "[194] name:[features.7.1.attn.proj.weight] shape:[(768, 768)].\n",
      "    val:[ 0.011 -0.047 -0.016 -0.017  0.069]\n",
      "[195] name:[features.7.1.attn.proj.bias] shape:[(768,)].\n",
      "    val:[-0.492  0.001 -0.355 -0.067  0.187]\n",
      "[196] name:[features.7.1.attn.cpb_mlp.0.weight] shape:[(512, 2)].\n",
      "    val:[-9.005e-06 -9.752e-06  8.226e-05 -1.731e-04 -1.069e-01]\n",
      "[197] name:[features.7.1.attn.cpb_mlp.0.bias] shape:[(512,)].\n",
      "    val:[-0.129 -0.021 -0.1   -0.093 -0.092]\n",
      "[198] name:[features.7.1.attn.cpb_mlp.2.weight] shape:[(24, 512)].\n",
      "    val:[ 1.423e-05  1.210e-03 -7.637e-02 -7.170e-02  9.384e-06]\n",
      "[199] name:[features.7.1.norm2.weight] shape:[(768,)].\n",
      "    val:[0.837 0.76  0.88  0.73  0.857]\n",
      "[200] name:[features.7.1.norm2.bias] shape:[(768,)].\n",
      "    val:[ 0.099  0.05   0.071 -0.009  0.014]\n",
      "[201] name:[features.7.1.mlp.0.weight] shape:[(3072, 768)].\n",
      "    val:[-0.048  0.001 -0.04  -0.025 -0.028]\n",
      "[202] name:[features.7.1.mlp.0.bias] shape:[(3072,)].\n",
      "    val:[-0.913 -0.824 -1.207 -0.767 -0.951]\n",
      "[203] name:[features.7.1.mlp.3.weight] shape:[(768, 3072)].\n",
      "    val:[ 0.035 -0.01  -0.099  0.043  0.051]\n",
      "[204] name:[features.7.1.mlp.3.bias] shape:[(768,)].\n",
      "    val:[-0.008  0.004  0.001 -0.002  0.014]\n",
      "[205] name:[norm.weight] shape:[(768,)].\n",
      "    val:[2.513 3.557 2.434 3.693 2.655]\n",
      "[206] name:[norm.bias] shape:[(768,)].\n",
      "    val:[-0.032 -0.124 -0.037 -0.009 -0.055]\n",
      "[207] name:[head.weight] shape:[(18, 768)].\n",
      "    val:[-0.137  0.084  0.106  0.031 -0.107]\n",
      "[208] name:[head.bias] shape:[(18,)].\n",
      "    val:[-0.012  0.063  0.02   0.04   0.053]\n",
      "Total number of parameters:[27,596,412].\n"
     ]
    }
   ],
   "source": [
    "np.set_printoptions(precision=3)\n",
    "n_param = 0\n",
    "for p_idx, (param_name, param) in enumerate(model.named_parameters()):\n",
    "    if param.requires_grad:\n",
    "        param_numpy = param.detach().cpu().numpy()\n",
    "        n_param += len(param_numpy.reshape(-1))\n",
    "        print (\"[%d] name:[%s] shape:[%s].\"%(p_idx,param_name,param_numpy.shape))\n",
    "        print (\"    val:%s\"%(param_numpy.reshape(-1)[:5]))\n",
    "print (\"Total number of parameters:[%s].\"%(format(n_param,',d')))"
   ]
  },
  {
   "cell_type": "code",
   "execution_count": 29,
   "id": "f63b87ae-d675-49c2-8c8c-0a2939f26e3c",
   "metadata": {},
   "outputs": [
    {
     "data": {
      "application/vnd.jupyter.widget-view+json": {
       "model_id": "299fbf67af3c4b0caccb8969fd8b0802",
       "version_major": 2,
       "version_minor": 0
      },
      "text/plain": [
       "HBox(children=(HTML(value=''), FloatProgress(value=0.0, max=473.0), HTML(value='')))"
      ]
     },
     "metadata": {},
     "output_type": "display_data"
    },
    {
     "name": "stdout",
     "output_type": "stream",
     "text": [
      "\n",
      "epoch[0/200] training loss 0.29261, training accuracy 0.89954\n"
     ]
    },
    {
     "data": {
      "application/vnd.jupyter.widget-view+json": {
       "model_id": "23eb45fb00a5441db352f11a4aaf1e6d",
       "version_major": 2,
       "version_minor": 0
      },
      "text/plain": [
       "HBox(children=(HTML(value=''), FloatProgress(value=0.0, max=119.0), HTML(value='')))"
      ]
     },
     "metadata": {},
     "output_type": "display_data"
    },
    {
     "name": "stdout",
     "output_type": "stream",
     "text": [
      "\n",
      "checkpoint saved!\n",
      "[val] acc : 0.89153, loss : 0.36158, f1 score : 0.79518\n",
      "best acc : 0.89153, best loss : 0.36158, best f1 : 0.79518\n"
     ]
    },
    {
     "data": {
      "application/vnd.jupyter.widget-view+json": {
       "model_id": "47f47651c71f40a2abfbce05638007ef",
       "version_major": 2,
       "version_minor": 0
      },
      "text/plain": [
       "HBox(children=(HTML(value=''), FloatProgress(value=0.0, max=473.0), HTML(value='')))"
      ]
     },
     "metadata": {},
     "output_type": "display_data"
    },
    {
     "name": "stdout",
     "output_type": "stream",
     "text": [
      "\n",
      "epoch[1/200] training loss 0.12222, training accuracy 0.95721\n"
     ]
    },
    {
     "data": {
      "application/vnd.jupyter.widget-view+json": {
       "model_id": "39390c49b36743fea1b889a51277f8c0",
       "version_major": 2,
       "version_minor": 0
      },
      "text/plain": [
       "HBox(children=(HTML(value=''), FloatProgress(value=0.0, max=119.0), HTML(value='')))"
      ]
     },
     "metadata": {},
     "output_type": "display_data"
    },
    {
     "name": "stdout",
     "output_type": "stream",
     "text": [
      "\n",
      "checkpoint saved!\n",
      "[val] acc : 0.89312, loss : 0.39203, f1 score : 0.80950\n",
      "best acc : 0.89312, best loss : 0.36158, best f1 : 0.80950\n"
     ]
    },
    {
     "data": {
      "application/vnd.jupyter.widget-view+json": {
       "model_id": "bb86970666614eb8a4f45d7683a3bc59",
       "version_major": 2,
       "version_minor": 0
      },
      "text/plain": [
       "HBox(children=(HTML(value=''), FloatProgress(value=0.0, max=473.0), HTML(value='')))"
      ]
     },
     "metadata": {},
     "output_type": "display_data"
    },
    {
     "name": "stdout",
     "output_type": "stream",
     "text": [
      "\n",
      "epoch[2/200] training loss 0.06578, training accuracy 0.97884\n"
     ]
    },
    {
     "data": {
      "application/vnd.jupyter.widget-view+json": {
       "model_id": "dc8d55873af247929ec8f7ad8f518650",
       "version_major": 2,
       "version_minor": 0
      },
      "text/plain": [
       "HBox(children=(HTML(value=''), FloatProgress(value=0.0, max=119.0), HTML(value='')))"
      ]
     },
     "metadata": {},
     "output_type": "display_data"
    },
    {
     "name": "stdout",
     "output_type": "stream",
     "text": [
      "\n",
      "[val] acc : 0.88704, loss : 0.54095, f1 score : 0.79464\n",
      "best acc : 0.89312, best loss : 0.36158, best f1 : 0.80950\n"
     ]
    },
    {
     "data": {
      "application/vnd.jupyter.widget-view+json": {
       "model_id": "c49dd408734a4afcabeeab49b0435313",
       "version_major": 2,
       "version_minor": 0
      },
      "text/plain": [
       "HBox(children=(HTML(value=''), FloatProgress(value=0.0, max=473.0), HTML(value='')))"
      ]
     },
     "metadata": {},
     "output_type": "display_data"
    },
    {
     "name": "stdout",
     "output_type": "stream",
     "text": [
      "\n",
      "epoch[3/200] training loss 0.04590, training accuracy 0.98519\n"
     ]
    },
    {
     "data": {
      "application/vnd.jupyter.widget-view+json": {
       "model_id": "5b1d7f028e3a4e9cb0321d3fb38a65cd",
       "version_major": 2,
       "version_minor": 0
      },
      "text/plain": [
       "HBox(children=(HTML(value=''), FloatProgress(value=0.0, max=119.0), HTML(value='')))"
      ]
     },
     "metadata": {},
     "output_type": "display_data"
    },
    {
     "name": "stdout",
     "output_type": "stream",
     "text": [
      "\n",
      "[val] acc : 0.88862, loss : 0.54464, f1 score : 0.81202\n",
      "best acc : 0.89312, best loss : 0.36158, best f1 : 0.81202\n"
     ]
    },
    {
     "data": {
      "application/vnd.jupyter.widget-view+json": {
       "model_id": "00bcea8e8d6542d794fca504eb50a778",
       "version_major": 2,
       "version_minor": 0
      },
      "text/plain": [
       "HBox(children=(HTML(value=''), FloatProgress(value=0.0, max=473.0), HTML(value='')))"
      ]
     },
     "metadata": {},
     "output_type": "display_data"
    },
    {
     "name": "stdout",
     "output_type": "stream",
     "text": [
      "\n",
      "epoch[4/200] training loss 0.03657, training accuracy 0.98757\n"
     ]
    },
    {
     "data": {
      "application/vnd.jupyter.widget-view+json": {
       "model_id": "a3c6d8ed43cd4fb3ba05d3a12ad9d0c9",
       "version_major": 2,
       "version_minor": 0
      },
      "text/plain": [
       "HBox(children=(HTML(value=''), FloatProgress(value=0.0, max=119.0), HTML(value='')))"
      ]
     },
     "metadata": {},
     "output_type": "display_data"
    },
    {
     "name": "stdout",
     "output_type": "stream",
     "text": [
      "\n",
      "[val] acc : 0.87460, loss : 0.60930, f1 score : 0.78577\n",
      "best acc : 0.89312, best loss : 0.36158, best f1 : 0.81202\n"
     ]
    },
    {
     "data": {
      "application/vnd.jupyter.widget-view+json": {
       "model_id": "752b507944634066870294e28c5a9230",
       "version_major": 2,
       "version_minor": 0
      },
      "text/plain": [
       "HBox(children=(HTML(value=''), FloatProgress(value=0.0, max=473.0), HTML(value='')))"
      ]
     },
     "metadata": {},
     "output_type": "display_data"
    },
    {
     "name": "stdout",
     "output_type": "stream",
     "text": [
      "\n",
      "epoch[5/200] training loss 0.02922, training accuracy 0.98882\n"
     ]
    },
    {
     "data": {
      "application/vnd.jupyter.widget-view+json": {
       "model_id": "f3054f170a604d6a94584e5963b1e575",
       "version_major": 2,
       "version_minor": 0
      },
      "text/plain": [
       "HBox(children=(HTML(value=''), FloatProgress(value=0.0, max=119.0), HTML(value='')))"
      ]
     },
     "metadata": {},
     "output_type": "display_data"
    },
    {
     "name": "stdout",
     "output_type": "stream",
     "text": [
      "\n",
      "[val] acc : 0.87937, loss : 0.62530, f1 score : 0.78281\n",
      "best acc : 0.89312, best loss : 0.36158, best f1 : 0.81202\n"
     ]
    },
    {
     "data": {
      "application/vnd.jupyter.widget-view+json": {
       "model_id": "7bb288f0993f4d568ab07904d4f593fd",
       "version_major": 2,
       "version_minor": 0
      },
      "text/plain": [
       "HBox(children=(HTML(value=''), FloatProgress(value=0.0, max=473.0), HTML(value='')))"
      ]
     },
     "metadata": {},
     "output_type": "display_data"
    },
    {
     "name": "stdout",
     "output_type": "stream",
     "text": [
      "\n",
      "epoch[6/200] training loss 0.02399, training accuracy 0.99213\n"
     ]
    },
    {
     "data": {
      "application/vnd.jupyter.widget-view+json": {
       "model_id": "ada89902bb1b4c29899ffd868e96e958",
       "version_major": 2,
       "version_minor": 0
      },
      "text/plain": [
       "HBox(children=(HTML(value=''), FloatProgress(value=0.0, max=119.0), HTML(value='')))"
      ]
     },
     "metadata": {},
     "output_type": "display_data"
    },
    {
     "name": "stdout",
     "output_type": "stream",
     "text": [
      "\n",
      "[val] acc : 0.88519, loss : 0.64044, f1 score : 0.79053\n",
      "best acc : 0.89312, best loss : 0.36158, best f1 : 0.81202\n"
     ]
    },
    {
     "data": {
      "application/vnd.jupyter.widget-view+json": {
       "model_id": "d1d5e66d8f4d48a9a2be2148a3ecefc2",
       "version_major": 2,
       "version_minor": 0
      },
      "text/plain": [
       "HBox(children=(HTML(value=''), FloatProgress(value=0.0, max=473.0), HTML(value='')))"
      ]
     },
     "metadata": {},
     "output_type": "display_data"
    },
    {
     "name": "stdout",
     "output_type": "stream",
     "text": [
      "\n",
      "epoch[7/200] training loss 0.02596, training accuracy 0.99074\n"
     ]
    },
    {
     "data": {
      "application/vnd.jupyter.widget-view+json": {
       "model_id": "7b6e1d35470e49dbb0ad261232ca7098",
       "version_major": 2,
       "version_minor": 0
      },
      "text/plain": [
       "HBox(children=(HTML(value=''), FloatProgress(value=0.0, max=119.0), HTML(value='')))"
      ]
     },
     "metadata": {},
     "output_type": "display_data"
    },
    {
     "name": "stdout",
     "output_type": "stream",
     "text": [
      "\n",
      "[val] acc : 0.88624, loss : 0.75374, f1 score : 0.79277\n",
      "best acc : 0.89312, best loss : 0.36158, best f1 : 0.81202\n"
     ]
    },
    {
     "data": {
      "application/vnd.jupyter.widget-view+json": {
       "model_id": "c67c261ddbc64a14a0594fb7d99823d6",
       "version_major": 2,
       "version_minor": 0
      },
      "text/plain": [
       "HBox(children=(HTML(value=''), FloatProgress(value=0.0, max=473.0), HTML(value='')))"
      ]
     },
     "metadata": {},
     "output_type": "display_data"
    },
    {
     "name": "stdout",
     "output_type": "stream",
     "text": [
      "\n",
      "epoch[8/200] training loss 0.01583, training accuracy 0.99524\n"
     ]
    },
    {
     "data": {
      "application/vnd.jupyter.widget-view+json": {
       "model_id": "4688e8f6e7b240c7bc5875b26afdc22f",
       "version_major": 2,
       "version_minor": 0
      },
      "text/plain": [
       "HBox(children=(HTML(value=''), FloatProgress(value=0.0, max=119.0), HTML(value='')))"
      ]
     },
     "metadata": {},
     "output_type": "display_data"
    },
    {
     "name": "stdout",
     "output_type": "stream",
     "text": [
      "\n",
      "[val] acc : 0.87884, loss : 0.68776, f1 score : 0.78087\n",
      "best acc : 0.89312, best loss : 0.36158, best f1 : 0.81202\n"
     ]
    },
    {
     "data": {
      "application/vnd.jupyter.widget-view+json": {
       "model_id": "04f74153708443bd97b1c66f88b2c09e",
       "version_major": 2,
       "version_minor": 0
      },
      "text/plain": [
       "HBox(children=(HTML(value=''), FloatProgress(value=0.0, max=473.0), HTML(value='')))"
      ]
     },
     "metadata": {},
     "output_type": "display_data"
    },
    {
     "name": "stdout",
     "output_type": "stream",
     "text": [
      "\n",
      "epoch[9/200] training loss 0.01256, training accuracy 0.99590\n"
     ]
    },
    {
     "data": {
      "application/vnd.jupyter.widget-view+json": {
       "model_id": "f0706e7217524fd38e00197fb0013839",
       "version_major": 2,
       "version_minor": 0
      },
      "text/plain": [
       "HBox(children=(HTML(value=''), FloatProgress(value=0.0, max=119.0), HTML(value='')))"
      ]
     },
     "metadata": {},
     "output_type": "display_data"
    },
    {
     "name": "stdout",
     "output_type": "stream",
     "text": [
      "\n",
      "checkpoint saved!\n",
      "[val] acc : 0.89392, loss : 0.78357, f1 score : 0.79887\n",
      "best acc : 0.89392, best loss : 0.36158, best f1 : 0.81202\n"
     ]
    },
    {
     "data": {
      "application/vnd.jupyter.widget-view+json": {
       "model_id": "265dbaddb0ec47deba6cd60dee25fd40",
       "version_major": 2,
       "version_minor": 0
      },
      "text/plain": [
       "HBox(children=(HTML(value=''), FloatProgress(value=0.0, max=473.0), HTML(value='')))"
      ]
     },
     "metadata": {},
     "output_type": "display_data"
    },
    {
     "name": "stdout",
     "output_type": "stream",
     "text": [
      "\n",
      "epoch[10/200] training loss 0.01081, training accuracy 0.99630\n"
     ]
    },
    {
     "data": {
      "application/vnd.jupyter.widget-view+json": {
       "model_id": "5be1fc1211d04cc89f080f7b52374a6d",
       "version_major": 2,
       "version_minor": 0
      },
      "text/plain": [
       "HBox(children=(HTML(value=''), FloatProgress(value=0.0, max=119.0), HTML(value='')))"
      ]
     },
     "metadata": {},
     "output_type": "display_data"
    },
    {
     "name": "stdout",
     "output_type": "stream",
     "text": [
      "\n",
      "[val] acc : 0.88624, loss : 0.83201, f1 score : 0.81064\n",
      "best acc : 0.89392, best loss : 0.36158, best f1 : 0.81202\n"
     ]
    },
    {
     "data": {
      "application/vnd.jupyter.widget-view+json": {
       "model_id": "db0c88f34c1940ec92dfd122a767a44f",
       "version_major": 2,
       "version_minor": 0
      },
      "text/plain": [
       "HBox(children=(HTML(value=''), FloatProgress(value=0.0, max=473.0), HTML(value='')))"
      ]
     },
     "metadata": {},
     "output_type": "display_data"
    },
    {
     "name": "stdout",
     "output_type": "stream",
     "text": [
      "\n",
      "epoch[11/200] training loss 0.01648, training accuracy 0.99444\n"
     ]
    },
    {
     "data": {
      "application/vnd.jupyter.widget-view+json": {
       "model_id": "443b69bffd4f4ced8edb431a77c3e2ac",
       "version_major": 2,
       "version_minor": 0
      },
      "text/plain": [
       "HBox(children=(HTML(value=''), FloatProgress(value=0.0, max=119.0), HTML(value='')))"
      ]
     },
     "metadata": {},
     "output_type": "display_data"
    },
    {
     "name": "stdout",
     "output_type": "stream",
     "text": [
      "\n",
      "[val] acc : 0.88201, loss : 0.80946, f1 score : 0.78708\n",
      "best acc : 0.89392, best loss : 0.36158, best f1 : 0.81202\n"
     ]
    },
    {
     "data": {
      "application/vnd.jupyter.widget-view+json": {
       "model_id": "5ab1fdc7f9a342a8b2c3102e8ca1454f",
       "version_major": 2,
       "version_minor": 0
      },
      "text/plain": [
       "HBox(children=(HTML(value=''), FloatProgress(value=0.0, max=473.0), HTML(value='')))"
      ]
     },
     "metadata": {},
     "output_type": "display_data"
    },
    {
     "name": "stdout",
     "output_type": "stream",
     "text": [
      "\n",
      "epoch[12/200] training loss 0.01395, training accuracy 0.99550\n"
     ]
    },
    {
     "data": {
      "application/vnd.jupyter.widget-view+json": {
       "model_id": "ef8f67bbdc5a4e5898d0589305b7024c",
       "version_major": 2,
       "version_minor": 0
      },
      "text/plain": [
       "HBox(children=(HTML(value=''), FloatProgress(value=0.0, max=119.0), HTML(value='')))"
      ]
     },
     "metadata": {},
     "output_type": "display_data"
    },
    {
     "name": "stdout",
     "output_type": "stream",
     "text": [
      "\n",
      "[val] acc : 0.88915, loss : 1.01758, f1 score : 0.78627\n",
      "best acc : 0.89392, best loss : 0.36158, best f1 : 0.81202\n"
     ]
    },
    {
     "data": {
      "application/vnd.jupyter.widget-view+json": {
       "model_id": "3b39e8f749eb417781f61f62456488bd",
       "version_major": 2,
       "version_minor": 0
      },
      "text/plain": [
       "HBox(children=(HTML(value=''), FloatProgress(value=0.0, max=473.0), HTML(value='')))"
      ]
     },
     "metadata": {},
     "output_type": "display_data"
    },
    {
     "name": "stdout",
     "output_type": "stream",
     "text": [
      "\n",
      "epoch[13/200] training loss 0.01440, training accuracy 0.99537\n"
     ]
    },
    {
     "data": {
      "application/vnd.jupyter.widget-view+json": {
       "model_id": "28282dba03d74c0eb6c53a21db4fcba2",
       "version_major": 2,
       "version_minor": 0
      },
      "text/plain": [
       "HBox(children=(HTML(value=''), FloatProgress(value=0.0, max=119.0), HTML(value='')))"
      ]
     },
     "metadata": {},
     "output_type": "display_data"
    },
    {
     "name": "stdout",
     "output_type": "stream",
     "text": [
      "\n",
      "[val] acc : 0.89021, loss : 0.77292, f1 score : 0.80588\n",
      "best acc : 0.89392, best loss : 0.36158, best f1 : 0.81202\n"
     ]
    },
    {
     "data": {
      "application/vnd.jupyter.widget-view+json": {
       "model_id": "3d85224dbc7d487dbc896a9744459631",
       "version_major": 2,
       "version_minor": 0
      },
      "text/plain": [
       "HBox(children=(HTML(value=''), FloatProgress(value=0.0, max=473.0), HTML(value='')))"
      ]
     },
     "metadata": {},
     "output_type": "display_data"
    },
    {
     "name": "stdout",
     "output_type": "stream",
     "text": [
      "\n",
      "epoch[14/200] training loss 0.01494, training accuracy 0.99524\n"
     ]
    },
    {
     "data": {
      "application/vnd.jupyter.widget-view+json": {
       "model_id": "e4308bb2270f478296ec087885eac74c",
       "version_major": 2,
       "version_minor": 0
      },
      "text/plain": [
       "HBox(children=(HTML(value=''), FloatProgress(value=0.0, max=119.0), HTML(value='')))"
      ]
     },
     "metadata": {},
     "output_type": "display_data"
    },
    {
     "name": "stdout",
     "output_type": "stream",
     "text": [
      "\n",
      "[val] acc : 0.88519, loss : 0.78526, f1 score : 0.78586\n",
      "best acc : 0.89392, best loss : 0.36158, best f1 : 0.81202\n"
     ]
    },
    {
     "data": {
      "application/vnd.jupyter.widget-view+json": {
       "model_id": "3550eb812e8c4f4d9dd95070471845a9",
       "version_major": 2,
       "version_minor": 0
      },
      "text/plain": [
       "HBox(children=(HTML(value=''), FloatProgress(value=0.0, max=473.0), HTML(value='')))"
      ]
     },
     "metadata": {},
     "output_type": "display_data"
    },
    {
     "name": "stdout",
     "output_type": "stream",
     "text": [
      "\n",
      "epoch[15/200] training loss 0.01203, training accuracy 0.99583\n"
     ]
    },
    {
     "data": {
      "application/vnd.jupyter.widget-view+json": {
       "model_id": "aee0178f6dbd45e9ba3086bd79cdc346",
       "version_major": 2,
       "version_minor": 0
      },
      "text/plain": [
       "HBox(children=(HTML(value=''), FloatProgress(value=0.0, max=119.0), HTML(value='')))"
      ]
     },
     "metadata": {},
     "output_type": "display_data"
    },
    {
     "name": "stdout",
     "output_type": "stream",
     "text": [
      "\n",
      "[val] acc : 0.88280, loss : 0.73163, f1 score : 0.79393\n",
      "best acc : 0.89392, best loss : 0.36158, best f1 : 0.81202\n"
     ]
    },
    {
     "data": {
      "application/vnd.jupyter.widget-view+json": {
       "model_id": "a12e6843189249168e83d782e7851535",
       "version_major": 2,
       "version_minor": 0
      },
      "text/plain": [
       "HBox(children=(HTML(value=''), FloatProgress(value=0.0, max=473.0), HTML(value='')))"
      ]
     },
     "metadata": {},
     "output_type": "display_data"
    },
    {
     "name": "stdout",
     "output_type": "stream",
     "text": [
      "\n",
      "epoch[16/200] training loss 0.00967, training accuracy 0.99702\n"
     ]
    },
    {
     "data": {
      "application/vnd.jupyter.widget-view+json": {
       "model_id": "9768a75e56e340c8895b0ab1259e79de",
       "version_major": 2,
       "version_minor": 0
      },
      "text/plain": [
       "HBox(children=(HTML(value=''), FloatProgress(value=0.0, max=119.0), HTML(value='')))"
      ]
     },
     "metadata": {},
     "output_type": "display_data"
    },
    {
     "name": "stdout",
     "output_type": "stream",
     "text": [
      "\n",
      "[val] acc : 0.88307, loss : 0.77444, f1 score : 0.78551\n",
      "best acc : 0.89392, best loss : 0.36158, best f1 : 0.81202\n"
     ]
    },
    {
     "data": {
      "application/vnd.jupyter.widget-view+json": {
       "model_id": "18ddc749e5d14ee4b12ad05fc86132a4",
       "version_major": 2,
       "version_minor": 0
      },
      "text/plain": [
       "HBox(children=(HTML(value=''), FloatProgress(value=0.0, max=473.0), HTML(value='')))"
      ]
     },
     "metadata": {},
     "output_type": "display_data"
    },
    {
     "name": "stdout",
     "output_type": "stream",
     "text": [
      "\n",
      "epoch[17/200] training loss 0.01455, training accuracy 0.99563\n"
     ]
    },
    {
     "data": {
      "application/vnd.jupyter.widget-view+json": {
       "model_id": "c896de1a1deb463ca084ff104d1d44bb",
       "version_major": 2,
       "version_minor": 0
      },
      "text/plain": [
       "HBox(children=(HTML(value=''), FloatProgress(value=0.0, max=119.0), HTML(value='')))"
      ]
     },
     "metadata": {},
     "output_type": "display_data"
    },
    {
     "name": "stdout",
     "output_type": "stream",
     "text": [
      "\n",
      "[val] acc : 0.88333, loss : 0.78719, f1 score : 0.80097\n",
      "best acc : 0.89392, best loss : 0.36158, best f1 : 0.81202\n"
     ]
    },
    {
     "data": {
      "application/vnd.jupyter.widget-view+json": {
       "model_id": "668eed69110047f0a9f023ced28b5aea",
       "version_major": 2,
       "version_minor": 0
      },
      "text/plain": [
       "HBox(children=(HTML(value=''), FloatProgress(value=0.0, max=473.0), HTML(value='')))"
      ]
     },
     "metadata": {},
     "output_type": "display_data"
    },
    {
     "name": "stdout",
     "output_type": "stream",
     "text": [
      "\n",
      "epoch[18/200] training loss 0.01110, training accuracy 0.99583\n"
     ]
    },
    {
     "data": {
      "application/vnd.jupyter.widget-view+json": {
       "model_id": "e1ddc4ca564840be94cb7e0cd2cc6bc6",
       "version_major": 2,
       "version_minor": 0
      },
      "text/plain": [
       "HBox(children=(HTML(value=''), FloatProgress(value=0.0, max=119.0), HTML(value='')))"
      ]
     },
     "metadata": {},
     "output_type": "display_data"
    },
    {
     "name": "stdout",
     "output_type": "stream",
     "text": [
      "\n",
      "checkpoint saved!\n",
      "[val] acc : 0.89630, loss : 0.89588, f1 score : 0.79808\n",
      "best acc : 0.89630, best loss : 0.36158, best f1 : 0.81202\n"
     ]
    },
    {
     "data": {
      "application/vnd.jupyter.widget-view+json": {
       "model_id": "9b678b460e8c435086a50ba8dd183560",
       "version_major": 2,
       "version_minor": 0
      },
      "text/plain": [
       "HBox(children=(HTML(value=''), FloatProgress(value=0.0, max=473.0), HTML(value='')))"
      ]
     },
     "metadata": {},
     "output_type": "display_data"
    },
    {
     "name": "stdout",
     "output_type": "stream",
     "text": [
      "\n",
      "epoch[19/200] training loss 0.00995, training accuracy 0.99669\n"
     ]
    },
    {
     "data": {
      "application/vnd.jupyter.widget-view+json": {
       "model_id": "7db930ea18c741de8780bd4cb150d81f",
       "version_major": 2,
       "version_minor": 0
      },
      "text/plain": [
       "HBox(children=(HTML(value=''), FloatProgress(value=0.0, max=119.0), HTML(value='')))"
      ]
     },
     "metadata": {},
     "output_type": "display_data"
    },
    {
     "name": "stdout",
     "output_type": "stream",
     "text": [
      "\n",
      "[val] acc : 0.89127, loss : 0.83940, f1 score : 0.80828\n",
      "best acc : 0.89630, best loss : 0.36158, best f1 : 0.81202\n"
     ]
    },
    {
     "data": {
      "application/vnd.jupyter.widget-view+json": {
       "model_id": "91fa4ccdd3124cff93dbd43e467bbda4",
       "version_major": 2,
       "version_minor": 0
      },
      "text/plain": [
       "HBox(children=(HTML(value=''), FloatProgress(value=0.0, max=473.0), HTML(value='')))"
      ]
     },
     "metadata": {},
     "output_type": "display_data"
    },
    {
     "name": "stdout",
     "output_type": "stream",
     "text": [
      "\n",
      "epoch[20/200] training loss 0.00893, training accuracy 0.99702\n"
     ]
    },
    {
     "data": {
      "application/vnd.jupyter.widget-view+json": {
       "model_id": "6694960f7d934c9989efaa6bda81ed99",
       "version_major": 2,
       "version_minor": 0
      },
      "text/plain": [
       "HBox(children=(HTML(value=''), FloatProgress(value=0.0, max=119.0), HTML(value='')))"
      ]
     },
     "metadata": {},
     "output_type": "display_data"
    },
    {
     "name": "stdout",
     "output_type": "stream",
     "text": [
      "\n",
      "[val] acc : 0.89180, loss : 0.84130, f1 score : 0.80350\n",
      "best acc : 0.89630, best loss : 0.36158, best f1 : 0.81202\n"
     ]
    },
    {
     "data": {
      "application/vnd.jupyter.widget-view+json": {
       "model_id": "19537f46491745009fd3009d122babb5",
       "version_major": 2,
       "version_minor": 0
      },
      "text/plain": [
       "HBox(children=(HTML(value=''), FloatProgress(value=0.0, max=473.0), HTML(value='')))"
      ]
     },
     "metadata": {},
     "output_type": "display_data"
    },
    {
     "name": "stdout",
     "output_type": "stream",
     "text": [
      "\n",
      "epoch[21/200] training loss 0.00930, training accuracy 0.99676\n"
     ]
    },
    {
     "data": {
      "application/vnd.jupyter.widget-view+json": {
       "model_id": "3c5dd54c6ae8445db8d0bf3a1ef18f10",
       "version_major": 2,
       "version_minor": 0
      },
      "text/plain": [
       "HBox(children=(HTML(value=''), FloatProgress(value=0.0, max=119.0), HTML(value='')))"
      ]
     },
     "metadata": {},
     "output_type": "display_data"
    },
    {
     "name": "stdout",
     "output_type": "stream",
     "text": [
      "\n",
      "[val] acc : 0.88862, loss : 0.84862, f1 score : 0.80544\n",
      "best acc : 0.89630, best loss : 0.36158, best f1 : 0.81202\n"
     ]
    },
    {
     "data": {
      "application/vnd.jupyter.widget-view+json": {
       "model_id": "35cd1ecf6da94a1c8cdc3cdedad4ecc6",
       "version_major": 2,
       "version_minor": 0
      },
      "text/plain": [
       "HBox(children=(HTML(value=''), FloatProgress(value=0.0, max=473.0), HTML(value='')))"
      ]
     },
     "metadata": {},
     "output_type": "display_data"
    },
    {
     "name": "stdout",
     "output_type": "stream",
     "text": [
      "\n",
      "epoch[22/200] training loss 0.01193, training accuracy 0.99683\n"
     ]
    },
    {
     "data": {
      "application/vnd.jupyter.widget-view+json": {
       "model_id": "012d6b24816e437a99f0c46b5abeee6f",
       "version_major": 2,
       "version_minor": 0
      },
      "text/plain": [
       "HBox(children=(HTML(value=''), FloatProgress(value=0.0, max=119.0), HTML(value='')))"
      ]
     },
     "metadata": {},
     "output_type": "display_data"
    },
    {
     "name": "stdout",
     "output_type": "stream",
     "text": [
      "\n",
      "[val] acc : 0.89392, loss : 0.81664, f1 score : 0.80378\n",
      "best acc : 0.89630, best loss : 0.36158, best f1 : 0.81202\n"
     ]
    },
    {
     "data": {
      "application/vnd.jupyter.widget-view+json": {
       "model_id": "6c08744c45ed47d2ae209ff87ade0745",
       "version_major": 2,
       "version_minor": 0
      },
      "text/plain": [
       "HBox(children=(HTML(value=''), FloatProgress(value=0.0, max=473.0), HTML(value='')))"
      ]
     },
     "metadata": {},
     "output_type": "display_data"
    },
    {
     "name": "stdout",
     "output_type": "stream",
     "text": [
      "\n",
      "epoch[23/200] training loss 0.01014, training accuracy 0.99729\n"
     ]
    },
    {
     "data": {
      "application/vnd.jupyter.widget-view+json": {
       "model_id": "d685701979894ad0966e1b92f52e6590",
       "version_major": 2,
       "version_minor": 0
      },
      "text/plain": [
       "HBox(children=(HTML(value=''), FloatProgress(value=0.0, max=119.0), HTML(value='')))"
      ]
     },
     "metadata": {},
     "output_type": "display_data"
    },
    {
     "name": "stdout",
     "output_type": "stream",
     "text": [
      "\n",
      "checkpoint saved!\n",
      "[val] acc : 0.89762, loss : 0.84096, f1 score : 0.81109\n",
      "best acc : 0.89762, best loss : 0.36158, best f1 : 0.81202\n"
     ]
    },
    {
     "data": {
      "application/vnd.jupyter.widget-view+json": {
       "model_id": "64040ac83e504acd86b30841208ca67d",
       "version_major": 2,
       "version_minor": 0
      },
      "text/plain": [
       "HBox(children=(HTML(value=''), FloatProgress(value=0.0, max=473.0), HTML(value='')))"
      ]
     },
     "metadata": {},
     "output_type": "display_data"
    },
    {
     "name": "stdout",
     "output_type": "stream",
     "text": [
      "\n",
      "epoch[24/200] training loss 0.00835, training accuracy 0.99755\n"
     ]
    },
    {
     "data": {
      "application/vnd.jupyter.widget-view+json": {
       "model_id": "4750f56b74564b8180df1f1a1fa45226",
       "version_major": 2,
       "version_minor": 0
      },
      "text/plain": [
       "HBox(children=(HTML(value=''), FloatProgress(value=0.0, max=119.0), HTML(value='')))"
      ]
     },
     "metadata": {},
     "output_type": "display_data"
    },
    {
     "name": "stdout",
     "output_type": "stream",
     "text": [
      "\n",
      "[val] acc : 0.89550, loss : 0.83347, f1 score : 0.80116\n",
      "best acc : 0.89762, best loss : 0.36158, best f1 : 0.81202\n"
     ]
    },
    {
     "data": {
      "application/vnd.jupyter.widget-view+json": {
       "model_id": "a5a51276dde54b879647b7287d90a46d",
       "version_major": 2,
       "version_minor": 0
      },
      "text/plain": [
       "HBox(children=(HTML(value=''), FloatProgress(value=0.0, max=473.0), HTML(value='')))"
      ]
     },
     "metadata": {},
     "output_type": "display_data"
    },
    {
     "name": "stdout",
     "output_type": "stream",
     "text": [
      "\n",
      "epoch[25/200] training loss 0.01352, training accuracy 0.99544\n"
     ]
    },
    {
     "data": {
      "application/vnd.jupyter.widget-view+json": {
       "model_id": "307f3f8decaa4aa39867830f8fa9d1b3",
       "version_major": 2,
       "version_minor": 0
      },
      "text/plain": [
       "HBox(children=(HTML(value=''), FloatProgress(value=0.0, max=119.0), HTML(value='')))"
      ]
     },
     "metadata": {},
     "output_type": "display_data"
    },
    {
     "name": "stdout",
     "output_type": "stream",
     "text": [
      "\n",
      "[val] acc : 0.89339, loss : 0.72095, f1 score : 0.80481\n",
      "best acc : 0.89762, best loss : 0.36158, best f1 : 0.81202\n"
     ]
    },
    {
     "data": {
      "application/vnd.jupyter.widget-view+json": {
       "model_id": "44db2b8476ce4b9da973a9f60cce336e",
       "version_major": 2,
       "version_minor": 0
      },
      "text/plain": [
       "HBox(children=(HTML(value=''), FloatProgress(value=0.0, max=473.0), HTML(value='')))"
      ]
     },
     "metadata": {},
     "output_type": "display_data"
    },
    {
     "name": "stdout",
     "output_type": "stream",
     "text": [
      "\n",
      "epoch[26/200] training loss 0.00865, training accuracy 0.99742\n"
     ]
    },
    {
     "data": {
      "application/vnd.jupyter.widget-view+json": {
       "model_id": "5099abaa4c764d32bfab3f698cb84f53",
       "version_major": 2,
       "version_minor": 0
      },
      "text/plain": [
       "HBox(children=(HTML(value=''), FloatProgress(value=0.0, max=119.0), HTML(value='')))"
      ]
     },
     "metadata": {},
     "output_type": "display_data"
    },
    {
     "name": "stdout",
     "output_type": "stream",
     "text": [
      "\n",
      "[val] acc : 0.89233, loss : 0.82131, f1 score : 0.79458\n",
      "best acc : 0.89762, best loss : 0.36158, best f1 : 0.81202\n"
     ]
    },
    {
     "data": {
      "application/vnd.jupyter.widget-view+json": {
       "model_id": "f85484c0f820425395a496b5f76cb53f",
       "version_major": 2,
       "version_minor": 0
      },
      "text/plain": [
       "HBox(children=(HTML(value=''), FloatProgress(value=0.0, max=473.0), HTML(value='')))"
      ]
     },
     "metadata": {},
     "output_type": "display_data"
    },
    {
     "name": "stdout",
     "output_type": "stream",
     "text": [
      "\n",
      "epoch[27/200] training loss 0.00918, training accuracy 0.99702\n"
     ]
    },
    {
     "data": {
      "application/vnd.jupyter.widget-view+json": {
       "model_id": "9aa8427d84c540a4a39cc891fea0d924",
       "version_major": 2,
       "version_minor": 0
      },
      "text/plain": [
       "HBox(children=(HTML(value=''), FloatProgress(value=0.0, max=119.0), HTML(value='')))"
      ]
     },
     "metadata": {},
     "output_type": "display_data"
    },
    {
     "name": "stdout",
     "output_type": "stream",
     "text": [
      "\n",
      "[val] acc : 0.89603, loss : 0.83704, f1 score : 0.80103\n",
      "best acc : 0.89762, best loss : 0.36158, best f1 : 0.81202\n"
     ]
    },
    {
     "data": {
      "application/vnd.jupyter.widget-view+json": {
       "model_id": "4d03574600514b8dac8cd1fe7a6ba78a",
       "version_major": 2,
       "version_minor": 0
      },
      "text/plain": [
       "HBox(children=(HTML(value=''), FloatProgress(value=0.0, max=473.0), HTML(value='')))"
      ]
     },
     "metadata": {},
     "output_type": "display_data"
    },
    {
     "name": "stdout",
     "output_type": "stream",
     "text": [
      "\n",
      "epoch[28/200] training loss 0.00863, training accuracy 0.99729\n"
     ]
    },
    {
     "data": {
      "application/vnd.jupyter.widget-view+json": {
       "model_id": "16de973714804e0bba2d1d13193ce3c1",
       "version_major": 2,
       "version_minor": 0
      },
      "text/plain": [
       "HBox(children=(HTML(value=''), FloatProgress(value=0.0, max=119.0), HTML(value='')))"
      ]
     },
     "metadata": {},
     "output_type": "display_data"
    },
    {
     "name": "stdout",
     "output_type": "stream",
     "text": [
      "\n",
      "[val] acc : 0.89021, loss : 0.81049, f1 score : 0.80226\n",
      "best acc : 0.89762, best loss : 0.36158, best f1 : 0.81202\n"
     ]
    },
    {
     "data": {
      "application/vnd.jupyter.widget-view+json": {
       "model_id": "c7a869cd85b9452ab6c8e38d90e089fe",
       "version_major": 2,
       "version_minor": 0
      },
      "text/plain": [
       "HBox(children=(HTML(value=''), FloatProgress(value=0.0, max=473.0), HTML(value='')))"
      ]
     },
     "metadata": {},
     "output_type": "display_data"
    },
    {
     "name": "stdout",
     "output_type": "stream",
     "text": [
      "\n",
      "epoch[29/200] training loss 0.00662, training accuracy 0.99788\n"
     ]
    },
    {
     "data": {
      "application/vnd.jupyter.widget-view+json": {
       "model_id": "497acd7433764e999577d295a448df2a",
       "version_major": 2,
       "version_minor": 0
      },
      "text/plain": [
       "HBox(children=(HTML(value=''), FloatProgress(value=0.0, max=119.0), HTML(value='')))"
      ]
     },
     "metadata": {},
     "output_type": "display_data"
    },
    {
     "name": "stdout",
     "output_type": "stream",
     "text": [
      "\n",
      "checkpoint saved!\n",
      "[val] acc : 0.90000, loss : 0.89643, f1 score : 0.81608\n",
      "best acc : 0.90000, best loss : 0.36158, best f1 : 0.81608\n"
     ]
    },
    {
     "data": {
      "application/vnd.jupyter.widget-view+json": {
       "model_id": "a2bf0c9249fa4b128a822d654428af90",
       "version_major": 2,
       "version_minor": 0
      },
      "text/plain": [
       "HBox(children=(HTML(value=''), FloatProgress(value=0.0, max=473.0), HTML(value='')))"
      ]
     },
     "metadata": {},
     "output_type": "display_data"
    },
    {
     "name": "stdout",
     "output_type": "stream",
     "text": [
      "\n",
      "epoch[30/200] training loss 0.00499, training accuracy 0.99874\n"
     ]
    },
    {
     "data": {
      "application/vnd.jupyter.widget-view+json": {
       "model_id": "7cd10f180c10493ebc6f70910ecd3b0f",
       "version_major": 2,
       "version_minor": 0
      },
      "text/plain": [
       "HBox(children=(HTML(value=''), FloatProgress(value=0.0, max=119.0), HTML(value='')))"
      ]
     },
     "metadata": {},
     "output_type": "display_data"
    },
    {
     "name": "stdout",
     "output_type": "stream",
     "text": [
      "\n",
      "[val] acc : 0.89339, loss : 0.84778, f1 score : 0.80323\n",
      "best acc : 0.90000, best loss : 0.36158, best f1 : 0.81608\n"
     ]
    },
    {
     "data": {
      "application/vnd.jupyter.widget-view+json": {
       "model_id": "48d418af280a4827bbe1df84927f11ea",
       "version_major": 2,
       "version_minor": 0
      },
      "text/plain": [
       "HBox(children=(HTML(value=''), FloatProgress(value=0.0, max=473.0), HTML(value='')))"
      ]
     },
     "metadata": {},
     "output_type": "display_data"
    },
    {
     "name": "stdout",
     "output_type": "stream",
     "text": [
      "\n",
      "epoch[31/200] training loss 0.00465, training accuracy 0.99861\n"
     ]
    },
    {
     "data": {
      "application/vnd.jupyter.widget-view+json": {
       "model_id": "f09c2cf0a1364763a5b69aca77bb5cd1",
       "version_major": 2,
       "version_minor": 0
      },
      "text/plain": [
       "HBox(children=(HTML(value=''), FloatProgress(value=0.0, max=119.0), HTML(value='')))"
      ]
     },
     "metadata": {},
     "output_type": "display_data"
    },
    {
     "name": "stdout",
     "output_type": "stream",
     "text": [
      "\n",
      "[val] acc : 0.89788, loss : 0.84718, f1 score : 0.80859\n",
      "best acc : 0.90000, best loss : 0.36158, best f1 : 0.81608\n"
     ]
    },
    {
     "data": {
      "application/vnd.jupyter.widget-view+json": {
       "model_id": "aa735d5ab6e245998a14e338a8b63c7b",
       "version_major": 2,
       "version_minor": 0
      },
      "text/plain": [
       "HBox(children=(HTML(value=''), FloatProgress(value=0.0, max=473.0), HTML(value='')))"
      ]
     },
     "metadata": {},
     "output_type": "display_data"
    },
    {
     "name": "stdout",
     "output_type": "stream",
     "text": [
      "\n",
      "epoch[32/200] training loss 0.00736, training accuracy 0.99755\n"
     ]
    },
    {
     "data": {
      "application/vnd.jupyter.widget-view+json": {
       "model_id": "f897ea71a5af4a62924b5756c5bc1146",
       "version_major": 2,
       "version_minor": 0
      },
      "text/plain": [
       "HBox(children=(HTML(value=''), FloatProgress(value=0.0, max=119.0), HTML(value='')))"
      ]
     },
     "metadata": {},
     "output_type": "display_data"
    },
    {
     "name": "stdout",
     "output_type": "stream",
     "text": [
      "\n",
      "[val] acc : 0.89974, loss : 0.75868, f1 score : 0.81378\n",
      "best acc : 0.90000, best loss : 0.36158, best f1 : 0.81608\n"
     ]
    },
    {
     "data": {
      "application/vnd.jupyter.widget-view+json": {
       "model_id": "456d1efbb4494b4b804e992f094a2647",
       "version_major": 2,
       "version_minor": 0
      },
      "text/plain": [
       "HBox(children=(HTML(value=''), FloatProgress(value=0.0, max=473.0), HTML(value='')))"
      ]
     },
     "metadata": {},
     "output_type": "display_data"
    },
    {
     "name": "stdout",
     "output_type": "stream",
     "text": [
      "\n",
      "epoch[33/200] training loss 0.01935, training accuracy 0.99425\n"
     ]
    },
    {
     "data": {
      "application/vnd.jupyter.widget-view+json": {
       "model_id": "af9207f7ccac49a08df64e834f0ca480",
       "version_major": 2,
       "version_minor": 0
      },
      "text/plain": [
       "HBox(children=(HTML(value=''), FloatProgress(value=0.0, max=119.0), HTML(value='')))"
      ]
     },
     "metadata": {},
     "output_type": "display_data"
    },
    {
     "name": "stdout",
     "output_type": "stream",
     "text": [
      "\n",
      "[val] acc : 0.88862, loss : 0.77833, f1 score : 0.80302\n",
      "best acc : 0.90000, best loss : 0.36158, best f1 : 0.81608\n"
     ]
    },
    {
     "data": {
      "application/vnd.jupyter.widget-view+json": {
       "model_id": "3d7efb53b5ef4797b00ba4734f7edfd1",
       "version_major": 2,
       "version_minor": 0
      },
      "text/plain": [
       "HBox(children=(HTML(value=''), FloatProgress(value=0.0, max=473.0), HTML(value='')))"
      ]
     },
     "metadata": {},
     "output_type": "display_data"
    },
    {
     "name": "stdout",
     "output_type": "stream",
     "text": [
      "\n",
      "epoch[34/200] training loss 0.01289, training accuracy 0.99583\n"
     ]
    },
    {
     "data": {
      "application/vnd.jupyter.widget-view+json": {
       "model_id": "cf04153d67994374a9c7f1ce19c3ae9f",
       "version_major": 2,
       "version_minor": 0
      },
      "text/plain": [
       "HBox(children=(HTML(value=''), FloatProgress(value=0.0, max=119.0), HTML(value='')))"
      ]
     },
     "metadata": {},
     "output_type": "display_data"
    },
    {
     "name": "stdout",
     "output_type": "stream",
     "text": [
      "\n",
      "[val] acc : 0.89233, loss : 0.82835, f1 score : 0.80974\n",
      "best acc : 0.90000, best loss : 0.36158, best f1 : 0.81608\n"
     ]
    },
    {
     "data": {
      "application/vnd.jupyter.widget-view+json": {
       "model_id": "eb5a1f0c5e8649fd9340abb6266717d9",
       "version_major": 2,
       "version_minor": 0
      },
      "text/plain": [
       "HBox(children=(HTML(value=''), FloatProgress(value=0.0, max=473.0), HTML(value='')))"
      ]
     },
     "metadata": {},
     "output_type": "display_data"
    },
    {
     "name": "stdout",
     "output_type": "stream",
     "text": [
      "\n",
      "epoch[35/200] training loss 0.01215, training accuracy 0.99583\n"
     ]
    },
    {
     "data": {
      "application/vnd.jupyter.widget-view+json": {
       "model_id": "2d40f2776619463082c1b895abcdd5d9",
       "version_major": 2,
       "version_minor": 0
      },
      "text/plain": [
       "HBox(children=(HTML(value=''), FloatProgress(value=0.0, max=119.0), HTML(value='')))"
      ]
     },
     "metadata": {},
     "output_type": "display_data"
    },
    {
     "name": "stdout",
     "output_type": "stream",
     "text": [
      "\n",
      "[val] acc : 0.88333, loss : 0.95936, f1 score : 0.78526\n",
      "best acc : 0.90000, best loss : 0.36158, best f1 : 0.81608\n"
     ]
    },
    {
     "data": {
      "application/vnd.jupyter.widget-view+json": {
       "model_id": "bd2de9f1741b4349a35aa08ebe354da0",
       "version_major": 2,
       "version_minor": 0
      },
      "text/plain": [
       "HBox(children=(HTML(value=''), FloatProgress(value=0.0, max=473.0), HTML(value='')))"
      ]
     },
     "metadata": {},
     "output_type": "display_data"
    },
    {
     "name": "stdout",
     "output_type": "stream",
     "text": [
      "\n",
      "epoch[36/200] training loss 0.01539, training accuracy 0.99478\n"
     ]
    },
    {
     "data": {
      "application/vnd.jupyter.widget-view+json": {
       "model_id": "005d118818a04a55a7fd745b5abfd593",
       "version_major": 2,
       "version_minor": 0
      },
      "text/plain": [
       "HBox(children=(HTML(value=''), FloatProgress(value=0.0, max=119.0), HTML(value='')))"
      ]
     },
     "metadata": {},
     "output_type": "display_data"
    },
    {
     "name": "stdout",
     "output_type": "stream",
     "text": [
      "\n",
      "[val] acc : 0.89127, loss : 0.74982, f1 score : 0.79254\n",
      "best acc : 0.90000, best loss : 0.36158, best f1 : 0.81608\n"
     ]
    },
    {
     "data": {
      "application/vnd.jupyter.widget-view+json": {
       "model_id": "801e365de5e749bfa517c6b128ad7ff0",
       "version_major": 2,
       "version_minor": 0
      },
      "text/plain": [
       "HBox(children=(HTML(value=''), FloatProgress(value=0.0, max=473.0), HTML(value='')))"
      ]
     },
     "metadata": {},
     "output_type": "display_data"
    },
    {
     "name": "stdout",
     "output_type": "stream",
     "text": [
      "\n",
      "epoch[37/200] training loss 0.00644, training accuracy 0.99808\n"
     ]
    },
    {
     "data": {
      "application/vnd.jupyter.widget-view+json": {
       "model_id": "ed971432cede407aae14b37fcb8b1e8f",
       "version_major": 2,
       "version_minor": 0
      },
      "text/plain": [
       "HBox(children=(HTML(value=''), FloatProgress(value=0.0, max=119.0), HTML(value='')))"
      ]
     },
     "metadata": {},
     "output_type": "display_data"
    },
    {
     "name": "stdout",
     "output_type": "stream",
     "text": [
      "\n",
      "[val] acc : 0.89418, loss : 0.93900, f1 score : 0.80003\n",
      "best acc : 0.90000, best loss : 0.36158, best f1 : 0.81608\n"
     ]
    },
    {
     "data": {
      "application/vnd.jupyter.widget-view+json": {
       "model_id": "de13ffbfa7d34f6bb4465a7563437d0e",
       "version_major": 2,
       "version_minor": 0
      },
      "text/plain": [
       "HBox(children=(HTML(value=''), FloatProgress(value=0.0, max=473.0), HTML(value='')))"
      ]
     },
     "metadata": {},
     "output_type": "display_data"
    },
    {
     "name": "stdout",
     "output_type": "stream",
     "text": [
      "\n",
      "epoch[38/200] training loss 0.01214, training accuracy 0.99603\n"
     ]
    },
    {
     "data": {
      "application/vnd.jupyter.widget-view+json": {
       "model_id": "ce3f4565db1b4695a9002e3c875b4b02",
       "version_major": 2,
       "version_minor": 0
      },
      "text/plain": [
       "HBox(children=(HTML(value=''), FloatProgress(value=0.0, max=119.0), HTML(value='')))"
      ]
     },
     "metadata": {},
     "output_type": "display_data"
    },
    {
     "name": "stdout",
     "output_type": "stream",
     "text": [
      "\n",
      "[val] acc : 0.89312, loss : 0.87797, f1 score : 0.78726\n",
      "best acc : 0.90000, best loss : 0.36158, best f1 : 0.81608\n"
     ]
    },
    {
     "data": {
      "application/vnd.jupyter.widget-view+json": {
       "model_id": "97a9bd76aeb744079ce4ecb85c2b283e",
       "version_major": 2,
       "version_minor": 0
      },
      "text/plain": [
       "HBox(children=(HTML(value=''), FloatProgress(value=0.0, max=473.0), HTML(value='')))"
      ]
     },
     "metadata": {},
     "output_type": "display_data"
    },
    {
     "name": "stdout",
     "output_type": "stream",
     "text": [
      "\n",
      "epoch[39/200] training loss 0.00505, training accuracy 0.99841\n"
     ]
    },
    {
     "data": {
      "application/vnd.jupyter.widget-view+json": {
       "model_id": "0bdbac990533464f993f28d72df1f0c6",
       "version_major": 2,
       "version_minor": 0
      },
      "text/plain": [
       "HBox(children=(HTML(value=''), FloatProgress(value=0.0, max=119.0), HTML(value='')))"
      ]
     },
     "metadata": {},
     "output_type": "display_data"
    },
    {
     "name": "stdout",
     "output_type": "stream",
     "text": [
      "\n",
      "Early Stopping!\n"
     ]
    }
   ],
   "source": [
    "best_val_acc = 0.84656\n",
    "best_val_loss = 0.46146\n",
    "patience = 10\n",
    "cur_count = 0\n",
    "accumulation_steps = 4\n",
    "\n",
    "f1 = F1Score(num_classes=class_num, average='macro').to(device)\n",
    "best_f1_score = 0.73343\n",
    "\n",
    "for epoch in range(NUM_EPOCH):\n",
    "    model.train()\n",
    "    loss_value = 0\n",
    "    matches = 0\n",
    "    for idx, train_batch in enumerate(tqdm(train_dataloader_mask)):\n",
    "        inputs, labels = train_batch\n",
    "        inputs = inputs.to(device)\n",
    "        labels = labels.to(device)\n",
    "        \n",
    "        outs = model(inputs)\n",
    "        preds = torch.argmax(outs, dim=-1)\n",
    "        loss = criterion(outs, labels)\n",
    "        \n",
    "        loss.backward()\n",
    "        \n",
    "        if (idx+1) % accumulation_steps == 0:\n",
    "            optimizer.step()\n",
    "            optimizer.zero_grad()\n",
    "        \n",
    "        if epoch % 10 == 0:\n",
    "            torch.save({\n",
    "                'model_state_dict': model.state_dict(),\n",
    "                'optimizer_state_dict': optimizer.state_dict(),\n",
    "                'epoch' : epoch\n",
    "                }, f'/opt/ml/checkpoint/swin_v2_t/nonfr_checkpoint_ep_{epoch}.tar')\n",
    "        \n",
    "        loss_value += loss.item()\n",
    "        matches += (preds == labels).sum().item()\n",
    "        \n",
    "    train_loss = loss_value / len(train_dataloader_mask)\n",
    "    train_acc = matches / len(mask_train_set)\n",
    "    \n",
    "    print(f\"epoch[{epoch}/{NUM_EPOCH}] training loss {train_loss:.5f}, training accuracy {train_acc:.5f}\")\n",
    "    \n",
    "    with torch.no_grad():\n",
    "        model.eval()\n",
    "        val_loss_items = []\n",
    "        val_acc_items = []\n",
    "        f1_score = 0\n",
    "        for val_batch in tqdm(val_dataloader_mask):\n",
    "            inputs, labels = val_batch\n",
    "            inputs = inputs.to(device)\n",
    "            labels = labels.to(device)\n",
    "            \n",
    "            outs = model(inputs)\n",
    "            preds = torch.argmax(outs, dim=-1)\n",
    "            \n",
    "            loss_item = criterion(outs, labels).item()\n",
    "            acc_item = (labels==preds).sum().item()\n",
    "            val_loss_items.append(loss_item)\n",
    "            val_acc_items.append(acc_item)\n",
    "            \n",
    "            f1_score += f1(outs, labels)\n",
    "            \n",
    "        val_loss = np.sum(val_loss_items) / len(val_dataloader_mask)\n",
    "        val_acc = np.sum(val_acc_items) / len(mask_val_set)\n",
    "        \n",
    "        f1_score /= len(val_dataloader_mask)\n",
    "        \n",
    "        if val_loss < best_val_loss:\n",
    "            best_val_loss = val_loss\n",
    "                \n",
    "        if val_acc > best_val_acc:\n",
    "            best_val_acc = val_acc\n",
    "            torch.save({\n",
    "                'model_state_dict': model.state_dict(),\n",
    "                'optimizer_state_dict': optimizer.state_dict(),\n",
    "                'epoch' : epoch\n",
    "                }, f'/opt/ml/checkpoint/swin_v2_t/best_nonfr_checkpoint.tar')\n",
    "            print('checkpoint saved!')\n",
    "            cur_count = 0\n",
    "        else:\n",
    "            cur_count += 1\n",
    "            if cur_count >= patience:\n",
    "                print(\"Early Stopping!\")\n",
    "                break\n",
    "        \n",
    "        if f1_score > best_f1_score:\n",
    "            best_f1_score = f1_score\n",
    "\n",
    "                \n",
    "        print(f\"[val] acc : {val_acc:.5f}, loss : {val_loss:.5f}, f1 score : {f1_score:.5f}\")\n",
    "        print(f\"best acc : {best_val_acc:.5f}, best loss : {best_val_loss:.5f}, best f1 : {best_f1_score:.5f}\")"
   ]
  },
  {
   "cell_type": "code",
   "execution_count": 35,
   "id": "afda23d0-6ad9-408b-99c9-705ae5fd8347",
   "metadata": {},
   "outputs": [
    {
     "data": {
      "text/html": [
       "<div>\n",
       "<style scoped>\n",
       "    .dataframe tbody tr th:only-of-type {\n",
       "        vertical-align: middle;\n",
       "    }\n",
       "\n",
       "    .dataframe tbody tr th {\n",
       "        vertical-align: top;\n",
       "    }\n",
       "\n",
       "    .dataframe thead th {\n",
       "        text-align: right;\n",
       "    }\n",
       "</style>\n",
       "<table border=\"1\" class=\"dataframe\">\n",
       "  <thead>\n",
       "    <tr style=\"text-align: right;\">\n",
       "      <th></th>\n",
       "      <th>ImageID</th>\n",
       "      <th>ans</th>\n",
       "    </tr>\n",
       "  </thead>\n",
       "  <tbody>\n",
       "    <tr>\n",
       "      <th>0</th>\n",
       "      <td>cbc5c6e168e63498590db46022617123f1fe1268.jpg</td>\n",
       "      <td>0</td>\n",
       "    </tr>\n",
       "    <tr>\n",
       "      <th>1</th>\n",
       "      <td>0e72482bf56b3581c081f7da2a6180b8792c7089.jpg</td>\n",
       "      <td>0</td>\n",
       "    </tr>\n",
       "    <tr>\n",
       "      <th>2</th>\n",
       "      <td>b549040c49190cedc41327748aeb197c1670f14d.jpg</td>\n",
       "      <td>0</td>\n",
       "    </tr>\n",
       "    <tr>\n",
       "      <th>3</th>\n",
       "      <td>4f9cb2a045c6d5b9e50ad3459ea7b791eb6e18bc.jpg</td>\n",
       "      <td>0</td>\n",
       "    </tr>\n",
       "    <tr>\n",
       "      <th>4</th>\n",
       "      <td>248428d9a4a5b6229a7081c32851b90cb8d38d0c.jpg</td>\n",
       "      <td>0</td>\n",
       "    </tr>\n",
       "  </tbody>\n",
       "</table>\n",
       "</div>"
      ],
      "text/plain": [
       "                                        ImageID  ans\n",
       "0  cbc5c6e168e63498590db46022617123f1fe1268.jpg    0\n",
       "1  0e72482bf56b3581c081f7da2a6180b8792c7089.jpg    0\n",
       "2  b549040c49190cedc41327748aeb197c1670f14d.jpg    0\n",
       "3  4f9cb2a045c6d5b9e50ad3459ea7b791eb6e18bc.jpg    0\n",
       "4  248428d9a4a5b6229a7081c32851b90cb8d38d0c.jpg    0"
      ]
     },
     "execution_count": 35,
     "metadata": {},
     "output_type": "execute_result"
    }
   ],
   "source": [
    "# meta 데이터와 이미지 경로를 불러옵니다.\n",
    "test_dir_path = '/opt/ml/input/data/eval/'\n",
    "test_image_path = '/opt/ml/input/data/eval/images/'\n",
    "\n",
    "checkpoint = torch.load('/opt/ml/checkpoint/swin_v2_t/best_nonfr_checkpoint.tar')\n",
    "model.load_state_dict(checkpoint['model_state_dict'])\n",
    "\n",
    "submission = pd.read_csv(test_dir_path+'info.csv')\n",
    "submission.head()"
   ]
  },
  {
   "cell_type": "code",
   "execution_count": 36,
   "id": "566c2df1-a083-4e27-a655-f2c73d15f762",
   "metadata": {},
   "outputs": [],
   "source": [
    "image_paths = [os.path.join(test_image_path, img_id) for img_id in submission.ImageID]\n",
    "test_image = pd.Series(image_paths)"
   ]
  },
  {
   "cell_type": "code",
   "execution_count": 37,
   "id": "a9c14322-45a8-40a5-aded-f335204484b1",
   "metadata": {},
   "outputs": [],
   "source": [
    "class Test_Dataset(Dataset):\n",
    "    def __init__(self, midcrop=True, transform=None):\n",
    "        self.midcrop = midcrop\n",
    "        self.data = test_image\n",
    "        self.transform = transform\n",
    "        \n",
    "    def __len__(self):\n",
    "        return len(test_image)\n",
    "    \n",
    "    def __getitem__(self, idx):\n",
    "        img = cv2.cvtColor(cv2.imread(self.data[idx]), cv2.COLOR_BGR2RGB)\n",
    "        \n",
    "        if self.midcrop:\n",
    "            img = img[70:420, 17:367]\n",
    "            \n",
    "        if self.transform:\n",
    "            img = self.transform(img)\n",
    "            \n",
    "        return img"
   ]
  },
  {
   "cell_type": "code",
   "execution_count": 38,
   "id": "138db932-cc09-4f85-89d8-e7485659f7cd",
   "metadata": {},
   "outputs": [
    {
     "name": "stdout",
     "output_type": "stream",
     "text": [
      "test inference is done!\n"
     ]
    }
   ],
   "source": [
    "dataset = Test_Dataset(transform = transform1)\n",
    "\n",
    "loader = DataLoader(\n",
    "    dataset,\n",
    "    batch_size=batch_size,\n",
    "    shuffle=False,\n",
    "    num_workers=2\n",
    ")\n",
    "\n",
    "# 모델을 정의합니다. (학습한 모델이 있다면 torch.load로 모델을 불러주세요!)\n",
    "device = torch.device('cuda')\n",
    "model = model.to(device)\n",
    "model.eval()\n",
    "\n",
    "# 모델이 테스트 데이터셋을 예측하고 결과를 저장합니다.\n",
    "all_predictions = []\n",
    "for images in loader:\n",
    "    with torch.no_grad():\n",
    "        images = images.to(device)\n",
    "        pred = model(images)\n",
    "        pred = pred.argmax(dim=-1)\n",
    "        all_predictions.extend(pred.cpu().numpy())\n",
    "submission['ans'] = all_predictions\n",
    "\n",
    "# 제출할 파일을 저장합니다.\n",
    "submission.to_csv(os.path.join(test_dir_path, 'submission_swin_v2_t_2.csv'), index=False)\n",
    "print('test inference is done!')"
   ]
  },
  {
   "cell_type": "code",
   "execution_count": null,
   "id": "2fd05b0a-17a2-47b4-b10d-de6e4344e098",
   "metadata": {},
   "outputs": [],
   "source": []
  }
 ],
 "metadata": {
  "kernelspec": {
   "display_name": "Python 3",
   "language": "python",
   "name": "python3"
  },
  "language_info": {
   "codemirror_mode": {
    "name": "ipython",
    "version": 3
   },
   "file_extension": ".py",
   "mimetype": "text/x-python",
   "name": "python",
   "nbconvert_exporter": "python",
   "pygments_lexer": "ipython3",
   "version": "3.8.5"
  },
  "vscode": {
   "interpreter": {
    "hash": "31f2aee4e71d21fbe5cf8b01ff0e069b9275f58929596ceb00d14d90e3e16cd6"
   }
  }
 },
 "nbformat": 4,
 "nbformat_minor": 5
}
